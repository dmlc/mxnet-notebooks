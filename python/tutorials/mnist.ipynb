{
 "cells": [
  {
   "cell_type": "markdown",
   "metadata": {
    "collapsed": true
   },
   "source": [
    "# Handwritten Digit Recognition\n",
    "\n",
    "This tutorial guides you through a classic computer vision application: identify hand written digits with neural networks. \n",
    "\n",
    "## Load data\n",
    "\n",
    "We first fetch the [MNIST](http://yann.lecun.com/exdb/mnist/) dataset, which is a commonly used dataset for handwritten digit recognition. Each image in this dataset has been resized into 28x28 with grayscale value between 0 and 254. The following codes download and load the images and the according labels into `numpy`."
   ]
  },
  {
   "cell_type": "code",
   "execution_count": 1,
   "metadata": {
    "collapsed": false
   },
   "outputs": [],
   "source": [
    "import numpy as np\n",
    "import os\n",
    "import urllib\n",
    "import gzip\n",
    "import struct\n",
    "def download_data(url, force_download=True): \n",
    "    fname = url.split(\"/\")[-1]\n",
    "    if force_download or not os.path.exists(fname):\n",
    "        urllib.urlretrieve(url, fname)\n",
    "    return fname\n",
    "\n",
    "def read_data(label_url, image_url):\n",
    "    with gzip.open(download_data(label_url)) as flbl:\n",
    "        magic, num = struct.unpack(\">II\", flbl.read(8))\n",
    "        label = np.fromstring(flbl.read(), dtype=np.int8)\n",
    "    with gzip.open(download_data(image_url), 'rb') as fimg:\n",
    "        magic, num, rows, cols = struct.unpack(\">IIII\", fimg.read(16))\n",
    "        image = np.fromstring(fimg.read(), dtype=np.uint8).reshape(len(label), rows, cols)\n",
    "    return (label, image)\n",
    "\n",
    "path='http://yann.lecun.com/exdb/mnist/'\n",
    "(train_lbl, train_img) = read_data(\n",
    "    path+'train-labels-idx1-ubyte.gz', path+'train-images-idx3-ubyte.gz')\n",
    "(val_lbl, val_img) = read_data(\n",
    "    path+'t10k-labels-idx1-ubyte.gz', path+'t10k-images-idx3-ubyte.gz')"
   ]
  },
  {
   "cell_type": "markdown",
   "metadata": {},
   "source": [
    "We plot the first 10 images and print their labels. "
   ]
  },
  {
   "cell_type": "code",
   "execution_count": 2,
   "metadata": {
    "collapsed": false,
    "scrolled": true
   },
   "outputs": [
    {
     "data": {
      "image/png": "[encoded data removed]",
      "text/plain": [
       "<matplotlib.figure.Figure at 0x7fc1182de8d0>"
      ]
     },
     "metadata": {},
     "output_type": "display_data"
    },
    {
     "name": "stdout",
     "output_type": "stream",
     "text": [
      "label: [5 0 4 1 9 2 1 3 1 4]\n"
     ]
    }
   ],
   "source": [
    "%matplotlib inline\n",
    "import matplotlib.pyplot as plt\n",
    "for i in range(10):\n",
    "    plt.subplot(1,10,i+1)\n",
    "    plt.imshow(train_img[i], cmap='Greys_r')\n",
    "    plt.axis('off')\n",
    "plt.show()\n",
    "print('label: %s' % (train_lbl[0:10],))"
   ]
  },
  {
   "cell_type": "markdown",
   "metadata": {},
   "source": [
    "Next we create data iterators for MXNet. The data iterator, which is similar the iterator, returns a batch of data in each `next()` call. A batch contains several images with its according labels. These images are stored in a 4-D matrix with shape `(batch_size, num_channels, width, height)`. For the MNIST dataset, there is only one color channel, and both width and height are 28. In addition, we often shuffle the images used for training, which accelerates the training progress."
   ]
  },
  {
   "cell_type": "code",
   "execution_count": 3,
   "metadata": {
    "collapsed": false
   },
   "outputs": [],
   "source": [
    "import mxnet as mx\n",
    "\n",
    "def to4d(img):\n",
    "    return img.reshape(img.shape[0], 1, 28, 28).astype(np.float32)/255\n",
    "\n",
    "batch_size = 100\n",
    "train_iter = mx.io.NDArrayIter(to4d(train_img), train_lbl, batch_size, shuffle=True)\n",
    "val_iter = mx.io.NDArrayIter(to4d(val_img), val_lbl, batch_size)"
   ]
  },
  {
   "cell_type": "markdown",
   "metadata": {},
   "source": [
    "## Multilayer Perceptron\n",
    "\n",
    "A multilayer perceptron contains several fully-connected layers. For a fully-connected layer, assume the input matrix $X$ has size $n\\times m$, then it outputs matrix $Y$ with size $n\\times k$, where $k$ is often called as the hidden size. This layer has two parameters, the $m \\times k$ weight matrix $W$ and the $m\\times 1$ bias vector $b$. It compute the outputs by\n",
    "\n",
    "$$Y = W X + b.$$\n",
    "\n",
    "The output of a fully-connected layer is often feed into an activation layer, which performs elemental-wise operations. The widely known function is sigmoid, which has form $f(x) = 1/(1+e^{-x})$. Nowadays people also use a simpler function called relu: $f(x) = max(0,x)$.  \n",
    "\n",
    "The last fully-connected layer often has the hidden size equals to the number of classes in the dataset. Then we stack a softmax layer, which map the input into a probability score. Again assume the input $X$ has size $n\\times m$, and $x_i$ is the i-th row. Then the i-th row of the output is \n",
    "\n",
    "$$ \\left[\\frac{\\exp(x_{i1})}{\\sum_{j=1}^m \\exp(x_{ij})},\\ldots, \\frac{\\exp(x_{im})}{\\sum_{j=1}^m \\exp(x_{ij})}\\right] $$\n",
    "\n",
    "Define the multilayer perceptron in MXNet is straightforward, which has shown as following."
   ]
  },
  {
   "cell_type": "code",
   "execution_count": 4,
   "metadata": {
    "collapsed": false
   },
   "outputs": [
    {
     "data": {
      "text/plain": [
       "'mx.viz.plot_network(symbol=mlp, shape=shape)'"
      ]
     },
     "execution_count": 4,
     "metadata": {},
     "output_type": "execute_result"
    }
   ],
   "source": [
    "# Create a place holder variable for the input data\n",
    "data = mx.sym.Variable('data')\n",
    "# Flatten the data from 4-D shape (batch_size, num_channel, width, height) \n",
    "# into 2-D (batch_size, num_channel*width*height)\n",
    "data = mx.sym.Flatten(data=data)\n",
    "\n",
    "# The first fully-connected layer\n",
    "fc1  = mx.sym.FullyConnected(data=data, name='fc1', num_hidden=128)\n",
    "# Apply relu to the output of the first fully-connnected layer\n",
    "act1 = mx.sym.Activation(data=fc1, name='relu1', act_type=\"relu\")\n",
    "\n",
    "# The second fully-connected layer and the according activation function\n",
    "fc2  = mx.sym.FullyConnected(data=act1, name='fc2', num_hidden = 64)\n",
    "act2 = mx.sym.Activation(data=fc2, name='relu2', act_type=\"relu\")\n",
    "\n",
    "# The thrid fully-connected layer, note that the hidden size should be 10, which is the number of unique digits\n",
    "fc3  = mx.sym.FullyConnected(data=act2, name='fc3', num_hidden=10)\n",
    "# The softmax and loss layer\n",
    "mlp  = mx.sym.SoftmaxOutput(data=fc3, name='softmax')\n",
    "\n",
    "# We visualize the network structure with output size (the batch_size is ignored.)\n",
    "shape = {\"data\" : (batch_size, 1, 28, 28)}\n",
    "\"mx.viz.plot_network(symbol=mlp, shape=shape)\""
   ]
  },
  {
   "cell_type": "markdown",
   "metadata": {},
   "source": [
    "Now both the network definition and data iterators are ready. We can start training. "
   ]
  },
  {
   "cell_type": "code",
   "execution_count": 5,
   "metadata": {
    "collapsed": false
   },
   "outputs": [
    {
     "name": "stderr",
     "output_type": "stream",
     "text": [
      "INFO:root:Start training with [cpu(0)]\n",
      "INFO:root:Epoch[0] Batch [200]\tSpeed: 26634.35 samples/sec\tTrain-accuracy=0.111150\n",
      "INFO:root:Epoch[0] Batch [400]\tSpeed: 26589.34 samples/sec\tTrain-accuracy=0.112450\n",
      "INFO:root:Epoch[0] Batch [600]\tSpeed: 31287.89 samples/sec\tTrain-accuracy=0.140250\n",
      "INFO:root:Epoch[0] Resetting Data Iterator\n",
      "INFO:root:Epoch[0] Time cost=2.152\n",
      "INFO:root:Epoch[0] Validation-accuracy=0.290900\n",
      "INFO:root:Epoch[1] Batch [200]\tSpeed: 29611.20 samples/sec\tTrain-accuracy=0.429100\n",
      "INFO:root:Epoch[1] Batch [400]\tSpeed: 30116.49 samples/sec\tTrain-accuracy=0.749500\n",
      "INFO:root:Epoch[1] Batch [600]\tSpeed: 30836.50 samples/sec\tTrain-accuracy=0.827900\n",
      "INFO:root:Epoch[1] Resetting Data Iterator\n",
      "INFO:root:Epoch[1] Time cost=1.995\n",
      "INFO:root:Epoch[1] Validation-accuracy=0.845600\n",
      "INFO:root:Epoch[2] Batch [200]\tSpeed: 27080.45 samples/sec\tTrain-accuracy=0.861800\n",
      "INFO:root:Epoch[2] Batch [400]\tSpeed: 26364.98 samples/sec\tTrain-accuracy=0.885150\n",
      "INFO:root:Epoch[2] Batch [600]\tSpeed: 26314.78 samples/sec\tTrain-accuracy=0.903400\n",
      "INFO:root:Epoch[2] Resetting Data Iterator\n",
      "INFO:root:Epoch[2] Time cost=2.265\n",
      "INFO:root:Epoch[2] Validation-accuracy=0.913400\n",
      "INFO:root:Epoch[3] Batch [200]\tSpeed: 26375.76 samples/sec\tTrain-accuracy=0.919050\n",
      "INFO:root:Epoch[3] Batch [400]\tSpeed: 26289.85 samples/sec\tTrain-accuracy=0.925250\n",
      "INFO:root:Epoch[3] Batch [600]\tSpeed: 26381.15 samples/sec\tTrain-accuracy=0.933000\n",
      "INFO:root:Epoch[3] Resetting Data Iterator\n",
      "INFO:root:Epoch[3] Time cost=2.284\n",
      "INFO:root:Epoch[3] Validation-accuracy=0.941100\n",
      "INFO:root:Epoch[4] Batch [200]\tSpeed: 26409.37 samples/sec\tTrain-accuracy=0.941800\n",
      "INFO:root:Epoch[4] Batch [400]\tSpeed: 26324.14 samples/sec\tTrain-accuracy=0.944050\n",
      "INFO:root:Epoch[4] Batch [600]\tSpeed: 26346.50 samples/sec\tTrain-accuracy=0.948650\n",
      "INFO:root:Epoch[4] Resetting Data Iterator\n",
      "INFO:root:Epoch[4] Time cost=2.283\n",
      "INFO:root:Epoch[4] Validation-accuracy=0.952600\n",
      "INFO:root:Epoch[5] Batch [200]\tSpeed: 29269.77 samples/sec\tTrain-accuracy=0.955950\n",
      "INFO:root:Epoch[5] Batch [400]\tSpeed: 26427.26 samples/sec\tTrain-accuracy=0.954100\n",
      "INFO:root:Epoch[5] Batch [600]\tSpeed: 27040.70 samples/sec\tTrain-accuracy=0.959350\n",
      "INFO:root:Epoch[5] Resetting Data Iterator\n",
      "INFO:root:Epoch[5] Time cost=2.187\n",
      "INFO:root:Epoch[5] Validation-accuracy=0.958300\n",
      "INFO:root:Epoch[6] Batch [200]\tSpeed: 26420.80 samples/sec\tTrain-accuracy=0.963850\n",
      "INFO:root:Epoch[6] Batch [400]\tSpeed: 26330.90 samples/sec\tTrain-accuracy=0.961250\n",
      "INFO:root:Epoch[6] Batch [600]\tSpeed: 26363.10 samples/sec\tTrain-accuracy=0.965800\n",
      "INFO:root:Epoch[6] Resetting Data Iterator\n",
      "INFO:root:Epoch[6] Time cost=2.283\n",
      "INFO:root:Epoch[6] Validation-accuracy=0.961900\n",
      "INFO:root:Epoch[7] Batch [200]\tSpeed: 26299.18 samples/sec\tTrain-accuracy=0.969750\n",
      "INFO:root:Epoch[7] Batch [400]\tSpeed: 26307.93 samples/sec\tTrain-accuracy=0.966400\n",
      "INFO:root:Epoch[7] Batch [600]\tSpeed: 26250.44 samples/sec\tTrain-accuracy=0.969750\n",
      "INFO:root:Epoch[7] Resetting Data Iterator\n",
      "INFO:root:Epoch[7] Time cost=2.290\n",
      "INFO:root:Epoch[7] Validation-accuracy=0.964000\n",
      "INFO:root:Epoch[8] Batch [200]\tSpeed: 26373.71 samples/sec\tTrain-accuracy=0.974650\n",
      "INFO:root:Epoch[8] Batch [400]\tSpeed: 26281.62 samples/sec\tTrain-accuracy=0.971250\n",
      "INFO:root:Epoch[8] Batch [600]\tSpeed: 32782.91 samples/sec\tTrain-accuracy=0.973750\n",
      "INFO:root:Epoch[8] Resetting Data Iterator\n",
      "INFO:root:Epoch[8] Time cost=2.138\n",
      "INFO:root:Epoch[8] Validation-accuracy=0.967000\n",
      "INFO:root:Epoch[9] Batch [200]\tSpeed: 26263.50 samples/sec\tTrain-accuracy=0.978650\n",
      "INFO:root:Epoch[9] Batch [400]\tSpeed: 26157.16 samples/sec\tTrain-accuracy=0.975000\n",
      "INFO:root:Epoch[9] Batch [600]\tSpeed: 26077.45 samples/sec\tTrain-accuracy=0.977950\n",
      "INFO:root:Epoch[9] Resetting Data Iterator\n",
      "INFO:root:Epoch[9] Time cost=2.303\n",
      "INFO:root:Epoch[9] Validation-accuracy=0.968300\n"
     ]
    }
   ],
   "source": [
    "# Output may vary\n",
    "import logging\n",
    "logging.getLogger().setLevel(logging.DEBUG)\n",
    "\n",
    "model = mx.model.FeedForward(\n",
    "    symbol = mlp,       # network structure\n",
    "    num_epoch = 10,     # number of data passes for training \n",
    "    learning_rate = 0.1 # learning rate of SGD \n",
    ")\n",
    "model.fit(\n",
    "    X=train_iter,       # training data\n",
    "    eval_data=val_iter, # validation data\n",
    "    batch_end_callback = mx.callback.Speedometer(batch_size, 200) # output progress for each 200 data batches\n",
    ")"
   ]
  },
  {
   "cell_type": "markdown",
   "metadata": {
    "collapsed": true
   },
   "source": [
    "After training is done, we can predict a single image. "
   ]
  },
  {
   "cell_type": "code",
   "execution_count": 6,
   "metadata": {
    "collapsed": false
   },
   "outputs": [
    {
     "data": {
      "image/png": "[encoded data removed]",
      "text/plain": [
       "<matplotlib.figure.Figure at 0x7fc0c87b2110>"
      ]
     },
     "metadata": {},
     "output_type": "display_data"
    },
    {
     "name": "stdout",
     "output_type": "stream",
     "text": [
      "Classified as 7 with probability 0.999152\n"
     ]
    }
   ],
   "source": [
    "# Output may vary\n",
    "plt.imshow(val_img[0], cmap='Greys_r')\n",
    "plt.axis('off')\n",
    "plt.show()\n",
    "prob = model.predict(val_img[0:1].astype(np.float32)/255)[0]\n",
    "assert max(prob) > 0.99, \"Low prediction accuracy.\"\n",
    "print 'Classified as %d with probability %f' % (prob.argmax(), max(prob))"
   ]
  },
  {
   "cell_type": "markdown",
   "metadata": {},
   "source": [
    "We can also evaluate the accuracy by given a data iterator. "
   ]
  },
  {
   "cell_type": "code",
   "execution_count": 7,
   "metadata": {
    "collapsed": false
   },
   "outputs": [
    {
     "name": "stdout",
     "output_type": "stream",
     "text": [
      "Validation accuracy: 96.830000%\n"
     ]
    }
   ],
   "source": [
    "# Output may vary\n",
    "valid_acc = model.score(val_iter)\n",
    "print 'Validation accuracy: %f%%' % (valid_acc *100,)\n",
    "assert valid_acc > 0.95, \"Low validation accuracy.\""
   ]
  },
  {
   "cell_type": "markdown",
   "metadata": {},
   "source": [
    "Even more, we can recognizes the digit written on the below box. "
   ]
  },
  {
   "cell_type": "code",
   "execution_count": 8,
   "metadata": {
    "collapsed": false
   },
   "outputs": [
    {
     "data": {
      "text/html": [
       "<style type=\"text/css\">canvas { border: 1px solid black; }</style><div id=\"board\"><canvas id=\"myCanvas\" width=\"100px\" height=\"100px\">Sorry, your browser doesn't support canvas technology.</canvas><p><button id=\"classify\" onclick=\"classify()\">Classify</button><button id=\"clear\" onclick=\"myClear()\">Clear</button>Result: <input type=\"text\" id=\"result_output\" size=\"5\" value=\"\"></p></div><script type=\"text/JavaScript\" src=\"https://ajax.googleapis.com/ajax/libs/jquery/1.4.2/jquery.min.js?ver=1.4.2\"></script><script type=\"text/javascript\">function init() {var myCanvas = document.getElementById(\"myCanvas\");var curColor = $('#selectColor option:selected').val();if(myCanvas){var isDown = false;var ctx = myCanvas.getContext(\"2d\");var canvasX, canvasY;ctx.lineWidth = 8;$(myCanvas).mousedown(function(e){isDown = true;ctx.beginPath();var parentOffset = $(this).parent().offset(); canvasX = e.pageX - parentOffset.left;canvasY = e.pageY - parentOffset.top;ctx.moveTo(canvasX, canvasY);}).mousemove(function(e){if(isDown != false) {var parentOffset = $(this).parent().offset(); canvasX = e.pageX - parentOffset.left;canvasY = e.pageY - parentOffset.top;ctx.lineTo(canvasX, canvasY);ctx.strokeStyle = curColor;ctx.stroke();}}).mouseup(function(e){isDown = false;ctx.closePath();});}$('#selectColor').change(function () {curColor = $('#selectColor option:selected').val();});}init();function handle_output(out) {document.getElementById(\"result_output\").value = out.content.data[\"text/plain\"];}function classify() {var kernel = IPython.notebook.kernel;var myCanvas = document.getElementById(\"myCanvas\");data = myCanvas.toDataURL('image/png');document.getElementById(\"result_output\").value = \"\";kernel.execute(\"classify('\" + data +\"')\",  { 'iopub' : {'output' : handle_output}}, {silent:false});}function myClear() {var myCanvas = document.getElementById(\"myCanvas\");myCanvas.getContext(\"2d\").clearRect(0, 0, myCanvas.width, myCanvas.height);}</script>"
      ],
      "text/plain": [
       "<IPython.core.display.HTML object>"
      ]
     },
     "execution_count": 8,
     "metadata": {},
     "output_type": "execute_result"
    }
   ],
   "source": [
    "from IPython.display import HTML\n",
    "import cv2\n",
    "import numpy as np\n",
    "from mnist_demo import html, script\n",
    "def classify(img):\n",
    "    img = img[len('data:image/png;base64,'):].decode('base64')\n",
    "    img = cv2.imdecode(np.fromstring(img, np.uint8), -1)\n",
    "    img = cv2.resize(img[:,:,3], (28,28))\n",
    "    img = img.astype(np.float32).reshape((1,1,28,28))/255.0\n",
    "    return model.predict(img)[0].argmax()\n",
    "\n",
    "'''\n",
    "To see the model in action, run the demo notebook at\n",
    "https://github.com/dmlc/mxnet-notebooks/blob/master/python/tutorials/mnist.ipynb.\n",
    "'''\n",
    "HTML(html + script)"
   ]
  },
  {
   "cell_type": "markdown",
   "metadata": {},
   "source": [
    "## Convolutional Neural Networks\n",
    "\n",
    "Note that the previous fully-connected layer simply reshapes the image into a vector during training. It ignores the spatial information that pixels are correlated on both horizontal and vertical dimensions. The convolutional layer aims to improve this drawback by using a more structural weight $W$. Instead of simply matrix-matrix multiplication, it uses 2-D convolution to obtain the output. "
   ]
  },
  {
   "cell_type": "markdown",
   "metadata": {},
   "source": [
    "<img src=\"https://thatindiandude.github.io/images/conv.png\" style=\"height: 75%; width: 75%;\">"
   ]
  },
  {
   "cell_type": "markdown",
   "metadata": {},
   "source": [
    "We can also have multiple feature maps, each with their own weight matrices, to capture different features: \n",
    "<img src=\"https://thatindiandude.github.io/images/filters.png\" style=\"height: 75%; width: 75%;\">"
   ]
  },
  {
   "cell_type": "markdown",
   "metadata": {},
   "source": [
    "Besides the convolutional layer, another major change of the convolutional neural network is the adding of pooling layers. A pooling layer reduce a $n\\times m$ (often called kernal size) image patch into a single value to make the network less sensitive to the spatial location.\n",
    "\n",
    "<img src=\"https://thatindiandude.github.io/images/pooling.png\" style=\"height: 75%; width: 75%;\">"
   ]
  },
  {
   "cell_type": "code",
   "execution_count": 9,
   "metadata": {
    "collapsed": true
   },
   "outputs": [],
   "source": [
    "data = mx.symbol.Variable('data')\n",
    "# first conv layer\n",
    "conv1 = mx.sym.Convolution(data=data, kernel=(5,5), num_filter=20)\n",
    "tanh1 = mx.sym.Activation(data=conv1, act_type=\"tanh\")\n",
    "pool1 = mx.sym.Pooling(data=tanh1, pool_type=\"max\", kernel=(2,2), stride=(2,2))\n",
    "# second conv layer\n",
    "conv2 = mx.sym.Convolution(data=pool1, kernel=(5,5), num_filter=50)\n",
    "tanh2 = mx.sym.Activation(data=conv2, act_type=\"tanh\")\n",
    "pool2 = mx.sym.Pooling(data=tanh2, pool_type=\"max\", kernel=(2,2), stride=(2,2))\n",
    "# first fullc layer\n",
    "flatten = mx.sym.Flatten(data=pool2)\n",
    "fc1 = mx.symbol.FullyConnected(data=flatten, num_hidden=500)\n",
    "tanh3 = mx.sym.Activation(data=fc1, act_type=\"tanh\")\n",
    "# second fullc\n",
    "fc2 = mx.sym.FullyConnected(data=tanh3, num_hidden=10)\n",
    "# softmax loss\n",
    "lenet = mx.sym.SoftmaxOutput(data=fc2, name='softmax')"
   ]
  },
  {
   "cell_type": "markdown",
   "metadata": {},
   "source": [
    "Note that LeNet is more complex than the previous multilayer perceptron, so we use GPU instead of CPU for training. "
   ]
  },
  {
   "cell_type": "code",
   "execution_count": 10,
   "metadata": {
    "collapsed": false,
    "scrolled": true
   },
   "outputs": [
    {
     "name": "stderr",
     "output_type": "stream",
     "text": [
      "INFO:root:Start training with [gpu(0)]\n",
      "INFO:root:Epoch[0] Batch [200]\tSpeed: 19760.87 samples/sec\tTrain-accuracy=0.111300\n",
      "INFO:root:Epoch[0] Batch [400]\tSpeed: 23068.24 samples/sec\tTrain-accuracy=0.112450\n",
      "INFO:root:Epoch[0] Batch [600]\tSpeed: 23056.69 samples/sec\tTrain-accuracy=0.112700\n",
      "INFO:root:Epoch[0] Resetting Data Iterator\n",
      "INFO:root:Epoch[0] Time cost=3.010\n",
      "INFO:root:Epoch[0] Validation-accuracy=0.113500\n",
      "INFO:root:Epoch[1] Batch [200]\tSpeed: 23184.43 samples/sec\tTrain-accuracy=0.145950\n",
      "INFO:root:Epoch[1] Batch [400]\tSpeed: 23032.03 samples/sec\tTrain-accuracy=0.775550\n",
      "INFO:root:Epoch[1] Batch [600]\tSpeed: 23030.07 samples/sec\tTrain-accuracy=0.912350\n",
      "INFO:root:Epoch[1] Resetting Data Iterator\n",
      "INFO:root:Epoch[1] Time cost=2.605\n",
      "INFO:root:Epoch[1] Validation-accuracy=0.934400\n",
      "INFO:root:Epoch[2] Batch [200]\tSpeed: 23112.07 samples/sec\tTrain-accuracy=0.943700\n",
      "INFO:root:Epoch[2] Batch [400]\tSpeed: 23030.54 samples/sec\tTrain-accuracy=0.954150\n",
      "INFO:root:Epoch[2] Batch [600]\tSpeed: 23102.48 samples/sec\tTrain-accuracy=0.964900\n",
      "INFO:root:Epoch[2] Resetting Data Iterator\n",
      "INFO:root:Epoch[2] Time cost=2.605\n",
      "INFO:root:Epoch[2] Validation-accuracy=0.972100\n",
      "INFO:root:Epoch[3] Batch [200]\tSpeed: 23115.03 samples/sec\tTrain-accuracy=0.973150\n",
      "INFO:root:Epoch[3] Batch [400]\tSpeed: 23055.29 samples/sec\tTrain-accuracy=0.973600\n",
      "INFO:root:Epoch[3] Batch [600]\tSpeed: 23091.43 samples/sec\tTrain-accuracy=0.976350\n",
      "INFO:root:Epoch[3] Resetting Data Iterator\n",
      "INFO:root:Epoch[3] Time cost=2.604\n",
      "INFO:root:Epoch[3] Validation-accuracy=0.981000\n",
      "INFO:root:Epoch[4] Batch [200]\tSpeed: 23060.63 samples/sec\tTrain-accuracy=0.981000\n",
      "INFO:root:Epoch[4] Batch [400]\tSpeed: 22992.31 samples/sec\tTrain-accuracy=0.980500\n",
      "INFO:root:Epoch[4] Batch [600]\tSpeed: 22896.53 samples/sec\tTrain-accuracy=0.982650\n",
      "INFO:root:Epoch[4] Resetting Data Iterator\n",
      "INFO:root:Epoch[4] Time cost=2.616\n",
      "INFO:root:Epoch[4] Validation-accuracy=0.984000\n",
      "INFO:root:Epoch[5] Batch [200]\tSpeed: 23072.58 samples/sec\tTrain-accuracy=0.985200\n",
      "INFO:root:Epoch[5] Batch [400]\tSpeed: 22997.41 samples/sec\tTrain-accuracy=0.984050\n",
      "INFO:root:Epoch[5] Batch [600]\tSpeed: 22970.29 samples/sec\tTrain-accuracy=0.985950\n",
      "INFO:root:Epoch[5] Resetting Data Iterator\n",
      "INFO:root:Epoch[5] Time cost=2.613\n",
      "INFO:root:Epoch[5] Validation-accuracy=0.986000\n",
      "INFO:root:Epoch[6] Batch [200]\tSpeed: 23238.82 samples/sec\tTrain-accuracy=0.988150\n",
      "INFO:root:Epoch[6] Batch [400]\tSpeed: 23112.63 samples/sec\tTrain-accuracy=0.986750\n",
      "INFO:root:Epoch[6] Batch [600]\tSpeed: 23082.98 samples/sec\tTrain-accuracy=0.988100\n",
      "INFO:root:Epoch[6] Resetting Data Iterator\n",
      "INFO:root:Epoch[6] Time cost=2.598\n",
      "INFO:root:Epoch[6] Validation-accuracy=0.986700\n",
      "INFO:root:Epoch[7] Batch [200]\tSpeed: 23132.00 samples/sec\tTrain-accuracy=0.989550\n",
      "INFO:root:Epoch[7] Batch [400]\tSpeed: 23017.32 samples/sec\tTrain-accuracy=0.989050\n",
      "INFO:root:Epoch[7] Batch [600]\tSpeed: 22990.25 samples/sec\tTrain-accuracy=0.989900\n",
      "INFO:root:Epoch[7] Resetting Data Iterator\n",
      "INFO:root:Epoch[7] Time cost=2.609\n",
      "INFO:root:Epoch[7] Validation-accuracy=0.986700\n",
      "INFO:root:Epoch[8] Batch [200]\tSpeed: 23114.52 samples/sec\tTrain-accuracy=0.991400\n",
      "INFO:root:Epoch[8] Batch [400]\tSpeed: 23052.39 samples/sec\tTrain-accuracy=0.990800\n",
      "INFO:root:Epoch[8] Batch [600]\tSpeed: 23076.56 samples/sec\tTrain-accuracy=0.991150\n",
      "INFO:root:Epoch[8] Resetting Data Iterator\n",
      "INFO:root:Epoch[8] Time cost=2.606\n",
      "INFO:root:Epoch[8] Validation-accuracy=0.987400\n",
      "INFO:root:Epoch[9] Batch [200]\tSpeed: 23134.78 samples/sec\tTrain-accuracy=0.992750\n",
      "INFO:root:Epoch[9] Batch [400]\tSpeed: 23071.56 samples/sec\tTrain-accuracy=0.991850\n",
      "INFO:root:Epoch[9] Batch [600]\tSpeed: 23073.45 samples/sec\tTrain-accuracy=0.992000\n",
      "INFO:root:Epoch[9] Resetting Data Iterator\n",
      "INFO:root:Epoch[9] Time cost=2.604\n",
      "INFO:root:Epoch[9] Validation-accuracy=0.987400\n"
     ]
    }
   ],
   "source": [
    "# Output may vary\n",
    "model = mx.model.FeedForward(\n",
    "    ctx = mx.gpu(0),     # use GPU 0 for training, others are same as before\n",
    "    symbol = lenet,       \n",
    "    num_epoch = 10,     \n",
    "    learning_rate = 0.1)\n",
    "model.fit(\n",
    "    X=train_iter,  \n",
    "    eval_data=val_iter, \n",
    "    batch_end_callback = mx.callback.Speedometer(batch_size, 200)\n",
    ") \n",
    "assert model.score(val_iter) > 0.98, \"Low validation accuracy.\""
   ]
  },
  {
   "cell_type": "markdown",
   "metadata": {},
   "source": [
    "Note that, with the same hyper-parameters, LeNet achieves 98.7% validation accuracy, which improves on the previous multilayer perceptron accuracy of 96.6%."
   ]
  }
 ],
 "metadata": {
  "anaconda-cloud": {},
  "kernelspec": {
   "display_name": "Python 2",
   "language": "python",
   "name": "python2"
  },
  "language_info": {
   "codemirror_mode": {
    "name": "ipython",
    "version": 2
   },
   "file_extension": ".py",
   "mimetype": "text/x-python",
   "name": "python",
   "nbconvert_exporter": "python",
   "pygments_lexer": "ipython2",
   "version": "2.7.6"
  }
 },
 "nbformat": 4,
 "nbformat_minor": 1
}
