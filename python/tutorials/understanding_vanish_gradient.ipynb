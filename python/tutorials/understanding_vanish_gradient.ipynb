{
 "cells": [
  {
   "cell_type": "markdown",
   "metadata": {},
   "source": [
    "# Understanding the vanishing gradient problem through visualization"
   ]
  },
  {
   "cell_type": "markdown",
   "metadata": {},
   "source": [
    "There're reasons why deep neural network could work very well, while few people get a promising result or make it possible by simply make their neural network *deep*.\n",
    "\n",
    "* Computational power and data grow tremendously. People need more complex model and faster computer to make it feasible.\n",
    "* Realize and understand the difficulties associated with training a deep model.\n",
    "\n",
    "In this tutorial, we would like to show you some insights of the techniques that researchers find useful in training a deep model, using MXNet and its visualizing tool -- TensorBoard.\n",
    "\n",
    "Let’s recap some of the relevant issues on training a deep model:\n",
    "\n",
    "* Weight initialization.  If you initialize the network with random and small weights, when you look at the gradients down the top layer, you would find they’re getting smaller and smaller, then the first layer almost doesn’t change as the gradients are too small to make a significant update. Without a chance to learn the first layer effectively, it's impossible to update and learn a good deep model.\n",
    "* Nonlinearity activation. When people use `sigmoid` or `tanh` as activation function, the gradient, same as the above, is getting smaller and smaller. Just remind the formula of the parameter updates and the gradient."
   ]
  },
  {
   "cell_type": "markdown",
   "metadata": {},
   "source": [
    "### Data and DataIter"
   ]
  },
  {
   "cell_type": "code",
   "execution_count": 1,
   "metadata": {
    "collapsed": true
   },
   "outputs": [],
   "source": [
    "def download(data_dir):\n",
    "    if not os.path.isdir(data_dir):\n",
    "        os.system('mkdir ' + data_dir)\n",
    "    os.chdir(data_dir)\n",
    "    if (not os.path.exists('train-images-idx3-ubyte')) or \\\n",
    "       (not os.path.exists('train-labels-idx1-ubyte')) or \\\n",
    "       (not os.path.exists('t10k-images-idx3-ubyte')) or \\\n",
    "       (not os.path.exists('t10k-labels-idx1-ubyte')):\n",
    "           os.system('wget http://data.mxnet.io/mxnet/data/mnist.zip')\n",
    "           os.system('unzip mnist.zip; rm mnist.zip')\n",
    "    os.chdir('..')"
   ]
  },
  {
   "cell_type": "code",
   "execution_count": 2,
   "metadata": {
    "collapsed": true
   },
   "outputs": [],
   "source": [
    "def get_iterator(data_shape):\n",
    "    def get_iterator_impl(args, kv):\n",
    "        data_dir = args.data_dir\n",
    "        # if Windows\n",
    "        if os.name == \"nt\":\n",
    "            data_dir = data_dir[:-1] + \"\\\\\"\n",
    "        if '://' not in args.data_dir:\n",
    "            download(data_dir)\n",
    "        flat = False if len(data_shape) == 3 else True\n",
    "\n",
    "        train           = mx.io.MNISTIter(\n",
    "            image       = data_dir + \"train-images-idx3-ubyte\",\n",
    "            label       = data_dir + \"train-labels-idx1-ubyte\",\n",
    "            input_shape = data_shape,\n",
    "            batch_size  = args.batch_size,\n",
    "            shuffle     = True,\n",
    "            flat        = flat,\n",
    "            num_parts   = kv.num_workers,\n",
    "            part_index  = kv.rank)\n",
    "\n",
    "        val = mx.io.MNISTIter(\n",
    "            image       = data_dir + \"t10k-images-idx3-ubyte\",\n",
    "            label       = data_dir + \"t10k-labels-idx1-ubyte\",\n",
    "            input_shape = data_shape,\n",
    "            batch_size  = args.batch_size,\n",
    "            flat        = flat,\n",
    "            num_parts   = kv.num_workers,\n",
    "            part_index  = kv.rank)\n",
    "\n",
    "        return (train, val)\n",
    "    return get_iterator_impl"
   ]
  },
  {
   "cell_type": "markdown",
   "metadata": {},
   "source": [
    "\n",
    "### Network Structure\n",
    "\n",
    "Here's the network structure:"
   ]
  },
  {
   "cell_type": "code",
   "execution_count": 3,
   "metadata": {
    "collapsed": true
   },
   "outputs": [],
   "source": [
    "def get_mlp(acti=\"relu\"):\n",
    "    \"\"\"\n",
    "    multi-layer perceptron\n",
    "    \"\"\"\n",
    "    data = mx.symbol.Variable('data')\n",
    "    fc   = mx.symbol.FullyConnected(data = data, name='fc', num_hidden=512)\n",
    "    act  = mx.symbol.Activation(data = fc, name='act', act_type=acti)\n",
    "    fc0  = mx.symbol.FullyConnected(data = act, name='fc0', num_hidden=256)\n",
    "    act0 = mx.symbol.Activation(data = fc0, name='act0', act_type=acti)\n",
    "    fc1  = mx.symbol.FullyConnected(data = act0, name='fc1', num_hidden=128)\n",
    "    act1 = mx.symbol.Activation(data = fc1, name='act1', act_type=acti)\n",
    "    fc2  = mx.symbol.FullyConnected(data = act1, name = 'fc2', num_hidden = 64)\n",
    "    act2 = mx.symbol.Activation(data = fc2, name='act2', act_type=acti)\n",
    "    fc3  = mx.symbol.FullyConnected(data = act2, name='fc3', num_hidden=32)\n",
    "    act3 = mx.symbol.Activation(data = fc3, name='act3', act_type=acti)\n",
    "    fc4  = mx.symbol.FullyConnected(data = act3, name='fc4', num_hidden=16)\n",
    "    act4 = mx.symbol.Activation(data = fc4, name='act4', act_type=acti)\n",
    "    fc5  = mx.symbol.FullyConnected(data = act4, name='fc5', num_hidden=10)\n",
    "    mlp  = mx.symbol.SoftmaxOutput(data = fc5, name = 'softmax')\n",
    "    return mlp"
   ]
  },
  {
   "cell_type": "markdown",
   "metadata": {},
   "source": [
    "As you might already notice, we intentionally add more layers than usual, as the vanished gradient problem becomes severer as the network goes deeper."
   ]
  },
  {
   "cell_type": "markdown",
   "metadata": {},
   "source": [
    "## Experiment Setting\n",
    "\n",
    "Here we create a simple MLP for cifar10 dataset and visualize the learning processing through loss/accuracy, and its gradient distributions, by changing its initialization and activation setting.\n",
    "\n",
    "## General Setting \n",
    "\n",
    "We adopt MLP as our model and run our experiment in MNIST dataset. Then we'll visualize the weight and gradient of a layer using `Monitor` in MXNet and `Histogram` in TensorBoard.\n",
    "\n",
    "\n",
    "### Weight Initialization\n",
    "\n",
    "The weight initialization also has `uniform` and `xavier`. \n",
    "\n",
    "```python\n",
    "if args.init == 'uniform':\n",
    "        init = mx.init.Uniform(0.1)\n",
    "if args.init == 'xavier':\n",
    "    init = mx.init.Xavier(factor_type=\"in\", magnitude=2.34)\n",
    "```\n",
    "\n",
    "Note that we intentionally choose a near zero setting in `uniform`. \n",
    "\n",
    "### Activation  Function\n",
    "\n",
    "We would compare two different activations, `sigmoid` and `relu`. \n",
    "\n",
    "```python\n",
    "# acti = sigmoid or relu.\n",
    "act  = mx.symbol.Activation(data = fc, name='act', act_type=acti)\n",
    "```"
   ]
  },
  {
   "cell_type": "markdown",
   "metadata": {},
   "source": [
    "## Logging with TensorBoard and Monitor\n",
    "\n",
    "In order to monitor the weight and gradient of this network in different settings, we could use MXNet's `monitor` for logging and `TensorBoard` for visualization.\n",
    "\n",
    "### Usage\n",
    "\n",
    "Here's a code snippet from `train_model.py`:\n",
    "\n",
    "```python\n",
    "import mxnet as mx\n",
    "from tensorboard import summary\n",
    "from tensorboard import FileWriter\n",
    "\n",
    "# where to keep your TensorBoard logging file\n",
    "logdir = './logs/'\n",
    "summary_writer = FileWriter(logdir)\n",
    "\n",
    "# mx.mon.Monitor's callback \n",
    "def get_gradient(g):\n",
    "    # get flatten list\n",
    "    grad = g.asnumpy().flatten()\n",
    "    # logging using tensorboard, use histogram type.\n",
    "    s = summary.histogram('fc_backward_weight', grad)\n",
    "    summary_writer.add_summary(s)\n",
    "    return mx.nd.norm(g)/np.sqrt(g.size)\n",
    "\n",
    "mon = mx.mon.Monitor(int(args.num_examples/args.batch_size), get_gradient, pattern='fc_backward_weight')  # get the gradient passed to the first fully-connnected layer.\n",
    "\n",
    "# training\n",
    "model.fit(\n",
    "        X                  = train,\n",
    "        eval_data          = val,\n",
    "        eval_metric        = eval_metrics,\n",
    "        kvstore            = kv,\n",
    "        monitor            = mon,\n",
    "        epoch_end_callback = checkpoint)\n",
    "\n",
    "# close summary_writer\n",
    "summary_writer.close()\n",
    "```"
   ]
  },
  {
   "cell_type": "code",
   "execution_count": 4,
   "metadata": {
    "collapsed": false
   },
   "outputs": [],
   "source": [
    "import mxnet as mx\n",
    "import argparse\n",
    "import os, sys\n",
    "\n",
    "def parse_args(init_type, name):\n",
    "    parser = argparse.ArgumentParser(description='train an image classifer on mnist')\n",
    "    parser.add_argument('--network', type=str, default='mlp',\n",
    "                        choices = ['mlp', 'lenet', 'lenet-stn'],\n",
    "                        help = 'the cnn to use')\n",
    "    parser.add_argument('--data-dir', type=str, default='mnist/',\n",
    "                        help='the input data directory')\n",
    "    parser.add_argument('--gpus', type=str,\n",
    "                        help='the gpus will be used, e.g \"0,1,2,3\"')\n",
    "    parser.add_argument('--num-examples', type=int, default=60000,\n",
    "                        help='the number of training examples')\n",
    "    parser.add_argument('--batch-size', type=int, default=128,\n",
    "                        help='the batch size')\n",
    "    parser.add_argument('--lr', type=float, default=.1,\n",
    "                        help='the initial learning rate')\n",
    "    parser.add_argument('--model-prefix', type=str,\n",
    "                        help='the prefix of the model to load/save')\n",
    "    parser.add_argument('--save-model-prefix', type=str,\n",
    "                        help='the prefix of the model to save')\n",
    "    parser.add_argument('--num-epochs', type=int, default=10,\n",
    "                        help='the number of training epochs')\n",
    "    parser.add_argument('--load-epoch', type=int,\n",
    "                        help=\"load the model on an epoch using the model-prefix\")\n",
    "    parser.add_argument('--kv-store', type=str, default='local',\n",
    "                        help='the kvstore type')\n",
    "    parser.add_argument('--lr-factor', type=float, default=1,\n",
    "                        help='times the lr with a factor for every lr-factor-epoch epoch')\n",
    "    parser.add_argument('--lr-factor-epoch', type=float, default=1,\n",
    "                        help='the number of epoch to factor the lr, could be .5')\n",
    "    parser.add_argument('--init', type=str, default=init_type,\n",
    "                        help='the weight initialization method')\n",
    "    parser.add_argument('--name', type=str, default=name,\n",
    "                        help='name for summary.histogram for gradient/weight logging')\n",
    "    return parser.parse_args(\"\")"
   ]
  },
  {
   "cell_type": "code",
   "execution_count": 5,
   "metadata": {
    "collapsed": true
   },
   "outputs": [
    {
     "ename": "ImportError",
     "evalue": "cannot import name 'event_pb2'",
     "output_type": "error",
     "traceback": [
      "\u001b[0;31m---------------------------------------------------------------------------\u001b[0m",
      "\u001b[0;31mImportError\u001b[0m                               Traceback (most recent call last)",
      "\u001b[0;32m<ipython-input-5-e81606405fd9>\u001b[0m in \u001b[0;36m<module>\u001b[0;34m()\u001b[0m\n\u001b[1;32m      3\u001b[0m \u001b[0;32mimport\u001b[0m \u001b[0mos\u001b[0m\u001b[0;34m\u001b[0m\u001b[0m\n\u001b[1;32m      4\u001b[0m \u001b[0;32mimport\u001b[0m \u001b[0mnumpy\u001b[0m \u001b[0;32mas\u001b[0m \u001b[0mnp\u001b[0m\u001b[0;34m\u001b[0m\u001b[0m\n\u001b[0;32m----> 5\u001b[0;31m \u001b[0;32mfrom\u001b[0m \u001b[0mtensorboard\u001b[0m \u001b[0;32mimport\u001b[0m \u001b[0msummary\u001b[0m\u001b[0;34m\u001b[0m\u001b[0m\n\u001b[0m\u001b[1;32m      6\u001b[0m \u001b[0;32mfrom\u001b[0m \u001b[0mtensorboard\u001b[0m \u001b[0;32mimport\u001b[0m \u001b[0mFileWriter\u001b[0m\u001b[0;34m\u001b[0m\u001b[0m\n\u001b[1;32m      7\u001b[0m \u001b[0;34m\u001b[0m\u001b[0m\n",
      "\u001b[0;32m/Library/anaconda/lib/python3.5/site-packages/tensorboard/__init__.py\u001b[0m in \u001b[0;36m<module>\u001b[0;34m()\u001b[0m\n\u001b[1;32m      2\u001b[0m \"\"\"\n\u001b[1;32m      3\u001b[0m \u001b[0;34m\u001b[0m\u001b[0m\n\u001b[0;32m----> 4\u001b[0;31m \u001b[0;32mfrom\u001b[0m \u001b[0;34m.\u001b[0m\u001b[0mwriter\u001b[0m \u001b[0;32mimport\u001b[0m \u001b[0mFileWriter\u001b[0m\u001b[0;34m\u001b[0m\u001b[0m\n\u001b[0m\u001b[1;32m      5\u001b[0m \u001b[0;32mfrom\u001b[0m \u001b[0;34m.\u001b[0m\u001b[0mrecord_writer\u001b[0m \u001b[0;32mimport\u001b[0m \u001b[0mRecordWriter\u001b[0m\u001b[0;34m\u001b[0m\u001b[0m\n",
      "\u001b[0;32m/Library/anaconda/lib/python3.5/site-packages/tensorboard/writer.py\u001b[0m in \u001b[0;36m<module>\u001b[0;34m()\u001b[0m\n\u001b[1;32m     21\u001b[0m \u001b[0;32mimport\u001b[0m \u001b[0mtime\u001b[0m\u001b[0;34m\u001b[0m\u001b[0m\n\u001b[1;32m     22\u001b[0m \u001b[0;34m\u001b[0m\u001b[0m\n\u001b[0;32m---> 23\u001b[0;31m \u001b[0;32mfrom\u001b[0m \u001b[0;34m.\u001b[0m\u001b[0msrc\u001b[0m \u001b[0;32mimport\u001b[0m \u001b[0mevent_pb2\u001b[0m\u001b[0;34m\u001b[0m\u001b[0m\n\u001b[0m\u001b[1;32m     24\u001b[0m \u001b[0;32mfrom\u001b[0m \u001b[0;34m.\u001b[0m\u001b[0msrc\u001b[0m \u001b[0;32mimport\u001b[0m \u001b[0msummary_pb2\u001b[0m\u001b[0;34m\u001b[0m\u001b[0m\n\u001b[1;32m     25\u001b[0m \u001b[0;32mfrom\u001b[0m \u001b[0;34m.\u001b[0m\u001b[0mevent_file_writer\u001b[0m \u001b[0;32mimport\u001b[0m \u001b[0mEventFileWriter\u001b[0m\u001b[0;34m\u001b[0m\u001b[0m\n",
      "\u001b[0;31mImportError\u001b[0m: cannot import name 'event_pb2'"
     ]
    }
   ],
   "source": [
    "import mxnet as mx\n",
    "import logging\n",
    "import os\n",
    "import numpy as np\n",
    "from tensorboard import summary\n",
    "from tensorboard import FileWriter\n",
    "\n",
    "def fit(args, network, data_loader, batch_end_callback=None):\n",
    "    # kvstore\n",
    "    kv = mx.kvstore.create(args.kv_store)\n",
    "\n",
    "    # logging\n",
    "    head = '%(asctime)-15s Node[' + str(kv.rank) + '] %(message)s'\n",
    "    if 'log_file' in args and args.log_file is not None:\n",
    "        log_file = args.log_file\n",
    "        log_dir = args.log_dir\n",
    "        log_file_full_name = os.path.join(log_dir, log_file)\n",
    "        if not os.path.exists(log_dir):\n",
    "            os.mkdir(log_dir)\n",
    "        logger = logging.getLogger()\n",
    "        handler = logging.FileHandler(log_file_full_name)\n",
    "        formatter = logging.Formatter(head)\n",
    "        handler.setFormatter(formatter)\n",
    "        logger.addHandler(handler)\n",
    "        logger.setLevel(logging.DEBUG)\n",
    "        logger.info('start with arguments %s', args)\n",
    "    else:\n",
    "        logging.basicConfig(level=logging.DEBUG, format=head)\n",
    "        logging.info('start with arguments %s', args)\n",
    "\n",
    "    # load model\n",
    "    model_prefix = args.model_prefix\n",
    "    if model_prefix is not None:\n",
    "        model_prefix += \"-%d\" % (kv.rank)\n",
    "    model_args = {}\n",
    "    if args.load_epoch is not None:\n",
    "        assert model_prefix is not None\n",
    "        tmp = mx.model.FeedForward.load(model_prefix, args.load_epoch)\n",
    "        model_args = {'arg_params' : tmp.arg_params,\n",
    "                      'aux_params' : tmp.aux_params,\n",
    "                      'begin_epoch' : args.load_epoch}\n",
    "        # TODO: check epoch_size for 'dist_sync'\n",
    "        epoch_size = args.num_examples / args.batch_size\n",
    "        model_args['begin_num_update'] = epoch_size * args.load_epoch\n",
    "\n",
    "    # save model\n",
    "    save_model_prefix = args.save_model_prefix\n",
    "    if save_model_prefix is None:\n",
    "        save_model_prefix = model_prefix\n",
    "    checkpoint = None if save_model_prefix is None else mx.callback.do_checkpoint(save_model_prefix)\n",
    "\n",
    "    # data\n",
    "    (train, val) = data_loader(args, kv)\n",
    "\n",
    "    # train\n",
    "    devs = [mx.cpu(i) for i in range(4)] if args.gpus is None else [\n",
    "        mx.gpu(int(i)) for i in args.gpus.split(',')]\n",
    "\n",
    "    epoch_size = args.num_examples / args.batch_size\n",
    "\n",
    "    if args.kv_store == 'dist_sync':\n",
    "        epoch_size /= kv.num_workers\n",
    "        model_args['epoch_size'] = epoch_size\n",
    "\n",
    "    if 'lr_factor' in args and args.lr_factor < 1:\n",
    "        model_args['lr_scheduler'] = mx.lr_scheduler.FactorScheduler(\n",
    "            step = max(int(epoch_size * args.lr_factor_epoch), 1),\n",
    "            factor = args.lr_factor)\n",
    "\n",
    "    if 'clip_gradient' in args and args.clip_gradient is not None:\n",
    "        model_args['clip_gradient'] = args.clip_gradient\n",
    "\n",
    "    # disable kvstore for single device\n",
    "    if 'local' in kv.type and (\n",
    "            args.gpus is None or len(args.gpus.split(',')) is 1):\n",
    "        kv = None\n",
    "    \n",
    "    if args.init == 'uniform':\n",
    "        init = mx.init.Uniform(0.1)\n",
    "    if args.init == 'normal':\n",
    "        init = mx.init.Normal(0,0.1)\n",
    "    if args.init == 'xavier':\n",
    "        init = mx.init.Xavier(factor_type=\"in\", magnitude=2.34)\n",
    "    model = mx.model.FeedForward(\n",
    "        ctx                = devs,\n",
    "        symbol             = network,\n",
    "        num_epoch          = args.num_epochs,\n",
    "        learning_rate      = args.lr,\n",
    "        momentum           = 0.9,\n",
    "        wd                 = 0.00001,\n",
    "        initializer        = init,\n",
    "        **model_args)\n",
    "\n",
    "    eval_metrics = ['accuracy']\n",
    "    ## TopKAccuracy only allows top_k > 1\n",
    "    for top_k in [5]:\n",
    "        eval_metrics.append(mx.metric.create('top_k_accuracy', top_k = top_k))\n",
    "\n",
    "    if batch_end_callback is not None:\n",
    "        if not isinstance(batch_end_callback, list):\n",
    "            batch_end_callback = [batch_end_callback]\n",
    "    else:\n",
    "        batch_end_callback = []\n",
    "    batch_end_callback.append(mx.callback.Speedometer(args.batch_size, 50))\n",
    "    \n",
    "    logdir = './logs/'\n",
    "    summary_writer = FileWriter(logdir)\n",
    "    def get_grad(g):\n",
    "        # logging using tensorboard\n",
    "        grad = g.asnumpy().flatten()\n",
    "        s = summary.histogram(args.name, grad)\n",
    "        summary_writer.add_summary(s)\n",
    "        return mx.nd.norm(g)/np.sqrt(g.size)\n",
    "    mon = mx.mon.Monitor(int(args.num_examples/args.batch_size), get_grad, pattern='fc_backward_weight')  # get weight of first fully-connnected layer\n",
    "    \n",
    "    model.fit(\n",
    "        X                  = train,\n",
    "        eval_data          = val,\n",
    "        eval_metric        = eval_metrics,\n",
    "        kvstore            = kv,\n",
    "        monitor            = mon,\n",
    "        epoch_end_callback = checkpoint)\n",
    "\n",
    "    summary_writer.close()"
   ]
  },
  {
   "cell_type": "markdown",
   "metadata": {},
   "source": [
    "## What to expect?\n",
    "\n",
    "If a setting suffers from an vanish gradient problem, the gradients passed from the top should be very close to zero, and the weight of the network barely change/update. "
   ]
  },
  {
   "cell_type": "markdown",
   "metadata": {},
   "source": [
    "### Uniform and Sigmoid"
   ]
  },
  {
   "cell_type": "code",
   "execution_count": 6,
   "metadata": {
    "collapsed": false
   },
   "outputs": [
    {
     "ename": "NameError",
     "evalue": "name 'fit' is not defined",
     "output_type": "error",
     "traceback": [
      "\u001b[0;31m---------------------------------------------------------------------------\u001b[0m",
      "\u001b[0;31mNameError\u001b[0m                                 Traceback (most recent call last)",
      "\u001b[0;32m<ipython-input-6-6c3f65558a44>\u001b[0m in \u001b[0;36m<module>\u001b[0;34m()\u001b[0m\n\u001b[1;32m      5\u001b[0m \u001b[0;34m\u001b[0m\u001b[0m\n\u001b[1;32m      6\u001b[0m \u001b[0;31m# train\u001b[0m\u001b[0;34m\u001b[0m\u001b[0;34m\u001b[0m\u001b[0m\n\u001b[0;32m----> 7\u001b[0;31m \u001b[0mfit\u001b[0m\u001b[0;34m(\u001b[0m\u001b[0margs\u001b[0m\u001b[0;34m,\u001b[0m \u001b[0mnet\u001b[0m\u001b[0;34m,\u001b[0m \u001b[0mget_iterator\u001b[0m\u001b[0;34m(\u001b[0m\u001b[0mdata_shape\u001b[0m\u001b[0;34m)\u001b[0m\u001b[0;34m)\u001b[0m\u001b[0;34m\u001b[0m\u001b[0m\n\u001b[0m",
      "\u001b[0;31mNameError\u001b[0m: name 'fit' is not defined"
     ]
    }
   ],
   "source": [
    "# Uniform and sigmoid\n",
    "args = parse_args('uniform', 'uniform_sigmoid')\n",
    "data_shape = (784, )\n",
    "net = get_mlp(\"sigmoid\")\n",
    "\n",
    "# train\n",
    "fit(args, net, get_iterator(data_shape))"
   ]
  },
  {
   "cell_type": "markdown",
   "metadata": {},
   "source": [
    "As you've seen, the metrics of `fc_backward_weight` is so close to zero, and it didn't change a lot during batchs.\n",
    "\n",
    "```\n",
    "2017-01-07 15:44:38,845 Node[0] Batch:       1 fc_backward_weight             5.1907e-07\t\n",
    "2017-01-07 15:44:38,846 Node[0] Batch:       1 fc_backward_weight             4.2085e-07\t\n",
    "2017-01-07 15:44:38,847 Node[0] Batch:       1 fc_backward_weight             4.31894e-07\t\n",
    "2017-01-07 15:44:38,848 Node[0] Batch:       1 fc_backward_weight             5.80652e-07\n",
    "\n",
    "2017-01-07 15:45:50,199 Node[0] Batch:    4213 fc_backward_weight             5.49988e-07\t\n",
    "2017-01-07 15:45:50,200 Node[0] Batch:    4213 fc_backward_weight             5.89305e-07\t\n",
    "2017-01-07 15:45:50,201 Node[0] Batch:    4213 fc_backward_weight             3.71941e-07\t\n",
    "2017-01-07 15:45:50,202 Node[0] Batch:    4213 fc_backward_weight             8.05085e-07\n",
    "```\n",
    "\n",
    "You might wonder why we have 4 different `fc_backward_weight`, cause we use 4 cpus."
   ]
  },
  {
   "cell_type": "markdown",
   "metadata": {},
   "source": [
    "### Uniform and ReLu"
   ]
  },
  {
   "cell_type": "code",
   "execution_count": 7,
   "metadata": {
    "collapsed": false
   },
   "outputs": [
    {
     "ename": "NameError",
     "evalue": "name 'fit' is not defined",
     "output_type": "error",
     "traceback": [
      "\u001b[0;31m---------------------------------------------------------------------------\u001b[0m",
      "\u001b[0;31mNameError\u001b[0m                                 Traceback (most recent call last)",
      "\u001b[0;32m<ipython-input-7-d8caef125f14>\u001b[0m in \u001b[0;36m<module>\u001b[0;34m()\u001b[0m\n\u001b[1;32m      5\u001b[0m \u001b[0;34m\u001b[0m\u001b[0m\n\u001b[1;32m      6\u001b[0m \u001b[0;31m# train\u001b[0m\u001b[0;34m\u001b[0m\u001b[0;34m\u001b[0m\u001b[0m\n\u001b[0;32m----> 7\u001b[0;31m \u001b[0mfit\u001b[0m\u001b[0;34m(\u001b[0m\u001b[0margs\u001b[0m\u001b[0;34m,\u001b[0m \u001b[0mnet\u001b[0m\u001b[0;34m,\u001b[0m \u001b[0mget_iterator\u001b[0m\u001b[0;34m(\u001b[0m\u001b[0mdata_shape\u001b[0m\u001b[0;34m)\u001b[0m\u001b[0;34m)\u001b[0m\u001b[0;34m\u001b[0m\u001b[0m\n\u001b[0m",
      "\u001b[0;31mNameError\u001b[0m: name 'fit' is not defined"
     ]
    }
   ],
   "source": [
    "# Uniform and sigmoid\n",
    "args = parse_args('uniform', 'uniform_relu')\n",
    "data_shape = (784, )\n",
    "net = get_mlp(\"relu\")\n",
    "\n",
    "# train\n",
    "fit(args, net, get_iterator(data_shape))"
   ]
  },
  {
   "cell_type": "markdown",
   "metadata": {},
   "source": [
    "Even we have a \"poor\" initialization, the model could still converge quickly with proper activation function. And its magnitude has significant difference.\n",
    "\n",
    "```\n",
    "2017-01-07 15:54:12,286 Node[0] Batch:       1 fc_backward_weight             0.000267409\t\n",
    "2017-01-07 15:54:12,287 Node[0] Batch:       1 fc_backward_weight             0.00031988\t\n",
    "2017-01-07 15:54:12,288 Node[0] Batch:       1 fc_backward_weight             0.000306785\t\n",
    "2017-01-07 15:54:12,289 Node[0] Batch:       1 fc_backward_weight             0.000347533\n",
    "\n",
    "2017-01-07 15:55:25,936 Node[0] Batch:    4213 fc_backward_weight             0.0226081\t\n",
    "2017-01-07 15:55:25,937 Node[0] Batch:    4213 fc_backward_weight             0.0039793\t\n",
    "2017-01-07 15:55:25,937 Node[0] Batch:    4213 fc_backward_weight             0.0306151\t\n",
    "2017-01-07 15:55:25,938 Node[0] Batch:    4213 fc_backward_weight             0.00818676\n",
    "```"
   ]
  },
  {
   "cell_type": "markdown",
   "metadata": {},
   "source": [
    "### Xavier and Sigmoid  "
   ]
  },
  {
   "cell_type": "code",
   "execution_count": 8,
   "metadata": {
    "collapsed": false
   },
   "outputs": [
    {
     "ename": "NameError",
     "evalue": "name 'fit' is not defined",
     "output_type": "error",
     "traceback": [
      "\u001b[0;31m---------------------------------------------------------------------------\u001b[0m",
      "\u001b[0;31mNameError\u001b[0m                                 Traceback (most recent call last)",
      "\u001b[0;32m<ipython-input-8-ee7f916e3ff5>\u001b[0m in \u001b[0;36m<module>\u001b[0;34m()\u001b[0m\n\u001b[1;32m      5\u001b[0m \u001b[0;34m\u001b[0m\u001b[0m\n\u001b[1;32m      6\u001b[0m \u001b[0;31m# train\u001b[0m\u001b[0;34m\u001b[0m\u001b[0;34m\u001b[0m\u001b[0m\n\u001b[0;32m----> 7\u001b[0;31m \u001b[0mfit\u001b[0m\u001b[0;34m(\u001b[0m\u001b[0margs\u001b[0m\u001b[0;34m,\u001b[0m \u001b[0mnet\u001b[0m\u001b[0;34m,\u001b[0m \u001b[0mget_iterator\u001b[0m\u001b[0;34m(\u001b[0m\u001b[0mdata_shape\u001b[0m\u001b[0;34m)\u001b[0m\u001b[0;34m)\u001b[0m\u001b[0;34m\u001b[0m\u001b[0m\n\u001b[0m",
      "\u001b[0;31mNameError\u001b[0m: name 'fit' is not defined"
     ]
    }
   ],
   "source": [
    "# Xavier and sigmoid\n",
    "args = parse_args('xavier', 'xavier_sigmoid')\n",
    "data_shape = (784, )\n",
    "net = get_mlp(\"sigmoid\")\n",
    "\n",
    "# train\n",
    "fit(args, net, get_iterator(data_shape))"
   ]
  },
  {
   "cell_type": "markdown",
   "metadata": {},
   "source": [
    "## Visualization\n",
    "\n",
    "Now start using TensorBoard:\n",
    "\n",
    "```bash\n",
    "tensorboard --logdir=logs/\n",
    "```\n",
    "\n",
    "![Dashboard](https://github.com/zihaolucky/tensorboard/raw/data/docs/tutorial/mnist/pic1.png)\n",
    "\n",
    "![dist](https://github.com/zihaolucky/tensorboard/raw/data/docs/tutorial/mnist/pic2.png)\n",
    "\n",
    "![hist](https://github.com/zihaolucky/tensorboard/raw/data/docs/tutorial/mnist/pic3.png)\n",
    "\n"
   ]
  },
  {
   "cell_type": "markdown",
   "metadata": {},
   "source": [
    "## References\n",
    "\n",
    "You might find these materials useful:\n",
    "\n",
    "[1] [Rohan #4: The vanishing gradient problem – A Year of Artificial Intelligence](https://ayearofai.com/rohan-4-the-vanishing-gradient-problem-ec68f76ffb9b#.bojpejg3o)    \n",
    "[2] [On the difficulty of training recurrent and deep neural networks - YouTube](https://www.youtube.com/watch?v=A7poQbTrhxc)    \n",
    "[3] [What is the vanishing gradient problem? - Quora](https://www.quora.com/What-is-the-vanishing-gradient-problem)"
   ]
  },
  {
   "cell_type": "code",
   "execution_count": null,
   "metadata": {},
   "outputs": [],
   "source": []
  }
 ],
 "metadata": {
  "anaconda-cloud": {},
  "kernelspec": {
   "display_name": "Python [default]",
   "language": "python",
   "name": "python3"
  },
  "language_info": {
   "codemirror_mode": {
    "name": "ipython",
    "version": 3
   },
   "file_extension": ".py",
   "mimetype": "text/x-python",
   "name": "python",
   "nbconvert_exporter": "python",
   "pygments_lexer": "ipython3",
   "version": "3.5.2"
  }
 },
 "nbformat": 4,
 "nbformat_minor": 1
}
