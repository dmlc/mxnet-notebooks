{
 "cells": [
  {
   "cell_type": "markdown",
   "metadata": {},
   "source": [
    "# Predict with pre-trained models\n",
    "\n",
    "This is a demo for predicting with a pre-trained model on the full imagenet dataset, which contains over 10 million images and 10 thousands classes. For a more detailed explanation, please refer to [predict.ipynb](https://github.com/dmlc/mxnet-notebooks/blob/master/python/how_to/predict.ipynb).\n",
    "\n",
    "We first load the pre-trained model."
   ]
  },
  {
   "cell_type": "code",
   "execution_count": null,
   "metadata": {
    "collapsed": false
   },
   "outputs": [],
   "source": [
    "import os, wget\n",
    "import mxnet as mx\n",
    "import skimage.io\n",
    "def download(url,prefix=''):\n",
    "    filename = prefix+url.split(\"/\")[-1]\n",
    "    if not os.path.exists(filename):\n",
    "        wget.download(url,filename)\n",
    "\n",
    "path='http://data.mxnet.io/models/imagenet-11k/'\n",
    "download(path+'resnet-152/resnet-152-symbol.json', 'full-')\n",
    "download(path+'resnet-152/resnet-152-0000.params', 'full-')\n",
    "download(path+'synset.txt', 'full-')\n",
    "\n",
    "with open('full-synset.txt', 'r') as f:\n",
    "    synsets = [l.rstrip() for l in f]\n",
    "\n",
    "sym, arg_params, aux_params = mx.model.load_checkpoint('full-resnet-152', 0)"
   ]
  },
  {
   "cell_type": "markdown",
   "metadata": {},
   "source": [
    "# Choose Hardware \n",
    "CPU or GPU"
   ]
  },
  {
   "cell_type": "code",
   "execution_count": null,
   "metadata": {},
   "outputs": [],
   "source": [
    "context = mx.cpu(0)\n",
    "#context = mx.gpu(0)"
   ]
  },
  {
   "cell_type": "code",
   "execution_count": null,
   "metadata": {
    "collapsed": false
   },
   "outputs": [],
   "source": [
    "mod = mx.mod.Module(symbol=sym, context=context)\n",
    "mod.bind(for_training=False, data_shapes=[('data', (1,3,224,224))])\n",
    "mod.set_params(arg_params, aux_params)"
   ]
  },
  {
   "cell_type": "markdown",
   "metadata": {},
   "source": [
    "Next we define the function to obtain an image by a given URL and the function for predicting."
   ]
  },
  {
   "cell_type": "code",
   "execution_count": null,
   "metadata": {
    "collapsed": false
   },
   "outputs": [],
   "source": [
    "%matplotlib inline\n",
    "import skimage\n",
    "import scipy\n",
    "import matplotlib\n",
    "matplotlib.rc(\"savefig\", dpi=100)\n",
    "import matplotlib.pyplot as plt\n",
    "import numpy as np\n",
    "from collections import namedtuple\n",
    "Batch = namedtuple('Batch', ['data'])\n",
    "\n",
    "class color:\n",
    "   BLUE = '\\033[94m'\n",
    "   END = '\\033[0m'\n",
    "\n",
    "\n",
    "def get_image(url, show=True):\n",
    "    filename = url.split(\"/\")[-1]\n",
    "    wget.download(url,filename)\n",
    "    img = skimage.io.imread(filename)\n",
    "    if img is None:\n",
    "        print('failed to download ' + url)\n",
    "    if show:\n",
    "        plt.imshow(img)\n",
    "        plt.axis('off')\n",
    "    return filename\n",
    "\n",
    "def predict(filename, mod, synsets):\n",
    "    img = skimage.io.imread(filename)\n",
    "    if img is None:\n",
    "        return None\n",
    "    img = scipy.misc.imresize(img,(224,224))\n",
    "    img = np.swapaxes(img, 0, 2)\n",
    "    img = np.swapaxes(img, 1, 2) \n",
    "    img = img[np.newaxis, :] \n",
    "    \n",
    "    mod.forward(Batch([mx.nd.array(img)]))\n",
    "    prob = mod.get_outputs()[0].asnumpy()\n",
    "    prob = np.squeeze(prob)\n",
    "\n",
    "    a = np.argsort(prob)[::-1]    \n",
    "    for pred_idx in a[0:5]:\n",
    "        if pred_idx == a[0]:\n",
    "            prefix = color.BLUE  \n",
    "            suffix = color.END\n",
    "        else:\n",
    "            prefix = suffix = \"\"\n",
    "        print(prefix + 'probability={0:.2}, class={1}'.format(prob[pred_idx],synsets[pred_idx]) + suffix)\n",
    "    "
   ]
  },
  {
   "cell_type": "markdown",
   "metadata": {},
   "source": [
    "We are able to classify an image and output the top predicted classes. "
   ]
  },
  {
   "cell_type": "code",
   "execution_count": null,
   "metadata": {
    "collapsed": false
   },
   "outputs": [],
   "source": [
    "url = 'http://writm.com/wp-content/uploads/2016/08/Cat-hd-wallpapers.jpg'\n",
    "predict(get_image(url), mod, synsets)"
   ]
  },
  {
   "cell_type": "code",
   "execution_count": null,
   "metadata": {
    "collapsed": false
   },
   "outputs": [],
   "source": [
    "url = 'https://images-na.ssl-images-amazon.com/images/G/01/img15/pet-products/small-tiles/23695_pets_vertical_store_dogs_small_tile_8._CB312176604_.jpg'\n",
    "predict(get_image(url), mod, synsets)"
   ]
  }
 ],
 "metadata": {
  "kernelspec": {
   "display_name": "Python [default]",
   "language": "python",
   "name": "python3"
  },
  "language_info": {
   "codemirror_mode": {
    "name": "ipython",
    "version": 3
   },
   "file_extension": ".py",
   "mimetype": "text/x-python",
   "name": "python",
   "nbconvert_exporter": "python",
   "pygments_lexer": "ipython3",
   "version": "3.5.2"
  }
 },
 "nbformat": 4,
 "nbformat_minor": 1
}
