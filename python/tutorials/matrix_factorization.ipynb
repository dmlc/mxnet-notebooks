{
 "cells": [
  {
   "cell_type": "markdown",
   "metadata": {},
   "source": [
    "# Matrix Factorization\n",
    "\n",
    "In a recommendation system, there is a group of users and a set of items. Given that each users have rated some items in the system, we would like to predict how the users would rate the items that they have not yet rated, such that we can make recommendations to the users.\n",
    "\n",
    "Matrix factorization is one of the mainly used algorithm in recommendation systems. It can be used to discover latent features underlying the interactions between two different kinds of entities.\n",
    "\n",
    "Assume we assign a k-dimensional vector to each user and a k-dimensional vector to each item such that the dot product of these two vectors gives the user's rating of that item. We can learn the user and item vectors directly, which is essentially performing SVD on the user-item matrix. We can also try to learn the latent features using multi-layer neural networks. \n",
    "\n",
    "In this tutorial, we will work though the steps to implement these ideas in MXNet."
   ]
  },
  {
   "cell_type": "markdown",
   "metadata": {},
   "source": [
    "## Prepare Data\n",
    "\n",
    "We use the [MovieLens](http://grouplens.org/datasets/movielens/) data here, but it can apply to other datasets as well. Each row of this dataset contains a tuple of user id, movie id, rating, and time stamp, we will only use the first three items. We first define the a batch which contains n tuples. It also provides name and shape information to MXNet about the data and label. "
   ]
  },
  {
   "cell_type": "code",
   "execution_count": 1,
   "metadata": {
    "collapsed": true
   },
   "outputs": [],
   "source": [
    "class Batch(object):\n",
    "    def __init__(self, data_names, data, label_names, label):\n",
    "        self.data = data\n",
    "        self.label = label\n",
    "        self.data_names = data_names\n",
    "        self.label_names = label_names\n",
    "        \n",
    "    @property\n",
    "    def provide_data(self):\n",
    "        return [(n, x.shape) for n, x in zip(self.data_names, self.data)]\n",
    "    \n",
    "    @property\n",
    "    def provide_label(self):\n",
    "        return [(n, x.shape) for n, x in zip(self.label_names, self.label)]"
   ]
  },
  {
   "cell_type": "markdown",
   "metadata": {},
   "source": [
    "Then we define a data iterator, which returns a batch of tuples each time. "
   ]
  },
  {
   "cell_type": "code",
   "execution_count": 2,
   "metadata": {
    "collapsed": true
   },
   "outputs": [
    {
     "name": "stderr",
     "output_type": "stream",
     "text": [
      "/usr/local/Cellar/python/2.7.13/Frameworks/Python.framework/Versions/2.7/lib/python2.7/json/encoder.py:207: DeprecationWarning: Interpreting naive datetime as local 2017-02-27 16:55:42.877110. Please add timezone info to timestamps.\n",
      "  chunks = self.iterencode(o, _one_shot=True)\n"
     ]
    }
   ],
   "source": [
    "import mxnet as mx\n",
    "import random\n",
    "\n",
    "class Batch(object):\n",
    "    def __init__(self, data_names, data, label_names, label):\n",
    "        self.data = data\n",
    "        self.label = label\n",
    "        self.data_names = data_names\n",
    "        self.label_names = label_names\n",
    "\n",
    "    @property\n",
    "    def provide_data(self):\n",
    "        return [(n, x.shape) for n, x in zip(self.data_names, self.data)]\n",
    "\n",
    "    @property\n",
    "    def provide_label(self):\n",
    "        return [(n, x.shape) for n, x in zip(self.label_names, self.label)]\n",
    "\n",
    "class DataIter(mx.io.DataIter):\n",
    "    def __init__(self, fname, batch_size):\n",
    "        super(DataIter, self).__init__()\n",
    "        self.batch_size = batch_size\n",
    "        self.data = []\n",
    "        for line in file(fname):\n",
    "            tks = line.strip().split('\\t')\n",
    "            if len(tks) != 4:\n",
    "                continue\n",
    "            self.data.append((int(tks[0]), int(tks[1]), float(tks[2])))\n",
    "        self.provide_data = [('user', (batch_size, )), ('item', (batch_size, ))]\n",
    "        self.provide_label = [('score', (self.batch_size, ))]\n",
    "\n",
    "    def __iter__(self):\n",
    "        for k in range(len(self.data) / self.batch_size):\n",
    "            users = []\n",
    "            items = []\n",
    "            scores = []\n",
    "            for i in range(self.batch_size):\n",
    "                j = k * self.batch_size + i\n",
    "                user, item, score = self.data[j]\n",
    "                users.append(user)\n",
    "                items.append(item)\n",
    "                scores.append(score)\n",
    "\n",
    "            data_all = [mx.nd.array(users), mx.nd.array(items)]\n",
    "            label_all = [mx.nd.array(scores)]\n",
    "            data_names = ['user', 'item']\n",
    "            label_names = ['score']\n",
    "\n",
    "            data_batch = Batch(data_names, data_all, label_names, label_all)\n",
    "            yield data_batch\n",
    "\n",
    "    def reset(self):\n",
    "        random.shuffle(self.data)"
   ]
  },
  {
   "cell_type": "markdown",
   "metadata": {},
   "source": [
    "Now we download the data and provide a function to obtain the data iterator:"
   ]
  },
  {
   "cell_type": "code",
   "execution_count": 3,
   "metadata": {
    "collapsed": false
   },
   "outputs": [
    {
     "name": "stderr",
     "output_type": "stream",
     "text": [
      "/usr/local/Cellar/python/2.7.13/Frameworks/Python.framework/Versions/2.7/lib/python2.7/json/encoder.py:207: DeprecationWarning: Interpreting naive datetime as local 2017-02-27 16:55:45.806916. Please add timezone info to timestamps.\n",
      "  chunks = self.iterencode(o, _one_shot=True)\n"
     ]
    }
   ],
   "source": [
    "import os\n",
    "import urllib\n",
    "import zipfile\n",
    "if not os.path.exists('ml-100k.zip'):\n",
    "    urllib.urlretrieve('http://files.grouplens.org/datasets/movielens/ml-100k.zip', 'ml-100k.zip')\n",
    "with zipfile.ZipFile(\"ml-100k.zip\",\"r\") as f:\n",
    "    f.extractall(\"./\")\n",
    "def get_data(batch_size):\n",
    "    return (DataIter('./ml-100k/u1.base', batch_size), DataIter('./ml-100k/u1.test', batch_size))"
   ]
  },
  {
   "cell_type": "markdown",
   "metadata": {},
   "source": [
    "Finally we calculate the numbers of users and items for later use."
   ]
  },
  {
   "cell_type": "code",
   "execution_count": 4,
   "metadata": {
    "collapsed": false
   },
   "outputs": [
    {
     "data": {
      "text/plain": [
       "(944, 1683)"
      ]
     },
     "execution_count": 4,
     "metadata": {},
     "output_type": "execute_result"
    },
    {
     "name": "stderr",
     "output_type": "stream",
     "text": [
      "/usr/local/Cellar/python/2.7.13/Frameworks/Python.framework/Versions/2.7/lib/python2.7/json/encoder.py:207: DeprecationWarning: Interpreting naive datetime as local 2017-02-27 16:55:51.407369. Please add timezone info to timestamps.\n",
      "  chunks = self.iterencode(o, _one_shot=True)\n"
     ]
    }
   ],
   "source": [
    "def max_id(fname):\n",
    "    mu = 0\n",
    "    mi = 0\n",
    "    for line in file(fname):\n",
    "        tks = line.strip().split('\\t')\n",
    "        if len(tks) != 4:\n",
    "            continue\n",
    "        mu = max(mu, int(tks[0]))\n",
    "        mi = max(mi, int(tks[1]))\n",
    "    return mu + 1, mi + 1\n",
    "max_user, max_item = max_id('./ml-100k/u.data')\n",
    "(max_user, max_item)"
   ]
  },
  {
   "cell_type": "markdown",
   "metadata": {},
   "source": [
    "## Optimization\n",
    "\n",
    "We first implement the RMSE (root-mean-square error) measurement, which is commonly used by matrix factorization. "
   ]
  },
  {
   "cell_type": "code",
   "execution_count": 5,
   "metadata": {
    "collapsed": true
   },
   "outputs": [
    {
     "name": "stderr",
     "output_type": "stream",
     "text": [
      "/usr/local/Cellar/python/2.7.13/Frameworks/Python.framework/Versions/2.7/lib/python2.7/json/encoder.py:207: DeprecationWarning: Interpreting naive datetime as local 2017-02-27 16:55:53.974315. Please add timezone info to timestamps.\n",
      "  chunks = self.iterencode(o, _one_shot=True)\n"
     ]
    }
   ],
   "source": [
    "import math\n",
    "def RMSE(label, pred):\n",
    "    ret = 0.0\n",
    "    n = 0.0\n",
    "    pred = pred.flatten()\n",
    "    for i in range(len(label)):\n",
    "        ret += (label[i] - pred[i]) * (label[i] - pred[i])\n",
    "        n += 1.0\n",
    "    return math.sqrt(ret / n)"
   ]
  },
  {
   "cell_type": "markdown",
   "metadata": {},
   "source": [
    "Then we define a general training module, which is borrowed from the image classification application. "
   ]
  },
  {
   "cell_type": "code",
   "execution_count": 6,
   "metadata": {
    "collapsed": true
   },
   "outputs": [
    {
     "name": "stderr",
     "output_type": "stream",
     "text": [
      "/usr/local/Cellar/python/2.7.13/Frameworks/Python.framework/Versions/2.7/lib/python2.7/json/encoder.py:207: DeprecationWarning: Interpreting naive datetime as local 2017-02-27 16:55:55.950387. Please add timezone info to timestamps.\n",
      "  chunks = self.iterencode(o, _one_shot=True)\n"
     ]
    }
   ],
   "source": [
    "def train(network, batch_size, num_epoch, learning_rate):\n",
    "    model = mx.model.FeedForward(\n",
    "        ctx = mx.gpu(0),  \n",
    "        symbol = network,\n",
    "        num_epoch = num_epoch,\n",
    "        learning_rate = learning_rate,\n",
    "        wd = 0.0001,\n",
    "        momentum = 0.9)\n",
    "\n",
    "    batch_size = 64\n",
    "    train, test = get_data(batch_size)\n",
    "\n",
    "    import logging\n",
    "    head = '%(asctime)-15s %(message)s'\n",
    "    logging.basicConfig(level=logging.DEBUG)\n",
    "\n",
    "    model.fit(X = train, \n",
    "              eval_data = test,\n",
    "              eval_metric = RMSE,\n",
    "              batch_end_callback=mx.callback.Speedometer(batch_size, 20000/batch_size),)"
   ]
  },
  {
   "cell_type": "markdown",
   "metadata": {},
   "source": [
    "## Networks\n",
    "\n",
    "Now we try various networks. We first learn the latent vectors directly."
   ]
  },
  {
   "cell_type": "code",
   "execution_count": 7,
   "metadata": {
    "collapsed": false
   },
   "outputs": [
    {
     "name": "stderr",
     "output_type": "stream",
     "text": [
      "/usr/local/lib/python2.7/site-packages/ipykernel/__main__.py:8: DeprecationWarning: \u001b[91mmxnet.model.FeedForward has been deprecated. Please use mxnet.mod.Module instead.\u001b[0m\n",
      "/usr/local/lib/python2.7/site-packages/mxnet-0.9.4-py2.7-macosx-10.11-x86_64.egg/mxnet/model.py:516: DeprecationWarning: \u001b[91mCalling initializer with init(str, NDArray) has been deprecated.please use init(mx.init.InitDesc(...), NDArray) instead.\u001b[0m\n",
      "  self.initializer(k, v)\n",
      "INFO:root:Start training with [gpu(0)]\n"
     ]
    },
    {
     "ename": "MXNetError",
     "evalue": "[16:56:03] src/c_api/c_api_ndarray.cc:274: Operator _zeros cannot be run; requires at least one of FCompute<xpu>, NDArrayFunction, FCreateOperator be registered\n\nStack trace returned 10 entries:\n[bt] (0) 0   libmxnet.so                         0x00000001118e84d5 _ZN4dmlc15LogMessageFatalD2Ev + 37\n[bt] (1) 1   libmxnet.so                         0x0000000111e9961b MXImperativeInvoke + 13723\n[bt] (2) 2   ndarray.so                          0x0000000119c95007 _ZL67__pyx_pf_7ndarray_22_make_ndarray_function_generic_ndarray_functionP7_objectS0_S0_ + 6519\n[bt] (3) 3   ndarray.so                          0x0000000119c935b0 _ZL68__pyx_pw_7ndarray_22_make_ndarray_function_1generic_ndarray_functionP7_objectS0_S0_ + 64\n[bt] (4) 4   Python                              0x000000010f3b06e1 PyObject_Call + 99\n[bt] (5) 5   Python                              0x000000010f43047c PyEval_EvalFrameEx + 26504\n[bt] (6) 6   Python                              0x000000010f429afe PyEval_EvalCodeEx + 1617\n[bt] (7) 7   Python                              0x000000010f43421e fast_function + 117\n[bt] (8) 8   Python                              0x000000010f43054f PyEval_EvalFrameEx + 26715\n[bt] (9) 9   Python                              0x000000010f429afe PyEval_EvalCodeEx + 1617\n",
     "output_type": "error",
     "traceback": [
      "\u001b[0;31m-------------------------------------------------\u001b[0m",
      "\u001b[0;31mMXNetError\u001b[0m      Traceback (most recent call last)",
      "\u001b[0;32m<ipython-input-7-38920d5b7300>\u001b[0m in \u001b[0;36m<module>\u001b[0;34m()\u001b[0m\n\u001b[1;32m     17\u001b[0m     \u001b[0;32mreturn\u001b[0m \u001b[0mpred\u001b[0m\u001b[0;34m\u001b[0m\u001b[0m\n\u001b[1;32m     18\u001b[0m \u001b[0;34m\u001b[0m\u001b[0m\n\u001b[0;32m---> 19\u001b[0;31m \u001b[0mtrain\u001b[0m\u001b[0;34m(\u001b[0m\u001b[0mplain_net\u001b[0m\u001b[0;34m(\u001b[0m\u001b[0;36m64\u001b[0m\u001b[0;34m)\u001b[0m\u001b[0;34m,\u001b[0m \u001b[0mbatch_size\u001b[0m\u001b[0;34m=\u001b[0m\u001b[0;36m64\u001b[0m\u001b[0;34m,\u001b[0m \u001b[0mnum_epoch\u001b[0m\u001b[0;34m=\u001b[0m\u001b[0;36m10\u001b[0m\u001b[0;34m,\u001b[0m \u001b[0mlearning_rate\u001b[0m\u001b[0;34m=\u001b[0m\u001b[0;36m.05\u001b[0m\u001b[0;34m)\u001b[0m\u001b[0;34m\u001b[0m\u001b[0m\n\u001b[0m",
      "\u001b[0;32m<ipython-input-6-640ad212439c>\u001b[0m in \u001b[0;36mtrain\u001b[0;34m(network, batch_size, num_epoch, learning_rate)\u001b[0m\n\u001b[1;32m     18\u001b[0m               \u001b[0meval_data\u001b[0m \u001b[0;34m=\u001b[0m \u001b[0mtest\u001b[0m\u001b[0;34m,\u001b[0m\u001b[0;34m\u001b[0m\u001b[0m\n\u001b[1;32m     19\u001b[0m               \u001b[0meval_metric\u001b[0m \u001b[0;34m=\u001b[0m \u001b[0mRMSE\u001b[0m\u001b[0;34m,\u001b[0m\u001b[0;34m\u001b[0m\u001b[0m\n\u001b[0;32m---> 20\u001b[0;31m               batch_end_callback=mx.callback.Speedometer(batch_size, 20000/batch_size),)\n\u001b[0m",
      "\u001b[0;32m/usr/local/lib/python2.7/site-packages/mxnet-0.9.4-py2.7-macosx-10.11-x86_64.egg/mxnet/model.pyc\u001b[0m in \u001b[0;36mfit\u001b[0;34m(self, X, y, eval_data, eval_metric, epoch_end_callback, batch_end_callback, kvstore, logger, work_load_list, monitor, eval_end_callback, eval_batch_end_callback)\u001b[0m\n\u001b[1;32m    814\u001b[0m                             \u001b[0meval_end_callback\u001b[0m\u001b[0;34m=\u001b[0m\u001b[0meval_end_callback\u001b[0m\u001b[0;34m,\u001b[0m\u001b[0;34m\u001b[0m\u001b[0m\n\u001b[1;32m    815\u001b[0m                             \u001b[0meval_batch_end_callback\u001b[0m\u001b[0;34m=\u001b[0m\u001b[0meval_batch_end_callback\u001b[0m\u001b[0;34m,\u001b[0m\u001b[0;34m\u001b[0m\u001b[0m\n\u001b[0;32m--> 816\u001b[0;31m                             sym_gen=self.sym_gen)\n\u001b[0m\u001b[1;32m    817\u001b[0m \u001b[0;34m\u001b[0m\u001b[0m\n\u001b[1;32m    818\u001b[0m \u001b[0;34m\u001b[0m\u001b[0m\n",
      "\u001b[0;32m/usr/local/lib/python2.7/site-packages/mxnet-0.9.4-py2.7-macosx-10.11-x86_64.egg/mxnet/model.pyc\u001b[0m in \u001b[0;36m_train_multi_device\u001b[0;34m(symbol, ctx, arg_names, param_names, aux_names, arg_params, aux_params, begin_epoch, end_epoch, epoch_size, optimizer, kvstore, update_on_kvstore, train_data, eval_data, eval_metric, epoch_end_callback, batch_end_callback, logger, work_load_list, monitor, eval_end_callback, eval_batch_end_callback, sym_gen)\u001b[0m\n\u001b[1;32m    205\u001b[0m                                                    \u001b[0maux_names\u001b[0m\u001b[0;34m=\u001b[0m\u001b[0maux_names\u001b[0m\u001b[0;34m,\u001b[0m\u001b[0;34m\u001b[0m\u001b[0m\n\u001b[1;32m    206\u001b[0m                                                    \u001b[0mwork_load_list\u001b[0m\u001b[0;34m=\u001b[0m\u001b[0mwork_load_list\u001b[0m\u001b[0;34m,\u001b[0m\u001b[0;34m\u001b[0m\u001b[0m\n\u001b[0;32m--> 207\u001b[0;31m                                                    logger=logger)\n\u001b[0m\u001b[1;32m    208\u001b[0m     \u001b[0;32mif\u001b[0m \u001b[0mmonitor\u001b[0m\u001b[0;34m:\u001b[0m\u001b[0;34m\u001b[0m\u001b[0m\n\u001b[1;32m    209\u001b[0m         \u001b[0mexecutor_manager\u001b[0m\u001b[0;34m.\u001b[0m\u001b[0minstall_monitor\u001b[0m\u001b[0;34m(\u001b[0m\u001b[0mmonitor\u001b[0m\u001b[0;34m)\u001b[0m\u001b[0;34m\u001b[0m\u001b[0m\n",
      "\u001b[0;32m/usr/local/lib/python2.7/site-packages/mxnet-0.9.4-py2.7-macosx-10.11-x86_64.egg/mxnet/executor_manager.pyc\u001b[0m in \u001b[0;36m__init__\u001b[0;34m(self, symbol, ctx, train_data, arg_names, param_names, aux_names, work_load_list, logger, sym_gen)\u001b[0m\n\u001b[1;32m    325\u001b[0m \u001b[0;34m\u001b[0m\u001b[0m\n\u001b[1;32m    326\u001b[0m         self.execgrp = DataParallelExecutorGroup(symbol, self.arg_names, self.param_names, self.ctx,\n\u001b[0;32m--> 327\u001b[0;31m                                                  self.slices, train_data)\n\u001b[0m\u001b[1;32m    328\u001b[0m         \u001b[0mself\u001b[0m\u001b[0;34m.\u001b[0m\u001b[0msymbol\u001b[0m \u001b[0;34m=\u001b[0m \u001b[0msymbol\u001b[0m\u001b[0;34m\u001b[0m\u001b[0m\n\u001b[1;32m    329\u001b[0m \u001b[0;34m\u001b[0m\u001b[0m\n",
      "\u001b[0;32m/usr/local/lib/python2.7/site-packages/mxnet-0.9.4-py2.7-macosx-10.11-x86_64.egg/mxnet/executor_manager.pyc\u001b[0m in \u001b[0;36m__init__\u001b[0;34m(self, sym, arg_names, param_names, ctx, slices, train_data, shared_group)\u001b[0m\n\u001b[1;32m    237\u001b[0m                                     \u001b[0mneed_grad\u001b[0m\u001b[0;34m=\u001b[0m\u001b[0mTrue\u001b[0m\u001b[0;34m,\u001b[0m \u001b[0mbase_exec\u001b[0m\u001b[0;34m=\u001b[0m\u001b[0mshared_exec\u001b[0m\u001b[0;34m,\u001b[0m\u001b[0;34m\u001b[0m\u001b[0m\n\u001b[1;32m    238\u001b[0m                                     \u001b[0mshared_data_arrays\u001b[0m\u001b[0;34m=\u001b[0m\u001b[0mself\u001b[0m\u001b[0;34m.\u001b[0m\u001b[0mshared_data_arrays\u001b[0m\u001b[0;34m[\u001b[0m\u001b[0mi\u001b[0m\u001b[0;34m]\u001b[0m\u001b[0;34m,\u001b[0m\u001b[0;34m\u001b[0m\u001b[0m\n\u001b[0;32m--> 239\u001b[0;31m                                     input_types=data_types)\n\u001b[0m\u001b[1;32m    240\u001b[0m             \u001b[0mself\u001b[0m\u001b[0;34m.\u001b[0m\u001b[0mtrain_execs\u001b[0m\u001b[0;34m.\u001b[0m\u001b[0mappend\u001b[0m\u001b[0;34m(\u001b[0m\u001b[0mtrain_exec\u001b[0m\u001b[0;34m)\u001b[0m\u001b[0;34m\u001b[0m\u001b[0m\n\u001b[1;32m    241\u001b[0m \u001b[0;34m\u001b[0m\u001b[0m\n",
      "\u001b[0;32m/usr/local/lib/python2.7/site-packages/mxnet-0.9.4-py2.7-macosx-10.11-x86_64.egg/mxnet/executor_manager.pyc\u001b[0m in \u001b[0;36m_bind_exec\u001b[0;34m(sym, ctx, input_shapes, param_names, need_grad, base_exec, shared_data_arrays, input_types, logger)\u001b[0m\n\u001b[1;32m    151\u001b[0m                     \u001b[0mshared_data_arrays\u001b[0m\u001b[0;34m[\u001b[0m\u001b[0mname\u001b[0m\u001b[0;34m]\u001b[0m \u001b[0;34m=\u001b[0m \u001b[0marg_arr\u001b[0m\u001b[0;34m\u001b[0m\u001b[0m\n\u001b[1;32m    152\u001b[0m             \u001b[0;32melse\u001b[0m\u001b[0;34m:\u001b[0m\u001b[0;34m\u001b[0m\u001b[0m\n\u001b[0;32m--> 153\u001b[0;31m                 \u001b[0marg_arr\u001b[0m \u001b[0;34m=\u001b[0m \u001b[0mnd\u001b[0m\u001b[0;34m.\u001b[0m\u001b[0mzeros\u001b[0m\u001b[0;34m(\u001b[0m\u001b[0marg_shape\u001b[0m\u001b[0;34m[\u001b[0m\u001b[0mi\u001b[0m\u001b[0;34m]\u001b[0m\u001b[0;34m,\u001b[0m \u001b[0mctx\u001b[0m\u001b[0;34m,\u001b[0m \u001b[0mdtype\u001b[0m\u001b[0;34m=\u001b[0m\u001b[0marg_types\u001b[0m\u001b[0;34m[\u001b[0m\u001b[0mi\u001b[0m\u001b[0;34m]\u001b[0m\u001b[0;34m)\u001b[0m\u001b[0;34m\u001b[0m\u001b[0m\n\u001b[0m\u001b[1;32m    154\u001b[0m                 \u001b[0;32mif\u001b[0m \u001b[0mshared_data_arrays\u001b[0m \u001b[0;32mis\u001b[0m \u001b[0;32mnot\u001b[0m \u001b[0mNone\u001b[0m\u001b[0;34m:\u001b[0m\u001b[0;34m\u001b[0m\u001b[0m\n\u001b[1;32m    155\u001b[0m                     \u001b[0mshared_data_arrays\u001b[0m\u001b[0;34m[\u001b[0m\u001b[0mname\u001b[0m\u001b[0;34m]\u001b[0m \u001b[0;34m=\u001b[0m \u001b[0marg_arr\u001b[0m\u001b[0;34m\u001b[0m\u001b[0m\n",
      "\u001b[0;32m/usr/local/lib/python2.7/site-packages/mxnet-0.9.4-py2.7-macosx-10.11-x86_64.egg/mxnet/ndarray.pyc\u001b[0m in \u001b[0;36mzeros\u001b[0;34m(shape, ctx, dtype)\u001b[0m\n\u001b[1;32m   1066\u001b[0m         \u001b[0mdtype\u001b[0m \u001b[0;34m=\u001b[0m \u001b[0mmx_real_t\u001b[0m\u001b[0;34m\u001b[0m\u001b[0m\n\u001b[1;32m   1067\u001b[0m     \u001b[0;31m# pylint: disable= no-member, protected-access\u001b[0m\u001b[0;34m\u001b[0m\u001b[0;34m\u001b[0m\u001b[0m\n\u001b[0;32m-> 1068\u001b[0;31m     \u001b[0;32mreturn\u001b[0m \u001b[0m_internal\u001b[0m\u001b[0;34m.\u001b[0m\u001b[0m_zeros\u001b[0m\u001b[0;34m(\u001b[0m\u001b[0mshape\u001b[0m\u001b[0;34m=\u001b[0m\u001b[0mshape\u001b[0m\u001b[0;34m,\u001b[0m \u001b[0mctx\u001b[0m\u001b[0;34m=\u001b[0m\u001b[0mctx\u001b[0m\u001b[0;34m,\u001b[0m \u001b[0mdtype\u001b[0m\u001b[0;34m=\u001b[0m\u001b[0mdtype\u001b[0m\u001b[0;34m)\u001b[0m\u001b[0;34m\u001b[0m\u001b[0m\n\u001b[0m\u001b[1;32m   1069\u001b[0m     \u001b[0;31m# pylint: enable= no-member, protected-access\u001b[0m\u001b[0;34m\u001b[0m\u001b[0;34m\u001b[0m\u001b[0m\n\u001b[1;32m   1070\u001b[0m \u001b[0;34m\u001b[0m\u001b[0m\n",
      "\u001b[0;32mmxnet/cython/ndarray.pyx\u001b[0m in \u001b[0;36mndarray._make_ndarray_function.generic_ndarray_function (mxnet/cython/ndarray.cpp:3614)\u001b[0;34m()\u001b[0m\n",
      "\u001b[0;32m/usr/local/lib/python2.7/site-packages/mxnet-0.9.4-py2.7-macosx-10.11-x86_64.egg/mxnet/_cy2/ndarray.so\u001b[0m in \u001b[0;36mndarray.CALL (mxnet/cython/ndarray.cpp:1743)\u001b[0;34m()\u001b[0m\n",
      "\u001b[0;31mMXNetError\u001b[0m: [16:56:03] src/c_api/c_api_ndarray.cc:274: Operator _zeros cannot be run; requires at least one of FCompute<xpu>, NDArrayFunction, FCreateOperator be registered\n\nStack trace returned 10 entries:\n[bt] (0) 0   libmxnet.so                         0x00000001118e84d5 _ZN4dmlc15LogMessageFatalD2Ev + 37\n[bt] (1) 1   libmxnet.so                         0x0000000111e9961b MXImperativeInvoke + 13723\n[bt] (2) 2   ndarray.so                          0x0000000119c95007 _ZL67__pyx_pf_7ndarray_22_make_ndarray_function_generic_ndarray_functionP7_objectS0_S0_ + 6519\n[bt] (3) 3   ndarray.so                          0x0000000119c935b0 _ZL68__pyx_pw_7ndarray_22_make_ndarray_function_1generic_ndarray_functionP7_objectS0_S0_ + 64\n[bt] (4) 4   Python                              0x000000010f3b06e1 PyObject_Call + 99\n[bt] (5) 5   Python                              0x000000010f43047c PyEval_EvalFrameEx + 26504\n[bt] (6) 6   Python                              0x000000010f429afe PyEval_EvalCodeEx + 1617\n[bt] (7) 7   Python                              0x000000010f43421e fast_function + 117\n[bt] (8) 8   Python                              0x000000010f43054f PyEval_EvalFrameEx + 26715\n[bt] (9) 9   Python                              0x000000010f429afe PyEval_EvalCodeEx + 1617\n"
     ]
    },
    {
     "name": "stderr",
     "output_type": "stream",
     "text": [
      "/usr/local/Cellar/python/2.7.13/Frameworks/Python.framework/Versions/2.7/lib/python2.7/json/encoder.py:207: DeprecationWarning: Interpreting naive datetime as local 2017-02-27 16:56:02.832833. Please add timezone info to timestamps.\n",
      "  chunks = self.iterencode(o, _one_shot=True)\n"
     ]
    }
   ],
   "source": [
    "# @@@ AUTOTEST_OUTPUT_IGNORED_CELL\n",
    "def plain_net(k):\n",
    "    # input\n",
    "    user = mx.symbol.Variable('user')\n",
    "    item = mx.symbol.Variable('item')\n",
    "    score = mx.symbol.Variable('score')\n",
    "    # user feature lookup\n",
    "    user = mx.symbol.Embedding(data = user, input_dim = max_user, output_dim = k) \n",
    "    # item feature lookup\n",
    "    item = mx.symbol.Embedding(data = item, input_dim = max_item, output_dim = k)\n",
    "    # predict by the inner product, which is elementwise product and then sum\n",
    "    pred = user * item\n",
    "    pred = mx.symbol.sum_axis(data = pred, axis = 1)\n",
    "    pred = mx.symbol.Flatten(data = pred)\n",
    "    # loss layer\n",
    "    pred = mx.symbol.LinearRegressionOutput(data = pred, label = score)\n",
    "    return pred\n",
    "\n",
    "train(plain_net(64), batch_size=64, num_epoch=10, learning_rate=.05)"
   ]
  },
  {
   "cell_type": "markdown",
   "metadata": {},
   "source": [
    "Next we try to use 2 layers neural network to learn the latent variables, which stack a fully connected layer above the embedding layers: "
   ]
  },
  {
   "cell_type": "code",
   "execution_count": 8,
   "metadata": {
    "collapsed": false,
    "scrolled": true
   },
   "outputs": [
    {
     "name": "stderr",
     "output_type": "stream",
     "text": [
      "/usr/local/lib/python2.7/site-packages/ipykernel/__main__.py:8: DeprecationWarning: \u001b[91mmxnet.model.FeedForward has been deprecated. Please use mxnet.mod.Module instead.\u001b[0m\n",
      "INFO:root:Start training with [gpu(0)]\n"
     ]
    },
    {
     "ename": "MXNetError",
     "evalue": "[16:56:12] src/c_api/c_api_ndarray.cc:274: Operator _zeros cannot be run; requires at least one of FCompute<xpu>, NDArrayFunction, FCreateOperator be registered\n\nStack trace returned 10 entries:\n[bt] (0) 0   libmxnet.so                         0x00000001118e84d5 _ZN4dmlc15LogMessageFatalD2Ev + 37\n[bt] (1) 1   libmxnet.so                         0x0000000111e9961b MXImperativeInvoke + 13723\n[bt] (2) 2   ndarray.so                          0x0000000119c95007 _ZL67__pyx_pf_7ndarray_22_make_ndarray_function_generic_ndarray_functionP7_objectS0_S0_ + 6519\n[bt] (3) 3   ndarray.so                          0x0000000119c935b0 _ZL68__pyx_pw_7ndarray_22_make_ndarray_function_1generic_ndarray_functionP7_objectS0_S0_ + 64\n[bt] (4) 4   Python                              0x000000010f3b06e1 PyObject_Call + 99\n[bt] (5) 5   Python                              0x000000010f43047c PyEval_EvalFrameEx + 26504\n[bt] (6) 6   Python                              0x000000010f429afe PyEval_EvalCodeEx + 1617\n[bt] (7) 7   Python                              0x000000010f43421e fast_function + 117\n[bt] (8) 8   Python                              0x000000010f43054f PyEval_EvalFrameEx + 26715\n[bt] (9) 9   Python                              0x000000010f429afe PyEval_EvalCodeEx + 1617\n",
     "output_type": "error",
     "traceback": [
      "\u001b[0;31m-------------------------------------------------\u001b[0m",
      "\u001b[0;31mMXNetError\u001b[0m      Traceback (most recent call last)",
      "\u001b[0;32m<ipython-input-8-a91460003a96>\u001b[0m in \u001b[0;36m<module>\u001b[0;34m()\u001b[0m\n\u001b[1;32m     21\u001b[0m     \u001b[0;32mreturn\u001b[0m \u001b[0mpred\u001b[0m\u001b[0;34m\u001b[0m\u001b[0m\n\u001b[1;32m     22\u001b[0m \u001b[0;34m\u001b[0m\u001b[0m\n\u001b[0;32m---> 23\u001b[0;31m \u001b[0mtrain\u001b[0m\u001b[0;34m(\u001b[0m\u001b[0mget_one_layer_mlp\u001b[0m\u001b[0;34m(\u001b[0m\u001b[0;36m64\u001b[0m\u001b[0;34m,\u001b[0m \u001b[0;36m64\u001b[0m\u001b[0;34m)\u001b[0m\u001b[0;34m,\u001b[0m \u001b[0mbatch_size\u001b[0m\u001b[0;34m=\u001b[0m\u001b[0;36m64\u001b[0m\u001b[0;34m,\u001b[0m \u001b[0mnum_epoch\u001b[0m\u001b[0;34m=\u001b[0m\u001b[0;36m10\u001b[0m\u001b[0;34m,\u001b[0m \u001b[0mlearning_rate\u001b[0m\u001b[0;34m=\u001b[0m\u001b[0;36m.05\u001b[0m\u001b[0;34m)\u001b[0m\u001b[0;34m\u001b[0m\u001b[0m\n\u001b[0m",
      "\u001b[0;32m<ipython-input-6-640ad212439c>\u001b[0m in \u001b[0;36mtrain\u001b[0;34m(network, batch_size, num_epoch, learning_rate)\u001b[0m\n\u001b[1;32m     18\u001b[0m               \u001b[0meval_data\u001b[0m \u001b[0;34m=\u001b[0m \u001b[0mtest\u001b[0m\u001b[0;34m,\u001b[0m\u001b[0;34m\u001b[0m\u001b[0m\n\u001b[1;32m     19\u001b[0m               \u001b[0meval_metric\u001b[0m \u001b[0;34m=\u001b[0m \u001b[0mRMSE\u001b[0m\u001b[0;34m,\u001b[0m\u001b[0;34m\u001b[0m\u001b[0m\n\u001b[0;32m---> 20\u001b[0;31m               batch_end_callback=mx.callback.Speedometer(batch_size, 20000/batch_size),)\n\u001b[0m",
      "\u001b[0;32m/usr/local/lib/python2.7/site-packages/mxnet-0.9.4-py2.7-macosx-10.11-x86_64.egg/mxnet/model.pyc\u001b[0m in \u001b[0;36mfit\u001b[0;34m(self, X, y, eval_data, eval_metric, epoch_end_callback, batch_end_callback, kvstore, logger, work_load_list, monitor, eval_end_callback, eval_batch_end_callback)\u001b[0m\n\u001b[1;32m    814\u001b[0m                             \u001b[0meval_end_callback\u001b[0m\u001b[0;34m=\u001b[0m\u001b[0meval_end_callback\u001b[0m\u001b[0;34m,\u001b[0m\u001b[0;34m\u001b[0m\u001b[0m\n\u001b[1;32m    815\u001b[0m                             \u001b[0meval_batch_end_callback\u001b[0m\u001b[0;34m=\u001b[0m\u001b[0meval_batch_end_callback\u001b[0m\u001b[0;34m,\u001b[0m\u001b[0;34m\u001b[0m\u001b[0m\n\u001b[0;32m--> 816\u001b[0;31m                             sym_gen=self.sym_gen)\n\u001b[0m\u001b[1;32m    817\u001b[0m \u001b[0;34m\u001b[0m\u001b[0m\n\u001b[1;32m    818\u001b[0m \u001b[0;34m\u001b[0m\u001b[0m\n",
      "\u001b[0;32m/usr/local/lib/python2.7/site-packages/mxnet-0.9.4-py2.7-macosx-10.11-x86_64.egg/mxnet/model.pyc\u001b[0m in \u001b[0;36m_train_multi_device\u001b[0;34m(symbol, ctx, arg_names, param_names, aux_names, arg_params, aux_params, begin_epoch, end_epoch, epoch_size, optimizer, kvstore, update_on_kvstore, train_data, eval_data, eval_metric, epoch_end_callback, batch_end_callback, logger, work_load_list, monitor, eval_end_callback, eval_batch_end_callback, sym_gen)\u001b[0m\n\u001b[1;32m    205\u001b[0m                                                    \u001b[0maux_names\u001b[0m\u001b[0;34m=\u001b[0m\u001b[0maux_names\u001b[0m\u001b[0;34m,\u001b[0m\u001b[0;34m\u001b[0m\u001b[0m\n\u001b[1;32m    206\u001b[0m                                                    \u001b[0mwork_load_list\u001b[0m\u001b[0;34m=\u001b[0m\u001b[0mwork_load_list\u001b[0m\u001b[0;34m,\u001b[0m\u001b[0;34m\u001b[0m\u001b[0m\n\u001b[0;32m--> 207\u001b[0;31m                                                    logger=logger)\n\u001b[0m\u001b[1;32m    208\u001b[0m     \u001b[0;32mif\u001b[0m \u001b[0mmonitor\u001b[0m\u001b[0;34m:\u001b[0m\u001b[0;34m\u001b[0m\u001b[0m\n\u001b[1;32m    209\u001b[0m         \u001b[0mexecutor_manager\u001b[0m\u001b[0;34m.\u001b[0m\u001b[0minstall_monitor\u001b[0m\u001b[0;34m(\u001b[0m\u001b[0mmonitor\u001b[0m\u001b[0;34m)\u001b[0m\u001b[0;34m\u001b[0m\u001b[0m\n",
      "\u001b[0;32m/usr/local/lib/python2.7/site-packages/mxnet-0.9.4-py2.7-macosx-10.11-x86_64.egg/mxnet/executor_manager.pyc\u001b[0m in \u001b[0;36m__init__\u001b[0;34m(self, symbol, ctx, train_data, arg_names, param_names, aux_names, work_load_list, logger, sym_gen)\u001b[0m\n\u001b[1;32m    325\u001b[0m \u001b[0;34m\u001b[0m\u001b[0m\n\u001b[1;32m    326\u001b[0m         self.execgrp = DataParallelExecutorGroup(symbol, self.arg_names, self.param_names, self.ctx,\n\u001b[0;32m--> 327\u001b[0;31m                                                  self.slices, train_data)\n\u001b[0m\u001b[1;32m    328\u001b[0m         \u001b[0mself\u001b[0m\u001b[0;34m.\u001b[0m\u001b[0msymbol\u001b[0m \u001b[0;34m=\u001b[0m \u001b[0msymbol\u001b[0m\u001b[0;34m\u001b[0m\u001b[0m\n\u001b[1;32m    329\u001b[0m \u001b[0;34m\u001b[0m\u001b[0m\n",
      "\u001b[0;32m/usr/local/lib/python2.7/site-packages/mxnet-0.9.4-py2.7-macosx-10.11-x86_64.egg/mxnet/executor_manager.pyc\u001b[0m in \u001b[0;36m__init__\u001b[0;34m(self, sym, arg_names, param_names, ctx, slices, train_data, shared_group)\u001b[0m\n\u001b[1;32m    237\u001b[0m                                     \u001b[0mneed_grad\u001b[0m\u001b[0;34m=\u001b[0m\u001b[0mTrue\u001b[0m\u001b[0;34m,\u001b[0m \u001b[0mbase_exec\u001b[0m\u001b[0;34m=\u001b[0m\u001b[0mshared_exec\u001b[0m\u001b[0;34m,\u001b[0m\u001b[0;34m\u001b[0m\u001b[0m\n\u001b[1;32m    238\u001b[0m                                     \u001b[0mshared_data_arrays\u001b[0m\u001b[0;34m=\u001b[0m\u001b[0mself\u001b[0m\u001b[0;34m.\u001b[0m\u001b[0mshared_data_arrays\u001b[0m\u001b[0;34m[\u001b[0m\u001b[0mi\u001b[0m\u001b[0;34m]\u001b[0m\u001b[0;34m,\u001b[0m\u001b[0;34m\u001b[0m\u001b[0m\n\u001b[0;32m--> 239\u001b[0;31m                                     input_types=data_types)\n\u001b[0m\u001b[1;32m    240\u001b[0m             \u001b[0mself\u001b[0m\u001b[0;34m.\u001b[0m\u001b[0mtrain_execs\u001b[0m\u001b[0;34m.\u001b[0m\u001b[0mappend\u001b[0m\u001b[0;34m(\u001b[0m\u001b[0mtrain_exec\u001b[0m\u001b[0;34m)\u001b[0m\u001b[0;34m\u001b[0m\u001b[0m\n\u001b[1;32m    241\u001b[0m \u001b[0;34m\u001b[0m\u001b[0m\n",
      "\u001b[0;32m/usr/local/lib/python2.7/site-packages/mxnet-0.9.4-py2.7-macosx-10.11-x86_64.egg/mxnet/executor_manager.pyc\u001b[0m in \u001b[0;36m_bind_exec\u001b[0;34m(sym, ctx, input_shapes, param_names, need_grad, base_exec, shared_data_arrays, input_types, logger)\u001b[0m\n\u001b[1;32m    151\u001b[0m                     \u001b[0mshared_data_arrays\u001b[0m\u001b[0;34m[\u001b[0m\u001b[0mname\u001b[0m\u001b[0;34m]\u001b[0m \u001b[0;34m=\u001b[0m \u001b[0marg_arr\u001b[0m\u001b[0;34m\u001b[0m\u001b[0m\n\u001b[1;32m    152\u001b[0m             \u001b[0;32melse\u001b[0m\u001b[0;34m:\u001b[0m\u001b[0;34m\u001b[0m\u001b[0m\n\u001b[0;32m--> 153\u001b[0;31m                 \u001b[0marg_arr\u001b[0m \u001b[0;34m=\u001b[0m \u001b[0mnd\u001b[0m\u001b[0;34m.\u001b[0m\u001b[0mzeros\u001b[0m\u001b[0;34m(\u001b[0m\u001b[0marg_shape\u001b[0m\u001b[0;34m[\u001b[0m\u001b[0mi\u001b[0m\u001b[0;34m]\u001b[0m\u001b[0;34m,\u001b[0m \u001b[0mctx\u001b[0m\u001b[0;34m,\u001b[0m \u001b[0mdtype\u001b[0m\u001b[0;34m=\u001b[0m\u001b[0marg_types\u001b[0m\u001b[0;34m[\u001b[0m\u001b[0mi\u001b[0m\u001b[0;34m]\u001b[0m\u001b[0;34m)\u001b[0m\u001b[0;34m\u001b[0m\u001b[0m\n\u001b[0m\u001b[1;32m    154\u001b[0m                 \u001b[0;32mif\u001b[0m \u001b[0mshared_data_arrays\u001b[0m \u001b[0;32mis\u001b[0m \u001b[0;32mnot\u001b[0m \u001b[0mNone\u001b[0m\u001b[0;34m:\u001b[0m\u001b[0;34m\u001b[0m\u001b[0m\n\u001b[1;32m    155\u001b[0m                     \u001b[0mshared_data_arrays\u001b[0m\u001b[0;34m[\u001b[0m\u001b[0mname\u001b[0m\u001b[0;34m]\u001b[0m \u001b[0;34m=\u001b[0m \u001b[0marg_arr\u001b[0m\u001b[0;34m\u001b[0m\u001b[0m\n",
      "\u001b[0;32m/usr/local/lib/python2.7/site-packages/mxnet-0.9.4-py2.7-macosx-10.11-x86_64.egg/mxnet/ndarray.pyc\u001b[0m in \u001b[0;36mzeros\u001b[0;34m(shape, ctx, dtype)\u001b[0m\n\u001b[1;32m   1066\u001b[0m         \u001b[0mdtype\u001b[0m \u001b[0;34m=\u001b[0m \u001b[0mmx_real_t\u001b[0m\u001b[0;34m\u001b[0m\u001b[0m\n\u001b[1;32m   1067\u001b[0m     \u001b[0;31m# pylint: disable= no-member, protected-access\u001b[0m\u001b[0;34m\u001b[0m\u001b[0;34m\u001b[0m\u001b[0m\n\u001b[0;32m-> 1068\u001b[0;31m     \u001b[0;32mreturn\u001b[0m \u001b[0m_internal\u001b[0m\u001b[0;34m.\u001b[0m\u001b[0m_zeros\u001b[0m\u001b[0;34m(\u001b[0m\u001b[0mshape\u001b[0m\u001b[0;34m=\u001b[0m\u001b[0mshape\u001b[0m\u001b[0;34m,\u001b[0m \u001b[0mctx\u001b[0m\u001b[0;34m=\u001b[0m\u001b[0mctx\u001b[0m\u001b[0;34m,\u001b[0m \u001b[0mdtype\u001b[0m\u001b[0;34m=\u001b[0m\u001b[0mdtype\u001b[0m\u001b[0;34m)\u001b[0m\u001b[0;34m\u001b[0m\u001b[0m\n\u001b[0m\u001b[1;32m   1069\u001b[0m     \u001b[0;31m# pylint: enable= no-member, protected-access\u001b[0m\u001b[0;34m\u001b[0m\u001b[0;34m\u001b[0m\u001b[0m\n\u001b[1;32m   1070\u001b[0m \u001b[0;34m\u001b[0m\u001b[0m\n",
      "\u001b[0;32mmxnet/cython/ndarray.pyx\u001b[0m in \u001b[0;36mndarray._make_ndarray_function.generic_ndarray_function (mxnet/cython/ndarray.cpp:3614)\u001b[0;34m()\u001b[0m\n",
      "\u001b[0;32m/usr/local/lib/python2.7/site-packages/mxnet-0.9.4-py2.7-macosx-10.11-x86_64.egg/mxnet/_cy2/ndarray.so\u001b[0m in \u001b[0;36mndarray.CALL (mxnet/cython/ndarray.cpp:1743)\u001b[0;34m()\u001b[0m\n",
      "\u001b[0;31mMXNetError\u001b[0m: [16:56:12] src/c_api/c_api_ndarray.cc:274: Operator _zeros cannot be run; requires at least one of FCompute<xpu>, NDArrayFunction, FCreateOperator be registered\n\nStack trace returned 10 entries:\n[bt] (0) 0   libmxnet.so                         0x00000001118e84d5 _ZN4dmlc15LogMessageFatalD2Ev + 37\n[bt] (1) 1   libmxnet.so                         0x0000000111e9961b MXImperativeInvoke + 13723\n[bt] (2) 2   ndarray.so                          0x0000000119c95007 _ZL67__pyx_pf_7ndarray_22_make_ndarray_function_generic_ndarray_functionP7_objectS0_S0_ + 6519\n[bt] (3) 3   ndarray.so                          0x0000000119c935b0 _ZL68__pyx_pw_7ndarray_22_make_ndarray_function_1generic_ndarray_functionP7_objectS0_S0_ + 64\n[bt] (4) 4   Python                              0x000000010f3b06e1 PyObject_Call + 99\n[bt] (5) 5   Python                              0x000000010f43047c PyEval_EvalFrameEx + 26504\n[bt] (6) 6   Python                              0x000000010f429afe PyEval_EvalCodeEx + 1617\n[bt] (7) 7   Python                              0x000000010f43421e fast_function + 117\n[bt] (8) 8   Python                              0x000000010f43054f PyEval_EvalFrameEx + 26715\n[bt] (9) 9   Python                              0x000000010f429afe PyEval_EvalCodeEx + 1617\n"
     ]
    },
    {
     "name": "stderr",
     "output_type": "stream",
     "text": [
      "/usr/local/Cellar/python/2.7.13/Frameworks/Python.framework/Versions/2.7/lib/python2.7/json/encoder.py:207: DeprecationWarning: Interpreting naive datetime as local 2017-02-27 16:56:12.696666. Please add timezone info to timestamps.\n",
      "  chunks = self.iterencode(o, _one_shot=True)\n"
     ]
    }
   ],
   "source": [
    "# @@@ AUTOTEST_OUTPUT_IGNORED_CELL\n",
    "def get_one_layer_mlp(hidden, k):\n",
    "    # input\n",
    "    user = mx.symbol.Variable('user')\n",
    "    item = mx.symbol.Variable('item')\n",
    "    score = mx.symbol.Variable('score')\n",
    "    # user latent features\n",
    "    user = mx.symbol.Embedding(data = user, input_dim = max_user, output_dim = k)\n",
    "    user = mx.symbol.Activation(data = user, act_type=\"relu\")\n",
    "    user = mx.symbol.FullyConnected(data = user, num_hidden = hidden)\n",
    "    # item latent features\n",
    "    item = mx.symbol.Embedding(data = item, input_dim = max_item, output_dim = k)\n",
    "    item = mx.symbol.Activation(data = item, act_type=\"relu\")\n",
    "    item = mx.symbol.FullyConnected(data = item, num_hidden = hidden)\n",
    "    # predict by the inner product\n",
    "    pred = user * item\n",
    "    pred = mx.symbol.sum_axis(data = pred, axis = 1)\n",
    "    pred = mx.symbol.Flatten(data = pred)\n",
    "    # loss layer\n",
    "    pred = mx.symbol.LinearRegressionOutput(data = pred, label = score)\n",
    "    return pred\n",
    "\n",
    "train(get_one_layer_mlp(64, 64), batch_size=64, num_epoch=10, learning_rate=.05)"
   ]
  },
  {
   "cell_type": "markdown",
   "metadata": {},
   "source": [
    "Adding dropout layers to relief the over-fitting. "
   ]
  },
  {
   "cell_type": "code",
   "execution_count": 9,
   "metadata": {
    "collapsed": false
   },
   "outputs": [
    {
     "name": "stderr",
     "output_type": "stream",
     "text": [
      "/usr/local/lib/python2.7/site-packages/ipykernel/__main__.py:8: DeprecationWarning: \u001b[91mmxnet.model.FeedForward has been deprecated. Please use mxnet.mod.Module instead.\u001b[0m\n",
      "INFO:root:Start training with [gpu(0)]\n"
     ]
    },
    {
     "ename": "MXNetError",
     "evalue": "[16:57:21] src/c_api/c_api_ndarray.cc:274: Operator _zeros cannot be run; requires at least one of FCompute<xpu>, NDArrayFunction, FCreateOperator be registered\n\nStack trace returned 10 entries:\n[bt] (0) 0   libmxnet.so                         0x00000001118e84d5 _ZN4dmlc15LogMessageFatalD2Ev + 37\n[bt] (1) 1   libmxnet.so                         0x0000000111e9961b MXImperativeInvoke + 13723\n[bt] (2) 2   ndarray.so                          0x0000000119c95007 _ZL67__pyx_pf_7ndarray_22_make_ndarray_function_generic_ndarray_functionP7_objectS0_S0_ + 6519\n[bt] (3) 3   ndarray.so                          0x0000000119c935b0 _ZL68__pyx_pw_7ndarray_22_make_ndarray_function_1generic_ndarray_functionP7_objectS0_S0_ + 64\n[bt] (4) 4   Python                              0x000000010f3b06e1 PyObject_Call + 99\n[bt] (5) 5   Python                              0x000000010f43047c PyEval_EvalFrameEx + 26504\n[bt] (6) 6   Python                              0x000000010f429afe PyEval_EvalCodeEx + 1617\n[bt] (7) 7   Python                              0x000000010f43421e fast_function + 117\n[bt] (8) 8   Python                              0x000000010f43054f PyEval_EvalFrameEx + 26715\n[bt] (9) 9   Python                              0x000000010f429afe PyEval_EvalCodeEx + 1617\n",
     "output_type": "error",
     "traceback": [
      "\u001b[0;31m-------------------------------------------------\u001b[0m",
      "\u001b[0;31mMXNetError\u001b[0m      Traceback (most recent call last)",
      "\u001b[0;32m<ipython-input-9-f43594cba35e>\u001b[0m in \u001b[0;36m<module>\u001b[0;34m()\u001b[0m\n\u001b[1;32m     22\u001b[0m     \u001b[0mpred\u001b[0m \u001b[0;34m=\u001b[0m \u001b[0mmx\u001b[0m\u001b[0;34m.\u001b[0m\u001b[0msymbol\u001b[0m\u001b[0;34m.\u001b[0m\u001b[0mLinearRegressionOutput\u001b[0m\u001b[0;34m(\u001b[0m\u001b[0mdata\u001b[0m \u001b[0;34m=\u001b[0m \u001b[0mpred\u001b[0m\u001b[0;34m,\u001b[0m \u001b[0mlabel\u001b[0m \u001b[0;34m=\u001b[0m \u001b[0mscore\u001b[0m\u001b[0;34m)\u001b[0m\u001b[0;34m\u001b[0m\u001b[0m\n\u001b[1;32m     23\u001b[0m     \u001b[0;32mreturn\u001b[0m \u001b[0mpred\u001b[0m\u001b[0;34m\u001b[0m\u001b[0m\n\u001b[0;32m---> 24\u001b[0;31m \u001b[0mtrain\u001b[0m\u001b[0;34m(\u001b[0m\u001b[0mget_one_layer_mlp\u001b[0m\u001b[0;34m(\u001b[0m\u001b[0;36m256\u001b[0m\u001b[0;34m,\u001b[0m \u001b[0;36m512\u001b[0m\u001b[0;34m)\u001b[0m\u001b[0;34m,\u001b[0m \u001b[0mbatch_size\u001b[0m\u001b[0;34m=\u001b[0m\u001b[0;36m64\u001b[0m\u001b[0;34m,\u001b[0m \u001b[0mnum_epoch\u001b[0m\u001b[0;34m=\u001b[0m\u001b[0;36m10\u001b[0m\u001b[0;34m,\u001b[0m \u001b[0mlearning_rate\u001b[0m\u001b[0;34m=\u001b[0m\u001b[0;36m.05\u001b[0m\u001b[0;34m)\u001b[0m\u001b[0;34m\u001b[0m\u001b[0m\n\u001b[0m",
      "\u001b[0;32m<ipython-input-6-640ad212439c>\u001b[0m in \u001b[0;36mtrain\u001b[0;34m(network, batch_size, num_epoch, learning_rate)\u001b[0m\n\u001b[1;32m     18\u001b[0m               \u001b[0meval_data\u001b[0m \u001b[0;34m=\u001b[0m \u001b[0mtest\u001b[0m\u001b[0;34m,\u001b[0m\u001b[0;34m\u001b[0m\u001b[0m\n\u001b[1;32m     19\u001b[0m               \u001b[0meval_metric\u001b[0m \u001b[0;34m=\u001b[0m \u001b[0mRMSE\u001b[0m\u001b[0;34m,\u001b[0m\u001b[0;34m\u001b[0m\u001b[0m\n\u001b[0;32m---> 20\u001b[0;31m               batch_end_callback=mx.callback.Speedometer(batch_size, 20000/batch_size),)\n\u001b[0m",
      "\u001b[0;32m/usr/local/lib/python2.7/site-packages/mxnet-0.9.4-py2.7-macosx-10.11-x86_64.egg/mxnet/model.pyc\u001b[0m in \u001b[0;36mfit\u001b[0;34m(self, X, y, eval_data, eval_metric, epoch_end_callback, batch_end_callback, kvstore, logger, work_load_list, monitor, eval_end_callback, eval_batch_end_callback)\u001b[0m\n\u001b[1;32m    814\u001b[0m                             \u001b[0meval_end_callback\u001b[0m\u001b[0;34m=\u001b[0m\u001b[0meval_end_callback\u001b[0m\u001b[0;34m,\u001b[0m\u001b[0;34m\u001b[0m\u001b[0m\n\u001b[1;32m    815\u001b[0m                             \u001b[0meval_batch_end_callback\u001b[0m\u001b[0;34m=\u001b[0m\u001b[0meval_batch_end_callback\u001b[0m\u001b[0;34m,\u001b[0m\u001b[0;34m\u001b[0m\u001b[0m\n\u001b[0;32m--> 816\u001b[0;31m                             sym_gen=self.sym_gen)\n\u001b[0m\u001b[1;32m    817\u001b[0m \u001b[0;34m\u001b[0m\u001b[0m\n\u001b[1;32m    818\u001b[0m \u001b[0;34m\u001b[0m\u001b[0m\n",
      "\u001b[0;32m/usr/local/lib/python2.7/site-packages/mxnet-0.9.4-py2.7-macosx-10.11-x86_64.egg/mxnet/model.pyc\u001b[0m in \u001b[0;36m_train_multi_device\u001b[0;34m(symbol, ctx, arg_names, param_names, aux_names, arg_params, aux_params, begin_epoch, end_epoch, epoch_size, optimizer, kvstore, update_on_kvstore, train_data, eval_data, eval_metric, epoch_end_callback, batch_end_callback, logger, work_load_list, monitor, eval_end_callback, eval_batch_end_callback, sym_gen)\u001b[0m\n\u001b[1;32m    205\u001b[0m                                                    \u001b[0maux_names\u001b[0m\u001b[0;34m=\u001b[0m\u001b[0maux_names\u001b[0m\u001b[0;34m,\u001b[0m\u001b[0;34m\u001b[0m\u001b[0m\n\u001b[1;32m    206\u001b[0m                                                    \u001b[0mwork_load_list\u001b[0m\u001b[0;34m=\u001b[0m\u001b[0mwork_load_list\u001b[0m\u001b[0;34m,\u001b[0m\u001b[0;34m\u001b[0m\u001b[0m\n\u001b[0;32m--> 207\u001b[0;31m                                                    logger=logger)\n\u001b[0m\u001b[1;32m    208\u001b[0m     \u001b[0;32mif\u001b[0m \u001b[0mmonitor\u001b[0m\u001b[0;34m:\u001b[0m\u001b[0;34m\u001b[0m\u001b[0m\n\u001b[1;32m    209\u001b[0m         \u001b[0mexecutor_manager\u001b[0m\u001b[0;34m.\u001b[0m\u001b[0minstall_monitor\u001b[0m\u001b[0;34m(\u001b[0m\u001b[0mmonitor\u001b[0m\u001b[0;34m)\u001b[0m\u001b[0;34m\u001b[0m\u001b[0m\n",
      "\u001b[0;32m/usr/local/lib/python2.7/site-packages/mxnet-0.9.4-py2.7-macosx-10.11-x86_64.egg/mxnet/executor_manager.pyc\u001b[0m in \u001b[0;36m__init__\u001b[0;34m(self, symbol, ctx, train_data, arg_names, param_names, aux_names, work_load_list, logger, sym_gen)\u001b[0m\n\u001b[1;32m    325\u001b[0m \u001b[0;34m\u001b[0m\u001b[0m\n\u001b[1;32m    326\u001b[0m         self.execgrp = DataParallelExecutorGroup(symbol, self.arg_names, self.param_names, self.ctx,\n\u001b[0;32m--> 327\u001b[0;31m                                                  self.slices, train_data)\n\u001b[0m\u001b[1;32m    328\u001b[0m         \u001b[0mself\u001b[0m\u001b[0;34m.\u001b[0m\u001b[0msymbol\u001b[0m \u001b[0;34m=\u001b[0m \u001b[0msymbol\u001b[0m\u001b[0;34m\u001b[0m\u001b[0m\n\u001b[1;32m    329\u001b[0m \u001b[0;34m\u001b[0m\u001b[0m\n",
      "\u001b[0;32m/usr/local/lib/python2.7/site-packages/mxnet-0.9.4-py2.7-macosx-10.11-x86_64.egg/mxnet/executor_manager.pyc\u001b[0m in \u001b[0;36m__init__\u001b[0;34m(self, sym, arg_names, param_names, ctx, slices, train_data, shared_group)\u001b[0m\n\u001b[1;32m    237\u001b[0m                                     \u001b[0mneed_grad\u001b[0m\u001b[0;34m=\u001b[0m\u001b[0mTrue\u001b[0m\u001b[0;34m,\u001b[0m \u001b[0mbase_exec\u001b[0m\u001b[0;34m=\u001b[0m\u001b[0mshared_exec\u001b[0m\u001b[0;34m,\u001b[0m\u001b[0;34m\u001b[0m\u001b[0m\n\u001b[1;32m    238\u001b[0m                                     \u001b[0mshared_data_arrays\u001b[0m\u001b[0;34m=\u001b[0m\u001b[0mself\u001b[0m\u001b[0;34m.\u001b[0m\u001b[0mshared_data_arrays\u001b[0m\u001b[0;34m[\u001b[0m\u001b[0mi\u001b[0m\u001b[0;34m]\u001b[0m\u001b[0;34m,\u001b[0m\u001b[0;34m\u001b[0m\u001b[0m\n\u001b[0;32m--> 239\u001b[0;31m                                     input_types=data_types)\n\u001b[0m\u001b[1;32m    240\u001b[0m             \u001b[0mself\u001b[0m\u001b[0;34m.\u001b[0m\u001b[0mtrain_execs\u001b[0m\u001b[0;34m.\u001b[0m\u001b[0mappend\u001b[0m\u001b[0;34m(\u001b[0m\u001b[0mtrain_exec\u001b[0m\u001b[0;34m)\u001b[0m\u001b[0;34m\u001b[0m\u001b[0m\n\u001b[1;32m    241\u001b[0m \u001b[0;34m\u001b[0m\u001b[0m\n",
      "\u001b[0;32m/usr/local/lib/python2.7/site-packages/mxnet-0.9.4-py2.7-macosx-10.11-x86_64.egg/mxnet/executor_manager.pyc\u001b[0m in \u001b[0;36m_bind_exec\u001b[0;34m(sym, ctx, input_shapes, param_names, need_grad, base_exec, shared_data_arrays, input_types, logger)\u001b[0m\n\u001b[1;32m    151\u001b[0m                     \u001b[0mshared_data_arrays\u001b[0m\u001b[0;34m[\u001b[0m\u001b[0mname\u001b[0m\u001b[0;34m]\u001b[0m \u001b[0;34m=\u001b[0m \u001b[0marg_arr\u001b[0m\u001b[0;34m\u001b[0m\u001b[0m\n\u001b[1;32m    152\u001b[0m             \u001b[0;32melse\u001b[0m\u001b[0;34m:\u001b[0m\u001b[0;34m\u001b[0m\u001b[0m\n\u001b[0;32m--> 153\u001b[0;31m                 \u001b[0marg_arr\u001b[0m \u001b[0;34m=\u001b[0m \u001b[0mnd\u001b[0m\u001b[0;34m.\u001b[0m\u001b[0mzeros\u001b[0m\u001b[0;34m(\u001b[0m\u001b[0marg_shape\u001b[0m\u001b[0;34m[\u001b[0m\u001b[0mi\u001b[0m\u001b[0;34m]\u001b[0m\u001b[0;34m,\u001b[0m \u001b[0mctx\u001b[0m\u001b[0;34m,\u001b[0m \u001b[0mdtype\u001b[0m\u001b[0;34m=\u001b[0m\u001b[0marg_types\u001b[0m\u001b[0;34m[\u001b[0m\u001b[0mi\u001b[0m\u001b[0;34m]\u001b[0m\u001b[0;34m)\u001b[0m\u001b[0;34m\u001b[0m\u001b[0m\n\u001b[0m\u001b[1;32m    154\u001b[0m                 \u001b[0;32mif\u001b[0m \u001b[0mshared_data_arrays\u001b[0m \u001b[0;32mis\u001b[0m \u001b[0;32mnot\u001b[0m \u001b[0mNone\u001b[0m\u001b[0;34m:\u001b[0m\u001b[0;34m\u001b[0m\u001b[0m\n\u001b[1;32m    155\u001b[0m                     \u001b[0mshared_data_arrays\u001b[0m\u001b[0;34m[\u001b[0m\u001b[0mname\u001b[0m\u001b[0;34m]\u001b[0m \u001b[0;34m=\u001b[0m \u001b[0marg_arr\u001b[0m\u001b[0;34m\u001b[0m\u001b[0m\n",
      "\u001b[0;32m/usr/local/lib/python2.7/site-packages/mxnet-0.9.4-py2.7-macosx-10.11-x86_64.egg/mxnet/ndarray.pyc\u001b[0m in \u001b[0;36mzeros\u001b[0;34m(shape, ctx, dtype)\u001b[0m\n\u001b[1;32m   1066\u001b[0m         \u001b[0mdtype\u001b[0m \u001b[0;34m=\u001b[0m \u001b[0mmx_real_t\u001b[0m\u001b[0;34m\u001b[0m\u001b[0m\n\u001b[1;32m   1067\u001b[0m     \u001b[0;31m# pylint: disable= no-member, protected-access\u001b[0m\u001b[0;34m\u001b[0m\u001b[0;34m\u001b[0m\u001b[0m\n\u001b[0;32m-> 1068\u001b[0;31m     \u001b[0;32mreturn\u001b[0m \u001b[0m_internal\u001b[0m\u001b[0;34m.\u001b[0m\u001b[0m_zeros\u001b[0m\u001b[0;34m(\u001b[0m\u001b[0mshape\u001b[0m\u001b[0;34m=\u001b[0m\u001b[0mshape\u001b[0m\u001b[0;34m,\u001b[0m \u001b[0mctx\u001b[0m\u001b[0;34m=\u001b[0m\u001b[0mctx\u001b[0m\u001b[0;34m,\u001b[0m \u001b[0mdtype\u001b[0m\u001b[0;34m=\u001b[0m\u001b[0mdtype\u001b[0m\u001b[0;34m)\u001b[0m\u001b[0;34m\u001b[0m\u001b[0m\n\u001b[0m\u001b[1;32m   1069\u001b[0m     \u001b[0;31m# pylint: enable= no-member, protected-access\u001b[0m\u001b[0;34m\u001b[0m\u001b[0;34m\u001b[0m\u001b[0m\n\u001b[1;32m   1070\u001b[0m \u001b[0;34m\u001b[0m\u001b[0m\n",
      "\u001b[0;32mmxnet/cython/ndarray.pyx\u001b[0m in \u001b[0;36mndarray._make_ndarray_function.generic_ndarray_function (mxnet/cython/ndarray.cpp:3614)\u001b[0;34m()\u001b[0m\n",
      "\u001b[0;32m/usr/local/lib/python2.7/site-packages/mxnet-0.9.4-py2.7-macosx-10.11-x86_64.egg/mxnet/_cy2/ndarray.so\u001b[0m in \u001b[0;36mndarray.CALL (mxnet/cython/ndarray.cpp:1743)\u001b[0;34m()\u001b[0m\n",
      "\u001b[0;31mMXNetError\u001b[0m: [16:57:21] src/c_api/c_api_ndarray.cc:274: Operator _zeros cannot be run; requires at least one of FCompute<xpu>, NDArrayFunction, FCreateOperator be registered\n\nStack trace returned 10 entries:\n[bt] (0) 0   libmxnet.so                         0x00000001118e84d5 _ZN4dmlc15LogMessageFatalD2Ev + 37\n[bt] (1) 1   libmxnet.so                         0x0000000111e9961b MXImperativeInvoke + 13723\n[bt] (2) 2   ndarray.so                          0x0000000119c95007 _ZL67__pyx_pf_7ndarray_22_make_ndarray_function_generic_ndarray_functionP7_objectS0_S0_ + 6519\n[bt] (3) 3   ndarray.so                          0x0000000119c935b0 _ZL68__pyx_pw_7ndarray_22_make_ndarray_function_1generic_ndarray_functionP7_objectS0_S0_ + 64\n[bt] (4) 4   Python                              0x000000010f3b06e1 PyObject_Call + 99\n[bt] (5) 5   Python                              0x000000010f43047c PyEval_EvalFrameEx + 26504\n[bt] (6) 6   Python                              0x000000010f429afe PyEval_EvalCodeEx + 1617\n[bt] (7) 7   Python                              0x000000010f43421e fast_function + 117\n[bt] (8) 8   Python                              0x000000010f43054f PyEval_EvalFrameEx + 26715\n[bt] (9) 9   Python                              0x000000010f429afe PyEval_EvalCodeEx + 1617\n"
     ]
    },
    {
     "name": "stderr",
     "output_type": "stream",
     "text": [
      "/usr/local/Cellar/python/2.7.13/Frameworks/Python.framework/Versions/2.7/lib/python2.7/json/encoder.py:207: DeprecationWarning: Interpreting naive datetime as local 2017-02-27 16:57:20.903770. Please add timezone info to timestamps.\n",
      "  chunks = self.iterencode(o, _one_shot=True)\n"
     ]
    }
   ],
   "source": [
    "# @@@ AUTOTEST_OUTPUT_IGNORED_CELL\n",
    "def get_one_layer_dropout_mlp(hidden, k):\n",
    "    # input\n",
    "    user = mx.symbol.Variable('user')\n",
    "    item = mx.symbol.Variable('item')\n",
    "    score = mx.symbol.Variable('score')\n",
    "    # user latent features\n",
    "    user = mx.symbol.Embedding(data = user, input_dim = max_user, output_dim = k)\n",
    "    user = mx.symbol.Activation(data = user, act_type=\"relu\")\n",
    "    user = mx.symbol.FullyConnected(data = user, num_hidden = hidden)\n",
    "    user = mx.symbol.Dropout(data=user, p=0.5)\n",
    "    # item latent features\n",
    "    item = mx.symbol.Embedding(data = item, input_dim = max_item, output_dim = k)\n",
    "    item = mx.symbol.Activation(data = item, act_type=\"relu\")\n",
    "    item = mx.symbol.FullyConnected(data = item, num_hidden = hidden)\n",
    "    item = mx.symbol.Dropout(data=item, p=0.5)    \n",
    "    # predict by the inner product\n",
    "    pred = user * item\n",
    "    pred = mx.symbol.sum_axis(data = pred, axis = 1)\n",
    "    pred = mx.symbol.Flatten(data = pred)\n",
    "    # loss layer\n",
    "    pred = mx.symbol.LinearRegressionOutput(data = pred, label = score)\n",
    "    return pred\n",
    "train(get_one_layer_mlp(256, 512), batch_size=64, num_epoch=10, learning_rate=.05)"
   ]
  },
  {
   "cell_type": "markdown",
   "metadata": {},
   "source": [
    "## Acknowledgement\n",
    "\n",
    "This tutorial is based on examples from [xlvector/github](https://github.com/xlvector/)."
   ]
  }
 ],
 "metadata": {
  "kernelspec": {
   "display_name": "Python 2",
   "language": "python",
   "name": "python2"
  },
  "language_info": {
   "codemirror_mode": {
    "name": "ipython",
    "version": 2
   },
   "file_extension": ".py",
   "mimetype": "text/x-python",
   "name": "python",
   "nbconvert_exporter": "python",
   "pygments_lexer": "ipython2",
   "version": "2.7.13"
  }
 },
 "nbformat": 4,
 "nbformat_minor": 1
}
