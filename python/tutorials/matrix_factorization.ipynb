{
 "cells": [
  {
   "cell_type": "markdown",
   "metadata": {},
   "source": [
    "# Matrix Factorization\n",
    "\n",
    "In a recommendation system, there is a group of users and a set of items. Given that each users have rated some items in the system, we would like to predict how the users would rate the items that they have not yet rated, such that we can make recommendations to the users.\n",
    "\n",
    "Matrix factorization is one of the mainly used algorithm in recommendation systems. It can be used to discover latent features underlying the interactions between two different kinds of entities. Assume we assign a $k$ dimensional vector $u_i$ to user $i$ and $k$ dimensional vector $v_j$ to item $j$, then user $i$ rates movie $j$ by $\\langle u_i, v_j\\rangle$.\n",
    "\n",
    "We can learn all $u_i$ and $v_j$ directly, which is essentially performing SVD on the user-item matrix. We can also try to learn the latent features using multi-layer neural networks. \n",
    "\n",
    "In this tutorial, we will work though the steps to implement these ideas in MXNet."
   ]
  },
  {
   "cell_type": "markdown",
   "metadata": {},
   "source": [
    "## Prepare Data\n",
    "\n",
    "We use the [MovieLens](http://grouplens.org/datasets/movielens/) data here, but it can apply to other datasets as well. Each row of this dataset contains a tuple of user id, movie id, rating, and time stamp, we will only use the first three items. We first define the a batch which contains n tuples. It also provides name and shape information to MXNet about the data and label. "
   ]
  },
  {
   "cell_type": "code",
   "execution_count": 1,
   "metadata": {
    "collapsed": true
   },
   "outputs": [],
   "source": [
    "class Batch(object):\n",
    "    def __init__(self, data_names, data, label_names, label):\n",
    "        self.data = data\n",
    "        self.label = label\n",
    "        self.data_names = data_names\n",
    "        self.label_names = label_names\n",
    "        \n",
    "    @property\n",
    "    def provide_data(self):\n",
    "        return [(n, x.shape) for n, x in zip(self.data_names, self.data)]\n",
    "    \n",
    "    @property\n",
    "    def provide_label(self):\n",
    "        return [(n, x.shape) for n, x in zip(self.label_names, self.label)]\n"
   ]
  },
  {
   "cell_type": "markdown",
   "metadata": {},
   "source": [
    "Then we define a data iterator, which returns a batch of tuples each time. "
   ]
  },
  {
   "cell_type": "code",
   "execution_count": 2,
   "metadata": {
    "collapsed": true
   },
   "outputs": [],
   "source": [
    "import mxnet as mx\n",
    "import random\n",
    "\n",
    "class Batch(object):\n",
    "    def __init__(self, data_names, data, label_names, label):\n",
    "        self.data = data\n",
    "        self.label = label\n",
    "        self.data_names = data_names\n",
    "        self.label_names = label_names\n",
    "\n",
    "    @property\n",
    "    def provide_data(self):\n",
    "        return [(n, x.shape) for n, x in zip(self.data_names, self.data)]\n",
    "\n",
    "    @property\n",
    "    def provide_label(self):\n",
    "        return [(n, x.shape) for n, x in zip(self.label_names, self.label)]\n",
    "\n",
    "class DataIter(mx.io.DataIter):\n",
    "    def __init__(self, fname, batch_size):\n",
    "        super(DataIter, self).__init__()\n",
    "        self.batch_size = batch_size\n",
    "        self.data = []\n",
    "        for line in file(fname):\n",
    "            tks = line.strip().split('\\t')\n",
    "            if len(tks) != 4:\n",
    "                continue\n",
    "            self.data.append((int(tks[0]), int(tks[1]), float(tks[2])))\n",
    "        self.provide_data = [('user', (batch_size, )), ('item', (batch_size, ))]\n",
    "        self.provide_label = [('score', (self.batch_size, ))]\n",
    "\n",
    "    def __iter__(self):\n",
    "        for k in range(len(self.data) / self.batch_size):\n",
    "            users = []\n",
    "            items = []\n",
    "            scores = []\n",
    "            for i in range(self.batch_size):\n",
    "                j = k * self.batch_size + i\n",
    "                user, item, score = self.data[j]\n",
    "                users.append(user)\n",
    "                items.append(item)\n",
    "                scores.append(score)\n",
    "\n",
    "            data_all = [mx.nd.array(users), mx.nd.array(items)]\n",
    "            label_all = [mx.nd.array(scores)]\n",
    "            data_names = ['user', 'item']\n",
    "            label_names = ['score']\n",
    "\n",
    "            data_batch = Batch(data_names, data_all, label_names, label_all)\n",
    "            yield data_batch\n",
    "\n",
    "    def reset(self):\n",
    "        random.shuffle(self.data)"
   ]
  },
  {
   "cell_type": "markdown",
   "metadata": {},
   "source": [
    "Now we download the data and provide a function to obtain the data iterator:"
   ]
  },
  {
   "cell_type": "code",
   "execution_count": 3,
   "metadata": {
    "collapsed": false
   },
   "outputs": [],
   "source": [
    "import os\n",
    "import urllib\n",
    "import zipfile\n",
    "if not os.path.exists('ml-100k.zip'):\n",
    "    urllib.urlretrieve('http://files.grouplens.org/datasets/movielens/ml-100k.zip', 'ml-100k.zip')\n",
    "with zipfile.ZipFile(\"ml-100k.zip\",\"r\") as f:\n",
    "    f.extractall(\"./\")\n",
    "def get_data(batch_size):\n",
    "    return (DataIter('./ml-100k/u1.base', batch_size), DataIter('./ml-100k/u1.test', batch_size))"
   ]
  },
  {
   "cell_type": "markdown",
   "metadata": {},
   "source": [
    "Finally we calculate the numbers of users and items for later use."
   ]
  },
  {
   "cell_type": "code",
   "execution_count": 4,
   "metadata": {
    "collapsed": false
   },
   "outputs": [
    {
     "data": {
      "text/plain": [
       "(944, 1683)"
      ]
     },
     "execution_count": 4,
     "metadata": {},
     "output_type": "execute_result"
    }
   ],
   "source": [
    "def max_id(fname):\n",
    "    mu = 0\n",
    "    mi = 0\n",
    "    for line in file(fname):\n",
    "        tks = line.strip().split('\\t')\n",
    "        if len(tks) != 4:\n",
    "            continue\n",
    "        mu = max(mu, int(tks[0]))\n",
    "        mi = max(mi, int(tks[1]))\n",
    "    return mu + 1, mi + 1\n",
    "max_user, max_item = max_id('./ml-100k/u.data')\n",
    "(max_user, max_item)"
   ]
  },
  {
   "cell_type": "markdown",
   "metadata": {},
   "source": [
    "## Optimization\n",
    "\n",
    "We first implement the RMSE (root-mean-square error) measurement, which is commonly used by matrix factorization. "
   ]
  },
  {
   "cell_type": "code",
   "execution_count": 5,
   "metadata": {
    "collapsed": true
   },
   "outputs": [],
   "source": [
    "import math\n",
    "def RMSE(label, pred):\n",
    "    ret = 0.0\n",
    "    n = 0.0\n",
    "    pred = pred.flatten()\n",
    "    for i in range(len(label)):\n",
    "        ret += (label[i] - pred[i]) * (label[i] - pred[i])\n",
    "        n += 1.0\n",
    "    return math.sqrt(ret / n)"
   ]
  },
  {
   "cell_type": "markdown",
   "metadata": {},
   "source": [
    "Then we define a general training module, which is borrowed from the image classification application. "
   ]
  },
  {
   "cell_type": "code",
   "execution_count": 6,
   "metadata": {
    "collapsed": true
   },
   "outputs": [],
   "source": [
    "def train(network, batch_size, num_epoch, learning_rate):\n",
    "    model = mx.model.FeedForward(\n",
    "        ctx = mx.gpu(0),  \n",
    "        symbol = network,\n",
    "        num_epoch = num_epoch,\n",
    "        learning_rate = learning_rate,\n",
    "        wd = 0.0001,\n",
    "        momentum = 0.9)\n",
    "\n",
    "    batch_size = 64\n",
    "    train, test = get_data(batch_size)\n",
    "\n",
    "    import logging\n",
    "    head = '%(asctime)-15s %(message)s'\n",
    "    logging.basicConfig(level=logging.DEBUG)\n",
    "\n",
    "    model.fit(X = train, \n",
    "              eval_data = test,\n",
    "              eval_metric = RMSE,\n",
    "              batch_end_callback=mx.callback.Speedometer(batch_size, 20000/batch_size),)"
   ]
  },
  {
   "cell_type": "markdown",
   "metadata": {},
   "source": [
    "## Networks\n",
    "\n",
    "Now we try various networks. We first learn the latent vectors directly."
   ]
  },
  {
   "cell_type": "code",
   "execution_count": 7,
   "metadata": {
    "collapsed": false
   },
   "outputs": [
    {
     "name": "stderr",
     "output_type": "stream",
     "text": [
      "INFO:root:Start training with [gpu(0)]\n",
      "INFO:root:Epoch[0] Batch [312]\tSpeed: 41342.22 samples/sec\tTrain-RMSE=3.684994\n",
      "INFO:root:Epoch[0] Batch [624]\tSpeed: 42492.43 samples/sec\tTrain-RMSE=3.707191\n",
      "INFO:root:Epoch[0] Batch [936]\tSpeed: 43505.27 samples/sec\tTrain-RMSE=3.694168\n",
      "INFO:root:Epoch[0] Batch [1248]\tSpeed: 43158.00 samples/sec\tTrain-RMSE=3.708600\n",
      "INFO:root:Epoch[0] Resetting Data Iterator\n",
      "INFO:root:Epoch[0] Time cost=2.143\n",
      "INFO:root:Epoch[0] Validation-RMSE=3.714679\n",
      "INFO:root:Epoch[1] Batch [312]\tSpeed: 43131.71 samples/sec\tTrain-RMSE=3.687011\n",
      "INFO:root:Epoch[1] Batch [624]\tSpeed: 43955.37 samples/sec\tTrain-RMSE=3.629863\n",
      "INFO:root:Epoch[1] Batch [936]\tSpeed: 43980.74 samples/sec\tTrain-RMSE=3.307402\n",
      "INFO:root:Epoch[1] Batch [1248]\tSpeed: 44082.50 samples/sec\tTrain-RMSE=2.602139\n",
      "INFO:root:Epoch[1] Resetting Data Iterator\n",
      "INFO:root:Epoch[1] Time cost=1.858\n",
      "INFO:root:Epoch[1] Validation-RMSE=2.475260\n",
      "INFO:root:Epoch[2] Batch [312]\tSpeed: 43939.81 samples/sec\tTrain-RMSE=2.040821\n",
      "INFO:root:Epoch[2] Batch [624]\tSpeed: 43891.03 samples/sec\tTrain-RMSE=1.713089\n",
      "INFO:root:Epoch[2] Batch [936]\tSpeed: 43882.07 samples/sec\tTrain-RMSE=1.528725\n",
      "INFO:root:Epoch[2] Batch [1248]\tSpeed: 43872.11 samples/sec\tTrain-RMSE=1.380783\n",
      "INFO:root:Epoch[2] Resetting Data Iterator\n",
      "INFO:root:Epoch[2] Time cost=1.852\n",
      "INFO:root:Epoch[2] Validation-RMSE=1.438863\n",
      "INFO:root:Epoch[3] Batch [312]\tSpeed: 43902.70 samples/sec\tTrain-RMSE=1.271646\n",
      "INFO:root:Epoch[3] Batch [624]\tSpeed: 44012.24 samples/sec\tTrain-RMSE=1.222664\n",
      "INFO:root:Epoch[3] Batch [936]\tSpeed: 43835.72 samples/sec\tTrain-RMSE=1.166390\n",
      "INFO:root:Epoch[3] Batch [1248]\tSpeed: 43757.14 samples/sec\tTrain-RMSE=1.145227\n",
      "INFO:root:Epoch[3] Resetting Data Iterator\n",
      "INFO:root:Epoch[3] Time cost=1.851\n",
      "INFO:root:Epoch[3] Validation-RMSE=1.206677\n",
      "INFO:root:Epoch[4] Batch [312]\tSpeed: 44061.86 samples/sec\tTrain-RMSE=1.104075\n",
      "INFO:root:Epoch[4] Batch [624]\tSpeed: 44081.02 samples/sec\tTrain-RMSE=1.080001\n",
      "INFO:root:Epoch[4] Batch [936]\tSpeed: 43855.55 samples/sec\tTrain-RMSE=1.074914\n",
      "INFO:root:Epoch[4] Batch [1248]\tSpeed: 43864.99 samples/sec\tTrain-RMSE=1.055094\n",
      "INFO:root:Epoch[4] Resetting Data Iterator\n",
      "INFO:root:Epoch[4] Time cost=1.851\n",
      "INFO:root:Epoch[4] Validation-RMSE=1.118166\n",
      "INFO:root:Epoch[5] Batch [312]\tSpeed: 43914.97 samples/sec\tTrain-RMSE=1.028140\n",
      "INFO:root:Epoch[5] Batch [624]\tSpeed: 43709.23 samples/sec\tTrain-RMSE=1.034596\n",
      "INFO:root:Epoch[5] Batch [936]\tSpeed: 43940.87 samples/sec\tTrain-RMSE=1.034206\n",
      "INFO:root:Epoch[5] Batch [1248]\tSpeed: 44026.10 samples/sec\tTrain-RMSE=1.020403\n",
      "INFO:root:Epoch[5] Resetting Data Iterator\n",
      "INFO:root:Epoch[5] Time cost=1.854\n",
      "INFO:root:Epoch[5] Validation-RMSE=1.073635\n",
      "INFO:root:Epoch[6] Batch [312]\tSpeed: 44147.89 samples/sec\tTrain-RMSE=0.999791\n",
      "INFO:root:Epoch[6] Batch [624]\tSpeed: 43754.65 samples/sec\tTrain-RMSE=1.012622\n",
      "INFO:root:Epoch[6] Batch [936]\tSpeed: 43665.66 samples/sec\tTrain-RMSE=0.998119\n",
      "INFO:root:Epoch[6] Batch [1248]\tSpeed: 43824.36 samples/sec\tTrain-RMSE=1.008358\n",
      "INFO:root:Epoch[6] Resetting Data Iterator\n",
      "INFO:root:Epoch[6] Time cost=1.859\n",
      "INFO:root:Epoch[6] Validation-RMSE=1.049061\n",
      "INFO:root:Epoch[7] Batch [312]\tSpeed: 44453.45 samples/sec\tTrain-RMSE=0.994233\n",
      "INFO:root:Epoch[7] Batch [624]\tSpeed: 44347.11 samples/sec\tTrain-RMSE=0.996605\n",
      "INFO:root:Epoch[7] Batch [936]\tSpeed: 43814.66 samples/sec\tTrain-RMSE=0.986568\n",
      "INFO:root:Epoch[7] Batch [1248]\tSpeed: 43782.37 samples/sec\tTrain-RMSE=0.981471\n",
      "INFO:root:Epoch[7] Resetting Data Iterator\n",
      "INFO:root:Epoch[7] Time cost=1.846\n",
      "INFO:root:Epoch[7] Validation-RMSE=1.034918\n",
      "INFO:root:Epoch[8] Batch [312]\tSpeed: 43971.43 samples/sec\tTrain-RMSE=0.974803\n",
      "INFO:root:Epoch[8] Batch [624]\tSpeed: 44094.08 samples/sec\tTrain-RMSE=0.978880\n",
      "INFO:root:Epoch[8] Batch [936]\tSpeed: 43994.88 samples/sec\tTrain-RMSE=0.989710\n",
      "INFO:root:Epoch[8] Batch [1248]\tSpeed: 43825.72 samples/sec\tTrain-RMSE=0.981582\n",
      "INFO:root:Epoch[8] Resetting Data Iterator\n",
      "INFO:root:Epoch[8] Time cost=1.855\n",
      "INFO:root:Epoch[8] Validation-RMSE=1.027963\n",
      "INFO:root:Epoch[9] Batch [312]\tSpeed: 44273.38 samples/sec\tTrain-RMSE=0.967349\n",
      "INFO:root:Epoch[9] Batch [624]\tSpeed: 43898.53 samples/sec\tTrain-RMSE=0.976928\n",
      "INFO:root:Epoch[9] Batch [936]\tSpeed: 43826.95 samples/sec\tTrain-RMSE=0.977912\n",
      "INFO:root:Epoch[9] Batch [1248]\tSpeed: 43820.12 samples/sec\tTrain-RMSE=0.973081\n",
      "INFO:root:Epoch[9] Resetting Data Iterator\n",
      "INFO:root:Epoch[9] Time cost=1.852\n",
      "INFO:root:Epoch[9] Validation-RMSE=1.020214\n"
     ]
    }
   ],
   "source": [
    "def plain_net(k):\n",
    "    # input\n",
    "    user = mx.symbol.Variable('user')\n",
    "    item = mx.symbol.Variable('item')\n",
    "    score = mx.symbol.Variable('score')\n",
    "    # user feature lookup\n",
    "    user = mx.symbol.Embedding(data = user, input_dim = max_user, output_dim = k) \n",
    "    # item feature lookup\n",
    "    item = mx.symbol.Embedding(data = item, input_dim = max_item, output_dim = k)\n",
    "    # predict by the inner product, which is elementwise product and then sum\n",
    "    pred = user * item\n",
    "    pred = mx.symbol.sum_axis(data = pred, axis = 1)\n",
    "    pred = mx.symbol.Flatten(data = pred)\n",
    "    # loss layer\n",
    "    pred = mx.symbol.LinearRegressionOutput(data = pred, label = score)\n",
    "    return pred\n",
    "\n",
    "train(plain_net(64), batch_size=64, num_epoch=10, learning_rate=.05)"
   ]
  },
  {
   "cell_type": "markdown",
   "metadata": {},
   "source": [
    "Next we try to use 2 layers neural network to learn the latent variables, which stack a fully connected layer above the embedding layers: "
   ]
  },
  {
   "cell_type": "code",
   "execution_count": 8,
   "metadata": {
    "collapsed": false,
    "scrolled": true
   },
   "outputs": [
    {
     "name": "stderr",
     "output_type": "stream",
     "text": [
      "INFO:root:Start training with [gpu(0)]\n",
      "INFO:root:Epoch[0] Batch [312]\tSpeed: 30518.20 samples/sec\tTrain-RMSE=1.336297\n",
      "INFO:root:Epoch[0] Batch [624]\tSpeed: 30186.36 samples/sec\tTrain-RMSE=1.031327\n",
      "INFO:root:Epoch[0] Batch [936]\tSpeed: 29917.48 samples/sec\tTrain-RMSE=1.007261\n",
      "INFO:root:Epoch[0] Batch [1248]\tSpeed: 30108.11 samples/sec\tTrain-RMSE=0.999305\n",
      "INFO:root:Epoch[0] Resetting Data Iterator\n",
      "INFO:root:Epoch[0] Time cost=2.684\n",
      "INFO:root:Epoch[0] Validation-RMSE=0.993410\n",
      "INFO:root:Epoch[1] Batch [312]\tSpeed: 30401.63 samples/sec\tTrain-RMSE=0.964113\n",
      "INFO:root:Epoch[1] Batch [624]\tSpeed: 30755.11 samples/sec\tTrain-RMSE=0.961473\n",
      "INFO:root:Epoch[1] Batch [936]\tSpeed: 31495.76 samples/sec\tTrain-RMSE=0.961091\n",
      "INFO:root:Epoch[1] Batch [1248]\tSpeed: 31466.52 samples/sec\tTrain-RMSE=0.961685\n",
      "INFO:root:Epoch[1] Resetting Data Iterator\n",
      "INFO:root:Epoch[1] Time cost=2.613\n",
      "INFO:root:Epoch[1] Validation-RMSE=0.979111\n",
      "INFO:root:Epoch[2] Batch [312]\tSpeed: 30188.96 samples/sec\tTrain-RMSE=0.946188\n",
      "INFO:root:Epoch[2] Batch [624]\tSpeed: 30134.92 samples/sec\tTrain-RMSE=0.959675\n",
      "INFO:root:Epoch[2] Batch [936]\tSpeed: 30030.28 samples/sec\tTrain-RMSE=0.949806\n",
      "INFO:root:Epoch[2] Batch [1248]\tSpeed: 30185.94 samples/sec\tTrain-RMSE=0.948160\n",
      "INFO:root:Epoch[2] Resetting Data Iterator\n",
      "INFO:root:Epoch[2] Time cost=2.688\n",
      "INFO:root:Epoch[2] Validation-RMSE=0.970443\n",
      "INFO:root:Epoch[3] Batch [312]\tSpeed: 29958.99 samples/sec\tTrain-RMSE=0.948071\n",
      "INFO:root:Epoch[3] Batch [624]\tSpeed: 30994.18 samples/sec\tTrain-RMSE=0.958286\n",
      "INFO:root:Epoch[3] Batch [936]\tSpeed: 30178.60 samples/sec\tTrain-RMSE=0.955149\n",
      "INFO:root:Epoch[3] Batch [1248]\tSpeed: 30316.51 samples/sec\tTrain-RMSE=0.942691\n",
      "INFO:root:Epoch[3] Resetting Data Iterator\n",
      "INFO:root:Epoch[3] Time cost=2.672\n",
      "INFO:root:Epoch[3] Validation-RMSE=1.014836\n",
      "INFO:root:Epoch[4] Batch [312]\tSpeed: 30131.14 samples/sec\tTrain-RMSE=0.946962\n",
      "INFO:root:Epoch[4] Batch [624]\tSpeed: 29776.36 samples/sec\tTrain-RMSE=0.944014\n",
      "INFO:root:Epoch[4] Batch [936]\tSpeed: 30192.65 samples/sec\tTrain-RMSE=0.953061\n",
      "INFO:root:Epoch[4] Batch [1248]\tSpeed: 29609.11 samples/sec\tTrain-RMSE=0.957070\n",
      "INFO:root:Epoch[4] Resetting Data Iterator\n",
      "INFO:root:Epoch[4] Time cost=2.708\n",
      "INFO:root:Epoch[4] Validation-RMSE=0.971516\n",
      "INFO:root:Epoch[5] Batch [312]\tSpeed: 30306.26 samples/sec\tTrain-RMSE=0.939734\n",
      "INFO:root:Epoch[5] Batch [624]\tSpeed: 31247.84 samples/sec\tTrain-RMSE=0.953022\n",
      "INFO:root:Epoch[5] Batch [936]\tSpeed: 31138.79 samples/sec\tTrain-RMSE=0.948540\n",
      "INFO:root:Epoch[5] Batch [1248]\tSpeed: 30175.54 samples/sec\tTrain-RMSE=0.958861\n",
      "INFO:root:Epoch[5] Resetting Data Iterator\n",
      "INFO:root:Epoch[5] Time cost=2.638\n",
      "INFO:root:Epoch[5] Validation-RMSE=0.984781\n",
      "INFO:root:Epoch[6] Batch [312]\tSpeed: 30152.21 samples/sec\tTrain-RMSE=0.931054\n",
      "INFO:root:Epoch[6] Batch [624]\tSpeed: 30156.22 samples/sec\tTrain-RMSE=0.956872\n",
      "INFO:root:Epoch[6] Batch [936]\tSpeed: 29839.29 samples/sec\tTrain-RMSE=0.944518\n",
      "INFO:root:Epoch[6] Batch [1248]\tSpeed: 29915.23 samples/sec\tTrain-RMSE=0.948581\n",
      "INFO:root:Epoch[6] Resetting Data Iterator\n",
      "INFO:root:Epoch[6] Time cost=2.699\n",
      "INFO:root:Epoch[6] Validation-RMSE=0.964993\n",
      "INFO:root:Epoch[7] Batch [312]\tSpeed: 30145.78 samples/sec\tTrain-RMSE=0.942845\n",
      "INFO:root:Epoch[7] Batch [624]\tSpeed: 29969.61 samples/sec\tTrain-RMSE=0.944345\n",
      "INFO:root:Epoch[7] Batch [936]\tSpeed: 29822.80 samples/sec\tTrain-RMSE=0.947308\n",
      "INFO:root:Epoch[7] Batch [1248]\tSpeed: 30483.97 samples/sec\tTrain-RMSE=0.949596\n",
      "INFO:root:Epoch[7] Resetting Data Iterator\n",
      "INFO:root:Epoch[7] Time cost=2.689\n",
      "INFO:root:Epoch[7] Validation-RMSE=0.985085\n",
      "INFO:root:Epoch[8] Batch [312]\tSpeed: 30020.30 samples/sec\tTrain-RMSE=0.935292\n",
      "INFO:root:Epoch[8] Batch [624]\tSpeed: 30116.05 samples/sec\tTrain-RMSE=0.935908\n",
      "INFO:root:Epoch[8] Batch [936]\tSpeed: 31255.92 samples/sec\tTrain-RMSE=0.954619\n",
      "INFO:root:Epoch[8] Batch [1248]\tSpeed: 31138.99 samples/sec\tTrain-RMSE=0.945265\n",
      "INFO:root:Epoch[8] Resetting Data Iterator\n",
      "INFO:root:Epoch[8] Time cost=2.642\n",
      "INFO:root:Epoch[8] Validation-RMSE=0.970848\n",
      "INFO:root:Epoch[9] Batch [312]\tSpeed: 31523.02 samples/sec\tTrain-RMSE=0.932209\n",
      "INFO:root:Epoch[9] Batch [624]\tSpeed: 30806.40 samples/sec\tTrain-RMSE=0.942348\n",
      "INFO:root:Epoch[9] Batch [936]\tSpeed: 30340.65 samples/sec\tTrain-RMSE=0.951248\n",
      "INFO:root:Epoch[9] Batch [1248]\tSpeed: 30230.04 samples/sec\tTrain-RMSE=0.944495\n",
      "INFO:root:Epoch[9] Resetting Data Iterator\n",
      "INFO:root:Epoch[9] Time cost=2.641\n",
      "INFO:root:Epoch[9] Validation-RMSE=0.963051\n"
     ]
    }
   ],
   "source": [
    "def get_one_layer_mlp(hidden, k):\n",
    "    # input\n",
    "    user = mx.symbol.Variable('user')\n",
    "    item = mx.symbol.Variable('item')\n",
    "    score = mx.symbol.Variable('score')\n",
    "    # user latent features\n",
    "    user = mx.symbol.Embedding(data = user, input_dim = max_user, output_dim = k)\n",
    "    user = mx.symbol.Activation(data = user, act_type=\"relu\")\n",
    "    user = mx.symbol.FullyConnected(data = user, num_hidden = hidden)\n",
    "    # item latent features\n",
    "    item = mx.symbol.Embedding(data = item, input_dim = max_item, output_dim = k)\n",
    "    item = mx.symbol.Activation(data = item, act_type=\"relu\")\n",
    "    item = mx.symbol.FullyConnected(data = item, num_hidden = hidden)\n",
    "    # predict by the inner product\n",
    "    pred = user * item\n",
    "    pred = mx.symbol.sum_axis(data = pred, axis = 1)\n",
    "    pred = mx.symbol.Flatten(data = pred)\n",
    "    # loss layer\n",
    "    pred = mx.symbol.LinearRegressionOutput(data = pred, label = score)\n",
    "    return pred\n",
    "\n",
    "train(get_one_layer_mlp(64, 64), batch_size=64, num_epoch=10, learning_rate=.05)"
   ]
  },
  {
   "cell_type": "markdown",
   "metadata": {},
   "source": [
    "Adding dropout layers to relief the over-fitting. "
   ]
  },
  {
   "cell_type": "code",
   "execution_count": 9,
   "metadata": {
    "collapsed": false
   },
   "outputs": [
    {
     "name": "stderr",
     "output_type": "stream",
     "text": [
      "INFO:root:Start training with [gpu(0)]\n",
      "INFO:root:Epoch[0] Batch [312]\tSpeed: 30877.91 samples/sec\tTrain-RMSE=1.285091\n",
      "INFO:root:Epoch[0] Batch [624]\tSpeed: 31860.31 samples/sec\tTrain-RMSE=1.008286\n",
      "INFO:root:Epoch[0] Batch [936]\tSpeed: 31813.96 samples/sec\tTrain-RMSE=0.980373\n",
      "INFO:root:Epoch[0] Batch [1248]\tSpeed: 31639.54 samples/sec\tTrain-RMSE=0.975978\n",
      "INFO:root:Epoch[0] Resetting Data Iterator\n",
      "INFO:root:Epoch[0] Time cost=2.568\n",
      "INFO:root:Epoch[0] Validation-RMSE=0.975440\n",
      "INFO:root:Epoch[1] Batch [312]\tSpeed: 31823.35 samples/sec\tTrain-RMSE=0.947374\n",
      "INFO:root:Epoch[1] Batch [624]\tSpeed: 31670.55 samples/sec\tTrain-RMSE=0.956176\n",
      "INFO:root:Epoch[1] Batch [936]\tSpeed: 31525.85 samples/sec\tTrain-RMSE=0.960271\n",
      "INFO:root:Epoch[1] Batch [1248]\tSpeed: 31663.57 samples/sec\tTrain-RMSE=0.949767\n",
      "INFO:root:Epoch[1] Resetting Data Iterator\n",
      "INFO:root:Epoch[1] Time cost=2.557\n",
      "INFO:root:Epoch[1] Validation-RMSE=0.987816\n",
      "INFO:root:Epoch[2] Batch [312]\tSpeed: 31765.88 samples/sec\tTrain-RMSE=0.945751\n",
      "INFO:root:Epoch[2] Batch [624]\tSpeed: 31676.28 samples/sec\tTrain-RMSE=0.953462\n",
      "INFO:root:Epoch[2] Batch [936]\tSpeed: 31709.79 samples/sec\tTrain-RMSE=0.946463\n",
      "INFO:root:Epoch[2] Batch [1248]\tSpeed: 31632.92 samples/sec\tTrain-RMSE=0.943808\n",
      "INFO:root:Epoch[2] Resetting Data Iterator\n",
      "INFO:root:Epoch[2] Time cost=2.554\n",
      "INFO:root:Epoch[2] Validation-RMSE=0.962627\n",
      "INFO:root:Epoch[3] Batch [312]\tSpeed: 31918.62 samples/sec\tTrain-RMSE=0.933969\n",
      "INFO:root:Epoch[3] Batch [624]\tSpeed: 31571.96 samples/sec\tTrain-RMSE=0.952614\n",
      "INFO:root:Epoch[3] Batch [936]\tSpeed: 31497.91 samples/sec\tTrain-RMSE=0.947540\n",
      "INFO:root:Epoch[3] Batch [1248]\tSpeed: 31703.64 samples/sec\tTrain-RMSE=0.952870\n",
      "INFO:root:Epoch[3] Resetting Data Iterator\n",
      "INFO:root:Epoch[3] Time cost=2.560\n",
      "INFO:root:Epoch[3] Validation-RMSE=0.963394\n",
      "INFO:root:Epoch[4] Batch [312]\tSpeed: 31857.92 samples/sec\tTrain-RMSE=0.927956\n",
      "INFO:root:Epoch[4] Batch [624]\tSpeed: 31776.14 samples/sec\tTrain-RMSE=0.944646\n",
      "INFO:root:Epoch[4] Batch [936]\tSpeed: 31744.26 samples/sec\tTrain-RMSE=0.936684\n",
      "INFO:root:Epoch[4] Batch [1248]\tSpeed: 31699.26 samples/sec\tTrain-RMSE=0.954032\n",
      "INFO:root:Epoch[4] Resetting Data Iterator\n",
      "INFO:root:Epoch[4] Time cost=2.551\n",
      "INFO:root:Epoch[4] Validation-RMSE=0.962498\n",
      "INFO:root:Epoch[5] Batch [312]\tSpeed: 31708.68 samples/sec\tTrain-RMSE=0.931705\n",
      "INFO:root:Epoch[5] Batch [624]\tSpeed: 31778.26 samples/sec\tTrain-RMSE=0.939021\n",
      "INFO:root:Epoch[5] Batch [936]\tSpeed: 31724.14 samples/sec\tTrain-RMSE=0.939419\n",
      "INFO:root:Epoch[5] Batch [1248]\tSpeed: 31632.23 samples/sec\tTrain-RMSE=0.936184\n",
      "INFO:root:Epoch[5] Resetting Data Iterator\n",
      "INFO:root:Epoch[5] Time cost=2.554\n",
      "INFO:root:Epoch[5] Validation-RMSE=0.963631\n",
      "INFO:root:Epoch[6] Batch [312]\tSpeed: 31966.40 samples/sec\tTrain-RMSE=0.930971\n",
      "INFO:root:Epoch[6] Batch [624]\tSpeed: 31715.68 samples/sec\tTrain-RMSE=0.931938\n",
      "INFO:root:Epoch[6] Batch [936]\tSpeed: 31762.15 samples/sec\tTrain-RMSE=0.950477\n",
      "INFO:root:Epoch[6] Batch [1248]\tSpeed: 34640.99 samples/sec\tTrain-RMSE=0.941310\n",
      "INFO:root:Epoch[6] Resetting Data Iterator\n",
      "INFO:root:Epoch[6] Time cost=2.494\n",
      "INFO:root:Epoch[6] Validation-RMSE=0.963661\n",
      "INFO:root:Epoch[7] Batch [312]\tSpeed: 31348.41 samples/sec\tTrain-RMSE=0.935419\n",
      "INFO:root:Epoch[7] Batch [624]\tSpeed: 31205.70 samples/sec\tTrain-RMSE=0.933175\n",
      "INFO:root:Epoch[7] Batch [936]\tSpeed: 31202.88 samples/sec\tTrain-RMSE=0.941889\n",
      "INFO:root:Epoch[7] Batch [1248]\tSpeed: 31190.75 samples/sec\tTrain-RMSE=0.948739\n",
      "INFO:root:Epoch[7] Resetting Data Iterator\n",
      "INFO:root:Epoch[7] Time cost=2.595\n",
      "INFO:root:Epoch[7] Validation-RMSE=1.011394\n",
      "INFO:root:Epoch[8] Batch [312]\tSpeed: 31875.31 samples/sec\tTrain-RMSE=0.939561\n",
      "INFO:root:Epoch[8] Batch [624]\tSpeed: 31722.94 samples/sec\tTrain-RMSE=0.918767\n",
      "INFO:root:Epoch[8] Batch [936]\tSpeed: 31604.74 samples/sec\tTrain-RMSE=0.936635\n",
      "INFO:root:Epoch[8] Batch [1248]\tSpeed: 31619.20 samples/sec\tTrain-RMSE=0.936382\n",
      "INFO:root:Epoch[8] Resetting Data Iterator\n",
      "INFO:root:Epoch[8] Time cost=2.555\n",
      "INFO:root:Epoch[8] Validation-RMSE=0.951149\n",
      "INFO:root:Epoch[9] Batch [312]\tSpeed: 31778.51 samples/sec\tTrain-RMSE=0.929760\n",
      "INFO:root:Epoch[9] Batch [624]\tSpeed: 31707.72 samples/sec\tTrain-RMSE=0.918431\n",
      "INFO:root:Epoch[9] Batch [936]\tSpeed: 31841.40 samples/sec\tTrain-RMSE=0.935237\n",
      "INFO:root:Epoch[9] Batch [1248]\tSpeed: 31794.20 samples/sec\tTrain-RMSE=0.927383\n",
      "INFO:root:Epoch[9] Resetting Data Iterator\n",
      "INFO:root:Epoch[9] Time cost=2.553\n",
      "INFO:root:Epoch[9] Validation-RMSE=0.954122\n"
     ]
    }
   ],
   "source": [
    "def get_one_layer_dropout_mlp(hidden, k):\n",
    "    # input\n",
    "    user = mx.symbol.Variable('user')\n",
    "    item = mx.symbol.Variable('item')\n",
    "    score = mx.symbol.Variable('score')\n",
    "    # user latent features\n",
    "    user = mx.symbol.Embedding(data = user, input_dim = max_user, output_dim = k)\n",
    "    user = mx.symbol.Activation(data = user, act_type=\"relu\")\n",
    "    user = mx.symbol.FullyConnected(data = user, num_hidden = hidden)\n",
    "    user = mx.symbol.Dropout(data=user, p=0.5)\n",
    "    # item latent features\n",
    "    item = mx.symbol.Embedding(data = item, input_dim = max_item, output_dim = k)\n",
    "    item = mx.symbol.Activation(data = item, act_type=\"relu\")\n",
    "    item = mx.symbol.FullyConnected(data = item, num_hidden = hidden)\n",
    "    item = mx.symbol.Dropout(data=item, p=0.5)    \n",
    "    # predict by the inner product\n",
    "    pred = user * item\n",
    "    pred = mx.symbol.sum_axis(data = pred, axis = 1)\n",
    "    pred = mx.symbol.Flatten(data = pred)\n",
    "    # loss layer\n",
    "    pred = mx.symbol.LinearRegressionOutput(data = pred, label = score)\n",
    "    return pred\n",
    "train(get_one_layer_mlp(256, 512), batch_size=64, num_epoch=10, learning_rate=.05)"
   ]
  },
  {
   "cell_type": "markdown",
   "metadata": {
    "collapsed": true
   },
   "source": [
    "## Acknowledgement\n",
    "\n",
    "This tutorial is based on examples from [xlvector/github](https://github.com/xlvector/)."
   ]
  }
 ],
 "metadata": {
  "kernelspec": {
   "display_name": "Python 2",
   "language": "python",
   "name": "python2"
  },
  "language_info": {
   "codemirror_mode": {
    "name": "ipython",
    "version": 2
   },
   "file_extension": ".py",
   "mimetype": "text/x-python",
   "name": "python",
   "nbconvert_exporter": "python",
   "pygments_lexer": "ipython2",
   "version": "2.7.6"
  }
 },
 "nbformat": 4,
 "nbformat_minor": 1
}
