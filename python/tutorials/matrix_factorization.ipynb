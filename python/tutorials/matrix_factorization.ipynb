{
 "cells": [
  {
   "cell_type": "markdown",
   "metadata": {},
   "source": [
    "# Matrix Factorization\n",
    "\n",
    "In a recommendation system, there is a group of users and a set of items. Given that each users have rated some items in the system, we would like to predict how the users would rate the items that they have not yet rated, such that we can make recommendations to the users.\n",
    "\n",
    "Matrix factorization is one of the mainly used algorithm in recommendation systems. It can be used to discover latent features underlying the interactions between two different kinds of entities.\n",
    "\n",
    "Assume we assign a k-dimensional vector to each user and a k-dimensional vector to each item such that the dot product of these two vectors gives the user's rating of that item. We can learn the user and item vectors directly, which is essentially performing SVD on the user-item matrix. We can also try to learn the latent features using multi-layer neural networks. \n",
    "\n",
    "In this tutorial, we will work though the steps to implement these ideas in MXNet."
   ]
  },
  {
   "cell_type": "markdown",
   "metadata": {},
   "source": [
    "## Prepare Data\n",
    "\n",
    "We use the [MovieLens](http://grouplens.org/datasets/movielens/) data here, but it can apply to other datasets as well. Each row of this dataset contains a tuple of user id, movie id, rating, and time stamp, we will only use the first three items. We first define the a batch which contains n tuples. It also provides name and shape information to MXNet about the data and label. "
   ]
  },
  {
   "cell_type": "code",
   "execution_count": 1,
   "metadata": {
    "collapsed": true
   },
   "outputs": [],
   "source": [
    "class Batch(object):\n",
    "    def __init__(self, data_names, data, label_names, label):\n",
    "        self.data = data\n",
    "        self.label = label\n",
    "        self.data_names = data_names\n",
    "        self.label_names = label_names\n",
    "        \n",
    "    @property\n",
    "    def provide_data(self):\n",
    "        return [(n, x.shape) for n, x in zip(self.data_names, self.data)]\n",
    "    \n",
    "    @property\n",
    "    def provide_label(self):\n",
    "        return [(n, x.shape) for n, x in zip(self.label_names, self.label)]"
   ]
  },
  {
   "cell_type": "markdown",
   "metadata": {},
   "source": [
    "Then we define a data iterator, which returns a batch of tuples each time. "
   ]
  },
  {
   "cell_type": "code",
   "execution_count": 2,
   "metadata": {
    "collapsed": true
   },
   "outputs": [],
   "source": [
    "import mxnet as mx\n",
    "import random\n",
    "\n",
    "class Batch(object):\n",
    "    def __init__(self, data_names, data, label_names, label):\n",
    "        self.data = data\n",
    "        self.label = label\n",
    "        self.data_names = data_names\n",
    "        self.label_names = label_names\n",
    "\n",
    "    @property\n",
    "    def provide_data(self):\n",
    "        return [(n, x.shape) for n, x in zip(self.data_names, self.data)]\n",
    "\n",
    "    @property\n",
    "    def provide_label(self):\n",
    "        return [(n, x.shape) for n, x in zip(self.label_names, self.label)]\n",
    "\n",
    "class DataIter(mx.io.DataIter):\n",
    "    def __init__(self, fname, batch_size):\n",
    "        super(DataIter, self).__init__()\n",
    "        self.batch_size = batch_size\n",
    "        self.data = []\n",
    "        for line in file(fname):\n",
    "            tks = line.strip().split('\\t')\n",
    "            if len(tks) != 4:\n",
    "                continue\n",
    "            self.data.append((int(tks[0]), int(tks[1]), float(tks[2])))\n",
    "        self.provide_data = [('user', (batch_size, )), ('item', (batch_size, ))]\n",
    "        self.provide_label = [('score', (self.batch_size, ))]\n",
    "\n",
    "    def __iter__(self):\n",
    "        for k in range(len(self.data) / self.batch_size):\n",
    "            users = []\n",
    "            items = []\n",
    "            scores = []\n",
    "            for i in range(self.batch_size):\n",
    "                j = k * self.batch_size + i\n",
    "                user, item, score = self.data[j]\n",
    "                users.append(user)\n",
    "                items.append(item)\n",
    "                scores.append(score)\n",
    "\n",
    "            data_all = [mx.nd.array(users), mx.nd.array(items)]\n",
    "            label_all = [mx.nd.array(scores)]\n",
    "            data_names = ['user', 'item']\n",
    "            label_names = ['score']\n",
    "\n",
    "            data_batch = Batch(data_names, data_all, label_names, label_all)\n",
    "            yield data_batch\n",
    "\n",
    "    def reset(self):\n",
    "        random.shuffle(self.data)"
   ]
  },
  {
   "cell_type": "markdown",
   "metadata": {},
   "source": [
    "Now we download the data and provide a function to obtain the data iterator:"
   ]
  },
  {
   "cell_type": "code",
   "execution_count": 3,
   "metadata": {
    "collapsed": false
   },
   "outputs": [],
   "source": [
    "import os\n",
    "import urllib\n",
    "import zipfile\n",
    "if not os.path.exists('ml-100k.zip'):\n",
    "    urllib.urlretrieve('http://files.grouplens.org/datasets/movielens/ml-100k.zip', 'ml-100k.zip')\n",
    "with zipfile.ZipFile(\"ml-100k.zip\",\"r\") as f:\n",
    "    f.extractall(\"./\")\n",
    "def get_data(batch_size):\n",
    "    return (DataIter('./ml-100k/u1.base', batch_size), DataIter('./ml-100k/u1.test', batch_size))"
   ]
  },
  {
   "cell_type": "markdown",
   "metadata": {},
   "source": [
    "Finally we calculate the numbers of users and items for later use."
   ]
  },
  {
   "cell_type": "code",
   "execution_count": 4,
   "metadata": {
    "collapsed": false
   },
   "outputs": [
    {
     "data": {
      "text/plain": [
       "(944, 1683)"
      ]
     },
     "execution_count": 4,
     "metadata": {},
     "output_type": "execute_result"
    }
   ],
   "source": [
    "def max_id(fname):\n",
    "    mu = 0\n",
    "    mi = 0\n",
    "    for line in file(fname):\n",
    "        tks = line.strip().split('\\t')\n",
    "        if len(tks) != 4:\n",
    "            continue\n",
    "        mu = max(mu, int(tks[0]))\n",
    "        mi = max(mi, int(tks[1]))\n",
    "    return mu + 1, mi + 1\n",
    "max_user, max_item = max_id('./ml-100k/u.data')\n",
    "(max_user, max_item)"
   ]
  },
  {
   "cell_type": "markdown",
   "metadata": {},
   "source": [
    "## Optimization\n",
    "\n",
    "We first implement the RMSE (root-mean-square error) measurement, which is commonly used by matrix factorization. "
   ]
  },
  {
   "cell_type": "code",
   "execution_count": 5,
   "metadata": {
    "collapsed": true
   },
   "outputs": [],
   "source": [
    "import math\n",
    "def RMSE(label, pred):\n",
    "    ret = 0.0\n",
    "    n = 0.0\n",
    "    pred = pred.flatten()\n",
    "    for i in range(len(label)):\n",
    "        ret += (label[i] - pred[i]) * (label[i] - pred[i])\n",
    "        n += 1.0\n",
    "    return math.sqrt(ret / n)"
   ]
  },
  {
   "cell_type": "code",
   "execution_count": 6,
   "metadata": {
    "collapsed": false
   },
   "outputs": [],
   "source": [
    "\"\"\"test_RMSM\"\"\"\n",
    "def test_RMSE(label, pred, expect_ret):\n",
    "    ret = 0.0\n",
    "    n = 0.0\n",
    "    for i in range(len(label)):\n",
    "        ret += (label[i] - pred[i]) * (label[i] - pred[i])\n",
    "        n += 1.0\n",
    "    assert math.sqrt(ret / n) == expect_ret, \"RMSE function failed.\"\n",
    "\n",
    "test_cases = [{\"label\" : [1, 2, 3, 4, 5], \"pred\" : [2, 1, 3, 5, 6]},\n",
    "             {\"label\" : [10, 10, 9, 9, 8], \"pred\" : [10, 10, 9, 9, 8]},\n",
    "             {\"label\" : [1, 5, 10, 15, 20], \"pred\" : [6, 10, 5, 20, 25]}]\n",
    "expect_res = [math.sqrt(0.8), math.sqrt(0), math.sqrt(25)]\n",
    "for ts_case, epc_res in zip(test_cases, expect_res):\n",
    "    test_RMSE(ts_case[\"label\"], ts_case[\"pred\"], epc_res)"
   ]
  },
  {
   "cell_type": "markdown",
   "metadata": {},
   "source": [
    "Then we define a general training module, which is borrowed from the image classification application. "
   ]
  },
  {
   "cell_type": "code",
   "execution_count": 7,
   "metadata": {
    "collapsed": true
   },
   "outputs": [],
   "source": [
    "def train(network, batch_size, num_epoch, learning_rate):\n",
    "    model = mx.model.FeedForward(\n",
    "        ctx = mx.gpu(0),  \n",
    "        symbol = network,\n",
    "        num_epoch = num_epoch,\n",
    "        learning_rate = learning_rate,\n",
    "        wd = 0.0001,\n",
    "        momentum = 0.9)\n",
    "\n",
    "    batch_size = 64\n",
    "    train, test = get_data(batch_size)\n",
    "\n",
    "    import logging\n",
    "    head = '%(asctime)-15s %(message)s'\n",
    "    logging.basicConfig(level=logging.DEBUG)\n",
    "\n",
    "    model.fit(X = train, \n",
    "              eval_data = test,\n",
    "              eval_metric = RMSE,\n",
    "              batch_end_callback=mx.callback.Speedometer(batch_size, 20000/batch_size),)"
   ]
  },
  {
   "cell_type": "markdown",
   "metadata": {},
   "source": [
    "## Networks\n",
    "\n",
    "Now we try various networks. We first learn the latent vectors directly."
   ]
  },
  {
   "cell_type": "code",
   "execution_count": 8,
   "metadata": {
    "collapsed": false
   },
   "outputs": [
    {
     "name": "stderr",
     "output_type": "stream",
     "text": [
      "INFO:root:Start training with [gpu(0)]\n",
      "INFO:root:Epoch[0] Batch [312]\tSpeed: 9629.94 samples/sec\tTrain-RMSE=3.708882\n",
      "INFO:root:Epoch[0] Batch [624]\tSpeed: 9096.20 samples/sec\tTrain-RMSE=3.696499\n",
      "INFO:root:Epoch[0] Batch [936]\tSpeed: 8944.45 samples/sec\tTrain-RMSE=3.699572\n",
      "INFO:root:Epoch[0] Batch [1248]\tSpeed: 9526.14 samples/sec\tTrain-RMSE=3.689985\n",
      "INFO:root:Epoch[0] Resetting Data Iterator\n",
      "INFO:root:Epoch[0] Time cost=8.992\n",
      "INFO:root:Epoch[0] Validation-RMSE=3.714671\n",
      "INFO:root:Epoch[1] Batch [312]\tSpeed: 9528.79 samples/sec\tTrain-RMSE=3.688951\n",
      "INFO:root:Epoch[1] Batch [624]\tSpeed: 9012.53 samples/sec\tTrain-RMSE=3.622500\n",
      "INFO:root:Epoch[1] Batch [936]\tSpeed: 9294.79 samples/sec\tTrain-RMSE=3.284029\n",
      "INFO:root:Epoch[1] Batch [1248]\tSpeed: 9308.24 samples/sec\tTrain-RMSE=2.616937\n",
      "INFO:root:Epoch[1] Resetting Data Iterator\n",
      "INFO:root:Epoch[1] Time cost=8.664\n",
      "INFO:root:Epoch[1] Validation-RMSE=2.461273\n",
      "INFO:root:Epoch[2] Batch [312]\tSpeed: 9515.72 samples/sec\tTrain-RMSE=2.030215\n",
      "INFO:root:Epoch[2] Batch [624]\tSpeed: 8979.66 samples/sec\tTrain-RMSE=1.712967\n",
      "INFO:root:Epoch[2] Batch [936]\tSpeed: 9189.99 samples/sec\tTrain-RMSE=1.520069\n",
      "INFO:root:Epoch[2] Batch [1248]\tSpeed: 9395.22 samples/sec\tTrain-RMSE=1.378079\n",
      "INFO:root:Epoch[2] Resetting Data Iterator\n",
      "INFO:root:Epoch[2] Time cost=8.678\n",
      "INFO:root:Epoch[2] Validation-RMSE=1.433565\n",
      "INFO:root:Epoch[3] Batch [312]\tSpeed: 9463.78 samples/sec\tTrain-RMSE=1.266224\n",
      "INFO:root:Epoch[3] Batch [624]\tSpeed: 9038.83 samples/sec\tTrain-RMSE=1.216932\n",
      "INFO:root:Epoch[3] Batch [936]\tSpeed: 8904.51 samples/sec\tTrain-RMSE=1.174758\n",
      "INFO:root:Epoch[3] Batch [1248]\tSpeed: 9103.14 samples/sec\tTrain-RMSE=1.141839\n",
      "INFO:root:Epoch[3] Resetting Data Iterator\n",
      "INFO:root:Epoch[3] Time cost=8.810\n",
      "INFO:root:Epoch[3] Validation-RMSE=1.202290\n",
      "INFO:root:Epoch[4] Batch [312]\tSpeed: 8911.64 samples/sec\tTrain-RMSE=1.102462\n",
      "INFO:root:Epoch[4] Batch [624]\tSpeed: 9559.90 samples/sec\tTrain-RMSE=1.085300\n",
      "INFO:root:Epoch[4] Batch [936]\tSpeed: 8952.48 samples/sec\tTrain-RMSE=1.064377\n",
      "INFO:root:Epoch[4] Batch [1248]\tSpeed: 8839.09 samples/sec\tTrain-RMSE=1.055865\n",
      "INFO:root:Epoch[4] Resetting Data Iterator\n",
      "INFO:root:Epoch[4] Time cost=8.867\n",
      "INFO:root:Epoch[4] Validation-RMSE=1.116540\n",
      "INFO:root:Epoch[5] Batch [312]\tSpeed: 8889.74 samples/sec\tTrain-RMSE=1.038979\n",
      "INFO:root:Epoch[5] Batch [624]\tSpeed: 8871.94 samples/sec\tTrain-RMSE=1.018975\n",
      "INFO:root:Epoch[5] Batch [936]\tSpeed: 8951.88 samples/sec\tTrain-RMSE=1.023208\n",
      "INFO:root:Epoch[5] Batch [1248]\tSpeed: 9379.24 samples/sec\tTrain-RMSE=1.032250\n",
      "INFO:root:Epoch[5] Resetting Data Iterator\n",
      "INFO:root:Epoch[5] Time cost=8.909\n",
      "INFO:root:Epoch[5] Validation-RMSE=1.073104\n",
      "INFO:root:Epoch[6] Batch [312]\tSpeed: 9332.61 samples/sec\tTrain-RMSE=1.008186\n",
      "INFO:root:Epoch[6] Batch [624]\tSpeed: 8802.00 samples/sec\tTrain-RMSE=1.008806\n",
      "INFO:root:Epoch[6] Batch [936]\tSpeed: 8913.93 samples/sec\tTrain-RMSE=1.005332\n",
      "INFO:root:Epoch[6] Batch [1248]\tSpeed: 9095.58 samples/sec\tTrain-RMSE=0.994927\n",
      "INFO:root:Epoch[6] Resetting Data Iterator\n",
      "INFO:root:Epoch[6] Time cost=8.914\n",
      "INFO:root:Epoch[6] Validation-RMSE=1.051047\n",
      "INFO:root:Epoch[7] Batch [312]\tSpeed: 8937.14 samples/sec\tTrain-RMSE=0.982865\n",
      "INFO:root:Epoch[7] Batch [624]\tSpeed: 8962.56 samples/sec\tTrain-RMSE=0.995960\n",
      "INFO:root:Epoch[7] Batch [936]\tSpeed: 8899.06 samples/sec\tTrain-RMSE=0.992290\n",
      "INFO:root:Epoch[7] Batch [1248]\tSpeed: 8936.41 samples/sec\tTrain-RMSE=0.991053\n",
      "INFO:root:Epoch[7] Resetting Data Iterator\n",
      "INFO:root:Epoch[7] Time cost=8.987\n",
      "INFO:root:Epoch[7] Validation-RMSE=1.036044\n",
      "INFO:root:Epoch[8] Batch [312]\tSpeed: 9201.62 samples/sec\tTrain-RMSE=0.975995\n",
      "INFO:root:Epoch[8] Batch [624]\tSpeed: 9043.05 samples/sec\tTrain-RMSE=0.982983\n",
      "INFO:root:Epoch[8] Batch [936]\tSpeed: 8869.47 samples/sec\tTrain-RMSE=0.980471\n",
      "INFO:root:Epoch[8] Batch [1248]\tSpeed: 8994.31 samples/sec\tTrain-RMSE=0.983206\n",
      "INFO:root:Epoch[8] Resetting Data Iterator\n",
      "INFO:root:Epoch[8] Time cost=8.913\n",
      "INFO:root:Epoch[8] Validation-RMSE=1.025197\n",
      "INFO:root:Epoch[9] Batch [312]\tSpeed: 9027.00 samples/sec\tTrain-RMSE=0.971992\n",
      "INFO:root:Epoch[9] Batch [624]\tSpeed: 9178.34 samples/sec\tTrain-RMSE=0.983564\n",
      "INFO:root:Epoch[9] Batch [936]\tSpeed: 8927.31 samples/sec\tTrain-RMSE=0.961615\n",
      "INFO:root:Epoch[9] Batch [1248]\tSpeed: 8870.87 samples/sec\tTrain-RMSE=0.979395\n",
      "INFO:root:Epoch[9] Resetting Data Iterator\n",
      "INFO:root:Epoch[9] Time cost=8.925\n",
      "INFO:root:Epoch[9] Validation-RMSE=1.017218\n"
     ]
    }
   ],
   "source": [
    "# Output may vary\n",
    "def plain_net(k):\n",
    "    # input\n",
    "    user = mx.symbol.Variable('user')\n",
    "    item = mx.symbol.Variable('item')\n",
    "    score = mx.symbol.Variable('score')\n",
    "    # user feature lookup\n",
    "    user = mx.symbol.Embedding(data = user, input_dim = max_user, output_dim = k) \n",
    "    # item feature lookup\n",
    "    item = mx.symbol.Embedding(data = item, input_dim = max_item, output_dim = k)\n",
    "    # predict by the inner product, which is elementwise product and then sum\n",
    "    pred = user * item\n",
    "    pred = mx.symbol.sum_axis(data = pred, axis = 1)\n",
    "    pred = mx.symbol.Flatten(data = pred)\n",
    "    # loss layer\n",
    "    pred = mx.symbol.LinearRegressionOutput(data = pred, label = score)\n",
    "    return pred\n",
    "\n",
    "train(plain_net(64), batch_size=64, num_epoch=10, learning_rate=.05)"
   ]
  },
  {
   "cell_type": "markdown",
   "metadata": {},
   "source": [
    "Next we try to use 2 layers neural network to learn the latent variables, which stack a fully connected layer above the embedding layers: "
   ]
  },
  {
   "cell_type": "code",
   "execution_count": 9,
   "metadata": {
    "collapsed": false,
    "scrolled": true
   },
   "outputs": [
    {
     "name": "stderr",
     "output_type": "stream",
     "text": [
      "INFO:root:Start training with [gpu(0)]\n",
      "INFO:root:Epoch[0] Batch [312]\tSpeed: 5128.80 samples/sec\tTrain-RMSE=1.336099\n",
      "INFO:root:Epoch[0] Batch [624]\tSpeed: 5181.87 samples/sec\tTrain-RMSE=1.035280\n",
      "INFO:root:Epoch[0] Batch [936]\tSpeed: 5283.08 samples/sec\tTrain-RMSE=1.014390\n",
      "INFO:root:Epoch[0] Batch [1248]\tSpeed: 5155.22 samples/sec\tTrain-RMSE=0.989979\n",
      "INFO:root:Epoch[0] Resetting Data Iterator\n",
      "INFO:root:Epoch[0] Time cost=15.474\n",
      "INFO:root:Epoch[0] Validation-RMSE=1.000422\n",
      "INFO:root:Epoch[1] Batch [312]\tSpeed: 5247.33 samples/sec\tTrain-RMSE=0.972317\n",
      "INFO:root:Epoch[1] Batch [624]\tSpeed: 5721.52 samples/sec\tTrain-RMSE=0.961227\n",
      "INFO:root:Epoch[1] Batch [936]\tSpeed: 28217.22 samples/sec\tTrain-RMSE=0.965804\n",
      "INFO:root:Epoch[1] Batch [1248]\tSpeed: 28448.51 samples/sec\tTrain-RMSE=0.964275\n",
      "INFO:root:Epoch[1] Resetting Data Iterator\n",
      "INFO:root:Epoch[1] Time cost=8.776\n",
      "INFO:root:Epoch[1] Validation-RMSE=0.990981\n",
      "INFO:root:Epoch[2] Batch [312]\tSpeed: 28208.21 samples/sec\tTrain-RMSE=0.950532\n",
      "INFO:root:Epoch[2] Batch [624]\tSpeed: 28778.35 samples/sec\tTrain-RMSE=0.959189\n",
      "INFO:root:Epoch[2] Batch [936]\tSpeed: 28823.88 samples/sec\tTrain-RMSE=0.958293\n",
      "INFO:root:Epoch[2] Batch [1248]\tSpeed: 27988.46 samples/sec\tTrain-RMSE=0.959046\n",
      "INFO:root:Epoch[2] Resetting Data Iterator\n",
      "INFO:root:Epoch[2] Time cost=2.870\n",
      "INFO:root:Epoch[2] Validation-RMSE=0.988801\n",
      "INFO:root:Epoch[3] Batch [312]\tSpeed: 27580.76 samples/sec\tTrain-RMSE=0.947317\n",
      "INFO:root:Epoch[3] Batch [624]\tSpeed: 29759.86 samples/sec\tTrain-RMSE=0.945208\n",
      "INFO:root:Epoch[3] Batch [936]\tSpeed: 29877.50 samples/sec\tTrain-RMSE=0.957878\n",
      "INFO:root:Epoch[3] Batch [1248]\tSpeed: 29878.52 samples/sec\tTrain-RMSE=0.955912\n",
      "INFO:root:Epoch[3] Resetting Data Iterator\n",
      "INFO:root:Epoch[3] Time cost=2.768\n",
      "INFO:root:Epoch[3] Validation-RMSE=0.970326\n",
      "INFO:root:Epoch[4] Batch [312]\tSpeed: 29720.52 samples/sec\tTrain-RMSE=0.942919\n",
      "INFO:root:Epoch[4] Batch [624]\tSpeed: 29622.91 samples/sec\tTrain-RMSE=0.944339\n",
      "INFO:root:Epoch[4] Batch [936]\tSpeed: 29856.27 samples/sec\tTrain-RMSE=0.955653\n",
      "INFO:root:Epoch[4] Batch [1248]\tSpeed: 29784.05 samples/sec\tTrain-RMSE=0.949717\n",
      "INFO:root:Epoch[4] Resetting Data Iterator\n",
      "INFO:root:Epoch[4] Time cost=2.722\n",
      "INFO:root:Epoch[4] Validation-RMSE=0.996474\n",
      "INFO:root:Epoch[5] Batch [312]\tSpeed: 29795.78 samples/sec\tTrain-RMSE=0.944096\n",
      "INFO:root:Epoch[5] Batch [624]\tSpeed: 31356.88 samples/sec\tTrain-RMSE=0.951511\n",
      "INFO:root:Epoch[5] Batch [936]\tSpeed: 30231.73 samples/sec\tTrain-RMSE=0.945889\n",
      "INFO:root:Epoch[5] Batch [1248]\tSpeed: 29484.21 samples/sec\tTrain-RMSE=0.953087\n",
      "INFO:root:Epoch[5] Resetting Data Iterator\n",
      "INFO:root:Epoch[5] Time cost=2.682\n",
      "INFO:root:Epoch[5] Validation-RMSE=0.972851\n",
      "INFO:root:Epoch[6] Batch [312]\tSpeed: 30993.66 samples/sec\tTrain-RMSE=0.944349\n",
      "INFO:root:Epoch[6] Batch [624]\tSpeed: 30989.71 samples/sec\tTrain-RMSE=0.941070\n",
      "INFO:root:Epoch[6] Batch [936]\tSpeed: 31810.05 samples/sec\tTrain-RMSE=0.956245\n",
      "INFO:root:Epoch[6] Batch [1248]\tSpeed: 29624.67 samples/sec\tTrain-RMSE=0.949010\n",
      "INFO:root:Epoch[6] Resetting Data Iterator\n",
      "INFO:root:Epoch[6] Time cost=2.628\n",
      "INFO:root:Epoch[6] Validation-RMSE=0.982445\n",
      "INFO:root:Epoch[7] Batch [312]\tSpeed: 29768.86 samples/sec\tTrain-RMSE=0.929764\n",
      "INFO:root:Epoch[7] Batch [624]\tSpeed: 29914.88 samples/sec\tTrain-RMSE=0.942125\n",
      "INFO:root:Epoch[7] Batch [936]\tSpeed: 29518.73 samples/sec\tTrain-RMSE=0.950328\n",
      "INFO:root:Epoch[7] Batch [1248]\tSpeed: 30352.83 samples/sec\tTrain-RMSE=0.959071\n",
      "INFO:root:Epoch[7] Resetting Data Iterator\n",
      "INFO:root:Epoch[7] Time cost=2.709\n",
      "INFO:root:Epoch[7] Validation-RMSE=0.964528\n",
      "INFO:root:Epoch[8] Batch [312]\tSpeed: 31856.75 samples/sec\tTrain-RMSE=0.941097\n",
      "INFO:root:Epoch[8] Batch [624]\tSpeed: 31219.11 samples/sec\tTrain-RMSE=0.945597\n",
      "INFO:root:Epoch[8] Batch [936]\tSpeed: 29146.11 samples/sec\tTrain-RMSE=0.943886\n",
      "INFO:root:Epoch[8] Batch [1248]\tSpeed: 29576.31 samples/sec\tTrain-RMSE=0.938769\n",
      "INFO:root:Epoch[8] Resetting Data Iterator\n",
      "INFO:root:Epoch[8] Time cost=2.664\n",
      "INFO:root:Epoch[8] Validation-RMSE=1.004047\n",
      "INFO:root:Epoch[9] Batch [312]\tSpeed: 29893.42 samples/sec\tTrain-RMSE=0.941613\n",
      "INFO:root:Epoch[9] Batch [624]\tSpeed: 29769.79 samples/sec\tTrain-RMSE=0.947198\n",
      "INFO:root:Epoch[9] Batch [936]\tSpeed: 29687.21 samples/sec\tTrain-RMSE=0.940494\n",
      "INFO:root:Epoch[9] Batch [1248]\tSpeed: 29535.93 samples/sec\tTrain-RMSE=0.950362\n",
      "INFO:root:Epoch[9] Resetting Data Iterator\n",
      "INFO:root:Epoch[9] Time cost=2.727\n",
      "INFO:root:Epoch[9] Validation-RMSE=0.963068\n"
     ]
    }
   ],
   "source": [
    "# Output may vary\n",
    "def get_one_layer_mlp(hidden, k):\n",
    "    # input\n",
    "    user = mx.symbol.Variable('user')\n",
    "    item = mx.symbol.Variable('item')\n",
    "    score = mx.symbol.Variable('score')\n",
    "    # user latent features\n",
    "    user = mx.symbol.Embedding(data = user, input_dim = max_user, output_dim = k)\n",
    "    user = mx.symbol.Activation(data = user, act_type=\"relu\")\n",
    "    user = mx.symbol.FullyConnected(data = user, num_hidden = hidden)\n",
    "    # item latent features\n",
    "    item = mx.symbol.Embedding(data = item, input_dim = max_item, output_dim = k)\n",
    "    item = mx.symbol.Activation(data = item, act_type=\"relu\")\n",
    "    item = mx.symbol.FullyConnected(data = item, num_hidden = hidden)\n",
    "    # predict by the inner product\n",
    "    pred = user * item\n",
    "    pred = mx.symbol.sum_axis(data = pred, axis = 1)\n",
    "    pred = mx.symbol.Flatten(data = pred)\n",
    "    # loss layer\n",
    "    pred = mx.symbol.LinearRegressionOutput(data = pred, label = score)\n",
    "    return pred\n",
    "\n",
    "train(get_one_layer_mlp(64, 64), batch_size=64, num_epoch=10, learning_rate=.05)"
   ]
  },
  {
   "cell_type": "markdown",
   "metadata": {},
   "source": [
    "Adding dropout layers to relief the over-fitting. "
   ]
  },
  {
   "cell_type": "code",
   "execution_count": 10,
   "metadata": {
    "collapsed": false
   },
   "outputs": [
    {
     "name": "stderr",
     "output_type": "stream",
     "text": [
      "INFO:root:Start training with [gpu(0)]\n",
      "INFO:root:Epoch[0] Batch [312]\tSpeed: 31054.29 samples/sec\tTrain-RMSE=1.292729\n",
      "INFO:root:Epoch[0] Batch [624]\tSpeed: 32702.31 samples/sec\tTrain-RMSE=1.003246\n",
      "INFO:root:Epoch[0] Batch [936]\tSpeed: 34531.11 samples/sec\tTrain-RMSE=0.988894\n",
      "INFO:root:Epoch[0] Batch [1248]\tSpeed: 36607.22 samples/sec\tTrain-RMSE=0.976663\n",
      "INFO:root:Epoch[0] Resetting Data Iterator\n",
      "INFO:root:Epoch[0] Time cost=2.416\n",
      "INFO:root:Epoch[0] Validation-RMSE=0.994245\n",
      "INFO:root:Epoch[1] Batch [312]\tSpeed: 31948.34 samples/sec\tTrain-RMSE=0.944435\n",
      "INFO:root:Epoch[1] Batch [624]\tSpeed: 31777.51 samples/sec\tTrain-RMSE=0.957313\n",
      "INFO:root:Epoch[1] Batch [936]\tSpeed: 32294.43 samples/sec\tTrain-RMSE=0.967431\n",
      "INFO:root:Epoch[1] Batch [1248]\tSpeed: 31945.88 samples/sec\tTrain-RMSE=0.944283\n",
      "INFO:root:Epoch[1] Resetting Data Iterator\n",
      "INFO:root:Epoch[1] Time cost=2.536\n",
      "INFO:root:Epoch[1] Validation-RMSE=0.967241\n",
      "INFO:root:Epoch[2] Batch [312]\tSpeed: 32686.94 samples/sec\tTrain-RMSE=0.936268\n",
      "INFO:root:Epoch[2] Batch [624]\tSpeed: 36517.05 samples/sec\tTrain-RMSE=0.943588\n",
      "INFO:root:Epoch[2] Batch [936]\tSpeed: 34505.16 samples/sec\tTrain-RMSE=0.939588\n",
      "INFO:root:Epoch[2] Batch [1248]\tSpeed: 32621.01 samples/sec\tTrain-RMSE=0.956108\n",
      "INFO:root:Epoch[2] Resetting Data Iterator\n",
      "INFO:root:Epoch[2] Time cost=2.388\n",
      "INFO:root:Epoch[2] Validation-RMSE=0.960393\n",
      "INFO:root:Epoch[3] Batch [312]\tSpeed: 33524.17 samples/sec\tTrain-RMSE=0.935396\n",
      "INFO:root:Epoch[3] Batch [624]\tSpeed: 33045.71 samples/sec\tTrain-RMSE=0.948004\n",
      "INFO:root:Epoch[3] Batch [936]\tSpeed: 32517.41 samples/sec\tTrain-RMSE=0.930857\n",
      "INFO:root:Epoch[3] Batch [1248]\tSpeed: 36528.62 samples/sec\tTrain-RMSE=0.951217\n",
      "INFO:root:Epoch[3] Resetting Data Iterator\n",
      "INFO:root:Epoch[3] Time cost=2.397\n",
      "INFO:root:Epoch[3] Validation-RMSE=0.974277\n",
      "INFO:root:Epoch[4] Batch [312]\tSpeed: 36791.90 samples/sec\tTrain-RMSE=0.939337\n",
      "INFO:root:Epoch[4] Batch [624]\tSpeed: 31957.96 samples/sec\tTrain-RMSE=0.932733\n",
      "INFO:root:Epoch[4] Batch [936]\tSpeed: 31928.97 samples/sec\tTrain-RMSE=0.944499\n",
      "INFO:root:Epoch[4] Batch [1248]\tSpeed: 31924.08 samples/sec\tTrain-RMSE=0.947778\n",
      "INFO:root:Epoch[4] Resetting Data Iterator\n",
      "INFO:root:Epoch[4] Time cost=2.458\n",
      "INFO:root:Epoch[4] Validation-RMSE=1.000416\n",
      "INFO:root:Epoch[5] Batch [312]\tSpeed: 31895.47 samples/sec\tTrain-RMSE=0.939974\n",
      "INFO:root:Epoch[5] Batch [624]\tSpeed: 31741.68 samples/sec\tTrain-RMSE=0.930035\n",
      "INFO:root:Epoch[5] Batch [936]\tSpeed: 31669.50 samples/sec\tTrain-RMSE=0.932193\n",
      "INFO:root:Epoch[5] Batch [1248]\tSpeed: 31695.69 samples/sec\tTrain-RMSE=0.940311\n",
      "INFO:root:Epoch[5] Resetting Data Iterator\n",
      "INFO:root:Epoch[5] Time cost=2.554\n",
      "INFO:root:Epoch[5] Validation-RMSE=0.958969\n",
      "INFO:root:Epoch[6] Batch [312]\tSpeed: 31972.02 samples/sec\tTrain-RMSE=0.921066\n",
      "INFO:root:Epoch[6] Batch [624]\tSpeed: 35340.98 samples/sec\tTrain-RMSE=0.945087\n",
      "INFO:root:Epoch[6] Batch [936]\tSpeed: 32366.93 samples/sec\tTrain-RMSE=0.943553\n",
      "INFO:root:Epoch[6] Batch [1248]\tSpeed: 32365.36 samples/sec\tTrain-RMSE=0.933524\n",
      "INFO:root:Epoch[6] Resetting Data Iterator\n",
      "INFO:root:Epoch[6] Time cost=2.462\n",
      "INFO:root:Epoch[6] Validation-RMSE=0.954820\n",
      "INFO:root:Epoch[7] Batch [312]\tSpeed: 31849.23 samples/sec\tTrain-RMSE=0.928088\n",
      "INFO:root:Epoch[7] Batch [624]\tSpeed: 31838.36 samples/sec\tTrain-RMSE=0.938085\n",
      "INFO:root:Epoch[7] Batch [936]\tSpeed: 32740.23 samples/sec\tTrain-RMSE=0.923663\n",
      "INFO:root:Epoch[7] Batch [1248]\tSpeed: 32602.77 samples/sec\tTrain-RMSE=0.949745\n",
      "INFO:root:Epoch[7] Resetting Data Iterator\n",
      "INFO:root:Epoch[7] Time cost=2.514\n",
      "INFO:root:Epoch[7] Validation-RMSE=0.961318\n",
      "INFO:root:Epoch[8] Batch [312]\tSpeed: 34563.87 samples/sec\tTrain-RMSE=0.933115\n",
      "INFO:root:Epoch[8] Batch [624]\tSpeed: 32887.82 samples/sec\tTrain-RMSE=0.925201\n",
      "INFO:root:Epoch[8] Batch [936]\tSpeed: 32030.49 samples/sec\tTrain-RMSE=0.925663\n",
      "INFO:root:Epoch[8] Batch [1248]\tSpeed: 31951.20 samples/sec\tTrain-RMSE=0.938921\n",
      "INFO:root:Epoch[8] Resetting Data Iterator\n",
      "INFO:root:Epoch[8] Time cost=2.470\n",
      "INFO:root:Epoch[8] Validation-RMSE=0.954113\n",
      "INFO:root:Epoch[9] Batch [312]\tSpeed: 32616.63 samples/sec\tTrain-RMSE=0.933334\n",
      "INFO:root:Epoch[9] Batch [624]\tSpeed: 32516.19 samples/sec\tTrain-RMSE=0.921008\n",
      "INFO:root:Epoch[9] Batch [936]\tSpeed: 31847.39 samples/sec\tTrain-RMSE=0.926811\n",
      "INFO:root:Epoch[9] Batch [1248]\tSpeed: 34600.90 samples/sec\tTrain-RMSE=0.935853\n",
      "INFO:root:Epoch[9] Resetting Data Iterator\n",
      "INFO:root:Epoch[9] Time cost=2.467\n",
      "INFO:root:Epoch[9] Validation-RMSE=0.972423\n"
     ]
    }
   ],
   "source": [
    "# Output may vary\n",
    "def get_one_layer_dropout_mlp(hidden, k):\n",
    "    # input\n",
    "    user = mx.symbol.Variable('user')\n",
    "    item = mx.symbol.Variable('item')\n",
    "    score = mx.symbol.Variable('score')\n",
    "    # user latent features\n",
    "    user = mx.symbol.Embedding(data = user, input_dim = max_user, output_dim = k)\n",
    "    user = mx.symbol.Activation(data = user, act_type=\"relu\")\n",
    "    user = mx.symbol.FullyConnected(data = user, num_hidden = hidden)\n",
    "    user = mx.symbol.Dropout(data=user, p=0.5)\n",
    "    # item latent features\n",
    "    item = mx.symbol.Embedding(data = item, input_dim = max_item, output_dim = k)\n",
    "    item = mx.symbol.Activation(data = item, act_type=\"relu\")\n",
    "    item = mx.symbol.FullyConnected(data = item, num_hidden = hidden)\n",
    "    item = mx.symbol.Dropout(data=item, p=0.5)    \n",
    "    # predict by the inner product\n",
    "    pred = user * item\n",
    "    pred = mx.symbol.sum_axis(data = pred, axis = 1)\n",
    "    pred = mx.symbol.Flatten(data = pred)\n",
    "    # loss layer\n",
    "    pred = mx.symbol.LinearRegressionOutput(data = pred, label = score)\n",
    "    return pred\n",
    "train(get_one_layer_mlp(256, 512), batch_size=64, num_epoch=10, learning_rate=.05)"
   ]
  },
  {
   "cell_type": "markdown",
   "metadata": {
    "collapsed": true
   },
   "source": [
    "## Acknowledgement\n",
    "\n",
    "This tutorial is based on examples from [xlvector/github](https://github.com/xlvector/)."
   ]
  }
 ],
 "metadata": {
  "kernelspec": {
   "display_name": "Python 2",
   "language": "python",
   "name": "python2"
  },
  "language_info": {
   "codemirror_mode": {
    "name": "ipython",
    "version": 2
   },
   "file_extension": ".py",
   "mimetype": "text/x-python",
   "name": "python",
   "nbconvert_exporter": "python",
   "pygments_lexer": "ipython2",
   "version": "2.7.6"
  }
 },
 "nbformat": 4,
 "nbformat_minor": 1
}
