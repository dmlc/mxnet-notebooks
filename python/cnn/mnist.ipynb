{
 "cells": [
  {
   "cell_type": "markdown",
   "metadata": {},
   "source": [
    "# Tutorial on Hand Written Digit Recognition\n",
    "\n",
    "In this tutorial we will go through the basic use case of MXNet and also touch on some advanced usages. This example is based on the MNIST dataset, which contains 70,000 images of hand written characters with 28-by-28 pixel size.\n",
    "\n",
    "This tutorial covers the following topics:\n",
    "- network definition.\n",
    "- Variable naming.\n",
    "- Basic data loading and training with feed-forward deep neural networks.\n",
    "- Monitoring intermediate outputs for debuging.\n",
    "- Custom training loop for advanced models.\n",
    "\n",
    "First let's import the modules and setup logging:"
   ]
  },
  {
   "cell_type": "code",
   "execution_count": 1,
   "metadata": {
    "collapsed": false
   },
   "outputs": [],
   "source": [
    "%matplotlib inline\n",
    "import mxnet as mx\n",
    "import numpy as np\n",
    "import matplotlib.pyplot as plt\n",
    "import skimage\n",
    "\n",
    "import logging\n",
    "logging.basicConfig(level=logging.INFO)"
   ]
  },
  {
   "cell_type": "markdown",
   "metadata": {},
   "source": [
    "# Choose Hardware \n",
    "CPU or GPU"
   ]
  },
  {
   "cell_type": "code",
   "execution_count": 32,
   "metadata": {},
   "outputs": [],
   "source": [
    "context = mx.cpu(0)\n",
    "#context = mx.gpu(0)"
   ]
  },
  {
   "cell_type": "markdown",
   "metadata": {},
   "source": [
    "## Network Definition\n",
    "Now we can start constructing our network:"
   ]
  },
  {
   "cell_type": "code",
   "execution_count": 33,
   "metadata": {
    "collapsed": false
   },
   "outputs": [],
   "source": [
    "# Variables are place holders for input arrays. We give each variable a unique name.\n",
    "data = mx.symbol.Variable('data')\n",
    "\n",
    "# The input is fed to a fully connected layer that computes Y=WX+b.\n",
    "# This is the main computation module in the network.\n",
    "# Each layer also needs an unique name. We'll talk more about naming in the next section.\n",
    "fc1  = mx.symbol.FullyConnected(data = data, name='fc1', num_hidden=128)\n",
    "# Activation layers apply a non-linear function on the previous layer's output.\n",
    "# Here we use Rectified Linear Unit (ReLU) that computes Y = max(X, 0).\n",
    "act1 = mx.symbol.Activation(data = fc1, name='relu1', act_type=\"relu\")\n",
    "\n",
    "fc2  = mx.symbol.FullyConnected(data = act1, name = 'fc2', num_hidden = 64)\n",
    "act2 = mx.symbol.Activation(data = fc2, name='relu2', act_type=\"relu\")\n",
    "\n",
    "fc3  = mx.symbol.FullyConnected(data = act2, name='fc3', num_hidden=10)\n",
    "# Finally we have a loss layer that compares the network's output with label and generates gradient signals.\n",
    "mlp  = mx.symbol.SoftmaxOutput(data = fc3, name = 'softmax')"
   ]
  },
  {
   "cell_type": "markdown",
   "metadata": {},
   "source": [
    "We can visualize the network we just defined with MXNet's visualization module:"
   ]
  },
  {
   "cell_type": "code",
   "execution_count": 34,
   "metadata": {
    "collapsed": false
   },
   "outputs": [
    {
     "ename": "ImportError",
     "evalue": "Draw network requires graphviz library",
     "output_type": "error",
     "traceback": [
      "\u001b[0;31m---------------------------------------------------------------------------\u001b[0m",
      "\u001b[0;31mImportError\u001b[0m                               Traceback (most recent call last)",
      "\u001b[0;32m/Library/anaconda/lib/python3.5/site-packages/mxnet-0.9.4-py3.5-macosx-10.6-x86_64.egg/mxnet/visualization.py\u001b[0m in \u001b[0;36mplot_network\u001b[0;34m(symbol, title, save_format, shape, node_attrs, hide_weights)\u001b[0m\n\u001b[1;32m    196\u001b[0m     \u001b[0;32mtry\u001b[0m\u001b[0;34m:\u001b[0m\u001b[0;34m\u001b[0m\u001b[0m\n\u001b[0;32m--> 197\u001b[0;31m         \u001b[0;32mfrom\u001b[0m \u001b[0mgraphviz\u001b[0m \u001b[0;32mimport\u001b[0m \u001b[0mDigraph\u001b[0m\u001b[0;34m\u001b[0m\u001b[0m\n\u001b[0m\u001b[1;32m    198\u001b[0m     \u001b[0;32mexcept\u001b[0m\u001b[0;34m:\u001b[0m\u001b[0;34m\u001b[0m\u001b[0m\n",
      "\u001b[0;31mImportError\u001b[0m: No module named 'graphviz'",
      "\nDuring handling of the above exception, another exception occurred:\n",
      "\u001b[0;31mImportError\u001b[0m                               Traceback (most recent call last)",
      "\u001b[0;32m<ipython-input-34-a1f85b7099f0>\u001b[0m in \u001b[0;36m<module>\u001b[0;34m()\u001b[0m\n\u001b[0;32m----> 1\u001b[0;31m \u001b[0mmx\u001b[0m\u001b[0;34m.\u001b[0m\u001b[0mviz\u001b[0m\u001b[0;34m.\u001b[0m\u001b[0mplot_network\u001b[0m\u001b[0;34m(\u001b[0m\u001b[0mmlp\u001b[0m\u001b[0;34m)\u001b[0m\u001b[0;34m\u001b[0m\u001b[0m\n\u001b[0m",
      "\u001b[0;32m/Library/anaconda/lib/python3.5/site-packages/mxnet-0.9.4-py3.5-macosx-10.6-x86_64.egg/mxnet/visualization.py\u001b[0m in \u001b[0;36mplot_network\u001b[0;34m(symbol, title, save_format, shape, node_attrs, hide_weights)\u001b[0m\n\u001b[1;32m    197\u001b[0m         \u001b[0;32mfrom\u001b[0m \u001b[0mgraphviz\u001b[0m \u001b[0;32mimport\u001b[0m \u001b[0mDigraph\u001b[0m\u001b[0;34m\u001b[0m\u001b[0m\n\u001b[1;32m    198\u001b[0m     \u001b[0;32mexcept\u001b[0m\u001b[0;34m:\u001b[0m\u001b[0;34m\u001b[0m\u001b[0m\n\u001b[0;32m--> 199\u001b[0;31m         \u001b[0;32mraise\u001b[0m \u001b[0mImportError\u001b[0m\u001b[0;34m(\u001b[0m\u001b[0;34m\"Draw network requires graphviz library\"\u001b[0m\u001b[0;34m)\u001b[0m\u001b[0;34m\u001b[0m\u001b[0m\n\u001b[0m\u001b[1;32m    200\u001b[0m     \u001b[0;32mif\u001b[0m \u001b[0;32mnot\u001b[0m \u001b[0misinstance\u001b[0m\u001b[0;34m(\u001b[0m\u001b[0msymbol\u001b[0m\u001b[0;34m,\u001b[0m \u001b[0mSymbol\u001b[0m\u001b[0;34m)\u001b[0m\u001b[0;34m:\u001b[0m\u001b[0;34m\u001b[0m\u001b[0m\n\u001b[1;32m    201\u001b[0m         \u001b[0;32mraise\u001b[0m \u001b[0mTypeError\u001b[0m\u001b[0;34m(\u001b[0m\u001b[0;34m\"symbol must be Symbol\"\u001b[0m\u001b[0;34m)\u001b[0m\u001b[0;34m\u001b[0m\u001b[0m\n",
      "\u001b[0;31mImportError\u001b[0m: Draw network requires graphviz library"
     ]
    }
   ],
   "source": [
    "mx.viz.plot_network(mlp)"
   ]
  },
  {
   "cell_type": "markdown",
   "metadata": {},
   "source": [
    "## Variable Naming\n",
    "\n",
    "MXNet requires variable names to follow certain conventions:\n",
    "- All input arrays have a name. This includes inputs (data & label) and model parameters (weight, bias, etc).\n",
    "- Arrays can be renamed by creating named variable. Otherwise, a default name is given as 'SymbolName_ArrayName'. For example, FullyConnected symbol fc1's weight array is named as 'fc1_weight'.\n",
    "- Although you can also rename weight arrays with variables, weight array's name should always end with '_weight' and bias array '_bias'. MXNet relies on the suffixes of array names to correctly initialize & update them.\n",
    "\n",
    "Call list_arguments method on a symbol to get the names of all its inputs:"
   ]
  },
  {
   "cell_type": "code",
   "execution_count": null,
   "metadata": {
    "collapsed": false
   },
   "outputs": [],
   "source": [
    "mlp.list_arguments()"
   ]
  },
  {
   "cell_type": "markdown",
   "metadata": {},
   "source": [
    "## Data Loading\n",
    "\n",
    "We fetch and load the MNIST dataset and partition it into two sets: 60000 examples for training and 10000 examples for testing. We also visualize a few examples to get an idea of what the dataset looks like."
   ]
  },
  {
   "cell_type": "code",
   "execution_count": null,
   "metadata": {
    "collapsed": false
   },
   "outputs": [],
   "source": [
    "from sklearn.datasets import fetch_mldata\n",
    "mnist = fetch_mldata('MNIST original')\n",
    "np.random.seed(1234) # set seed for deterministic ordering\n",
    "p = np.random.permutation(mnist.data.shape[0])\n",
    "X = mnist.data[p]\n",
    "Y = mnist.target[p]\n",
    "\n",
    "for i in range(10):\n",
    "    plt.subplot(1,10,i+1)\n",
    "    plt.imshow(X[i].reshape((28,28)), cmap='Greys_r')\n",
    "    plt.axis('off')\n",
    "plt.show()\n",
    "\n",
    "X = X.astype(np.float32)/255\n",
    "X_train = X[:60000]\n",
    "X_test = X[60000:]\n",
    "Y_train = Y[:60000]\n",
    "Y_test = Y[60000:]"
   ]
  },
  {
   "cell_type": "markdown",
   "metadata": {},
   "source": [
    "Now we can create data iterators from our MNIST data. A data iterator returns a batch of data examples each time for the network to process. MXNet provide a suite of basic DataIters for parsing different data format. Here we use NDArrayIter, which wraps around a numpy array and each time slice a chunk from it along the first dimension."
   ]
  },
  {
   "cell_type": "code",
   "execution_count": null,
   "metadata": {
    "collapsed": false
   },
   "outputs": [],
   "source": [
    "batch_size = 100\n",
    "train_iter = mx.io.NDArrayIter(X_train, Y_train, batch_size=batch_size)\n",
    "test_iter = mx.io.NDArrayIter(X_test, Y_test, batch_size=batch_size)"
   ]
  },
  {
   "cell_type": "markdown",
   "metadata": {},
   "source": [
    "## Training\n",
    "\n",
    "With the network and data source defined, we can finally start to train our model. We do this with MXNet's convenience wrapper for feed forward neural networks (it can also be made to handle RNNs with explicit unrolling). "
   ]
  },
  {
   "cell_type": "code",
   "execution_count": null,
   "metadata": {
    "collapsed": false
   },
   "outputs": [],
   "source": [
    "model = mx.mod.Module(symbol=mlp, \n",
    "                    context=context,\n",
    "                    data_names=['data'], \n",
    "                    label_names=['softmax_label'])\n",
    "\n",
    "model.fit(train_iter, \n",
    "        eval_data=test_iter,\n",
    "        optimizer='sgd',\n",
    "        optimizer_params={'learning_rate':0.1,'momentum':0.9,'wd':0.00001},\n",
    "        eval_metric='acc',\n",
    "        num_epoch=10)"
   ]
  },
  {
   "cell_type": "markdown",
   "metadata": {},
   "source": [
    "## Evaluation\n",
    "\n",
    "After the model is trained, we can evaluate it on a held out test set.\n",
    "First, lets classity a sample image:"
   ]
  },
  {
   "cell_type": "code",
   "execution_count": 35,
   "metadata": {
    "collapsed": false
   },
   "outputs": [
    {
     "data": {
      "image/png": "[encoded data removed]",
      "text/plain": [
       "<matplotlib.figure.Figure at 0x11f701860>"
      ]
     },
     "metadata": {},
     "output_type": "display_data"
    },
    {
     "name": "stdout",
     "output_type": "stream",
     "text": [
      "Result: 7\n"
     ]
    }
   ],
   "source": [
    "index_img = 0\n",
    "plt.imshow((X_test[index_img].reshape((28,28))*255).astype(np.uint8), cmap='Greys_r')\n",
    "plt.show()\n",
    "prediction_prob = model.predict(eval_data=test_iter,num_batch=1)\n",
    "clss_pred = prediction_prob[index_img].asnumpy()\n",
    "print('Result: {}'.format(clss_pred.argmax()),)"
   ]
  },
  {
   "cell_type": "markdown",
   "metadata": {},
   "source": [
    "We can also evaluate the model's accuracy on the entire test set:"
   ]
  },
  {
   "cell_type": "code",
   "execution_count": 36,
   "metadata": {
    "collapsed": false,
    "scrolled": true
   },
   "outputs": [
    {
     "data": {
      "text/plain": [
       "[('accuracy', 0.95999999999999996)]"
      ]
     },
     "execution_count": 36,
     "metadata": {},
     "output_type": "execute_result"
    }
   ],
   "source": [
    "list(model.score(test_iter,eval_metric=['acc'],num_batch=1,)) #support for python 3 zip"
   ]
  },
  {
   "cell_type": "markdown",
   "metadata": {},
   "source": [
    "Now, try if your model recognizes your own hand writing.\n",
    "\n",
    "Write a digit from 0 to 9 in the box below. Try to put your digit in the middle of the box.\n",
    "##### run hand drawing test\n"
   ]
  },
  {
   "cell_type": "code",
   "execution_count": 43,
   "metadata": {},
   "outputs": [
    {
     "data": {
      "text/html": [
       "\n",
       "<style type=\"text/css\">\n",
       "  canvas { border: 1px solid black; }\n",
       "</style>\n",
       "\n",
       "<div id=\"board\">\n",
       "\n",
       "  <canvas id=\"myCanvas\" width=\"100px\" height=\"100px\">\n",
       "    Sorry, your browser doesn't support canvas technology.\n",
       "  </canvas>\n",
       "\n",
       "  <p>\n",
       "\n",
       "    <button id=\"classify\" onclick=\"classify()\">\n",
       "      Classify\n",
       "    </button>\n",
       "\n",
       "    <button id=\"clear\" onclick=\"myClear()\">\n",
       "      Clear\n",
       "    </button>\n",
       "    Result: \n",
       "    <input type=\"text\" id=\"result_output\" size=\"5\" value=\"\">\n",
       "\n",
       "  </p>\n",
       "\n",
       "</div>\n",
       "\n",
       "<script type = \"text/JavaScript\" src = \"https://ajax.googleapis.com/ajax/libs/jquery/1.4.2/jquery.min.js?ver=1.4.2\" > </script>\n",
       "\n",
       "<script type = \"text/javascript\" >\n",
       "\n",
       "    function init() {\n",
       "        var myCanvas = document.getElementById(\"myCanvas\");\n",
       "        var curColor = $('#selectColor option:selected').val();\n",
       "        if (myCanvas) {\n",
       "            var isDown = false;\n",
       "            var ctx = myCanvas.getContext(\"2d\");\n",
       "            var canvasX, canvasY;\n",
       "            ctx.lineWidth = 8;\n",
       "            $(myCanvas).mousedown(function(e) {\n",
       "                isDown = true;\n",
       "                ctx.beginPath();\n",
       "                var parentOffset = $(this).parent().offset();\n",
       "                canvasX = e.pageX - parentOffset.left;\n",
       "                canvasY = e.pageY - parentOffset.top;\n",
       "                ctx.moveTo(canvasX, canvasY);\n",
       "            }).mousemove(function(e) {\n",
       "                if (isDown != false) {\n",
       "                    var parentOffset = $(this).parent().offset();\n",
       "                    canvasX = e.pageX - parentOffset.left;\n",
       "                    canvasY = e.pageY - parentOffset.top;\n",
       "                    ctx.lineTo(canvasX, canvasY);\n",
       "                    ctx.strokeStyle = curColor;\n",
       "                    ctx.stroke();\n",
       "                }\n",
       "            }).mouseup(function(e) {\n",
       "                isDown = false;\n",
       "                ctx.closePath();\n",
       "            });\n",
       "        }\n",
       "        $('#selectColor').change(function() {\n",
       "            curColor = $('#selectColor option:selected').val();\n",
       "        });\n",
       "    }\n",
       "init();\n",
       "\n",
       "function handle_output(out) {\n",
       "    document.getElementById(\"result_output\").value = out.content.data[\"text/plain\"];\n",
       "}\n",
       "\n",
       "function classify() {\n",
       "    var kernel = IPython.notebook.kernel;\n",
       "    var myCanvas = document.getElementById(\"myCanvas\");\n",
       "    data = myCanvas.toDataURL('image/png');\n",
       "    document.getElementById(\"result_output\").value = \"\";\n",
       "    kernel.execute(\"classify('\" + data + \"')\", {\n",
       "        'iopub': {\n",
       "            'output': handle_output\n",
       "        }\n",
       "    }, {\n",
       "        silent: false\n",
       "    });\n",
       "}\n",
       "\n",
       "function myClear() {\n",
       "    var myCanvas = document.getElementById(\"myCanvas\");\n",
       "    myCanvas.getContext(\"2d\").clearRect(0, 0, myCanvas.width, myCanvas.height);\n",
       "}\n",
       "\n",
       "\n",
       "</script>\n"
      ],
      "text/plain": [
       "<IPython.core.display.HTML object>"
      ]
     },
     "execution_count": 43,
     "metadata": {},
     "output_type": "execute_result"
    }
   ],
   "source": [
    "from IPython.display import HTML\n",
    "\n",
    "HTML(filename=\"../tutorials/mnist_demo.html\")"
   ]
  },
  {
   "cell_type": "code",
   "execution_count": 44,
   "metadata": {},
   "outputs": [],
   "source": [
    "def classify(img):\n",
    "    img = img[len('data:image/png;base64,'):].decode('base64')\n",
    "    img = np.fromstring(img, np.uint8)\n",
    "    img = skimage.transform.resize(img[:,:,3], (28,28))\n",
    "    img = img.astype(np.float32).reshape((1, 784))/255.0\n",
    "    return model.predict(img)[0].argmax()"
   ]
  },
  {
   "cell_type": "markdown",
   "metadata": {},
   "source": [
    "## Debugging\n",
    "\n",
    "DNNs can perform poorly for a lot of reasons, like learning rate too big/small, initialization too big/small, network structure not reasonable, etc. When this happens it's often helpful to print out the weights and intermediate outputs to understand what's going on. MXNet provides a monitor utility that does this:"
   ]
  },
  {
   "cell_type": "code",
   "execution_count": 11,
   "metadata": {
    "collapsed": false
   },
   "outputs": [
    {
     "name": "stderr",
     "output_type": "stream",
     "text": [
      "INFO:root:Batch:       1 fc1_backward_weight            0.000541595\t\n",
      "INFO:root:Batch:       1 fc1_weight                     0.00577772\t\n",
      "INFO:root:Batch:       1 fc2_backward_weight            0.00189115\t\n",
      "INFO:root:Batch:       1 fc2_weight                     0.0057712\t\n",
      "INFO:root:Batch:       1 fc3_backward_weight            0.00564961\t\n",
      "INFO:root:Batch:       1 fc3_weight                     0.00581891\t\n",
      "INFO:root:Batch:     101 fc1_backward_weight            0.162381\t\n",
      "INFO:root:Batch:     101 fc1_weight                     0.00816389\t\n",
      "INFO:root:Batch:     101 fc2_backward_weight            0.362393\t\n",
      "INFO:root:Batch:     101 fc2_weight                     0.0209675\t\n",
      "INFO:root:Batch:     101 fc3_backward_weight            1.31702\t\n",
      "INFO:root:Batch:     101 fc3_weight                     0.0764442\t\n",
      "INFO:root:Epoch[0] Batch [100]\tSpeed: 62053.17 samples/sec\tTrain-accuracy=0.146634\n",
      "INFO:root:Batch:     201 fc1_backward_weight            0.210093\t\n",
      "INFO:root:Batch:     201 fc1_weight                     0.0228467\t\n",
      "INFO:root:Batch:     201 fc2_backward_weight            0.473328\t\n",
      "INFO:root:Batch:     201 fc2_weight                     0.049772\t\n",
      "INFO:root:Batch:     201 fc3_backward_weight            1.40697\t\n",
      "INFO:root:Batch:     201 fc3_weight                     0.222481\t\n",
      "INFO:root:Epoch[0] Batch [200]\tSpeed: 71201.77 samples/sec\tTrain-accuracy=0.711000\n",
      "INFO:root:Batch:     301 fc1_backward_weight            0.104646\t\n",
      "INFO:root:Batch:     301 fc1_weight                     0.0298818\t\n",
      "INFO:root:Batch:     301 fc2_backward_weight            0.205249\t\n",
      "INFO:root:Batch:     301 fc2_weight                     0.0626557\t\n",
      "INFO:root:Batch:     301 fc3_backward_weight            0.495552\t\n",
      "INFO:root:Batch:     301 fc3_weight                     0.242332\t\n",
      "INFO:root:Epoch[0] Batch [300]\tSpeed: 69317.37 samples/sec\tTrain-accuracy=0.895500\n",
      "INFO:root:Batch:     401 fc1_backward_weight            0.146231\t\n",
      "INFO:root:Batch:     401 fc1_weight                     0.0345387\t\n",
      "INFO:root:Batch:     401 fc2_backward_weight            0.281562\t\n",
      "INFO:root:Batch:     401 fc2_weight                     0.0702968\t\n",
      "INFO:root:Batch:     401 fc3_backward_weight            0.513354\t\n",
      "INFO:root:Batch:     401 fc3_weight                     0.249248\t\n",
      "INFO:root:Epoch[0] Batch [400]\tSpeed: 66535.80 samples/sec\tTrain-accuracy=0.926700\n",
      "INFO:root:Batch:     501 fc1_backward_weight            0.177796\t\n",
      "INFO:root:Batch:     501 fc1_weight                     0.0383661\t\n",
      "INFO:root:Batch:     501 fc2_backward_weight            0.339293\t\n",
      "INFO:root:Batch:     501 fc2_weight                     0.0767598\t\n",
      "INFO:root:Batch:     501 fc3_backward_weight            0.877437\t\n",
      "INFO:root:Batch:     501 fc3_weight                     0.255427\t\n",
      "INFO:root:Epoch[0] Batch [500]\tSpeed: 67747.97 samples/sec\tTrain-accuracy=0.938100\n",
      "INFO:root:Epoch[0] Train-accuracy=0.948687\n",
      "INFO:root:Epoch[0] Time cost=0.898\n",
      "INFO:root:Epoch[0] Validation-accuracy=0.949800\n"
     ]
    }
   ],
   "source": [
    "def norm_stat(d):\n",
    "    \"\"\"The statistics you want to see.\n",
    "    We compute the L2 norm here but you can change it to anything you like.\"\"\"\n",
    "    return mx.nd.norm(d)/np.sqrt(d.size)\n",
    "\n",
    "mon = mx.mon.Monitor(\n",
    "    100,                 # Print every 100 batches\n",
    "    norm_stat,           # The statistics function defined above\n",
    "    pattern='.*weight',  # A regular expression. Only arrays with name matching this pattern will be included.\n",
    "    sort=True)           # Sort output by name\n",
    "\n",
    "model = mx.mod.Module(symbol=mlp, \n",
    "                    context=context,\n",
    "                    data_names=['data'], \n",
    "                    label_names=['softmax_label'])\n",
    "\n",
    "model.fit(train_iter,\n",
    "        eval_data=test_iter,\n",
    "        optimizer='sgd',\n",
    "        optimizer_params={'learning_rate':0.1,'momentum':0.9,'wd':0.00001},\n",
    "        eval_metric='acc',monitor= mon,\n",
    "        num_epoch=1,batch_end_callback= mx.callback.Speedometer(100, 100))\n"
   ]
  },
  {
   "cell_type": "markdown",
   "metadata": {},
   "source": [
    "## Under the hood: Custom Training Loop\n",
    "\n",
    "`mx.model.FeedForward` is a convenience wrapper for training standard feed forward networks. What if the model you are working with is more complicated? With MXNet, you can easily control every aspect of training by writing your own training loop.\n",
    "\n",
    "Neural network training typically has 3 steps: forward, backward (gradient), and update. With custom training loop, you can control the details in each step as while as insert complicated computations in between. You can also connect multiple networks together."
   ]
  },
  {
   "cell_type": "code",
   "execution_count": 13,
   "metadata": {
    "collapsed": false
   },
   "outputs": [
    {
     "name": "stdout",
     "output_type": "stream",
     "text": [
      "input_shapes {'data': (100, 784), 'softmax_label': (100,)}\n",
      "epoch: 0 iter: 100 metric: ('accuracy', 0.13700000000000001)\n",
      "epoch: 0 iter: 200 metric: ('accuracy', 0.4168)\n",
      "epoch: 0 iter: 300 metric: ('accuracy', 0.57609999999999995)\n",
      "epoch: 0 iter: 400 metric: ('accuracy', 0.6643)\n",
      "epoch: 0 iter: 500 metric: ('accuracy', 0.71916000000000002)\n",
      "epoch: 0 iter: 600 metric: ('accuracy', 0.75729999999999997)\n",
      "epoch: 1 iter: 100 metric: ('accuracy', 0.94740000000000002)\n",
      "epoch: 1 iter: 200 metric: ('accuracy', 0.94984999999999997)\n",
      "epoch: 1 iter: 300 metric: ('accuracy', 0.9536)\n",
      "epoch: 1 iter: 400 metric: ('accuracy', 0.95572500000000005)\n",
      "epoch: 1 iter: 500 metric: ('accuracy', 0.95723999999999998)\n",
      "epoch: 1 iter: 600 metric: ('accuracy', 0.95891666666666664)\n",
      "epoch: 2 iter: 100 metric: ('accuracy', 0.96540000000000004)\n",
      "epoch: 2 iter: 200 metric: ('accuracy', 0.96625000000000005)\n",
      "epoch: 2 iter: 300 metric: ('accuracy', 0.96823333333333328)\n",
      "epoch: 2 iter: 400 metric: ('accuracy', 0.96942499999999998)\n",
      "epoch: 2 iter: 500 metric: ('accuracy', 0.96996000000000004)\n",
      "epoch: 2 iter: 600 metric: ('accuracy', 0.97143333333333337)\n",
      "epoch: 3 iter: 100 metric: ('accuracy', 0.9738)\n",
      "epoch: 3 iter: 200 metric: ('accuracy', 0.97414999999999996)\n",
      "epoch: 3 iter: 300 metric: ('accuracy', 0.97570000000000001)\n",
      "epoch: 3 iter: 400 metric: ('accuracy', 0.97677499999999995)\n",
      "epoch: 3 iter: 500 metric: ('accuracy', 0.97694000000000003)\n",
      "epoch: 3 iter: 600 metric: ('accuracy', 0.97785)\n",
      "epoch: 4 iter: 100 metric: ('accuracy', 0.98140000000000005)\n",
      "epoch: 4 iter: 200 metric: ('accuracy', 0.98114999999999997)\n",
      "epoch: 4 iter: 300 metric: ('accuracy', 0.98066666666666669)\n",
      "epoch: 4 iter: 400 metric: ('accuracy', 0.98082499999999995)\n",
      "epoch: 4 iter: 500 metric: ('accuracy', 0.98146)\n",
      "epoch: 4 iter: 600 metric: ('accuracy', 0.98208333333333331)\n",
      "epoch: 5 iter: 100 metric: ('accuracy', 0.98209999999999997)\n",
      "epoch: 5 iter: 200 metric: ('accuracy', 0.98260000000000003)\n",
      "epoch: 5 iter: 300 metric: ('accuracy', 0.98350000000000004)\n",
      "epoch: 5 iter: 400 metric: ('accuracy', 0.98377499999999996)\n",
      "epoch: 5 iter: 500 metric: ('accuracy', 0.98419999999999996)\n",
      "epoch: 5 iter: 600 metric: ('accuracy', 0.98493333333333333)\n",
      "epoch: 6 iter: 100 metric: ('accuracy', 0.9859)\n",
      "epoch: 6 iter: 200 metric: ('accuracy', 0.98519999999999996)\n",
      "epoch: 6 iter: 300 metric: ('accuracy', 0.98606666666666665)\n",
      "epoch: 6 iter: 400 metric: ('accuracy', 0.98575000000000002)\n",
      "epoch: 6 iter: 500 metric: ('accuracy', 0.98507999999999996)\n",
      "epoch: 6 iter: 600 metric: ('accuracy', 0.98585)\n",
      "epoch: 7 iter: 100 metric: ('accuracy', 0.98609999999999998)\n",
      "epoch: 7 iter: 200 metric: ('accuracy', 0.98475000000000001)\n",
      "epoch: 7 iter: 300 metric: ('accuracy', 0.98573333333333335)\n",
      "epoch: 7 iter: 400 metric: ('accuracy', 0.98634999999999995)\n",
      "epoch: 7 iter: 500 metric: ('accuracy', 0.98631999999999997)\n",
      "epoch: 7 iter: 600 metric: ('accuracy', 0.98681666666666668)\n",
      "epoch: 8 iter: 100 metric: ('accuracy', 0.98750000000000004)\n",
      "epoch: 8 iter: 200 metric: ('accuracy', 0.98694999999999999)\n",
      "epoch: 8 iter: 300 metric: ('accuracy', 0.98833333333333329)\n",
      "epoch: 8 iter: 400 metric: ('accuracy', 0.98814999999999997)\n",
      "epoch: 8 iter: 500 metric: ('accuracy', 0.98838000000000004)\n",
      "epoch: 8 iter: 600 metric: ('accuracy', 0.98909999999999998)\n",
      "epoch: 9 iter: 100 metric: ('accuracy', 0.98709999999999998)\n",
      "epoch: 9 iter: 200 metric: ('accuracy', 0.9879)\n",
      "epoch: 9 iter: 300 metric: ('accuracy', 0.9882333333333333)\n",
      "epoch: 9 iter: 400 metric: ('accuracy', 0.98870000000000002)\n",
      "epoch: 9 iter: 500 metric: ('accuracy', 0.98899999999999999)\n",
      "epoch: 9 iter: 600 metric: ('accuracy', 0.98906666666666665)\n"
     ]
    }
   ],
   "source": [
    "# ==================Binding=====================\n",
    "# The symbol we created is only a graph description.\n",
    "# To run it, we first need to allocate memory and create an executor by 'binding' it.\n",
    "# In order to bind a symbol, we need at least two pieces of information: context and input shapes.\n",
    "# Context specifies which device the executor runs on, e.g. cpu, GPU0, GPU1, etc.\n",
    "# Input shapes define the executor's input array dimensions.\n",
    "# MXNet then run automatic shape inference to determine the dimensions of intermediate and output arrays.\n",
    "\n",
    "# data iterators defines shapes of its output with provide_data and provide_label property.\n",
    "input_shapes = dict(train_iter.provide_data+train_iter.provide_label)\n",
    "print ('input_shapes', input_shapes)\n",
    "# We use simple_bind to let MXNet allocate memory for us.\n",
    "# You can also allocate memory youself and use bind to pass it to MXNet.\n",
    "exe = mlp.simple_bind(ctx=context, **input_shapes)\n",
    "\n",
    "# ===============Initialization=================\n",
    "# First we get handle to input arrays\n",
    "arg_arrays = dict(zip(mlp.list_arguments(), exe.arg_arrays))\n",
    "data = arg_arrays[train_iter.provide_data[0][0]]\n",
    "label = arg_arrays[train_iter.provide_label[0][0]]\n",
    "\n",
    "# We initialize the weights with uniform distribution on (-0.01, 0.01).\n",
    "init = mx.init.Uniform(scale=0.01)\n",
    "for name, arr in arg_arrays.items():\n",
    "    if name not in input_shapes:\n",
    "        init(mx.init.InitDesc(name), arr)\n",
    "    \n",
    "# We also need to create an optimizer for updating weights\n",
    "opt = mx.optimizer.SGD(\n",
    "    learning_rate=0.1,\n",
    "    momentum=0.9,\n",
    "    wd=0.00001,\n",
    "    rescale_grad=1.0/train_iter.batch_size)\n",
    "updater = mx.optimizer.get_updater(opt)\n",
    "\n",
    "# Finally we need a metric to print out training progress\n",
    "metric = mx.metric.Accuracy()\n",
    "\n",
    "# Training loop begines\n",
    "for epoch in range(10):\n",
    "    train_iter.reset()\n",
    "    metric.reset()\n",
    "    t = 0\n",
    "    for batch in train_iter:\n",
    "        # Copy data to executor input. Note the [:].\n",
    "        data[:] = batch.data[0]\n",
    "        label[:] = batch.label[0]\n",
    "        \n",
    "        # Forward\n",
    "        exe.forward(is_train=True)\n",
    "        \n",
    "        # You perform operations on exe.outputs here if you need to.\n",
    "        # For example, you can stack a CRF on top of a neural network.\n",
    "        \n",
    "        # Backward\n",
    "        exe.backward()\n",
    "        \n",
    "        # Update\n",
    "        for i, pair in enumerate(zip(exe.arg_arrays, exe.grad_arrays)):\n",
    "            weight, grad = pair\n",
    "            updater(i, grad, weight)\n",
    "        metric.update(batch.label, exe.outputs)\n",
    "        t += 1\n",
    "        if t % 100 == 0:\n",
    "            print ('epoch:', epoch, 'iter:', t, 'metric:', metric.get())\n"
   ]
  },
  {
   "cell_type": "markdown",
   "metadata": {},
   "source": [
    "## New Operators\n",
    "\n",
    "MXNet provides a repository of common operators (or layers). However, new models often require new layers. There are several ways to [create new operators](https://mxnet.readthedocs.org/en/latest/tutorial/new_op_howto.html) with MXNet. Here we talk about the easiest way: pure python. "
   ]
  },
  {
   "cell_type": "code",
   "execution_count": 14,
   "metadata": {
    "collapsed": false
   },
   "outputs": [
    {
     "name": "stderr",
     "output_type": "stream",
     "text": [
      "INFO:root:Epoch[0] Train-accuracy=nan\n",
      "INFO:root:Epoch[0] Time cost=0.001\n",
      "INFO:root:Epoch[0] Validation-accuracy=0.128000\n",
      "INFO:root:Batch:     601 fc1_backward_weight            0.000573766\t\n",
      "INFO:root:Batch:     601 fc1_weight                     0.0410163\t\n",
      "INFO:root:Batch:     601 fc1_weight                     0.00578439\t\n",
      "INFO:root:Batch:     601 fc2_backward_weight            0.00197665\t\n",
      "INFO:root:Batch:     601 fc2_weight                     0.0817942\t\n",
      "INFO:root:Batch:     601 fc2_weight                     0.00573697\t\n",
      "INFO:root:Batch:     601 fc3_backward_weight            0.00617059\t\n",
      "INFO:root:Batch:     601 fc3_weight                     0.262115\t\n",
      "INFO:root:Batch:     601 fc3_weight                     0.00586618\t\n",
      "INFO:root:Batch:     701 fc1_backward_weight            0.205179\t\n",
      "INFO:root:Batch:     701 fc1_weight                     0.0410163\t\n",
      "INFO:root:Batch:     701 fc1_weight                     0.00921468\t\n",
      "INFO:root:Batch:     701 fc2_backward_weight            0.618877\t\n",
      "INFO:root:Batch:     701 fc2_weight                     0.0817942\t\n",
      "INFO:root:Batch:     701 fc2_weight                     0.0244061\t\n",
      "INFO:root:Batch:     701 fc3_backward_weight            4.54543\t\n",
      "INFO:root:Batch:     701 fc3_weight                     0.262115\t\n",
      "INFO:root:Batch:     701 fc3_weight                     0.0965187\t\n",
      "INFO:root:Epoch[1] Batch [100]\tSpeed: 35865.92 samples/sec\tTrain-accuracy=0.158119\n",
      "INFO:root:Batch:     801 fc1_backward_weight            0.235525\t\n",
      "INFO:root:Batch:     801 fc1_weight                     0.0410163\t\n",
      "INFO:root:Batch:     801 fc1_weight                     0.0234647\t\n",
      "INFO:root:Batch:     801 fc2_backward_weight            0.521232\t\n",
      "INFO:root:Batch:     801 fc2_weight                     0.0817942\t\n",
      "INFO:root:Batch:     801 fc2_weight                     0.0492508\t\n",
      "INFO:root:Batch:     801 fc3_backward_weight            1.39495\t\n",
      "INFO:root:Batch:     801 fc3_weight                     0.262115\t\n",
      "INFO:root:Batch:     801 fc3_weight                     0.214029\t\n",
      "INFO:root:Epoch[1] Batch [200]\tSpeed: 41719.34 samples/sec\tTrain-accuracy=0.739800\n",
      "INFO:root:Batch:     901 fc1_backward_weight            0.103812\t\n",
      "INFO:root:Batch:     901 fc1_weight                     0.0410163\t\n",
      "INFO:root:Batch:     901 fc1_weight                     0.0304797\t\n",
      "INFO:root:Batch:     901 fc2_backward_weight            0.266583\t\n",
      "INFO:root:Batch:     901 fc2_weight                     0.0817942\t\n",
      "INFO:root:Batch:     901 fc2_weight                     0.0619285\t\n",
      "INFO:root:Batch:     901 fc3_backward_weight            0.667005\t\n",
      "INFO:root:Batch:     901 fc3_weight                     0.262115\t\n",
      "INFO:root:Batch:     901 fc3_weight                     0.232072\t\n",
      "INFO:root:Epoch[1] Batch [300]\tSpeed: 41212.14 samples/sec\tTrain-accuracy=0.894700\n",
      "INFO:root:Batch:    1001 fc1_backward_weight            0.142405\t\n",
      "INFO:root:Batch:    1001 fc1_weight                     0.0410163\t\n",
      "INFO:root:Batch:    1001 fc1_weight                     0.0353\t\n",
      "INFO:root:Batch:    1001 fc2_backward_weight            0.317499\t\n",
      "INFO:root:Batch:    1001 fc2_weight                     0.0817942\t\n",
      "INFO:root:Batch:    1001 fc2_weight                     0.0703766\t\n",
      "INFO:root:Batch:    1001 fc3_backward_weight            0.699576\t\n",
      "INFO:root:Batch:    1001 fc3_weight                     0.262115\t\n",
      "INFO:root:Batch:    1001 fc3_weight                     0.241625\t\n",
      "INFO:root:Epoch[1] Batch [400]\tSpeed: 45648.76 samples/sec\tTrain-accuracy=0.924500\n",
      "INFO:root:Batch:    1101 fc1_backward_weight            0.170826\t\n",
      "INFO:root:Batch:    1101 fc1_weight                     0.0410163\t\n",
      "INFO:root:Batch:    1101 fc1_weight                     0.0391072\t\n",
      "INFO:root:Batch:    1101 fc2_backward_weight            0.387486\t\n",
      "INFO:root:Batch:    1101 fc2_weight                     0.0817942\t\n",
      "INFO:root:Batch:    1101 fc2_weight                     0.0776397\t\n",
      "INFO:root:Batch:    1101 fc3_backward_weight            0.962787\t\n",
      "INFO:root:Batch:    1101 fc3_weight                     0.262115\t\n",
      "INFO:root:Batch:    1101 fc3_weight                     0.249665\t\n",
      "INFO:root:Epoch[1] Batch [500]\tSpeed: 65939.57 samples/sec\tTrain-accuracy=0.934400\n",
      "INFO:root:Epoch[1] Train-accuracy=0.948586\n",
      "INFO:root:Epoch[1] Time cost=1.359\n",
      "INFO:root:Epoch[1] Validation-accuracy=0.952300\n"
     ]
    }
   ],
   "source": [
    "# Define custom softmax operator\n",
    "class NumpySoftmax(mx.operator.NumpyOp):\n",
    "    def __init__(self):\n",
    "        # Call the parent class constructor. \n",
    "        # Because NumpySoftmax is a loss layer, it doesn't need gradient input from layers above.\n",
    "        super(NumpySoftmax, self).__init__(need_top_grad=False)\n",
    "    \n",
    "    def list_arguments(self):\n",
    "        # Define the input to NumpySoftmax.\n",
    "        return ['data', 'label']\n",
    "\n",
    "    def list_outputs(self):\n",
    "        # Define the output.\n",
    "        return ['output']\n",
    "\n",
    "    def infer_shape(self, in_shape):\n",
    "        # Calculate the dimensions of the output (and missing inputs) from (some) input shapes.\n",
    "        data_shape = in_shape[0]  # shape of first argument 'data'\n",
    "        label_shape = (in_shape[0][0],)  # 'label' should be one dimensional and has batch_size instances.\n",
    "        output_shape = in_shape[0] # 'output' dimension is the same as the input.\n",
    "        return [data_shape, label_shape], [output_shape]\n",
    "\n",
    "    def forward(self, in_data, out_data):\n",
    "        x = in_data[0]  # 'data'\n",
    "        y = out_data[0]  # 'output'\n",
    "        \n",
    "        # Compute softmax\n",
    "        y[:] = np.exp(x - x.max(axis=1).reshape((x.shape[0], 1)))\n",
    "        y /= y.sum(axis=1).reshape((x.shape[0], 1))\n",
    "\n",
    "    def backward(self, out_grad, in_data, out_data, in_grad):\n",
    "        l = in_data[1]  # 'label'\n",
    "        l = l.reshape((l.size,)).astype(np.int)  # cast to int\n",
    "        y = out_data[0]  # 'output'\n",
    "        dx = in_grad[0]  # gradient for 'data'\n",
    "        \n",
    "        # Compute gradient\n",
    "        dx[:] = y\n",
    "        dx[np.arange(l.shape[0]), l] -= 1.0\n",
    "\n",
    "numpy_softmax = NumpySoftmax()\n",
    "\n",
    "data = mx.symbol.Variable('data')\n",
    "fc1 = mx.symbol.FullyConnected(data = data, name='fc1', num_hidden=128)\n",
    "act1 = mx.symbol.Activation(data = fc1, name='relu1', act_type=\"relu\")\n",
    "fc2 = mx.symbol.FullyConnected(data = act1, name = 'fc2', num_hidden = 64)\n",
    "act2 = mx.symbol.Activation(data = fc2, name='relu2', act_type=\"relu\")\n",
    "fc3 = mx.symbol.FullyConnected(data = act2, name='fc3', num_hidden=10)\n",
    "# Use the new operator we just defined instead of the standard softmax operator.\n",
    "mlp = numpy_softmax(data=fc3, name = 'softmax')\n",
    "\n",
    "model = mx.mod.Module(symbol=mlp, \n",
    "                    context=context,\n",
    "                    data_names=['data'], \n",
    "                    label_names=['softmax_label'])\n",
    "\n",
    "model.fit(train_iter,\n",
    "        eval_data=test_iter,\n",
    "        optimizer='sgd',\n",
    "        optimizer_params={'learning_rate':0.1,'momentum':0.9,'wd':0.00001},\n",
    "        eval_metric='acc',monitor= mon,\n",
    "        num_epoch=2,batch_end_callback= mx.callback.Speedometer(100, 100))"
   ]
  },
  {
   "cell_type": "markdown",
   "metadata": {},
   "source": [
    "## Further Readings\n",
    "\n",
    "- More state-of-the-art cnn models are available at [mxnet/example/image-classification](https://github.com/dmlc/mxnet/tree/master/example/image-classification)"
   ]
  }
 ],
 "metadata": {
  "anaconda-cloud": {},
  "kernelspec": {
   "display_name": "Python [default]",
   "language": "python",
   "name": "python3"
  },
  "language_info": {
   "codemirror_mode": {
    "name": "ipython",
    "version": 3
   },
   "file_extension": ".py",
   "mimetype": "text/x-python",
   "name": "python",
   "nbconvert_exporter": "python",
   "pygments_lexer": "ipython3",
   "version": "3.5.2"
  }
 },
 "nbformat": 4,
 "nbformat_minor": 1
}
