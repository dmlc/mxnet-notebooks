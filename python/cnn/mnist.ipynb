{
 "cells": [
  {
   "cell_type": "markdown",
   "metadata": {},
   "source": [
    "# Tutorial on Hand Written Digit Recognition\n",
    "\n",
    "In this tutorial we will go through the basic use case of MXNet and also touch on some advanced usages. This example is based on the MNIST dataset, which contains 70,000 images of hand written characters with 28-by-28 pixel size.\n",
    "\n",
    "This tutorial covers the following topics:\n",
    "- network definition.\n",
    "- Variable naming.\n",
    "- Basic data loading and training with feed-forward deep neural networks.\n",
    "- Monitoring intermediate outputs for debuging.\n",
    "- Custom training loop for advanced models.\n",
    "\n",
    "First let's import the modules and setup logging:"
   ]
  },
  {
   "cell_type": "code",
   "execution_count": 9,
   "metadata": {
    "collapsed": false
   },
   "outputs": [],
   "source": [
    "%matplotlib inline\n",
    "import mxnet as mx\n",
    "import numpy as np\n",
    "import matplotlib.pyplot as plt\n",
    "import skimage\n",
    "\n",
    "import logging\n",
    "logging.basicConfig(level=logging.INFO)"
   ]
  },
  {
   "cell_type": "code",
   "execution_count": 2,
   "metadata": {},
   "outputs": [
    {
     "name": "stdout",
     "output_type": "stream",
     "text": [
      "test\n",
      "more test\n"
     ]
    }
   ],
   "source": [
    "print('test my test')"
   ]
  },
  {
   "cell_type": "markdown",
   "metadata": {},
   "source": [
    "## Network Definition\n",
    "Now we can start constructing our network:"
   ]
  },
  {
   "cell_type": "code",
   "execution_count": 10,
   "metadata": {
    "collapsed": false
   },
   "outputs": [],
   "source": [
    "# Variables are place holders for input arrays. We give each variable a unique name.\n",
    "data = mx.symbol.Variable('data')\n",
    "\n",
    "# The input is fed to a fully connected layer that computes Y=WX+b.\n",
    "# This is the main computation module in the network.\n",
    "# Each layer also needs an unique name. We'll talk more about naming in the next section.\n",
    "fc1  = mx.symbol.FullyConnected(data = data, name='fc1', num_hidden=128)\n",
    "# Activation layers apply a non-linear function on the previous layer's output.\n",
    "# Here we use Rectified Linear Unit (ReLU) that computes Y = max(X, 0).\n",
    "act1 = mx.symbol.Activation(data = fc1, name='relu1', act_type=\"relu\")\n",
    "\n",
    "fc2  = mx.symbol.FullyConnected(data = act1, name = 'fc2', num_hidden = 64)\n",
    "act2 = mx.symbol.Activation(data = fc2, name='relu2', act_type=\"relu\")\n",
    "\n",
    "fc3  = mx.symbol.FullyConnected(data = act2, name='fc3', num_hidden=10)\n",
    "# Finally we have a loss layer that compares the network's output with label and generates gradient signals.\n",
    "mlp  = mx.symbol.SoftmaxOutput(data = fc3, name = 'softmax')"
   ]
  },
  {
   "cell_type": "markdown",
   "metadata": {},
   "source": [
    "We can visualize the network we just defined with MXNet's visualization module:"
   ]
  },
  {
   "cell_type": "code",
   "execution_count": 11,
   "metadata": {
    "collapsed": false
   },
   "outputs": [
    {
     "ename": "ImportError",
     "evalue": "Draw network requires graphviz library",
     "output_type": "error",
     "traceback": [
      "\u001b[0;31m---------------------------------------------------------------------------\u001b[0m",
      "\u001b[0;31mImportError\u001b[0m                               Traceback (most recent call last)",
      "\u001b[0;32m/Library/anaconda/lib/python3.5/site-packages/mxnet-0.9.4-py3.5-macosx-10.6-x86_64.egg/mxnet/visualization.py\u001b[0m in \u001b[0;36mplot_network\u001b[0;34m(symbol, title, save_format, shape, node_attrs, hide_weights)\u001b[0m\n\u001b[1;32m    196\u001b[0m     \u001b[0;32mtry\u001b[0m\u001b[0;34m:\u001b[0m\u001b[0;34m\u001b[0m\u001b[0m\n\u001b[0;32m--> 197\u001b[0;31m         \u001b[0;32mfrom\u001b[0m \u001b[0mgraphviz\u001b[0m \u001b[0;32mimport\u001b[0m \u001b[0mDigraph\u001b[0m\u001b[0;34m\u001b[0m\u001b[0m\n\u001b[0m\u001b[1;32m    198\u001b[0m     \u001b[0;32mexcept\u001b[0m\u001b[0;34m:\u001b[0m\u001b[0;34m\u001b[0m\u001b[0m\n",
      "\u001b[0;31mImportError\u001b[0m: No module named 'graphviz'",
      "\nDuring handling of the above exception, another exception occurred:\n",
      "\u001b[0;31mImportError\u001b[0m                               Traceback (most recent call last)",
      "\u001b[0;32m<ipython-input-11-a1f85b7099f0>\u001b[0m in \u001b[0;36m<module>\u001b[0;34m()\u001b[0m\n\u001b[0;32m----> 1\u001b[0;31m \u001b[0mmx\u001b[0m\u001b[0;34m.\u001b[0m\u001b[0mviz\u001b[0m\u001b[0;34m.\u001b[0m\u001b[0mplot_network\u001b[0m\u001b[0;34m(\u001b[0m\u001b[0mmlp\u001b[0m\u001b[0;34m)\u001b[0m\u001b[0;34m\u001b[0m\u001b[0m\n\u001b[0m",
      "\u001b[0;32m/Library/anaconda/lib/python3.5/site-packages/mxnet-0.9.4-py3.5-macosx-10.6-x86_64.egg/mxnet/visualization.py\u001b[0m in \u001b[0;36mplot_network\u001b[0;34m(symbol, title, save_format, shape, node_attrs, hide_weights)\u001b[0m\n\u001b[1;32m    197\u001b[0m         \u001b[0;32mfrom\u001b[0m \u001b[0mgraphviz\u001b[0m \u001b[0;32mimport\u001b[0m \u001b[0mDigraph\u001b[0m\u001b[0;34m\u001b[0m\u001b[0m\n\u001b[1;32m    198\u001b[0m     \u001b[0;32mexcept\u001b[0m\u001b[0;34m:\u001b[0m\u001b[0;34m\u001b[0m\u001b[0m\n\u001b[0;32m--> 199\u001b[0;31m         \u001b[0;32mraise\u001b[0m \u001b[0mImportError\u001b[0m\u001b[0;34m(\u001b[0m\u001b[0;34m\"Draw network requires graphviz library\"\u001b[0m\u001b[0;34m)\u001b[0m\u001b[0;34m\u001b[0m\u001b[0m\n\u001b[0m\u001b[1;32m    200\u001b[0m     \u001b[0;32mif\u001b[0m \u001b[0;32mnot\u001b[0m \u001b[0misinstance\u001b[0m\u001b[0;34m(\u001b[0m\u001b[0msymbol\u001b[0m\u001b[0;34m,\u001b[0m \u001b[0mSymbol\u001b[0m\u001b[0;34m)\u001b[0m\u001b[0;34m:\u001b[0m\u001b[0;34m\u001b[0m\u001b[0m\n\u001b[1;32m    201\u001b[0m         \u001b[0;32mraise\u001b[0m \u001b[0mTypeError\u001b[0m\u001b[0;34m(\u001b[0m\u001b[0;34m\"symbol must be Symbol\"\u001b[0m\u001b[0;34m)\u001b[0m\u001b[0;34m\u001b[0m\u001b[0m\n",
      "\u001b[0;31mImportError\u001b[0m: Draw network requires graphviz library"
     ]
    }
   ],
   "source": [
    "mx.viz.plot_network(mlp)"
   ]
  },
  {
   "cell_type": "markdown",
   "metadata": {},
   "source": [
    "## Variable Naming\n",
    "\n",
    "MXNet requires variable names to follow certain conventions:\n",
    "- All input arrays have a name. This includes inputs (data & label) and model parameters (weight, bias, etc).\n",
    "- Arrays can be renamed by creating named variable. Otherwise, a default name is given as 'SymbolName_ArrayName'. For example, FullyConnected symbol fc1's weight array is named as 'fc1_weight'.\n",
    "- Although you can also rename weight arrays with variables, weight array's name should always end with '_weight' and bias array '_bias'. MXNet relies on the suffixes of array names to correctly initialize & update them.\n",
    "\n",
    "Call list_arguments method on a symbol to get the names of all its inputs:"
   ]
  },
  {
   "cell_type": "code",
   "execution_count": 12,
   "metadata": {
    "collapsed": false
   },
   "outputs": [
    {
     "data": {
      "text/plain": [
       "['data',\n",
       " 'fc1_weight',\n",
       " 'fc1_bias',\n",
       " 'fc2_weight',\n",
       " 'fc2_bias',\n",
       " 'fc3_weight',\n",
       " 'fc3_bias',\n",
       " 'softmax_label']"
      ]
     },
     "execution_count": 12,
     "metadata": {},
     "output_type": "execute_result"
    }
   ],
   "source": [
    "mlp.list_arguments()"
   ]
  },
  {
   "cell_type": "markdown",
   "metadata": {},
   "source": [
    "## Data Loading\n",
    "\n",
    "We fetch and load the MNIST dataset and partition it into two sets: 60000 examples for training and 10000 examples for testing. We also visualize a few examples to get an idea of what the dataset looks like."
   ]
  },
  {
   "cell_type": "code",
   "execution_count": 13,
   "metadata": {
    "collapsed": false
   },
   "outputs": [
    {
     "data": {
      "image/png": "[encoded data removed]",
      "text/plain": [
       "<matplotlib.figure.Figure at 0x120dbb3c8>"
      ]
     },
     "metadata": {},
     "output_type": "display_data"
    }
   ],
   "source": [
    "from sklearn.datasets import fetch_mldata\n",
    "mnist = fetch_mldata('MNIST original')\n",
    "np.random.seed(1234) # set seed for deterministic ordering\n",
    "p = np.random.permutation(mnist.data.shape[0])\n",
    "X = mnist.data[p]\n",
    "Y = mnist.target[p]\n",
    "\n",
    "for i in range(10):\n",
    "    plt.subplot(1,10,i+1)\n",
    "    plt.imshow(X[i].reshape((28,28)), cmap='Greys_r')\n",
    "    plt.axis('off')\n",
    "plt.show()\n",
    "\n",
    "X = X.astype(np.float32)/255\n",
    "X_train = X[:60000]\n",
    "X_test = X[60000:]\n",
    "Y_train = Y[:60000]\n",
    "Y_test = Y[60000:]"
   ]
  },
  {
   "cell_type": "markdown",
   "metadata": {},
   "source": [
    "Now we can create data iterators from our MNIST data. A data iterator returns a batch of data examples each time for the network to process. MXNet provide a suite of basic DataIters for parsing different data format. Here we use NDArrayIter, which wraps around a numpy array and each time slice a chunk from it along the first dimension."
   ]
  },
  {
   "cell_type": "code",
   "execution_count": 14,
   "metadata": {
    "collapsed": false
   },
   "outputs": [],
   "source": [
    "batch_size = 100\n",
    "train_iter = mx.io.NDArrayIter(X_train, Y_train, batch_size=batch_size)\n",
    "test_iter = mx.io.NDArrayIter(X_test, Y_test, batch_size=batch_size)"
   ]
  },
  {
   "cell_type": "code",
   "execution_count": 15,
   "metadata": {
    "collapsed": true
   },
   "outputs": [],
   "source": [
    "#mx.mod.Module.forward?"
   ]
  },
  {
   "cell_type": "markdown",
   "metadata": {},
   "source": [
    "## Training\n",
    "\n",
    "With the network and data source defined, we can finally start to train our model. We do this with MXNet's convenience wrapper for feed forward neural networks (it can also be made to handle RNNs with explicit unrolling). "
   ]
  },
  {
   "cell_type": "code",
   "execution_count": 16,
   "metadata": {
    "collapsed": false
   },
   "outputs": [
    {
     "name": "stderr",
     "output_type": "stream",
     "text": [
      "INFO:root:Epoch[0] Train-accuracy=0.763517\n",
      "INFO:root:Epoch[0] Time cost=0.661\n",
      "INFO:root:Epoch[0] Validation-accuracy=0.950100\n",
      "INFO:root:Epoch[1] Train-accuracy=0.959017\n",
      "INFO:root:Epoch[1] Time cost=0.822\n",
      "INFO:root:Epoch[1] Validation-accuracy=0.964100\n",
      "INFO:root:Epoch[2] Train-accuracy=0.971400\n",
      "INFO:root:Epoch[2] Time cost=0.664\n",
      "INFO:root:Epoch[2] Validation-accuracy=0.963300\n",
      "INFO:root:Epoch[3] Train-accuracy=0.977667\n",
      "INFO:root:Epoch[3] Time cost=0.687\n",
      "INFO:root:Epoch[3] Validation-accuracy=0.970300\n",
      "INFO:root:Epoch[4] Train-accuracy=0.982200\n",
      "INFO:root:Epoch[4] Time cost=0.708\n",
      "INFO:root:Epoch[4] Validation-accuracy=0.970600\n",
      "INFO:root:Epoch[5] Train-accuracy=0.984050\n",
      "INFO:root:Epoch[5] Time cost=0.637\n",
      "INFO:root:Epoch[5] Validation-accuracy=0.968800\n",
      "INFO:root:Epoch[6] Train-accuracy=0.986100\n",
      "INFO:root:Epoch[6] Time cost=0.632\n",
      "INFO:root:Epoch[6] Validation-accuracy=0.964800\n",
      "INFO:root:Epoch[7] Train-accuracy=0.985817\n",
      "INFO:root:Epoch[7] Time cost=0.637\n",
      "INFO:root:Epoch[7] Validation-accuracy=0.973000\n",
      "INFO:root:Epoch[8] Train-accuracy=0.989250\n",
      "INFO:root:Epoch[8] Time cost=0.638\n",
      "INFO:root:Epoch[8] Validation-accuracy=0.974700\n",
      "INFO:root:Epoch[9] Train-accuracy=0.990333\n",
      "INFO:root:Epoch[9] Time cost=0.640\n",
      "INFO:root:Epoch[9] Validation-accuracy=0.970600\n"
     ]
    }
   ],
   "source": [
    "model = mx.mod.Module(symbol=mlp, \n",
    "                    context=mx.cpu(0),\n",
    "                    data_names=['data'], \n",
    "                    label_names=['softmax_label'])\n",
    "\n",
    "model.fit(train_iter, \n",
    "        eval_data=test_iter,\n",
    "        optimizer='sgd',\n",
    "        optimizer_params={'learning_rate':0.1,'momentum':0.9,'wd':0.00001},\n",
    "        eval_metric='acc',\n",
    "        num_epoch=10)"
   ]
  },
  {
   "cell_type": "markdown",
   "metadata": {},
   "source": [
    "## Evaluation\n",
    "\n",
    "After the model is trained, we can evaluate it on a held out test set.\n",
    "First, lets classity a sample image:"
   ]
  },
  {
   "cell_type": "code",
   "execution_count": 17,
   "metadata": {
    "collapsed": false
   },
   "outputs": [
    {
     "data": {
      "image/png": "[encoded data removed]",
      "text/plain": [
       "<matplotlib.figure.Figure at 0x120dbb390>"
      ]
     },
     "metadata": {},
     "output_type": "display_data"
    },
    {
     "name": "stdout",
     "output_type": "stream",
     "text": [
      "Result: 7\n"
     ]
    }
   ],
   "source": [
    "plt.imshow((X_test[0].reshape((28,28))*255).astype(np.uint8), cmap='Greys_r')\n",
    "plt.show()\n",
    "prediction_prob = model.predict(eval_data=test_iter,num_batch=1)\n",
    "clss_pred = prediction_prob[0].asnumpy()\n",
    "print('Result: {}'.format(clss_pred.argmax()),)"
   ]
  },
  {
   "cell_type": "markdown",
   "metadata": {},
   "source": [
    "We can also evaluate the model's accuracy on the entire test set:"
   ]
  },
  {
   "cell_type": "code",
   "execution_count": 18,
   "metadata": {
    "collapsed": false,
    "scrolled": true
   },
   "outputs": [
    {
     "data": {
      "text/plain": [
       "<zip at 0x12113a948>"
      ]
     },
     "execution_count": 18,
     "metadata": {},
     "output_type": "execute_result"
    }
   ],
   "source": [
    "model.score(test_iter,eval_metric=['acc'],num_batch=1,)\n",
    "#print('Accuracy:', model.score(test_iter,eval_metric='acc')*100, '%')"
   ]
  },
  {
   "cell_type": "markdown",
   "metadata": {},
   "source": [
    "Now, try if your model recognizes your own hand writing.\n",
    "\n",
    "Write a digit from 0 to 9 in the box below. Try to put your digit in the middle of the box."
   ]
  },
  {
   "cell_type": "markdown",
   "metadata": {},
   "source": [
    "##### run hand drawing test\n",
    "from IPython.display import HTML\n",
    "\n",
    "def classify(img):\n",
    "    img = img[len('data:image/png;base64,'):].decode('base64')\n",
    "    img = np.fromstring(img, np.uint8)\n",
    "    img = skimage.transform.resize(img[:,:,3], (28,28))\n",
    "    img = img.astype(np.float32).reshape((1, 784))/255.0\n",
    "    return model.predict(img)[0].argmax()\n",
    "\n",
    "html = \"\"\"<style type=\"text/css\">canvas { border: 1px solid black; }</style><div id=\"board\"><canvas id=\"myCanvas\" width=\"100px\" height=\"100px\">Sorry, your browser doesn't support canvas technology.</canvas><p><button id=\"classify\" onclick=\"classify()\">Classify</button><button id=\"clear\" onclick=\"myClear()\">Clear</button>Result: <input type=\"text\" id=\"result_output\" size=\"5\" value=\"\"></p></div>\"\"\"\n",
    "script = \"\"\"<script type=\"text/JavaScript\" src=\"https://ajax.googleapis.com/ajax/libs/jquery/1.4.2/jquery.min.js?ver=1.4.2\"></script><script type=\"text/javascript\">function init() {var myCanvas = document.getElementById(\"myCanvas\");var curColor = $('#selectColor option:selected').val();if(myCanvas){var isDown = false;var ctx = myCanvas.getContext(\"2d\");var canvasX, canvasY;ctx.lineWidth = 8;$(myCanvas).mousedown(function(e){isDown = true;ctx.beginPath();var parentOffset = $(this).parent().offset(); canvasX = e.pageX - parentOffset.left;canvasY = e.pageY - parentOffset.top;ctx.moveTo(canvasX, canvasY);}).mousemove(function(e){if(isDown != false) {var parentOffset = $(this).parent().offset(); canvasX = e.pageX - parentOffset.left;canvasY = e.pageY - parentOffset.top;ctx.lineTo(canvasX, canvasY);ctx.strokeStyle = curColor;ctx.stroke();}}).mouseup(function(e){isDown = false;ctx.closePath();});}$('#selectColor').change(function () {curColor = $('#selectColor option:selected').val();});}init();function handle_output(out) {document.getElementById(\"result_output\").value = out.content.data[\"text/plain\"];}function classify() {var kernel = IPython.notebook.kernel;var myCanvas = document.getElementById(\"myCanvas\");data = myCanvas.toDataURL('image/png');document.getElementById(\"result_output\").value = \"\";kernel.execute(\"classify('\" + data +\"')\",  { 'iopub' : {'output' : handle_output}}, {silent:false});}function myClear() {var myCanvas = document.getElementById(\"myCanvas\");myCanvas.getContext(\"2d\").clearRect(0, 0, myCanvas.width, myCanvas.height);}</script>\"\"\"\n",
    "HTML(html+script)"
   ]
  },
  {
   "cell_type": "markdown",
   "metadata": {},
   "source": [
    "## Debugging\n",
    "\n",
    "DNNs can perform poorly for a lot of reasons, like learning rate too big/small, initialization too big/small, network structure not reasonable, etc. When this happens it's often helpful to print out the weights and intermediate outputs to understand what's going on. MXNet provides a monitor utility that does this:"
   ]
  },
  {
   "cell_type": "code",
   "execution_count": 23,
   "metadata": {
    "collapsed": false
   },
   "outputs": [
    {
     "name": "stderr",
     "output_type": "stream",
     "text": [
      "INFO:root:Batch:       1 fc1_backward_weight            0.000537876\t\n",
      "INFO:root:Batch:       1 fc1_weight                     0.00578438\t\n",
      "INFO:root:Batch:       1 fc2_backward_weight            0.00179127\t\n",
      "INFO:root:Batch:       1 fc2_weight                     0.00575576\t\n",
      "INFO:root:Batch:       1 fc3_backward_weight            0.00614964\t\n",
      "INFO:root:Batch:       1 fc3_weight                     0.0056244\t\n",
      "INFO:root:Batch:     101 fc1_backward_weight            0.119085\t\n",
      "INFO:root:Batch:     101 fc1_weight                     0.0083836\t\n",
      "INFO:root:Batch:     101 fc2_backward_weight            0.256395\t\n",
      "INFO:root:Batch:     101 fc2_weight                     0.0219938\t\n",
      "INFO:root:Batch:     101 fc3_backward_weight            1.31856\t\n",
      "INFO:root:Batch:     101 fc3_weight                     0.0807175\t\n",
      "INFO:root:Epoch[0] Batch [100]\tSpeed: 44609.62 samples/sec\tTrain-accuracy=0.148020\n",
      "INFO:root:Batch:     201 fc1_backward_weight            0.177065\t\n",
      "INFO:root:Batch:     201 fc1_weight                     0.0223816\t\n",
      "INFO:root:Batch:     201 fc2_backward_weight            0.402295\t\n",
      "INFO:root:Batch:     201 fc2_weight                     0.0458249\t\n",
      "INFO:root:Batch:     201 fc3_backward_weight            1.61511\t\n",
      "INFO:root:Batch:     201 fc3_weight                     0.223435\t\n",
      "INFO:root:Epoch[0] Batch [200]\tSpeed: 64772.69 samples/sec\tTrain-accuracy=0.717400\n",
      "INFO:root:Batch:     301 fc1_backward_weight            0.134838\t\n",
      "INFO:root:Batch:     301 fc1_weight                     0.0298314\t\n",
      "INFO:root:Batch:     301 fc2_backward_weight            0.265099\t\n",
      "INFO:root:Batch:     301 fc2_weight                     0.0595635\t\n",
      "INFO:root:Batch:     301 fc3_backward_weight            0.682718\t\n",
      "INFO:root:Batch:     301 fc3_weight                     0.246174\t\n",
      "INFO:root:Epoch[0] Batch [300]\tSpeed: 66243.15 samples/sec\tTrain-accuracy=0.894400\n",
      "INFO:root:Batch:     401 fc1_backward_weight            0.174743\t\n",
      "INFO:root:Batch:     401 fc1_weight                     0.0346086\t\n",
      "INFO:root:Batch:     401 fc2_backward_weight            0.363362\t\n",
      "INFO:root:Batch:     401 fc2_weight                     0.0671273\t\n",
      "INFO:root:Batch:     401 fc3_backward_weight            0.818553\t\n",
      "INFO:root:Batch:     401 fc3_weight                     0.250709\t\n",
      "INFO:root:Epoch[0] Batch [400]\tSpeed: 65777.42 samples/sec\tTrain-accuracy=0.929000\n",
      "INFO:root:Batch:     501 fc1_backward_weight            0.196999\t\n",
      "INFO:root:Batch:     501 fc1_weight                     0.038959\t\n",
      "INFO:root:Batch:     501 fc2_backward_weight            0.373334\t\n",
      "INFO:root:Batch:     501 fc2_weight                     0.0748709\t\n",
      "INFO:root:Batch:     501 fc3_backward_weight            0.934472\t\n",
      "INFO:root:Batch:     501 fc3_weight                     0.258236\t\n",
      "INFO:root:Epoch[0] Batch [500]\tSpeed: 58607.09 samples/sec\tTrain-accuracy=0.933800\n",
      "INFO:root:Epoch[0] Train-accuracy=0.946970\n",
      "INFO:root:Epoch[0] Time cost=1.034\n",
      "INFO:root:Epoch[0] Validation-accuracy=0.952400\n"
     ]
    }
   ],
   "source": [
    "def norm_stat(d):\n",
    "    \"\"\"The statistics you want to see.\n",
    "    We compute the L2 norm here but you can change it to anything you like.\"\"\"\n",
    "    return mx.nd.norm(d)/np.sqrt(d.size)\n",
    "\n",
    "mon = mx.mon.Monitor(\n",
    "    100,                 # Print every 100 batches\n",
    "    norm_stat,           # The statistics function defined above\n",
    "    pattern='.*weight',  # A regular expression. Only arrays with name matching this pattern will be included.\n",
    "    sort=True)           # Sort output by name\n",
    "\n",
    "model = mx.mod.Module(symbol=mlp, \n",
    "                    context=mx.cpu(0),\n",
    "                    data_names=['data'], \n",
    "                    label_names=['softmax_label'])\n",
    "\n",
    "model.fit(train_iter,\n",
    "        eval_data=test_iter,\n",
    "        optimizer='sgd',\n",
    "        optimizer_params={'learning_rate':0.1,'momentum':0.9,'wd':0.00001},\n",
    "        eval_metric='acc',monitor= mon,\n",
    "        num_epoch=1,batch_end_callback= mx.callback.Speedometer(100, 100))\n"
   ]
  },
  {
   "cell_type": "markdown",
   "metadata": {},
   "source": [
    "## Under the hood: Custom Training Loop\n",
    "\n",
    "`mx.model.FeedForward` is a convenience wrapper for training standard feed forward networks. What if the model you are working with is more complicated? With MXNet, you can easily control every aspect of training by writing your own training loop.\n",
    "\n",
    "Neural network training typically has 3 steps: forward, backward (gradient), and update. With custom training loop, you can control the details in each step as while as insert complicated computations in between. You can also connect multiple networks together."
   ]
  },
  {
   "cell_type": "code",
   "execution_count": 38,
   "metadata": {
    "collapsed": false
   },
   "outputs": [],
   "source": [
    "#mx.init.InitDesc('Unifiorm',attrs={'scale':0.01})\n",
    "# mx.init.Uniform?"
   ]
  },
  {
   "cell_type": "code",
   "execution_count": 40,
   "metadata": {
    "collapsed": false
   },
   "outputs": [
    {
     "name": "stdout",
     "output_type": "stream",
     "text": [
      "input_shapes {'softmax_label': (100,), 'data': (100, 784)}\n",
      "epoch: 0 iter: 100 metric: ('accuracy', 0.16109999999999999)\n",
      "epoch: 0 iter: 200 metric: ('accuracy', 0.45810000000000001)\n",
      "epoch: 0 iter: 300 metric: ('accuracy', 0.60499999999999998)\n",
      "epoch: 0 iter: 400 metric: ('accuracy', 0.68577500000000002)\n",
      "epoch: 0 iter: 500 metric: ('accuracy', 0.73658000000000001)\n",
      "epoch: 0 iter: 600 metric: ('accuracy', 0.77224999999999999)\n",
      "epoch: 1 iter: 100 metric: ('accuracy', 0.94830000000000003)\n",
      "epoch: 1 iter: 200 metric: ('accuracy', 0.95065)\n",
      "epoch: 1 iter: 300 metric: ('accuracy', 0.95383333333333331)\n",
      "epoch: 1 iter: 400 metric: ('accuracy', 0.95540000000000003)\n",
      "epoch: 1 iter: 500 metric: ('accuracy', 0.95745999999999998)\n",
      "epoch: 1 iter: 600 metric: ('accuracy', 0.95913333333333328)\n",
      "epoch: 2 iter: 100 metric: ('accuracy', 0.96740000000000004)\n",
      "epoch: 2 iter: 200 metric: ('accuracy', 0.96599999999999997)\n",
      "epoch: 2 iter: 300 metric: ('accuracy', 0.96826666666666672)\n",
      "epoch: 2 iter: 400 metric: ('accuracy', 0.96970000000000001)\n",
      "epoch: 2 iter: 500 metric: ('accuracy', 0.97072000000000003)\n",
      "epoch: 2 iter: 600 metric: ('accuracy', 0.97131666666666672)\n",
      "epoch: 3 iter: 100 metric: ('accuracy', 0.97609999999999997)\n",
      "epoch: 3 iter: 200 metric: ('accuracy', 0.97585)\n",
      "epoch: 3 iter: 300 metric: ('accuracy', 0.97756666666666669)\n",
      "epoch: 3 iter: 400 metric: ('accuracy', 0.97755000000000003)\n",
      "epoch: 3 iter: 500 metric: ('accuracy', 0.97796000000000005)\n",
      "epoch: 3 iter: 600 metric: ('accuracy', 0.97870000000000001)\n",
      "epoch: 4 iter: 100 metric: ('accuracy', 0.98040000000000005)\n",
      "epoch: 4 iter: 200 metric: ('accuracy', 0.98040000000000005)\n",
      "epoch: 4 iter: 300 metric: ('accuracy', 0.98193333333333332)\n",
      "epoch: 4 iter: 400 metric: ('accuracy', 0.98224999999999996)\n",
      "epoch: 4 iter: 500 metric: ('accuracy', 0.98284000000000005)\n",
      "epoch: 4 iter: 600 metric: ('accuracy', 0.98329999999999995)\n",
      "epoch: 5 iter: 100 metric: ('accuracy', 0.98150000000000004)\n",
      "epoch: 5 iter: 200 metric: ('accuracy', 0.98209999999999997)\n",
      "epoch: 5 iter: 300 metric: ('accuracy', 0.98370000000000002)\n",
      "epoch: 5 iter: 400 metric: ('accuracy', 0.98372499999999996)\n",
      "epoch: 5 iter: 500 metric: ('accuracy', 0.98348000000000002)\n",
      "epoch: 5 iter: 600 metric: ('accuracy', 0.98365000000000002)\n",
      "epoch: 6 iter: 100 metric: ('accuracy', 0.98499999999999999)\n",
      "epoch: 6 iter: 200 metric: ('accuracy', 0.98409999999999997)\n",
      "epoch: 6 iter: 300 metric: ('accuracy', 0.98466666666666669)\n",
      "epoch: 6 iter: 400 metric: ('accuracy', 0.98462499999999997)\n",
      "epoch: 6 iter: 500 metric: ('accuracy', 0.98528000000000004)\n",
      "epoch: 6 iter: 600 metric: ('accuracy', 0.98551666666666671)\n",
      "epoch: 7 iter: 100 metric: ('accuracy', 0.98609999999999998)\n",
      "epoch: 7 iter: 200 metric: ('accuracy', 0.98580000000000001)\n",
      "epoch: 7 iter: 300 metric: ('accuracy', 0.98616666666666664)\n",
      "epoch: 7 iter: 400 metric: ('accuracy', 0.98692500000000005)\n",
      "epoch: 7 iter: 500 metric: ('accuracy', 0.98724000000000001)\n",
      "epoch: 7 iter: 600 metric: ('accuracy', 0.98773333333333335)\n",
      "epoch: 8 iter: 100 metric: ('accuracy', 0.98709999999999998)\n",
      "epoch: 8 iter: 200 metric: ('accuracy', 0.98819999999999997)\n",
      "epoch: 8 iter: 300 metric: ('accuracy', 0.98893333333333333)\n",
      "epoch: 8 iter: 400 metric: ('accuracy', 0.98902500000000004)\n",
      "epoch: 8 iter: 500 metric: ('accuracy', 0.98892000000000002)\n",
      "epoch: 8 iter: 600 metric: ('accuracy', 0.98898333333333333)\n",
      "epoch: 9 iter: 100 metric: ('accuracy', 0.9889)\n",
      "epoch: 9 iter: 200 metric: ('accuracy', 0.98945000000000005)\n",
      "epoch: 9 iter: 300 metric: ('accuracy', 0.98939999999999995)\n",
      "epoch: 9 iter: 400 metric: ('accuracy', 0.98914999999999997)\n",
      "epoch: 9 iter: 500 metric: ('accuracy', 0.98939999999999995)\n",
      "epoch: 9 iter: 600 metric: ('accuracy', 0.98963333333333336)\n"
     ]
    }
   ],
   "source": [
    "# ==================Binding=====================\n",
    "# The symbol we created is only a graph description.\n",
    "# To run it, we first need to allocate memory and create an executor by 'binding' it.\n",
    "# In order to bind a symbol, we need at least two pieces of information: context and input shapes.\n",
    "# Context specifies which device the executor runs on, e.g. cpu, GPU0, GPU1, etc.\n",
    "# Input shapes define the executor's input array dimensions.\n",
    "# MXNet then run automatic shape inference to determine the dimensions of intermediate and output arrays.\n",
    "\n",
    "# data iterators defines shapes of its output with provide_data and provide_label property.\n",
    "input_shapes = dict(train_iter.provide_data+train_iter.provide_label)\n",
    "print ('input_shapes', input_shapes)\n",
    "# We use simple_bind to let MXNet allocate memory for us.\n",
    "# You can also allocate memory youself and use bind to pass it to MXNet.\n",
    "exe = mlp.simple_bind(ctx=mx.cpu(0), **input_shapes)\n",
    "\n",
    "# ===============Initialization=================\n",
    "# First we get handle to input arrays\n",
    "arg_arrays = dict(zip(mlp.list_arguments(), exe.arg_arrays))\n",
    "data = arg_arrays[train_iter.provide_data[0][0]]\n",
    "label = arg_arrays[train_iter.provide_label[0][0]]\n",
    "\n",
    "# We initialize the weights with uniform distribution on (-0.01, 0.01).\n",
    "init = mx.init.Uniform(scale=0.01)\n",
    "for name, arr in arg_arrays.items():\n",
    "    if name not in input_shapes:\n",
    "        init(mx.init.InitDesc(name), arr)\n",
    "    \n",
    "# We also need to create an optimizer for updating weights\n",
    "opt = mx.optimizer.SGD(\n",
    "    learning_rate=0.1,\n",
    "    momentum=0.9,\n",
    "    wd=0.00001,\n",
    "    rescale_grad=1.0/train_iter.batch_size)\n",
    "updater = mx.optimizer.get_updater(opt)\n",
    "\n",
    "# Finally we need a metric to print out training progress\n",
    "metric = mx.metric.Accuracy()\n",
    "\n",
    "# Training loop begines\n",
    "for epoch in range(10):\n",
    "    train_iter.reset()\n",
    "    metric.reset()\n",
    "    t = 0\n",
    "    for batch in train_iter:\n",
    "        # Copy data to executor input. Note the [:].\n",
    "        data[:] = batch.data[0]\n",
    "        label[:] = batch.label[0]\n",
    "        \n",
    "        # Forward\n",
    "        exe.forward(is_train=True)\n",
    "        \n",
    "        # You perform operations on exe.outputs here if you need to.\n",
    "        # For example, you can stack a CRF on top of a neural network.\n",
    "        \n",
    "        # Backward\n",
    "        exe.backward()\n",
    "        \n",
    "        # Update\n",
    "        for i, pair in enumerate(zip(exe.arg_arrays, exe.grad_arrays)):\n",
    "            weight, grad = pair\n",
    "            updater(i, grad, weight)\n",
    "        metric.update(batch.label, exe.outputs)\n",
    "        t += 1\n",
    "        if t % 100 == 0:\n",
    "            print ('epoch:', epoch, 'iter:', t, 'metric:', metric.get())\n"
   ]
  },
  {
   "cell_type": "markdown",
   "metadata": {},
   "source": [
    "## New Operators\n",
    "\n",
    "MXNet provides a repository of common operators (or layers). However, new models often require new layers. There are several ways to [create new operators](https://mxnet.readthedocs.org/en/latest/tutorial/new_op_howto.html) with MXNet. Here we talk about the easiest way: pure python. "
   ]
  },
  {
   "cell_type": "code",
   "execution_count": 42,
   "metadata": {
    "collapsed": false
   },
   "outputs": [
    {
     "name": "stderr",
     "output_type": "stream",
     "text": [
      "INFO:root:Batch:     601 fc1_backward_weight            0.000536867\t\n",
      "INFO:root:Batch:     601 fc1_weight                     0.0416182\t\n",
      "INFO:root:Batch:     601 fc1_weight                     0.00576789\t\n",
      "INFO:root:Batch:     601 fc2_backward_weight            0.00176279\t\n",
      "INFO:root:Batch:     601 fc2_weight                     0.078975\t\n",
      "INFO:root:Batch:     601 fc2_weight                     0.00578701\t\n",
      "INFO:root:Batch:     601 fc3_backward_weight            0.00655569\t\n",
      "INFO:root:Batch:     601 fc3_weight                     0.25892\t\n",
      "INFO:root:Batch:     601 fc3_weight                     0.00564812\t\n",
      "INFO:root:Batch:     701 fc1_backward_weight            0.129655\t\n",
      "INFO:root:Batch:     701 fc1_weight                     0.0416182\t\n",
      "INFO:root:Batch:     701 fc1_weight                     0.00843231\t\n",
      "INFO:root:Batch:     701 fc2_backward_weight            0.308369\t\n",
      "INFO:root:Batch:     701 fc2_weight                     0.078975\t\n",
      "INFO:root:Batch:     701 fc2_weight                     0.0218055\t\n",
      "INFO:root:Batch:     701 fc3_backward_weight            1.68928\t\n",
      "INFO:root:Batch:     701 fc3_weight                     0.25892\t\n",
      "INFO:root:Batch:     701 fc3_weight                     0.0801815\t\n",
      "INFO:root:Epoch[0] Batch [100]\tSpeed: 45387.50 samples/sec\tTrain-accuracy=0.158911\n",
      "INFO:root:Batch:     801 fc1_backward_weight            0.268982\t\n",
      "INFO:root:Batch:     801 fc1_weight                     0.0416182\t\n",
      "INFO:root:Batch:     801 fc1_weight                     0.0235375\t\n",
      "INFO:root:Batch:     801 fc2_backward_weight            0.642493\t\n",
      "INFO:root:Batch:     801 fc2_weight                     0.078975\t\n",
      "INFO:root:Batch:     801 fc2_weight                     0.0487562\t\n",
      "INFO:root:Batch:     801 fc3_backward_weight            1.93821\t\n",
      "INFO:root:Batch:     801 fc3_weight                     0.25892\t\n",
      "INFO:root:Batch:     801 fc3_weight                     0.218845\t\n",
      "INFO:root:Epoch[0] Batch [200]\tSpeed: 58327.78 samples/sec\tTrain-accuracy=0.728900\n",
      "INFO:root:Batch:     901 fc1_backward_weight            0.117574\t\n",
      "INFO:root:Batch:     901 fc1_weight                     0.0416182\t\n",
      "INFO:root:Batch:     901 fc1_weight                     0.0304833\t\n",
      "INFO:root:Batch:     901 fc2_backward_weight            0.231892\t\n",
      "INFO:root:Batch:     901 fc2_weight                     0.078975\t\n",
      "INFO:root:Batch:     901 fc2_weight                     0.0613427\t\n",
      "INFO:root:Batch:     901 fc3_backward_weight            0.515519\t\n",
      "INFO:root:Batch:     901 fc3_weight                     0.25892\t\n",
      "INFO:root:Batch:     901 fc3_weight                     0.241541\t\n",
      "INFO:root:Epoch[0] Batch [300]\tSpeed: 55635.34 samples/sec\tTrain-accuracy=0.894000\n",
      "INFO:root:Batch:    1001 fc1_backward_weight            0.153325\t\n",
      "INFO:root:Batch:    1001 fc1_weight                     0.0416182\t\n",
      "INFO:root:Batch:    1001 fc1_weight                     0.0349383\t\n",
      "INFO:root:Batch:    1001 fc2_backward_weight            0.367887\t\n",
      "INFO:root:Batch:    1001 fc2_weight                     0.078975\t\n",
      "INFO:root:Batch:    1001 fc2_weight                     0.0691999\t\n",
      "INFO:root:Batch:    1001 fc3_backward_weight            0.740919\t\n",
      "INFO:root:Batch:    1001 fc3_weight                     0.25892\t\n",
      "INFO:root:Batch:    1001 fc3_weight                     0.250989\t\n",
      "INFO:root:Epoch[0] Batch [400]\tSpeed: 31736.15 samples/sec\tTrain-accuracy=0.927000\n",
      "INFO:root:Batch:    1101 fc1_backward_weight            0.161881\t\n",
      "INFO:root:Batch:    1101 fc1_weight                     0.0416182\t\n",
      "INFO:root:Batch:    1101 fc1_weight                     0.0388816\t\n",
      "INFO:root:Batch:    1101 fc2_backward_weight            0.342527\t\n",
      "INFO:root:Batch:    1101 fc2_weight                     0.078975\t\n",
      "INFO:root:Batch:    1101 fc2_weight                     0.0761641\t\n",
      "INFO:root:Batch:    1101 fc3_backward_weight            0.829949\t\n",
      "INFO:root:Batch:    1101 fc3_weight                     0.25892\t\n",
      "INFO:root:Batch:    1101 fc3_weight                     0.257149\t\n",
      "INFO:root:Epoch[0] Batch [500]\tSpeed: 47906.49 samples/sec\tTrain-accuracy=0.934100\n",
      "INFO:root:Epoch[0] Train-accuracy=0.949495\n",
      "INFO:root:Epoch[0] Time cost=1.310\n",
      "INFO:root:Epoch[0] Validation-accuracy=0.948600\n",
      "INFO:root:Batch:    1201 fc1_backward_weight            0.172527\t\n",
      "INFO:root:Batch:    1201 fc1_weight                     0.0416182\t\n",
      "INFO:root:Batch:    1201 fc1_weight                     0.0416574\t\n",
      "INFO:root:Batch:    1201 fc2_backward_weight            0.347382\t\n",
      "INFO:root:Batch:    1201 fc2_weight                     0.078975\t\n",
      "INFO:root:Batch:    1201 fc2_weight                     0.0812031\t\n",
      "INFO:root:Batch:    1201 fc3_backward_weight            0.830101\t\n",
      "INFO:root:Batch:    1201 fc3_weight                     0.25892\t\n",
      "INFO:root:Batch:    1201 fc3_weight                     0.262904\t\n",
      "INFO:root:Batch:    1301 fc1_backward_weight            0.146614\t\n",
      "INFO:root:Batch:    1301 fc1_weight                     0.0416182\t\n",
      "INFO:root:Batch:    1301 fc1_weight                     0.0445747\t\n",
      "INFO:root:Batch:    1301 fc2_backward_weight            0.252388\t\n",
      "INFO:root:Batch:    1301 fc2_weight                     0.078975\t\n",
      "INFO:root:Batch:    1301 fc2_weight                     0.0861754\t\n",
      "INFO:root:Batch:    1301 fc3_backward_weight            0.550496\t\n",
      "INFO:root:Batch:    1301 fc3_weight                     0.25892\t\n",
      "INFO:root:Batch:    1301 fc3_weight                     0.265354\t\n",
      "INFO:root:Epoch[1] Batch [100]\tSpeed: 43738.60 samples/sec\tTrain-accuracy=0.948119\n",
      "INFO:root:Batch:    1401 fc1_backward_weight            0.0867038\t\n",
      "INFO:root:Batch:    1401 fc1_weight                     0.0416182\t\n",
      "INFO:root:Batch:    1401 fc1_weight                     0.0466944\t\n",
      "INFO:root:Batch:    1401 fc2_backward_weight            0.271703\t\n",
      "INFO:root:Batch:    1401 fc2_weight                     0.078975\t\n",
      "INFO:root:Batch:    1401 fc2_weight                     0.0890061\t\n",
      "INFO:root:Batch:    1401 fc3_backward_weight            0.962765\t\n",
      "INFO:root:Batch:    1401 fc3_weight                     0.25892\t\n",
      "INFO:root:Batch:    1401 fc3_weight                     0.263976\t\n",
      "INFO:root:Epoch[1] Batch [200]\tSpeed: 46642.45 samples/sec\tTrain-accuracy=0.951700\n",
      "INFO:root:Batch:    1501 fc1_backward_weight            0.133361\t\n",
      "INFO:root:Batch:    1501 fc1_weight                     0.0416182\t\n",
      "INFO:root:Batch:    1501 fc1_weight                     0.0487504\t\n",
      "INFO:root:Batch:    1501 fc2_backward_weight            0.277072\t\n",
      "INFO:root:Batch:    1501 fc2_weight                     0.078975\t\n",
      "INFO:root:Batch:    1501 fc2_weight                     0.0925364\t\n",
      "INFO:root:Batch:    1501 fc3_backward_weight            0.609361\t\n",
      "INFO:root:Batch:    1501 fc3_weight                     0.25892\t\n",
      "INFO:root:Batch:    1501 fc3_weight                     0.265755\t\n",
      "INFO:root:Epoch[1] Batch [300]\tSpeed: 42993.94 samples/sec\tTrain-accuracy=0.959700\n",
      "INFO:root:Batch:    1601 fc1_backward_weight            0.0811409\t\n",
      "INFO:root:Batch:    1601 fc1_weight                     0.0416182\t\n",
      "INFO:root:Batch:    1601 fc1_weight                     0.0505038\t\n",
      "INFO:root:Batch:    1601 fc2_backward_weight            0.142562\t\n",
      "INFO:root:Batch:    1601 fc2_weight                     0.078975\t\n",
      "INFO:root:Batch:    1601 fc2_weight                     0.0951847\t\n",
      "INFO:root:Batch:    1601 fc3_backward_weight            0.342907\t\n",
      "INFO:root:Batch:    1601 fc3_weight                     0.25892\t\n",
      "INFO:root:Batch:    1601 fc3_weight                     0.265084\t\n",
      "INFO:root:Epoch[1] Batch [400]\tSpeed: 41750.69 samples/sec\tTrain-accuracy=0.961700\n",
      "INFO:root:Batch:    1701 fc1_backward_weight            0.183916\t\n",
      "INFO:root:Batch:    1701 fc1_weight                     0.0416182\t\n",
      "INFO:root:Batch:    1701 fc1_weight                     0.0522774\t\n",
      "INFO:root:Batch:    1701 fc2_backward_weight            0.375924\t\n",
      "INFO:root:Batch:    1701 fc2_weight                     0.078975\t\n",
      "INFO:root:Batch:    1701 fc2_weight                     0.0983439\t\n",
      "INFO:root:Batch:    1701 fc3_backward_weight            0.941167\t\n",
      "INFO:root:Batch:    1701 fc3_weight                     0.25892\t\n",
      "INFO:root:Batch:    1701 fc3_weight                     0.268035\t\n",
      "INFO:root:Epoch[1] Batch [500]\tSpeed: 51929.43 samples/sec\tTrain-accuracy=0.964200\n",
      "INFO:root:Epoch[1] Train-accuracy=0.966364\n",
      "INFO:root:Epoch[1] Time cost=1.307\n",
      "INFO:root:Epoch[1] Validation-accuracy=0.956900\n"
     ]
    }
   ],
   "source": [
    "# Define custom softmax operator\n",
    "class NumpySoftmax(mx.operator.NumpyOp):\n",
    "    def __init__(self):\n",
    "        # Call the parent class constructor. \n",
    "        # Because NumpySoftmax is a loss layer, it doesn't need gradient input from layers above.\n",
    "        super(NumpySoftmax, self).__init__(need_top_grad=False)\n",
    "    \n",
    "    def list_arguments(self):\n",
    "        # Define the input to NumpySoftmax.\n",
    "        return ['data', 'label']\n",
    "\n",
    "    def list_outputs(self):\n",
    "        # Define the output.\n",
    "        return ['output']\n",
    "\n",
    "    def infer_shape(self, in_shape):\n",
    "        # Calculate the dimensions of the output (and missing inputs) from (some) input shapes.\n",
    "        data_shape = in_shape[0]  # shape of first argument 'data'\n",
    "        label_shape = (in_shape[0][0],)  # 'label' should be one dimensional and has batch_size instances.\n",
    "        output_shape = in_shape[0] # 'output' dimension is the same as the input.\n",
    "        return [data_shape, label_shape], [output_shape]\n",
    "\n",
    "    def forward(self, in_data, out_data):\n",
    "        x = in_data[0]  # 'data'\n",
    "        y = out_data[0]  # 'output'\n",
    "        \n",
    "        # Compute softmax\n",
    "        y[:] = np.exp(x - x.max(axis=1).reshape((x.shape[0], 1)))\n",
    "        y /= y.sum(axis=1).reshape((x.shape[0], 1))\n",
    "\n",
    "    def backward(self, out_grad, in_data, out_data, in_grad):\n",
    "        l = in_data[1]  # 'label'\n",
    "        l = l.reshape((l.size,)).astype(np.int)  # cast to int\n",
    "        y = out_data[0]  # 'output'\n",
    "        dx = in_grad[0]  # gradient for 'data'\n",
    "        \n",
    "        # Compute gradient\n",
    "        dx[:] = y\n",
    "        dx[np.arange(l.shape[0]), l] -= 1.0\n",
    "\n",
    "numpy_softmax = NumpySoftmax()\n",
    "\n",
    "data = mx.symbol.Variable('data')\n",
    "fc1 = mx.symbol.FullyConnected(data = data, name='fc1', num_hidden=128)\n",
    "act1 = mx.symbol.Activation(data = fc1, name='relu1', act_type=\"relu\")\n",
    "fc2 = mx.symbol.FullyConnected(data = act1, name = 'fc2', num_hidden = 64)\n",
    "act2 = mx.symbol.Activation(data = fc2, name='relu2', act_type=\"relu\")\n",
    "fc3 = mx.symbol.FullyConnected(data = act2, name='fc3', num_hidden=10)\n",
    "# Use the new operator we just defined instead of the standard softmax operator.\n",
    "mlp = numpy_softmax(data=fc3, name = 'softmax')\n",
    "\n",
    "model = mx.mod.Module(symbol=mlp, \n",
    "                    context=mx.cpu(0),\n",
    "                    data_names=['data'], \n",
    "                    label_names=['softmax_label'])\n",
    "\n",
    "model.fit(train_iter,\n",
    "        eval_data=test_iter,\n",
    "        optimizer='sgd',\n",
    "        optimizer_params={'learning_rate':0.1,'momentum':0.9,'wd':0.00001},\n",
    "        eval_metric='acc',monitor= mon,\n",
    "        num_epoch=2,batch_end_callback= mx.callback.Speedometer(100, 100))"
   ]
  },
  {
   "cell_type": "markdown",
   "metadata": {},
   "source": [
    "## Further Readings\n",
    "\n",
    "- More state-of-the-art cnn models are available at [mxnet/example/image-classification](https://github.com/dmlc/mxnet/tree/master/example/image-classification)"
   ]
  }
 ],
 "metadata": {
  "anaconda-cloud": {},
  "kernelspec": {
   "display_name": "Python 3",
   "language": "python",
   "name": "python3"
  },
  "language_info": {
   "codemirror_mode": {
    "name": "ipython",
    "version": 3
   },
   "file_extension": ".py",
   "mimetype": "text/x-python",
   "name": "python",
   "nbconvert_exporter": "python",
   "pygments_lexer": "ipython3",
   "version": "3.6.0"
  }
 },
 "nbformat": 4,
 "nbformat_minor": 1
}
