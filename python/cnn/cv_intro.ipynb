{
 "cells": [
  {
   "cell_type": "markdown",
   "metadata": {},
   "source": [
    "# Computer Vision in MXNet\n",
    "\n",
    "Welcome to the tutorial! This tutorial will guide you through an example of Computer Vision on the MNIST dataset using MXNet. In the tutorial, we will cover: \n",
    "- What is an artificial neuron? \n",
    "- data loading and the MNIST data set\n",
    "- convolutional layers, relu, and softmax layers \n",
    "- constructing a feed-forward model\n",
    "- debugging \n",
    "\n",
    "First let's import the modules and setup logging:"
   ]
  },
  {
   "cell_type": "code",
   "execution_count": 1,
   "metadata": {
    "collapsed": true
   },
   "outputs": [],
   "source": [
    "%matplotlib inline\n",
    "import mxnet as mx\n",
    "import matplotlib.pyplot as plt\n",
    "import logging\n",
    "\n",
    "logger = logging.getLogger()\n",
    "logger.setLevel(logging.DEBUG)"
   ]
  },
  {
   "cell_type": "markdown",
   "metadata": {},
   "source": [
    "Next, we will cover our data and network architecture, MNIST and LeNet."
   ]
  },
  {
   "cell_type": "markdown",
   "metadata": {},
   "source": [
    "## MNIST Data\n",
    "[MNIST](http://yann.lecun.com/exdb/mnist/) is a data set of handwritten digits with corresponding labels. You can think of each image as a 28x28 matrix, each of which is comprised of a greyscale value, and includes a <b> label </b> denoting the digit it contains. \n",
    "\n",
    "<b>Label:</b> 7 \n",
    "<img src=\"images/im2mat.png\">"
   ]
  },
  {
   "cell_type": "markdown",
   "metadata": {},
   "source": [
    "## Data Loading\n",
    "\n",
    "We can load the MNIST data from scikit and shuffle it to generate <b> test </b> and <b> training </b> sets."
   ]
  },
  {
   "cell_type": "code",
   "execution_count": 2,
   "metadata": {
    "collapsed": false
   },
   "outputs": [
    {
     "data": {
      "image/png": "[encoded data removed]",
      "text/plain": [
       "<matplotlib.figure.Figure at 0x10d64f410>"
      ]
     },
     "metadata": {},
     "output_type": "display_data"
    }
   ],
   "source": [
    "from sklearn.datasets import fetch_mldata\n",
    "from sklearn.utils import shuffle\n",
    "import tempfile\n",
    "test_data_home = tempfile.mkdtemp()\n",
    "\n",
    "mnist = fetch_mldata('MNIST original', data_home=test_data_home)\n",
    "\n",
    "# shuffle data\n",
    "X, y = shuffle(mnist.data, mnist.target)\n",
    "# split dataset\n",
    "train_data = X[:50000, :].astype('float32')\n",
    "train_data = train_data.reshape((len(train_data), 1, 28, 28))\n",
    "# train_X = train_X.reshape((len(train_X), 1, 28, 28))\n",
    "train_label = y[:50000]\n",
    "val_data = X[50000: 60000, :].astype('float32')\n",
    "val_data = val_data.reshape((len(val_data), 1, 28, 28))\n",
    "val_label = y[50000:60000]\n",
    "# Normalize data\n",
    "train_data[:] /= 256.0\n",
    "val_data[:] /= 256.0\n",
    "\n",
    "for i in range(10):\n",
    "    plt.subplot(1,10,i+1)\n",
    "    plt.imshow(X[i].reshape((28,28)), cmap='Greys_r')\n",
    "    plt.axis('off')\n",
    "plt.show()"
   ]
  },
  {
   "cell_type": "markdown",
   "metadata": {},
   "source": [
    "## LeNet\n",
    "\n",
    "The LeNet is an early hallmark architecture on the MNIST data.\n",
    "<img src=\"images/lenet.png\">\n",
    "\n",
    "LeCun, Yann, Leon Bottou, Yoshua Bengio, and Patrick Haffner. \"Gradient-based learning applied to document recognition.\" Proceedings of the IEEE (1998)"
   ]
  },
  {
   "cell_type": "code",
   "execution_count": 3,
   "metadata": {
    "collapsed": true
   },
   "outputs": [],
   "source": [
    "# Define input layer\n",
    "data = mx.symbol.Variable('data')"
   ]
  },
  {
   "cell_type": "markdown",
   "metadata": {},
   "source": [
    "### Convolutional Layer\n",
    "\n",
    "### Receptive Field, Kernel, and Stride\n",
    "When we specify the <b>kernel</b> size, we are defining a “<b>receptive field</b>” or region of the image which we will use in an operation. One can also specify a stride to space out the receptive fields, although MXNet will use a (1,1) stride by default. \n",
    "<img src=\"https://thatindiandude.github.io/images/receptive_field.png\">"
   ]
  },
  {
   "cell_type": "markdown",
   "metadata": {},
   "source": [
    "Let k be the filter id. For each receptive field, we have a randomly initialized weight matrix such that, when multiplied by the receptive field, we have a real-valued constant result: $$I_{ij} * W_{ijk} = c \\in \\mathbb{R} $$\n"
   ]
  },
  {
   "cell_type": "markdown",
   "metadata": {},
   "source": [
    "When $k$=1, then we will have the following feature map: \n",
    "<img src=\"https://thatindiandude.github.io/images/convolution.png\">"
   ]
  },
  {
   "cell_type": "markdown",
   "metadata": {},
   "source": [
    "When $k>1$, we apply multiple randomly initialized weights to the same receptive fields to result in several feature maps:\n",
    "<img src=\"https://thatindiandude.github.io/images/multi_filter.png\">"
   ]
  },
  {
   "cell_type": "markdown",
   "metadata": {},
   "source": [
    "By keeping the weight matrices independent between filters, we hope that each one captures different features from the input image. We will “stack these” (indicated by the stacked rectangles in the LeNet architecture image) to build a 3-dimensional <b>tensor</b>:\n",
    "<img src=\"https://thatindiandude.github.io/images/conv_output.png\">"
   ]
  },
  {
   "cell_type": "code",
   "execution_count": 4,
   "metadata": {
    "collapsed": true
   },
   "outputs": [],
   "source": [
    "# first conv layer\n",
    "conv1 = mx.symbol.Convolution(data=data, kernel=(5,5), num_filter=20)"
   ]
  },
  {
   "cell_type": "markdown",
   "metadata": {},
   "source": [
    "### Activation\n",
    "We then take the resulting tensor and apply an element-wise “activation” function. Using the $tanh$ function, we introduce non-linearity to the feature map.  \n",
    "<img src=\"https://thatindiandude.github.io/images/activation_map.png\">"
   ]
  },
  {
   "cell_type": "code",
   "execution_count": 5,
   "metadata": {
    "collapsed": true
   },
   "outputs": [],
   "source": [
    "tanh1 = mx.symbol.Activation(data=conv1, act_type=\"tanh\")"
   ]
  },
  {
   "cell_type": "markdown",
   "metadata": {},
   "source": [
    "### Pooling \n",
    "\n",
    "<img src=\"https://thatindiandude.github.io/images/pooling.png\">\n",
    "\n",
    "We will take another kernel (with stride) and take the max value of that kernel from the resulting activation map. Then, we stitch these together to create the pooling layer. In doing so, we downsample the convolutional output. \n"
   ]
  },
  {
   "cell_type": "code",
   "execution_count": 6,
   "metadata": {
    "collapsed": true
   },
   "outputs": [],
   "source": [
    "pool1 = mx.symbol.Pooling(data=tanh1, pool_type=\"max\",\n",
    "                              kernel=(2,2), stride=(2,2))"
   ]
  },
  {
   "cell_type": "code",
   "execution_count": 7,
   "metadata": {
    "collapsed": true
   },
   "outputs": [],
   "source": [
    "# second conv\n",
    "conv2 = mx.symbol.Convolution(data=pool1, kernel=(5,5), num_filter=50)\n",
    "tanh2 = mx.symbol.Activation(data=conv2, act_type=\"tanh\")\n",
    "pool2 = mx.symbol.Pooling(data=tanh2, pool_type=\"max\",\n",
    "                          kernel=(2,2), stride=(2,2))"
   ]
  },
  {
   "cell_type": "markdown",
   "metadata": {},
   "source": [
    "### Results\n",
    "\n",
    "When we apply max-pooling, we want to find a feature in the activation map and to get rid of information regarding its locality. We don’t need this information because what matters is how the feature exists, relative to other locations of appearance close-by in the activation map rather than relative to the whole image. We can also reduce overhead in terms of the number of parameters needed to process the output from the convolution operation. \n",
    " \n",
    "When we apply the tanh function and pooling twice, the results may detect edges, corners, and dots in a first layer, and higher level features in the second layer due to more non-linearity. \n",
    "\n",
    "Jarrett et al. use tanh and absolute value pooling to detect edges  \n",
    "\n",
    "<img src=\"https://thatindiandude.github.io/images/jarrett.png\">\n"
   ]
  },
  {
   "cell_type": "markdown",
   "metadata": {},
   "source": [
    "### Fully Connected Layers\n",
    "As opposed to the convolutional layer, in which receptive fields are only connected to spatially local ones, a fully connected layer will connect all receptive fields from the last layer to construct its activation maps. \n",
    "\n",
    "<img src=\"https://thatindiandude.github.io/images/fc_layer.jpeg\">\n"
   ]
  },
  {
   "cell_type": "code",
   "execution_count": 8,
   "metadata": {
    "collapsed": true
   },
   "outputs": [],
   "source": [
    "# first fully connected layer\n",
    "flatten = mx.symbol.Flatten(data=pool2)\n",
    "fc1 = mx.symbol.FullyConnected(data=flatten, num_hidden=500)\n",
    "tanh3 = mx.symbol.Activation(data=fc1, act_type=\"tanh\")"
   ]
  },
  {
   "cell_type": "markdown",
   "metadata": {},
   "source": [
    "By flattening the pooling later, we can create a flat representation of an embedding of an input image. Then, by using a fully connected layer, we will release the constraint on spatial locality and enable features to mix. "
   ]
  },
  {
   "cell_type": "markdown",
   "metadata": {},
   "source": [
    "Then, by using a 10-unit FC layer, we will have a neuron which is accurate in predicting of one each digit."
   ]
  },
  {
   "cell_type": "code",
   "execution_count": 9,
   "metadata": {
    "collapsed": false
   },
   "outputs": [],
   "source": [
    "# second fully connected layer\n",
    "fc2 = mx.symbol.FullyConnected(data=tanh3, num_hidden=10)"
   ]
  },
  {
   "cell_type": "markdown",
   "metadata": {},
   "source": [
    "### Softmax Prediction\n",
    "Now that we have 10 neurons from which to make predictions, we will use softmax prediction to actually find the most likely digit in an input $x$.\n",
    "\n",
    "#### Process\n",
    "1. Determine case for input being a digit pixel by pixel \n",
    "2. Establish probabilities per digit\n",
    "\n",
    "##### Determine Case\n",
    "For each digit $i$ (0...9), the case is calculated for each pixel $j$ using weight $W_{j}$. We also have a bias term $b$ added per digit. Then, we want to exponentiate this. \n",
    "\n",
    "$$case_i = \\exp{(\\sum_{j}W_{i,j}x_j + b_i})$$ \n",
    "\n",
    "##### Establish Probability\n",
    "\n",
    "Then, we will normalize the case across all digits to establish probabilities. Overall all classes $j$: \n",
    "\n",
    "$$softmax(x) = [ \\frac{\\exp{x_0}}{\\sum_{j}\\exp{x_j}}, \\frac{\\exp{x_1}}{\\sum_{j}\\exp{x_j}}, ... ] $$"
   ]
  },
  {
   "cell_type": "code",
   "execution_count": 10,
   "metadata": {
    "collapsed": true
   },
   "outputs": [],
   "source": [
    "# loss\n",
    "lenet = mx.symbol.SoftmaxOutput(data=fc2, name='softmax')"
   ]
  },
  {
   "cell_type": "markdown",
   "metadata": {},
   "source": [
    "# Running a Model\n",
    "Now that we have created a model, we can now run a model. First, we will need an iterator to load our data at an appropriate batch size. "
   ]
  },
  {
   "cell_type": "code",
   "execution_count": 11,
   "metadata": {
    "collapsed": true
   },
   "outputs": [],
   "source": [
    "# create a numpy iterator\n",
    "batch_size = 100\n",
    "train_iter = mx.io.NDArrayIter(train_data, train_label, batch_size=batch_size, shuffle=True)\n",
    "val_iter = mx.io.NDArrayIter(val_data, val_label, batch_size=batch_size)"
   ]
  },
  {
   "cell_type": "markdown",
   "metadata": {},
   "source": [
    "Then we can run the model with several input parameters, including (but not limited to):\n",
    "- context: where to run the model, either CPU(s) or GPU(s)\n",
    "- symbol: model \n",
    "- learning_rate: how fast are weights adjusted\n",
    "- momentum: how much to weigh the rate of change in the gradients"
   ]
  },
  {
   "cell_type": "code",
   "execution_count": 12,
   "metadata": {
    "collapsed": false
   },
   "outputs": [
    {
     "name": "stderr",
     "output_type": "stream",
     "text": [
      "INFO:root:Start training with [cpu(0)]\n",
      "INFO:root:Iter[0] Batch [200]\tSpeed: 430.46 samples/sec\n",
      "INFO:root:Iter[0] Batch [400]\tSpeed: 428.22 samples/sec\n",
      "INFO:root:Epoch[0] Train-accuracy=0.718040\n",
      "INFO:root:Epoch[0] Time cost=116.891\n",
      "INFO:root:Epoch[0] Validation-accuracy=0.966100\n",
      "INFO:root:Iter[1] Batch [200]\tSpeed: 364.30 samples/sec\n",
      "INFO:root:Iter[1] Batch [400]\tSpeed: 369.39 samples/sec\n",
      "INFO:root:Epoch[1] Train-accuracy=0.975140\n",
      "INFO:root:Epoch[1] Time cost=133.783\n",
      "INFO:root:Epoch[1] Validation-accuracy=0.978400\n",
      "INFO:root:Iter[2] Batch [200]\tSpeed: 409.41 samples/sec\n",
      "INFO:root:Iter[2] Batch [400]\tSpeed: 388.86 samples/sec\n",
      "INFO:root:Epoch[2] Train-accuracy=0.985840\n",
      "INFO:root:Epoch[2] Time cost=124.780\n",
      "INFO:root:Epoch[2] Validation-accuracy=0.984300\n",
      "INFO:root:Iter[3] Batch [200]\tSpeed: 431.88 samples/sec\n",
      "INFO:root:Iter[3] Batch [400]\tSpeed: 426.02 samples/sec\n",
      "INFO:root:Epoch[3] Train-accuracy=0.990380\n",
      "INFO:root:Epoch[3] Time cost=116.868\n",
      "INFO:root:Epoch[3] Validation-accuracy=0.983800\n",
      "INFO:root:Iter[4] Batch [200]\tSpeed: 386.59 samples/sec\n",
      "INFO:root:Iter[4] Batch [400]\tSpeed: 421.10 samples/sec\n",
      "INFO:root:Epoch[4] Train-accuracy=0.993060\n",
      "INFO:root:Epoch[4] Time cost=122.852\n",
      "INFO:root:Epoch[4] Validation-accuracy=0.987600\n",
      "INFO:root:Iter[5] Batch [200]\tSpeed: 430.79 samples/sec\n",
      "INFO:root:Iter[5] Batch [400]\tSpeed: 425.10 samples/sec\n",
      "INFO:root:Epoch[5] Train-accuracy=0.995640\n",
      "INFO:root:Epoch[5] Time cost=117.460\n",
      "INFO:root:Epoch[5] Validation-accuracy=0.987700\n",
      "INFO:root:Iter[6] Batch [200]\tSpeed: 429.43 samples/sec\n",
      "INFO:root:Iter[6] Batch [400]\tSpeed: 425.52 samples/sec\n",
      "INFO:root:Epoch[6] Train-accuracy=0.996780\n",
      "INFO:root:Epoch[6] Time cost=117.259\n",
      "INFO:root:Epoch[6] Validation-accuracy=0.989200\n",
      "INFO:root:Iter[7] Batch [200]\tSpeed: 430.19 samples/sec\n",
      "INFO:root:Iter[7] Batch [400]\tSpeed: 421.65 samples/sec\n",
      "INFO:root:Epoch[7] Train-accuracy=0.998100\n",
      "INFO:root:Epoch[7] Time cost=117.530\n",
      "INFO:root:Epoch[7] Validation-accuracy=0.989100\n",
      "INFO:root:Iter[8] Batch [200]\tSpeed: 426.18 samples/sec\n",
      "INFO:root:Iter[8] Batch [400]\tSpeed: 392.77 samples/sec\n",
      "INFO:root:Epoch[8] Train-accuracy=0.999240\n",
      "INFO:root:Epoch[8] Time cost=123.083\n",
      "INFO:root:Epoch[8] Validation-accuracy=0.990300\n",
      "INFO:root:Iter[9] Batch [200]\tSpeed: 424.93 samples/sec\n",
      "INFO:root:Iter[9] Batch [400]\tSpeed: 367.70 samples/sec\n",
      "INFO:root:Epoch[9] Train-accuracy=0.999540\n",
      "INFO:root:Epoch[9] Time cost=126.905\n",
      "INFO:root:Epoch[9] Validation-accuracy=0.990700\n"
     ]
    }
   ],
   "source": [
    "model = mx.model.FeedForward(\n",
    "    ctx = mx.cpu(), \n",
    "    symbol = lenet,\n",
    "    num_epoch = 10,       # Train for 10 epochs\n",
    "    learning_rate = 0.1,  # Learning rate\n",
    "    momentum = 0.9,       # Momentum for SGD with momentum\n",
    "    wd = 0.00001 \n",
    ")\n",
    "\n",
    "model.fit(X = train_iter, eval_data = val_iter, batch_end_callback = mx.callback.Speedometer(batch_size, 200))"
   ]
  },
  {
   "cell_type": "markdown",
   "metadata": {
    "collapsed": true
   },
   "source": [
    "# Test and Debug\n",
    "We can print out the following test run: "
   ]
  },
  {
   "cell_type": "code",
   "execution_count": null,
   "metadata": {
    "collapsed": false
   },
   "outputs": [],
   "source": [
    "import numpy as np\n",
    "\n",
    "plt.imshow((X[0].reshape((28,28))*255).astype(np.uint8), cmap='Greys_r')\n",
    "plt.show()\n",
    "print 'Result:', model.predict((X[0].reshape((28,28))*255))"
   ]
  },
  {
   "cell_type": "markdown",
   "metadata": {},
   "source": [
    "We can also evaluate the model's accuracy on the entire test set:"
   ]
  },
  {
   "cell_type": "code",
   "execution_count": null,
   "metadata": {
    "collapsed": false
   },
   "outputs": [],
   "source": [
    "print 'Accuracy:', model.score(test_iter)*100, '%'"
   ]
  },
  {
   "cell_type": "markdown",
   "metadata": {},
   "source": [
    "Now, try if your model recognizes your own hand writing.\n",
    "Write a digit from 0 to 9 in the box below. Try to put your digit in the middle of the box."
   ]
  },
  {
   "cell_type": "code",
   "execution_count": 18,
   "metadata": {
    "collapsed": false
   },
   "outputs": [
    {
     "data": {
      "text/html": [
       "<style type=\"text/css\">canvas { border: 1px solid black; }</style><div id=\"board\"><canvas id=\"myCanvas\" width=\"100px\" height=\"100px\">Sorry, your browser doesn't support canvas technology.</canvas><p><button id=\"classify\" onclick=\"classify()\">Classify</button><button id=\"clear\" onclick=\"myClear()\">Clear</button>Result: <input type=\"text\" id=\"result_output\" size=\"5\" value=\"\"></p></div><script type=\"text/JavaScript\" src=\"https://ajax.googleapis.com/ajax/libs/jquery/1.4.2/jquery.min.js?ver=1.4.2\"></script><script type=\"text/javascript\">function init() {var myCanvas = document.getElementById(\"myCanvas\");var curColor = $('#selectColor option:selected').val();if(myCanvas){var isDown = false;var ctx = myCanvas.getContext(\"2d\");var canvasX, canvasY;ctx.lineWidth = 8;$(myCanvas).mousedown(function(e){isDown = true;ctx.beginPath();var parentOffset = $(this).parent().offset(); canvasX = e.pageX - parentOffset.left;canvasY = e.pageY - parentOffset.top;ctx.moveTo(canvasX, canvasY);}).mousemove(function(e){if(isDown != false) {var parentOffset = $(this).parent().offset(); canvasX = e.pageX - parentOffset.left;canvasY = e.pageY - parentOffset.top;ctx.lineTo(canvasX, canvasY);ctx.strokeStyle = curColor;ctx.stroke();}}).mouseup(function(e){isDown = false;ctx.closePath();});}$('#selectColor').change(function () {curColor = $('#selectColor option:selected').val();});}init();function handle_output(out) {document.getElementById(\"result_output\").value = out.content.data[\"text/plain\"];}function classify() {var kernel = IPython.notebook.kernel;var myCanvas = document.getElementById(\"myCanvas\");data = myCanvas.toDataURL('image/png');document.getElementById(\"result_output\").value = \"\";kernel.execute(\"classify('\" + data +\"')\",  { 'iopub' : {'output' : handle_output}}, {silent:false});}function myClear() {var myCanvas = document.getElementById(\"myCanvas\");myCanvas.getContext(\"2d\").clearRect(0, 0, myCanvas.width, myCanvas.height);}</script>"
      ],
      "text/plain": [
       "<IPython.core.display.HTML object>"
      ]
     },
     "execution_count": 18,
     "metadata": {},
     "output_type": "execute_result"
    },
    {
     "name": "stdout",
     "output_type": "stream",
     "text": [
      "\n"
     ]
    }
   ],
   "source": [
    "# run hand drawing test\n",
    "from IPython.display import HTML\n",
    "\n",
    "def classify(img):\n",
    "    img = img[len('data:image/png;base64,'):].decode('base64')\n",
    "    img = cv2.imdecode(np.fromstring(img, np.uint8), -1)\n",
    "    img = cv2.resize(img[:,:,3], (28,28))\n",
    "    img = img.astype(np.float32).reshape((1, 784))/255.0\n",
    "    return model.predict(img)[0].argmax()\n",
    "\n",
    "html = \"\"\"<style type=\"text/css\">canvas { border: 1px solid black; }</style><div id=\"board\"><canvas id=\"myCanvas\" width=\"100px\" height=\"100px\">Sorry, your browser doesn't support canvas technology.</canvas><p><button id=\"classify\" onclick=\"classify()\">Classify</button><button id=\"clear\" onclick=\"myClear()\">Clear</button>Result: <input type=\"text\" id=\"result_output\" size=\"5\" value=\"\"></p></div>\"\"\"\n",
    "script = \"\"\"<script type=\"text/JavaScript\" src=\"https://ajax.googleapis.com/ajax/libs/jquery/1.4.2/jquery.min.js?ver=1.4.2\"></script><script type=\"text/javascript\">function init() {var myCanvas = document.getElementById(\"myCanvas\");var curColor = $('#selectColor option:selected').val();if(myCanvas){var isDown = false;var ctx = myCanvas.getContext(\"2d\");var canvasX, canvasY;ctx.lineWidth = 8;$(myCanvas).mousedown(function(e){isDown = true;ctx.beginPath();var parentOffset = $(this).parent().offset(); canvasX = e.pageX - parentOffset.left;canvasY = e.pageY - parentOffset.top;ctx.moveTo(canvasX, canvasY);}).mousemove(function(e){if(isDown != false) {var parentOffset = $(this).parent().offset(); canvasX = e.pageX - parentOffset.left;canvasY = e.pageY - parentOffset.top;ctx.lineTo(canvasX, canvasY);ctx.strokeStyle = curColor;ctx.stroke();}}).mouseup(function(e){isDown = false;ctx.closePath();});}$('#selectColor').change(function () {curColor = $('#selectColor option:selected').val();});}init();function handle_output(out) {document.getElementById(\"result_output\").value = out.content.data[\"text/plain\"];}function classify() {var kernel = IPython.notebook.kernel;var myCanvas = document.getElementById(\"myCanvas\");data = myCanvas.toDataURL('image/png');document.getElementById(\"result_output\").value = \"\";kernel.execute(\"classify('\" + data +\"')\",  { 'iopub' : {'output' : handle_output}}, {silent:false});}function myClear() {var myCanvas = document.getElementById(\"myCanvas\");myCanvas.getContext(\"2d\").clearRect(0, 0, myCanvas.width, myCanvas.height);}</script>\"\"\"\n",
    "HTML(html+script)"
   ]
  }
 ],
 "metadata": {
  "anaconda-cloud": {},
  "kernelspec": {
   "display_name": "Python [default]",
   "language": "python",
   "name": "python2"
  },
  "language_info": {
   "codemirror_mode": {
    "name": "ipython",
    "version": 2
   },
   "file_extension": ".py",
   "mimetype": "text/x-python",
   "name": "python",
   "nbconvert_exporter": "python",
   "pygments_lexer": "ipython2",
   "version": "2.7.12"
  }
 },
 "nbformat": 4,
 "nbformat_minor": 0
}
