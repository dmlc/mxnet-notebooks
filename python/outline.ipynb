{
 "cells": [
  {
   "cell_type": "markdown",
   "metadata": {},
   "source": [
    "# Python Notebooks for MXNet\n",
    "\n",
    "The outline of python notebooks.\n",
    "\n",
    "## Tutorials\n",
    "\n",
    "- [MNIST](./tutorials/mnist.ipynb): Recognize handwritten digits with multilayer perceptrons and convolutional neural networks\n",
    "- [Recognize image objects](./tutorials/predict_imagenet.ipynb) with pre-trained model on the full Imagenet dataset that containing more than 10M images and over 10K classes\n",
    "- [Char-LSTM](./tutorials/char_lstm.ipynb): Generates Obama's speeches with character-level LSTM.\n",
    "- [Matrix Factorization](./tutorials/matrix_factorization.ipynb): Recommend movies to users. \n",
    "\n",
    "## Basic Concepts\n",
    "\n",
    "- [NDArray](./basic/ndarray.ipynb): manipulating multi-dimensional array \n",
    "- [Symbol](./basic/symbol.ipynb): symbolic expression for neural networks\n",
    "- [Module](./basic/module.ipynb) : intermediate-level and high-level interface for neural network training and inference. \n",
    "- [Loading data](./basic/data.ipynb) : feeding data into training/inference programs\n",
    "- [Mixed programming](./basic/mixed.ipynb): developing training algorithms by using NDArray and Symbol together.\n",
    " \n",
    "\n",
    "## How Tos\n",
    "\n",
    "- [Use pretrained models for prediction and feature extraction](./how_to/predict.ipynb) \n",
    "- [Use pretrainde models for fine-tune](./how_to/finetune.ipynb)\n"
   ]
  },
  {
   "cell_type": "code",
   "execution_count": null,
   "metadata": {
    "collapsed": true
   },
   "outputs": [],
   "source": []
  }
 ],
 "metadata": {
  "anaconda-cloud": {},
  "kernelspec": {
   "display_name": "Python 2",
   "language": "python",
   "name": "python2"
  },
  "language_info": {
   "codemirror_mode": {
    "name": "ipython",
    "version": 2
   },
   "file_extension": ".py",
   "mimetype": "text/x-python",
   "name": "python",
   "nbconvert_exporter": "python",
   "pygments_lexer": "ipython2",
   "version": "2.7.6"
  }
 },
 "nbformat": 4,
 "nbformat_minor": 0
}
