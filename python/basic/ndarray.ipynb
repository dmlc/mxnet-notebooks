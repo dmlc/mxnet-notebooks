{
 "cells": [
  {
   "cell_type": "markdown",
   "metadata": {},
   "source": [
    "# NDArray Tutorial\n",
    "\n",
    "\n",
    "One of the main object in MXNet is the multidimensional array provided by the package `mxnet.ndarray`, or `mxnet.nd` for short. If you familiar with the scientific computing python package [NumPy](http://www.numpy.org/), `mxnet.ndarray` is similar to `numpy.ndarray` in many aspects. \n",
    "\n",
    "## The basic\n",
    "\n",
    "A multidimensional array is a table of numbers with the same type. For example, the coordinates of a point in 3D space `[1, 2, 3]` is a 1-dimensional array with that dimension has a length of 3. The following picture shows a 2-dimensional array. The length of the first dimension is 2, and the second dimension has a length of 3\n",
    "```\n",
    "[[0, 1, 2]\n",
    " [3, 4, 5]]\n",
    "```\n",
    "The array class is called `NDArray`. Some important attributes of a `NDArray` object are:\n",
    "\n",
    "- **ndarray.shape** the dimensions of the array. It is a tuple of integers indicating the length of the array in each dimension. For a matrix with `n` rows and `m` columns, the `shape` will be `(n, m)`.  \n",
    "- **ndarray.dtype** an `numpy` object describing the type of the elements.\n",
    "- **ndarray.size** the total number of numbers in the array, which equals to the product of the elements of `shape`\n",
    "- **ndarray.context** the device this array is stored. A device can be the CPU or the i-th GPU.\n",
    "\n",
    "### Array Creation \n",
    "An array can be created in multiple ways. For example, we can create an array from a regular Python list or tuple by using the `array` function"
   ]
  },
  {
   "cell_type": "code",
   "execution_count": 1,
   "metadata": {
    "collapsed": true
   },
   "outputs": [],
   "source": [
    "\"\"\"test_ndarray_shape\"\"\"\n",
    "def shape_checker(nd_shape):\n",
    "    ret = 1\n",
    "    for dim in nd_shape:\n",
    "        ret *= dim\n",
    "    return ret"
   ]
  },
  {
   "cell_type": "code",
   "execution_count": 2,
   "metadata": {
    "collapsed": false
   },
   "outputs": [
    {
     "data": {
      "text/plain": [
       "{'a.shape': (3L,), 'b.shape': (2L, 3L)}"
      ]
     },
     "execution_count": 2,
     "metadata": {},
     "output_type": "execute_result"
    }
   ],
   "source": [
    "import mxnet as mx\n",
    "# create a 1-dimensional array with a python list\n",
    "a = mx.nd.array([1,2,3])\n",
    "assert shape_checker(a.shape) == a.size, \"NDArray shape isn't consistent with NDArray size.\"\n",
    "# create a 2-dimensional array with a nested python list \n",
    "b = mx.nd.array([[1,2,3], [2,3,4]])\n",
    "assert shape_checker(b.shape) == b.size, \"NDArray shape isn't consistent with NDArray size.\"\n",
    "{'a.shape':a.shape, 'b.shape':b.shape}"
   ]
  },
  {
   "cell_type": "markdown",
   "metadata": {},
   "source": [
    "or from an `numpy.ndarray` object"
   ]
  },
  {
   "cell_type": "code",
   "execution_count": 3,
   "metadata": {
    "collapsed": false
   },
   "outputs": [
    {
     "data": {
      "text/plain": [
       "{'a.shape': (3L, 5L)}"
      ]
     },
     "execution_count": 3,
     "metadata": {},
     "output_type": "execute_result"
    }
   ],
   "source": [
    "import numpy as np\n",
    "import math\n",
    "c = np.arange(15).reshape(3,5)\n",
    "# create a 2-dimensional array from a numpy.ndarray object\n",
    "a = mx.nd.array(c)\n",
    "assert shape_checker(a.shape) == a.size, \"NDArray shape isn't consistent with NDArray size.\"\n",
    "{'a.shape':a.shape}"
   ]
  },
  {
   "cell_type": "markdown",
   "metadata": {},
   "source": [
    "We can specify the element type with the option `dtype`, which accepts a numpy type. In default, `float32` is used. "
   ]
  },
  {
   "cell_type": "code",
   "execution_count": 4,
   "metadata": {
    "collapsed": false
   },
   "outputs": [
    {
     "name": "stdout",
     "output_type": "stream",
     "text": [
      "(3L,)\n"
     ]
    },
    {
     "data": {
      "text/plain": [
       "(numpy.float32, numpy.int32, numpy.float16)"
      ]
     },
     "execution_count": 4,
     "metadata": {},
     "output_type": "execute_result"
    }
   ],
   "source": [
    "# float32 is used in deafult\n",
    "a = mx.nd.array([1,2,3])\n",
    "print a.shape\n",
    "assert a.dtype is np.float32, \"NDArray data type inconsistency.\"\n",
    "# create an int32 array\n",
    "b = mx.nd.array([1,2,3], dtype=np.int32)\n",
    "assert b.dtype is np.int32, \"NDArray data type inconsistency.\"\n",
    "# create a 16-bit float array\n",
    "c = mx.nd.array([1.2, 2.3], dtype=np.float16)\n",
    "assert c.dtype is np.float16, \"NDArray data type inconsistency.\"\n",
    "(a.dtype, b.dtype, c.dtype)"
   ]
  },
  {
   "cell_type": "markdown",
   "metadata": {},
   "source": [
    "If we only know the size but not the element values, there are several functions to create arrays with initial placeholder content. "
   ]
  },
  {
   "cell_type": "code",
   "execution_count": 5,
   "metadata": {
    "collapsed": false
   },
   "outputs": [],
   "source": [
    "\"\"\"test_ndarray_element_value\"\"\"\n",
    "def test_val(nd_array, val):\n",
    "    for num in np.nditer(nd_array):\n",
    "        assert round(num, 7) == round(val, 7), \"NDArray element value incorrect.\""
   ]
  },
  {
   "cell_type": "code",
   "execution_count": 6,
   "metadata": {
    "collapsed": false
   },
   "outputs": [],
   "source": [
    "# create a 2-dimensional array full of zeros with shape (2,3) \n",
    "a = mx.nd.zeros((2,3))\n",
    "test_val(a.asnumpy(), 0)\n",
    "# create a same shape array full of ones\n",
    "b = mx.nd.ones((2,3))\n",
    "test_val(b.asnumpy(), 1)\n",
    "# create a same shape array with all elements set to 7\n",
    "c = mx.nd.full((2,3), 7)\n",
    "test_val(c.asnumpy(), 7)\n",
    "# create a same shape whose initial content is random and \n",
    "# depends on the state of the memory\n",
    "d = mx.nd.empty((2,3))"
   ]
  },
  {
   "cell_type": "markdown",
   "metadata": {},
   "source": [
    "### Printing Arrays\n",
    "We often first convert `NDArray` to `numpy.ndarray` by the function `asnumpy` for printing. Numpy uses the following layout:\n",
    "- the last axis is printed from left to right,\n",
    "- the second-to-last is printed from top to bottom,\n",
    "- the rest are also printed from top to bottom, with each slice separated from the next by an empty line."
   ]
  },
  {
   "cell_type": "code",
   "execution_count": 7,
   "metadata": {
    "collapsed": false
   },
   "outputs": [
    {
     "data": {
      "text/plain": [
       "array([[ 1.,  1.,  1.],\n",
       "       [ 1.,  1.,  1.]], dtype=float32)"
      ]
     },
     "execution_count": 7,
     "metadata": {},
     "output_type": "execute_result"
    }
   ],
   "source": [
    "b = mx.nd.ones((2,3))\n",
    "b.asnumpy()"
   ]
  },
  {
   "cell_type": "markdown",
   "metadata": {},
   "source": [
    "### Basic Operations\n",
    "Arithmetic operators on arrays apply *elementwise*. A new array is created and filled with the result."
   ]
  },
  {
   "cell_type": "code",
   "execution_count": 8,
   "metadata": {
    "collapsed": false
   },
   "outputs": [
    {
     "data": {
      "text/plain": [
       "array([[ 2.,  2.,  2.],\n",
       "       [ 2.,  2.,  2.]], dtype=float32)"
      ]
     },
     "execution_count": 8,
     "metadata": {},
     "output_type": "execute_result"
    }
   ],
   "source": [
    "a = mx.nd.ones((2,3))\n",
    "b = mx.nd.ones((2,3))\n",
    "# elementwise plus\n",
    "c = a + b\n",
    "test_val(c.asnumpy(), 1 + 1)\n",
    "# elementwise minus\n",
    "d = - c \n",
    "test_val(d.asnumpy(), -(1 + 1))\n",
    "# elementwise pow and sin, and then transpose\n",
    "e = mx.nd.sin(c**2).T\n",
    "test_val(e.asnumpy(), math.sin(4))\n",
    "# elementwise max\n",
    "f = mx.nd.maximum(a, c)  \n",
    "test_val(f.asnumpy(), 2)\n",
    "f.asnumpy()"
   ]
  },
  {
   "cell_type": "markdown",
   "metadata": {
    "collapsed": false
   },
   "source": [
    "Simiar to `NumPy`, `*` is used for elementwise multiply, while matrix-matrix multiplication is left for `dot`"
   ]
  },
  {
   "cell_type": "code",
   "execution_count": 9,
   "metadata": {
    "collapsed": false
   },
   "outputs": [
    {
     "data": {
      "text/plain": [
       "{'b': array([[ 1.,  1.],\n",
       "        [ 1.,  1.]], dtype=float32), 'c': array([[ 2.,  2.],\n",
       "        [ 2.,  2.]], dtype=float32)}"
      ]
     },
     "execution_count": 9,
     "metadata": {},
     "output_type": "execute_result"
    }
   ],
   "source": [
    "a = mx.nd.ones((2,2))\n",
    "b = a * a\n",
    "test_val(b.asnumpy(), 1 * 1)\n",
    "c = mx.nd.dot(a,a)\n",
    "test_val(c.asnumpy(), 1 * 1 + 1 * 1)\n",
    "{'b':b.asnumpy(), 'c':c.asnumpy()}"
   ]
  },
  {
   "cell_type": "markdown",
   "metadata": {},
   "source": [
    "The assignment operators such as `+=` and `*=` act in place to modify an existing array rather than create a new one."
   ]
  },
  {
   "cell_type": "code",
   "execution_count": 10,
   "metadata": {
    "collapsed": false
   },
   "outputs": [
    {
     "data": {
      "text/plain": [
       "array([[ 2.,  2.],\n",
       "       [ 2.,  2.]], dtype=float32)"
      ]
     },
     "execution_count": 10,
     "metadata": {},
     "output_type": "execute_result"
    }
   ],
   "source": [
    "a = mx.nd.ones((2,2))\n",
    "b = mx.nd.ones(a.shape)\n",
    "b += a\n",
    "test_val(b.asnumpy(), 1 + 1)\n",
    "b.asnumpy()"
   ]
  },
  {
   "cell_type": "markdown",
   "metadata": {},
   "source": [
    "### Indexing and Slicing\n",
    "The slice operator `[]` applies on axis 0. "
   ]
  },
  {
   "cell_type": "code",
   "execution_count": 11,
   "metadata": {
    "collapsed": false
   },
   "outputs": [
    {
     "data": {
      "text/plain": [
       "array([[ 0.,  1.],\n",
       "       [ 1.,  1.],\n",
       "       [ 4.,  5.]], dtype=float32)"
      ]
     },
     "execution_count": 11,
     "metadata": {},
     "output_type": "execute_result"
    }
   ],
   "source": [
    "a = mx.nd.array(np.arange(6).reshape(3,2))\n",
    "a[1:2] = 1\n",
    "a[:].asnumpy()"
   ]
  },
  {
   "cell_type": "markdown",
   "metadata": {},
   "source": [
    "We can also slice a particular axis with the method `slice_axis`"
   ]
  },
  {
   "cell_type": "code",
   "execution_count": 12,
   "metadata": {
    "collapsed": false
   },
   "outputs": [
    {
     "data": {
      "text/plain": [
       "array([[ 1.],\n",
       "       [ 1.],\n",
       "       [ 5.]], dtype=float32)"
      ]
     },
     "execution_count": 12,
     "metadata": {},
     "output_type": "execute_result"
    }
   ],
   "source": [
    "d = mx.nd.slice_axis(a, axis=1, begin=1, end=2)\n",
    "d.asnumpy()"
   ]
  },
  {
   "cell_type": "markdown",
   "metadata": {},
   "source": [
    "### Shape Manipulation \n",
    "The shape of the array can be changed as long as the size remaining the same "
   ]
  },
  {
   "cell_type": "code",
   "execution_count": 13,
   "metadata": {
    "collapsed": false
   },
   "outputs": [
    {
     "data": {
      "text/plain": [
       "array([[[  0.,   1.,   2.,   3.],\n",
       "        [  4.,   5.,   6.,   7.],\n",
       "        [  8.,   9.,  10.,  11.]],\n",
       "\n",
       "       [[ 12.,  13.,  14.,  15.],\n",
       "        [ 16.,  17.,  18.,  19.],\n",
       "        [ 20.,  21.,  22.,  23.]]], dtype=float32)"
      ]
     },
     "execution_count": 13,
     "metadata": {},
     "output_type": "execute_result"
    }
   ],
   "source": [
    "a = mx.nd.array(np.arange(24))\n",
    "b = a.reshape((2,3,4))\n",
    "assert shape_checker(b.shape) == a.size, \"Shape manipulation failed.\"\n",
    "b.asnumpy()"
   ]
  },
  {
   "cell_type": "markdown",
   "metadata": {},
   "source": [
    "Method `concatenate` stacks multiple arrays along the first dimension. (Their shapes must be the same)."
   ]
  },
  {
   "cell_type": "code",
   "execution_count": 14,
   "metadata": {
    "collapsed": false
   },
   "outputs": [
    {
     "data": {
      "text/plain": [
       "array([[ 1.,  1.,  1.],\n",
       "       [ 1.,  1.,  1.],\n",
       "       [ 2.,  2.,  2.],\n",
       "       [ 2.,  2.,  2.]], dtype=float32)"
      ]
     },
     "execution_count": 14,
     "metadata": {},
     "output_type": "execute_result"
    }
   ],
   "source": [
    "a = mx.nd.ones((2,3))\n",
    "b = mx.nd.ones((2,3))*2\n",
    "c = mx.nd.concatenate([a,b])\n",
    "assert shape_checker(c.shape) == a.size * 2, \"NDArray concatenation failed.\"\n",
    "c.asnumpy()"
   ]
  },
  {
   "cell_type": "markdown",
   "metadata": {},
   "source": [
    "### Reduce\n",
    "\n",
    "We can reduce the array to a scalar"
   ]
  },
  {
   "cell_type": "code",
   "execution_count": 15,
   "metadata": {
    "collapsed": false
   },
   "outputs": [
    {
     "data": {
      "text/plain": [
       "array([ 6.], dtype=float32)"
      ]
     },
     "execution_count": 15,
     "metadata": {},
     "output_type": "execute_result"
    }
   ],
   "source": [
    "a = mx.nd.ones((2,3))\n",
    "b = mx.nd.sum(a)\n",
    "test_val(b.asnumpy(), 2 * 3)\n",
    "b.asnumpy()"
   ]
  },
  {
   "cell_type": "markdown",
   "metadata": {},
   "source": [
    "or along a particular axis"
   ]
  },
  {
   "cell_type": "code",
   "execution_count": 16,
   "metadata": {
    "collapsed": false
   },
   "outputs": [
    {
     "data": {
      "text/plain": [
       "array([ 3.,  3.], dtype=float32)"
      ]
     },
     "execution_count": 16,
     "metadata": {},
     "output_type": "execute_result"
    }
   ],
   "source": [
    "c = mx.nd.sum_axis(a, axis=1)\n",
    "test_val(c.asnumpy(), 3)\n",
    "c.asnumpy()"
   ]
  },
  {
   "cell_type": "markdown",
   "metadata": {},
   "source": [
    "### Broadcast\n",
    "We can also broadcast an array by duplicating. The following codes broadcast along axis 1"
   ]
  },
  {
   "cell_type": "code",
   "execution_count": 17,
   "metadata": {
    "collapsed": false
   },
   "outputs": [
    {
     "data": {
      "text/plain": [
       "array([[ 0.,  0.],\n",
       "       [ 1.,  1.],\n",
       "       [ 2.,  2.],\n",
       "       [ 3.,  3.],\n",
       "       [ 4.,  4.],\n",
       "       [ 5.,  5.]], dtype=float32)"
      ]
     },
     "execution_count": 17,
     "metadata": {},
     "output_type": "execute_result"
    }
   ],
   "source": [
    "a = mx.nd.array(np.arange(6).reshape(6,1))\n",
    "b = a.broadcast_to((6,2))  # \n",
    "assert shape_checker(b.shape) == a.size * 2, \"NDArray broadcast failed.\"\n",
    "b.asnumpy()"
   ]
  },
  {
   "cell_type": "markdown",
   "metadata": {},
   "source": [
    "or broadcast along axes 1 and 2"
   ]
  },
  {
   "cell_type": "code",
   "execution_count": 18,
   "metadata": {
    "collapsed": false
   },
   "outputs": [
    {
     "data": {
      "text/plain": [
       "array([[[[ 0.,  1.,  2.],\n",
       "         [ 0.,  1.,  2.]],\n",
       "\n",
       "        [[ 0.,  1.,  2.],\n",
       "         [ 0.,  1.,  2.]]],\n",
       "\n",
       "\n",
       "       [[[ 3.,  4.,  5.],\n",
       "         [ 3.,  4.,  5.]],\n",
       "\n",
       "        [[ 3.,  4.,  5.],\n",
       "         [ 3.,  4.,  5.]]]], dtype=float32)"
      ]
     },
     "execution_count": 18,
     "metadata": {},
     "output_type": "execute_result"
    }
   ],
   "source": [
    "c = a.reshape((2,1,1,3))\n",
    "d = c.broadcast_to((2,2,2,3))\n",
    "assert shape_checker(d.shape) == c.size * 2 * 2, \"NDArray broadcast failed.\"\n",
    "d.asnumpy()"
   ]
  },
  {
   "cell_type": "markdown",
   "metadata": {},
   "source": [
    "Broadcast can be applied to operations such as `*` and `+`. "
   ]
  },
  {
   "cell_type": "code",
   "execution_count": 19,
   "metadata": {
    "collapsed": false
   },
   "outputs": [
    {
     "data": {
      "text/plain": [
       "array([[ 2.,  2.],\n",
       "       [ 2.,  2.],\n",
       "       [ 2.,  2.]], dtype=float32)"
      ]
     },
     "execution_count": 19,
     "metadata": {},
     "output_type": "execute_result"
    }
   ],
   "source": [
    "a = mx.nd.ones((3,2))\n",
    "b = mx.nd.ones((1,2))\n",
    "c = a + b\n",
    "c.asnumpy()"
   ]
  },
  {
   "cell_type": "markdown",
   "metadata": {},
   "source": [
    "### Copies\n",
    "Data is *NOT* copied in normal assignment. "
   ]
  },
  {
   "cell_type": "code",
   "execution_count": 20,
   "metadata": {
    "collapsed": true
   },
   "outputs": [],
   "source": [
    "\"\"\"test_copy_function\"\"\"\n",
    "def copy_checker(nd_origin, nd_copied):\n",
    "    for shape1, shape2 in zip(nd_origin.shape, nd_copied.shape):\n",
    "        assert shape1 == shape2, \"Copied NDArray has different shape.\"\n",
    "    for num1, num2 in zip(np.nditer(nd_origin.asnumpy()), np.nditer(nd_copied.asnumpy())):\n",
    "        assert num1 == num2, \"Copied NDArray has different element value.\""
   ]
  },
  {
   "cell_type": "code",
   "execution_count": 21,
   "metadata": {
    "collapsed": false
   },
   "outputs": [
    {
     "data": {
      "text/plain": [
       "True"
      ]
     },
     "execution_count": 21,
     "metadata": {},
     "output_type": "execute_result"
    }
   ],
   "source": [
    "a = mx.nd.ones((2,2))\n",
    "b = a  \n",
    "b is a"
   ]
  },
  {
   "cell_type": "markdown",
   "metadata": {},
   "source": [
    "similar for function arguments passing."
   ]
  },
  {
   "cell_type": "code",
   "execution_count": 22,
   "metadata": {
    "collapsed": false
   },
   "outputs": [
    {
     "data": {
      "text/plain": [
       "True"
      ]
     },
     "execution_count": 22,
     "metadata": {},
     "output_type": "execute_result"
    }
   ],
   "source": [
    "def f(x):  \n",
    "    return x\n",
    "a is f(a)"
   ]
  },
  {
   "cell_type": "markdown",
   "metadata": {},
   "source": [
    "The `copy` method makes a deep copy of the array and its data"
   ]
  },
  {
   "cell_type": "code",
   "execution_count": 23,
   "metadata": {
    "collapsed": false
   },
   "outputs": [
    {
     "data": {
      "text/plain": [
       "False"
      ]
     },
     "execution_count": 23,
     "metadata": {},
     "output_type": "execute_result"
    }
   ],
   "source": [
    "b = a.copy()\n",
    "copy_checker(a, b)\n",
    "b is a"
   ]
  },
  {
   "cell_type": "markdown",
   "metadata": {},
   "source": [
    "The above code allocate a new NDArray and then assign to *b*. We can use the `copyto` method or the slice operator `[]` to avoid additional memory allocation"
   ]
  },
  {
   "cell_type": "code",
   "execution_count": 24,
   "metadata": {
    "collapsed": false
   },
   "outputs": [
    {
     "data": {
      "text/plain": [
       "(True, True)"
      ]
     },
     "execution_count": 24,
     "metadata": {},
     "output_type": "execute_result"
    }
   ],
   "source": [
    "b = mx.nd.ones(a.shape)\n",
    "c = b\n",
    "c[:] = a\n",
    "d = b\n",
    "a.copyto(d)\n",
    "(c is b, d is b)"
   ]
  },
  {
   "cell_type": "markdown",
   "metadata": {},
   "source": [
    "## The Advanced \n",
    "There are some advanced features in `mxnet.ndarray` which make mxnet different from other libraries. \n",
    "\n",
    "### GPU Support\n",
    "\n",
    "In default operators are executed on CPU. It is easy to switch to another computation resource, such as GPU, if available. The device information is stored in `ndarray.context`. When MXNet is compiled with flag `USE_CUDA=1` and there is at least one Nvidia GPU card, we can make all computations run on GPU 0 by using context `mx.gpu(0)`, or simply `mx.gpu()`. If there are more than two GPUs, the 2nd GPU is represented by `mx.gpu(1)`."
   ]
  },
  {
   "cell_type": "code",
   "execution_count": 25,
   "metadata": {
    "collapsed": false
   },
   "outputs": [
    {
     "name": "stdout",
     "output_type": "stream",
     "text": [
      "<NDArray 100x100 @cpu(0)>\n",
      "<NDArray 100x100 @gpu(0)>\n"
     ]
    }
   ],
   "source": [
    "def f():\n",
    "    a = mx.nd.ones((100,100))\n",
    "    b = mx.nd.ones((100,100))\n",
    "    c = a + b\n",
    "    print c\n",
    "# in default mx.cpu() is used\n",
    "f()  \n",
    "# change the default context to the first GPU\n",
    "with mx.Context(mx.gpu()):  \n",
    "    f()"
   ]
  },
  {
   "cell_type": "markdown",
   "metadata": {},
   "source": [
    "We can also explicitly specify the context when creating an array"
   ]
  },
  {
   "cell_type": "code",
   "execution_count": 26,
   "metadata": {
    "collapsed": false
   },
   "outputs": [
    {
     "data": {
      "text/plain": [
       "<NDArray 100x100 @gpu(0)>"
      ]
     },
     "execution_count": 26,
     "metadata": {},
     "output_type": "execute_result"
    }
   ],
   "source": [
    "a = mx.nd.ones((100, 100), mx.gpu(0))\n",
    "assert a.context.device_type == 'gpu', \"Context error.\"\n",
    "a"
   ]
  },
  {
   "cell_type": "markdown",
   "metadata": {},
   "source": [
    "Currently MXNet requires two arrays to sit on the same device for computation. There are several methods for copying data between devices."
   ]
  },
  {
   "cell_type": "code",
   "execution_count": 27,
   "metadata": {
    "collapsed": false
   },
   "outputs": [
    {
     "data": {
      "text/plain": [
       "{'d': <NDArray 100x100 @gpu(0)>, 'e': <NDArray 100x100 @gpu(0)>}"
      ]
     },
     "execution_count": 27,
     "metadata": {},
     "output_type": "execute_result"
    }
   ],
   "source": [
    "a = mx.nd.ones((100,100), mx.cpu())\n",
    "b = mx.nd.ones((100,100), mx.gpu())\n",
    "c = mx.nd.ones((100,100), mx.gpu())\n",
    "a.copyto(c)  # copy from CPU to GPU\n",
    "d = b + c\n",
    "assert d.context.device_type == 'gpu', \"Context error.\"\n",
    "e = b.as_in_context(c.context) + c  # same to above\n",
    "assert e.context.device_type == 'gpu', \"Context error.\"\n",
    "{'d':d, 'e':e}"
   ]
  },
  {
   "cell_type": "markdown",
   "metadata": {},
   "source": [
    "### Serialize From/To (Distributed) Filesystems  \n",
    "There are two ways to save data to (load from) disks easily. The first way uses `pickle`. `NDArray` is pickle compatible."
   ]
  },
  {
   "cell_type": "code",
   "execution_count": 28,
   "metadata": {
    "collapsed": false
   },
   "outputs": [],
   "source": [
    "import pickle as pkl\n",
    "a = mx.nd.ones((2, 3))\n",
    "# pack and then dump into disk\n",
    "data = pkl.dumps(a)\n",
    "pkl.dump(data, open('tmp.pickle', 'wb'))\n",
    "# load from disk and then unpack \n",
    "data = pkl.load(open('tmp.pickle', 'rb'))\n",
    "b = pkl.loads(data)\n",
    "b.asnumpy()\n",
    "copy_checker(a, b)"
   ]
  },
  {
   "cell_type": "markdown",
   "metadata": {},
   "source": [
    "The second way is to directly dump into disk in binary format by method `save` and `load`. Besides single NDArray, we can load/save a list"
   ]
  },
  {
   "cell_type": "code",
   "execution_count": 29,
   "metadata": {
    "collapsed": false
   },
   "outputs": [
    {
     "data": {
      "text/plain": [
       "[<NDArray 2x3 @cpu(0)>, <NDArray 5x6 @cpu(0)>]"
      ]
     },
     "execution_count": 29,
     "metadata": {},
     "output_type": "execute_result"
    }
   ],
   "source": [
    "a = mx.nd.ones((2,3))\n",
    "b = mx.nd.ones((5,6))               \n",
    "mx.nd.save(\"temp.ndarray\", [a,b])\n",
    "c = mx.nd.load(\"temp.ndarray\")\n",
    "for nd_origin, nd_target in zip([a, b], c):\n",
    "    copy_checker(nd_origin, nd_target)\n",
    "c"
   ]
  },
  {
   "cell_type": "markdown",
   "metadata": {},
   "source": [
    "or a dict"
   ]
  },
  {
   "cell_type": "code",
   "execution_count": 30,
   "metadata": {
    "collapsed": false
   },
   "outputs": [
    {
     "data": {
      "text/plain": [
       "{'a': <NDArray 2x3 @cpu(0)>, 'b': <NDArray 5x6 @cpu(0)>}"
      ]
     },
     "execution_count": 30,
     "metadata": {},
     "output_type": "execute_result"
    }
   ],
   "source": [
    "d = {'a':a, 'b':b}\n",
    "mx.nd.save(\"temp.ndarray\", d)\n",
    "c = mx.nd.load(\"temp.ndarray\")\n",
    "for key, val in d.items():\n",
    "    copy_checker(val, c[key])\n",
    "c"
   ]
  },
  {
   "cell_type": "markdown",
   "metadata": {},
   "source": [
    "The load/save is better than pickle in two aspects\n",
    "1. The data saved with the Python interface can be used by another lanuage binding. For example, if we save the data in python:\n",
    "```python\n",
    "a = mx.nd.ones((2, 3))\n",
    "mx.save(\"temp.ndarray\", [a,])\n",
    "```\n",
    "then we can load it into R:\n",
    "```R\n",
    "a <- mx.nd.load(\"temp.ndarray\")\n",
    "as.array(a[[1]])\n",
    "##      [,1] [,2] [,3]\n",
    "## [1,]    1    1    1\n",
    "## [2,]    1    1    1\n",
    "```\n",
    "2. If a distributed filesystem such as Amazon S3 or Hadoop HDFS is set up, we can directly save to and load from it. \n",
    "```python\n",
    "mx.nd.save('s3://mybucket/mydata.ndarray', [a,])  # if compiled with USE_S3=1\n",
    "mx.nd.save('hdfs///users/myname/mydata.bin', [a,])  # if compiled with USE_HDFS=1\n",
    "```\n"
   ]
  },
  {
   "cell_type": "markdown",
   "metadata": {},
   "source": [
    "### Lazy Evaluation and Auto Parallelization *\n",
    "\n",
    "MXNet uses lazy evaluation for better performance. When we run `a=b+1` in python, the python thread just pushs the operation into the backend engine and then returns. There are two benefits for such optimization:\n",
    "1. The main python thread can continue to execute other computations once the previous one is pushed. It is useful for frontend languages with heavy overheads. \n",
    "2. It is easier for the backend engine to explore further optimization, such as auto parallelization that will be discussed shortly. \n",
    "\n",
    "The backend engine is able to resolve the data dependencies and schedule the computations correctly. It is transparent to frontend users. We can explicitly call the method `wait_to_read` on the result array to wait the computation finished. Operations that copy data from an array to other packages, such as `asnumpy`, will implicitly call `wait_to_read`. \n"
   ]
  },
  {
   "cell_type": "code",
   "execution_count": 31,
   "metadata": {
    "collapsed": false,
    "scrolled": true
   },
   "outputs": [
    {
     "name": "stdout",
     "output_type": "stream",
     "text": [
      "time for all computations are pushed into the backend engine:\n",
      " 0.000815 sec\n",
      "time for all computations are finished:\n",
      " 1.647614 sec\n"
     ]
    }
   ],
   "source": [
    "# Output may vary\n",
    "import time\n",
    "\n",
    "def do(x, n):\n",
    "    \"\"\"push computation into the backend engine\"\"\"\n",
    "    return [mx.nd.dot(x,x) for i in range(n)]\n",
    "def wait(x):\n",
    "    \"\"\"wait until all results are available\"\"\"\n",
    "    for y in x:\n",
    "        y.wait_to_read()\n",
    "        \n",
    "tic = time.time()\n",
    "a = mx.nd.ones((1000,1000))\n",
    "b = do(a, 50)\n",
    "print('time for all computations are pushed into the backend engine:\\n %f sec' % (time.time() - tic))\n",
    "wait(b)\n",
    "print('time for all computations are finished:\\n %f sec' % (time.time() - tic))"
   ]
  },
  {
   "cell_type": "markdown",
   "metadata": {},
   "source": [
    "Besides analyzing data read and write dependencies, the backend engine is able to schedule computations with no dependency in parallel. For example, in the following codes\n",
    "```python\n",
    "a = mx.nd.ones((2,3))\n",
    "b = a + 1\n",
    "c = a + 2\n",
    "d = b * c\n",
    "```\n",
    "the second and third sentences can be executed in parallel. The following example first run on CPU and then on GPU."
   ]
  },
  {
   "cell_type": "code",
   "execution_count": 32,
   "metadata": {
    "collapsed": false,
    "scrolled": true
   },
   "outputs": [
    {
     "name": "stdout",
     "output_type": "stream",
     "text": [
      "Time to finish the CPU workload: 2.080558 sec\n",
      "Time to finish both CPU/CPU workloads: 5.617738 sec\n"
     ]
    }
   ],
   "source": [
    "# Output may vary\n",
    "n = 10\n",
    "a = mx.nd.ones((2000,2000))\n",
    "b = mx.nd.ones((8000,8000), mx.gpu())\n",
    "tic = time.time()\n",
    "c = do(a, n)\n",
    "wait(c)\n",
    "print('Time to finish the CPU workload: %f sec' % (time.time() - tic))\n",
    "d = do(b, n)\n",
    "wait(d)\n",
    "print('Time to finish both CPU/CPU workloads: %f sec' % (time.time() - tic))"
   ]
  },
  {
   "cell_type": "markdown",
   "metadata": {},
   "source": [
    "Now we issue all workloads at the same time. The backend engine will try to parallel the CPU and GPU computations."
   ]
  },
  {
   "cell_type": "code",
   "execution_count": 33,
   "metadata": {
    "collapsed": false
   },
   "outputs": [
    {
     "name": "stdout",
     "output_type": "stream",
     "text": [
      "Both as finished in: 3.518122 sec\n"
     ]
    }
   ],
   "source": [
    "# Output may vary\n",
    "tic = time.time()\n",
    "c = do(a, n)\n",
    "d = do(b, n)\n",
    "wait(c)\n",
    "wait(d)\n",
    "print('Both as finished in: %f sec' % (time.time() - tic))"
   ]
  },
  {
   "cell_type": "markdown",
   "metadata": {},
   "source": [
    "## Current Status\n",
    "\n",
    "We try our best to keep the NDArray API as the same numpy's. But it is not fully numpy compatible yet. Here we summary some major difference, which we hope to be fixed in a short time. We are also welcome to any contribution.\n",
    "\n",
    "- Slice and Index. \n",
    "    - NDArray can only slice one dimension at each time, namely we cannot use `x[:, 1]` to slice both dimensions.\n",
    "    - Only continues indexes are supported, we cannot do `x[1:2:3]`\n",
    "    - boolean indices are not supported, such as `x[y==1]`.\n",
    "- Lack of reduce functions such as `max`, `min`...\n",
    "\n",
    "## Futher Readings\n",
    "- [NDArray API](http://mxnet.dmlc.ml/en/latest/packages/python/ndarray.html) Documents for all NDArray methods.\n",
    "- [MinPy](https://github.com/dmlc/minpy) on-going project, fully numpy compatible with GPU and auto differentiation supports "
   ]
  }
 ],
 "metadata": {
  "anaconda-cloud": {},
  "kernelspec": {
   "display_name": "Python 2",
   "language": "python",
   "name": "python2"
  },
  "language_info": {
   "codemirror_mode": {
    "name": "ipython",
    "version": 2
   },
   "file_extension": ".py",
   "mimetype": "text/x-python",
   "name": "python",
   "nbconvert_exporter": "python",
   "pygments_lexer": "ipython2",
   "version": "2.7.6"
  }
 },
 "nbformat": 4,
 "nbformat_minor": 1
}
