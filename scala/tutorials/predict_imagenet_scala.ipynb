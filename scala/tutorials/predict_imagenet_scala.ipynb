{
 "cells": [
  {
   "cell_type": "markdown",
   "metadata": {
    "collapsed": true
   },
   "source": [
    "# Predict with pre-trained models\n",
    "\n",
    "This is a demo for predicting with a pre-trained model on the full imagenet dataset, which contains over 10 million images and 10 thousands classes. For a more detailed explanation, please refer to [predict.ipynb](https://github.com/dmlc/mxnet-notebooks/blob/master/python/how_to/predict.ipynb)."
   ]
  },
  {
   "cell_type": "markdown",
   "metadata": {},
   "source": [
    "## Jupyter Scala kernel\n",
    "Add mxnet scala jar which is created as a part of MXNet Scala package installation in classpath as follows:\n",
    "\n",
    "**Note**: Process to add this jar in your scala kernel classpath can differ according to the scala kernel you are using.\n",
    "\n",
    "We have used [jupyter-scala kernel](https://github.com/alexarchambault/jupyter-scala) for creating this notebook."
   ]
  },
  {
   "cell_type": "markdown",
   "metadata": {},
   "source": [
    "```\n",
    "classpath.addPath(<path_to_jar>)\n",
    "\n",
    "e.g\n",
    "classpath.addPath(\"mxnet-full_2.11-osx-x86_64-cpu-0.1.2-SNAPSHOT.jar\")\n",
    "```"
   ]
  },
  {
   "cell_type": "code",
   "execution_count": 1,
   "metadata": {
    "collapsed": false
   },
   "outputs": [
    {
     "data": {
      "text/plain": []
     },
     "metadata": {},
     "output_type": "display_data"
    }
   ],
   "source": [
    "classpath.addPath(\"/Users/roshanin/mxnet/scala-package/assembly/osx-x86_64-cpu/target/mxnet-full_2.11-osx-x86_64-cpu-0.10.1-SNAPSHOT.jar\")"
   ]
  },
  {
   "cell_type": "markdown",
   "metadata": {},
   "source": [
    "Import necessary libraries:"
   ]
  },
  {
   "cell_type": "code",
   "execution_count": 2,
   "metadata": {
    "collapsed": false
   },
   "outputs": [
    {
     "data": {
      "text/plain": [
       "\u001b[32mimport \u001b[36mml.dmlc.mxnet._\u001b[0m\n",
       "\u001b[32mimport \u001b[36mml.dmlc.mxnet.module.{FitParams, Module}\u001b[0m\n",
       "\u001b[32mimport \u001b[36mscala.collection.immutable.ListMap\u001b[0m\n",
       "\u001b[32mimport \u001b[36msys.process._\u001b[0m"
      ]
     },
     "metadata": {},
     "output_type": "display_data"
    }
   ],
   "source": [
    "import ml.dmlc.mxnet._\n",
    "import ml.dmlc.mxnet.module.{FitParams, Module}\n",
    "import scala.collection.immutable.ListMap\n",
    "import sys.process._"
   ]
  },
  {
   "cell_type": "markdown",
   "metadata": {},
   "source": [
    "Download the pretrained model as follows:"
   ]
  },
  {
   "cell_type": "code",
   "execution_count": 3,
   "metadata": {
    "collapsed": false
   },
   "outputs": [
    {
     "name": "stderr",
     "output_type": "stream",
     "text": [
      "\n",
      "     0K .......... .......... .......... .......... .......... 22%  121K 1s\n",
      "    50K .......... .......... .......... .......... .......... 45%  157K 1s\n",
      "   100K .......... .......... .......... .......... .......... 68%  205K 0s\n",
      "   150K .......... .......... .......... .......... .......... 91%  297K 0s\n",
      "   200K .......... ........                                   100%  121K=1.3s"
     ]
    },
    {
     "data": {
      "text/plain": [
       "\u001b[36mres2_0\u001b[0m: \u001b[32mInt\u001b[0m = \u001b[32m0\u001b[0m\n",
       "\u001b[36mres2_1\u001b[0m: \u001b[32mInt\u001b[0m = \u001b[32m0\u001b[0m\n",
       "\u001b[36mres2_2\u001b[0m: \u001b[32mInt\u001b[0m = \u001b[32m0\u001b[0m"
      ]
     },
     "metadata": {},
     "output_type": "display_data"
    }
   ],
   "source": [
    "\"wget http://data.mxnet.io/models/imagenet-11k/resnet-152/resnet-152-symbol.json -P model/ -q --show-progress\"!\n",
    "\n",
    "\"wget http://data.mxnet.io/models/imagenet-11k/resnet-152/resnet-152-0000.params -P model/ -q --show-progress\"!\n",
    "\n",
    "\"wget http://data.mxnet.io/models/imagenet-11k/synset.txt -P model/ -q --show-progress\"!"
   ]
  },
  {
   "cell_type": "markdown",
   "metadata": {},
   "source": [
    "## Initialization\n",
    "We first load the model into memory with loadCheckpoint. It returns the symbol (see [symbol_scala.ipynb](https://github.com/dmlc/mxnet-notebooks/blob/master/scala/basic/symbol_scala.ipynb)) definition of the neural network, and parameters."
   ]
  },
  {
   "cell_type": "code",
   "execution_count": 4,
   "metadata": {
    "collapsed": false
   },
   "outputs": [
    {
     "name": "stderr",
     "output_type": "stream",
     "text": [
      "log4j:WARN No appenders could be found for logger (MXNetJVM).\n",
      "log4j:WARN Please initialize the log4j system properly.\n",
      "log4j:WARN See http://logging.apache.org/log4j/1.2/faq.html#noconfig for more info.\n"
     ]
    },
    {
     "data": {
      "text/plain": [
       "\u001b[36mresnet\u001b[0m: \u001b[32mSymbol\u001b[0m = ml.dmlc.mxnet.Symbol@7ce32cb\n",
       "\u001b[36margParamsResnet\u001b[0m: \u001b[32mMap\u001b[0m[\u001b[32mString\u001b[0m, \u001b[32mNDArray\u001b[0m] = \u001b[33mMap\u001b[0m(\n",
       "  \u001b[32m\"stage3_unit14_bn2_gamma\"\u001b[0m -> ml.dmlc.mxnet.NDArray@c296fced,\n",
       "  \u001b[32m\"stage3_unit17_conv1_weight\"\u001b[0m -> ml.dmlc.mxnet.NDArray@75334891,\n",
       "  \u001b[32m\"stage3_unit8_conv3_weight\"\u001b[0m -> ml.dmlc.mxnet.NDArray@783b9ecd,\n",
       "  \u001b[32m\"stage2_unit7_bn3_beta\"\u001b[0m -> ml.dmlc.mxnet.NDArray@eeb61ac7,\n",
       "  \u001b[32m\"stage1_unit3_conv3_weight\"\u001b[0m -> ml.dmlc.mxnet.NDArray@b5c72854,\n",
       "  \u001b[32m\"stage3_unit14_bn1_beta\"\u001b[0m -> ml.dmlc.mxnet.NDArray@8c34f84f,\n",
       "  \u001b[32m\"stage3_unit10_bn1_beta\"\u001b[0m -> ml.dmlc.mxnet.NDArray@b2d0a2b8,\n",
       "  \u001b[32m\"stage3_unit2_bn1_gamma\"\u001b[0m -> ml.dmlc.mxnet.NDArray@40533d09,\n",
       "  \u001b[32m\"stage3_unit18_conv1_weight\"\u001b[0m -> ml.dmlc.mxnet.NDArray@285d08cd,\n",
       "  \u001b[32m\"stage3_unit20_bn1_gamma\"\u001b[0m -> ml.dmlc.mxnet.NDArray@53a87a2c,\n",
       "  \u001b[32m\"stage3_unit29_bn3_beta\"\u001b[0m -> ml.dmlc.mxnet.NDArray@957e96f2,\n",
       "  \u001b[32m\"stage2_unit3_conv2_weight\"\u001b[0m -> ml.dmlc.mxnet.NDArray@d08559ca,\n",
       "  \u001b[32m\"stage3_unit25_bn2_gamma\"\u001b[0m -> ml.dmlc.mxnet.NDArray@c8bc6afe,\n",
       "  \u001b[32m\"stage4_unit3_bn1_beta\"\u001b[0m -> ml.dmlc.mxnet.NDArray@2d738385,\n",
       "  \u001b[32m\"stage1_unit3_bn1_beta\"\u001b[0m -> ml.dmlc.mxnet.NDArray@92d3313e,\n",
       "  \u001b[32m\"stage3_unit1_conv3_weight\"\u001b[0m -> ml.dmlc.mxnet.NDArray@9e2ee99f,\n",
       "  \u001b[32m\"stage2_unit1_bn3_gamma\"\u001b[0m -> ml.dmlc.mxnet.NDArray@b299bc79,\n",
       "  \u001b[32m\"stage3_unit14_bn1_gamma\"\u001b[0m -> ml.dmlc.mxnet.NDArray@8666ccb1,\n",
       "  \u001b[32m\"stage3_unit23_bn2_beta\"\u001b[0m -> ml.dmlc.mxnet.NDArray@bd6a94a2,\n",
       "\u001b[33m...\u001b[0m\n",
       "\u001b[36mauxParamsResnet\u001b[0m: \u001b[32mMap\u001b[0m[\u001b[32mString\u001b[0m, \u001b[32mNDArray\u001b[0m] = \u001b[33mMap\u001b[0m(\n",
       "  \u001b[32m\"stage2_unit2_bn3_moving_mean\"\u001b[0m -> ml.dmlc.mxnet.NDArray@afe461e9,\n",
       "  \u001b[32m\"stage3_unit21_bn2_moving_var\"\u001b[0m -> ml.dmlc.mxnet.NDArray@7f1aa42b,\n",
       "  \u001b[32m\"stage3_unit6_bn2_moving_var\"\u001b[0m -> ml.dmlc.mxnet.NDArray@8daf19ce,\n",
       "  \u001b[32m\"stage3_unit27_bn3_moving_mean\"\u001b[0m -> ml.dmlc.mxnet.NDArray@5596f71e,\n",
       "  \u001b[32m\"stage3_unit36_bn1_moving_var\"\u001b[0m -> ml.dmlc.mxnet.NDArray@5af9c364,\n",
       "  \u001b[32m\"stage2_unit2_bn1_moving_mean\"\u001b[0m -> ml.dmlc.mxnet.NDArray@288a2825,\n",
       "  \u001b[32m\"stage3_unit34_bn2_moving_mean\"\u001b[0m -> ml.dmlc.mxnet.NDArray@71f7a2f4,\n",
       "  \u001b[32m\"stage3_unit32_bn3_moving_var\"\u001b[0m -> ml.dmlc.mxnet.NDArray@77ef95b0,\n",
       "  \u001b[32m\"stage3_unit19_bn2_moving_mean\"\u001b[0m -> ml.dmlc.mxnet.NDArray@be708ef0,\n",
       "  \u001b[32m\"stage3_unit24_bn3_moving_var\"\u001b[0m -> ml.dmlc.mxnet.NDArray@875dbdf3,\n",
       "  \u001b[32m\"stage3_unit36_bn3_moving_mean\"\u001b[0m -> ml.dmlc.mxnet.NDArray@6a1d3ad4,\n",
       "  \u001b[32m\"stage3_unit15_bn2_moving_mean\"\u001b[0m -> ml.dmlc.mxnet.NDArray@a18108c4,\n",
       "  \u001b[32m\"stage3_unit1_bn2_moving_var\"\u001b[0m -> ml.dmlc.mxnet.NDArray@74ea2c0c,\n",
       "  \u001b[32m\"stage1_unit3_bn1_moving_mean\"\u001b[0m -> ml.dmlc.mxnet.NDArray@ce018bfd,\n",
       "  \u001b[32m\"stage3_unit16_bn3_moving_mean\"\u001b[0m -> ml.dmlc.mxnet.NDArray@59b2b0ed,\n",
       "  \u001b[32m\"stage3_unit14_bn1_moving_mean\"\u001b[0m -> ml.dmlc.mxnet.NDArray@77839f79,\n",
       "  \u001b[32m\"stage3_unit15_bn3_moving_mean\"\u001b[0m -> ml.dmlc.mxnet.NDArray@83704fc2,\n",
       "  \u001b[32m\"stage2_unit4_bn3_moving_mean\"\u001b[0m -> ml.dmlc.mxnet.NDArray@c9cd7bfe,\n",
       "  \u001b[32m\"stage2_unit4_bn3_moving_var\"\u001b[0m -> ml.dmlc.mxnet.NDArray@d96fd59e,\n",
       "\u001b[33m...\u001b[0m"
      ]
     },
     "metadata": {},
     "output_type": "display_data"
    }
   ],
   "source": [
    "val (resnet, argParamsResnet, auxParamsResnet) = Model.loadCheckpoint(\"model/resnet-152\", 0)"
   ]
  },
  {
   "cell_type": "markdown",
   "metadata": {},
   "source": [
    "Create a model for this model on GPU 0.\n"
   ]
  },
  {
   "cell_type": "code",
   "execution_count": 5,
   "metadata": {
    "collapsed": false
   },
   "outputs": [
    {
     "data": {
      "text/plain": [
       "\u001b[36mmod\u001b[0m: \u001b[32mModule\u001b[0m = ml.dmlc.mxnet.module.Module@d76fa60\n",
       "\u001b[36mdataShapesResnet\u001b[0m: \u001b[32mListMap\u001b[0m[\u001b[32mString\u001b[0m, \u001b[32mShape\u001b[0m] = \u001b[33mMap\u001b[0m(\u001b[32m\"data\"\u001b[0m -> (1,3,224,224))"
      ]
     },
     "metadata": {},
     "output_type": "display_data"
    }
   ],
   "source": [
    "val mod = new Module(resnet, contexts = Context.cpu())\n",
    "val dataShapesResnet = ListMap(\"data\" -> Shape(1, 3, 224, 224))\n",
    "mod.bind(dataShapes=dataShapesResnet, forTraining = false)\n",
    "mod.setParams(argParamsResnet, auxParamsResnet)"
   ]
  },
  {
   "cell_type": "markdown",
   "metadata": {},
   "source": [
    "Next we define the function to obtain an image by a given URL and the function for predicting.\n"
   ]
  },
  {
   "cell_type": "code",
   "execution_count": 6,
   "metadata": {
    "collapsed": false
   },
   "outputs": [
    {
     "data": {
      "text/plain": []
     },
     "metadata": {},
     "output_type": "display_data"
    }
   ],
   "source": [
    "classpath.addPath(\"/usr/local/opt/opencv3/share/OpenCV/java/opencv-320.jar\")"
   ]
  },
  {
   "cell_type": "code",
   "execution_count": 7,
   "metadata": {
    "collapsed": false
   },
   "outputs": [
    {
     "data": {
      "text/plain": [
       "\u001b[32mimport \u001b[36morg.opencv.core.Core\u001b[0m\n",
       "\u001b[32mimport \u001b[36morg.opencv.imgcodecs.Imgcodecs\u001b[0m\n",
       "\u001b[32mimport \u001b[36morg.opencv.imgproc.Imgproc\u001b[0m\n",
       "\u001b[32mimport \u001b[36mml.dmlc.mxnet.NDArray\u001b[0m\n",
       "\u001b[32mimport \u001b[36morg.opencv.core.Mat\u001b[0m\n",
       "\u001b[32mimport \u001b[36morg.opencv.core.CvType\u001b[0m\n",
       "\u001b[32mimport \u001b[36mjava.util.ArrayList\u001b[0m\n",
       "\u001b[32mimport \u001b[36morg.opencv.core.Size\u001b[0m"
      ]
     },
     "metadata": {},
     "output_type": "display_data"
    }
   ],
   "source": [
    "import org.opencv.core.Core\n",
    "//import org.opencv.highgui.Highgui\n",
    "import org.opencv.imgcodecs.Imgcodecs\n",
    "import org.opencv.imgproc.Imgproc\n",
    "import ml.dmlc.mxnet.NDArray\n",
    "import org.opencv.core.Mat\n",
    "import org.opencv.core.CvType\n",
    "import java.util.ArrayList\n",
    "import org.opencv.core.Size"
   ]
  },
  {
   "cell_type": "code",
   "execution_count": 8,
   "metadata": {
    "collapsed": false
   },
   "outputs": [
    {
     "data": {
      "text/plain": [
       "defined \u001b[32mfunction \u001b[36mgetImage\u001b[0m"
      ]
     },
     "metadata": {},
     "output_type": "display_data"
    }
   ],
   "source": [
    "def getImage(filename: String) ={\n",
    "    System.loadLibrary(Core.NATIVE_LIBRARY_NAME);\n",
    "    println(String.format(\"Loaded OpenCV %s\", Core.VERSION))\n",
    "    println(filename)\n",
    "    val mat = Imgcodecs.imread(filename)\n",
    "    val greyMat = new Mat()\n",
    "    Imgproc.cvtColor(mat, greyMat, Imgproc.COLOR_BGR2RGB)\n",
    "    val resizeMat = new Mat()\n",
    "    Imgproc.resize(mat, resizeMat, new Size(224, 224))\n",
    "    \n",
    "    val typeMat = new Mat()\n",
    "    resizeMat.convertTo(typeMat, CvType.CV_32F)\n",
    "    \n",
    "    val size = (typeMat.total * typeMat.channels).toInt\n",
    "    val buff = new Array[Float](size)\n",
    "    typeMat.get(0, 0, buff)\n",
    "    \n",
    "    println(buff)\n",
    "    typeMat\n",
    "}"
   ]
  },
  {
   "cell_type": "code",
   "execution_count": 10,
   "metadata": {
    "collapsed": false
   },
   "outputs": [
    {
     "name": "stdout",
     "output_type": "stream",
     "text": [
      "Loaded OpenCV 3.2.0\n",
      "0.jpg\n",
      "[F@4a8d4eba\n"
     ]
    },
    {
     "data": {
      "text/plain": [
       "\u001b[36mimg\u001b[0m: \u001b[32mMat\u001b[0m = Mat [ 224*224*CV_32FC3, isCont=true, isSubmat=false, nativeObj=0x7f98f89efb50, dataAddr=0x16c766020 ]"
      ]
     },
     "metadata": {},
     "output_type": "display_data"
    }
   ],
   "source": [
    "val img = getImage(\"0.jpg\")"
   ]
  },
  {
   "cell_type": "code",
   "execution_count": null,
   "metadata": {
    "collapsed": true
   },
   "outputs": [],
   "source": []
  }
 ],
 "metadata": {
  "anaconda-cloud": {},
  "kernelspec": {
   "display_name": "Scala 2.11",
   "language": "scala211",
   "name": "scala211"
  },
  "language_info": {
   "codemirror_mode": "text/x-scala",
   "file_extension": ".scala",
   "mimetype": "text/x-scala",
   "name": "scala211",
   "pygments_lexer": "scala",
   "version": "2.11.8"
  }
 },
 "nbformat": 4,
 "nbformat_minor": 0
}
