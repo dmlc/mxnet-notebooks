{
 "cells": [
  {
   "cell_type": "markdown",
   "metadata": {},
   "source": [
    "# NDArray Tutorial\n",
    "One of the main object in MXNet is the multidimensional array provided by the package mxnet.NDArray, or mxnet.nd for short. If you familiar with the scientific computing python package NumPy, mxnet.NDArray is similar to numpy.ndarray in many aspects.\n",
    "\n",
    "## The basic\n",
    "A multidimensional array is a table of numbers with the same type. For example, the coordinates of a point in 3D space [1, 2, 3] is a 1-dimensional array with that dimension has a length of 3. The following picture shows a 2-dimensional array. The length of the first dimension is 2, and the second dimension has a length of 3\n",
    "[[0, 1, 2]\n",
    " [3, 4, 5]]\n",
    "The array class is called NDArray. Some important attributes of a NDArray object are:\n",
    "- NDArray.shape the dimensions of the array. It is a tuple of integers indicating the length of the array in each dimension. For a matrix with n rows and m columns, the shape will be (n, m).\n",
    "- NDArray.dtype an numpy object describing the type of the elements.\n",
    "- NDArray.size the total number of numbers in the array, which equals to the product of the elements of shape\n",
    "- NDArray.context the device this array is stored. A device can be the CPU or the i-th GPU."
   ]
  },
  {
   "cell_type": "markdown",
   "metadata": {},
   "source": [
    "## Jupyter Scala kernel\n",
    "Add mxnet scala jar which is created as a part of MXNet Scala package installation in classpath as follows:\n",
    "\n",
    "**Note**: Process to add this jar in your scala kernel classpath can differ according to the scala kernel you are using.\n",
    "\n",
    "We have used [jupyter-scala kernel](https://github.com/alexarchambault/jupyter-scala) for creating this notebook."
   ]
  },
  {
   "cell_type": "markdown",
   "metadata": {
    "collapsed": false
   },
   "source": [
    "```\n",
    "classpath.addPath(<path_to_jar>)\n",
    "\n",
    "e.g\n",
    "classpath.addPath(\"mxnet-full_2.11-osx-x86_64-cpu-0.1.2-SNAPSHOT.jar\")\n",
    "```\n"
   ]
  },
  {
   "cell_type": "markdown",
   "metadata": {},
   "source": [
    "## Array Creation\n",
    "An array can be created in multiple ways. For example, we can create an array from a regular Scala Array by using the array function"
   ]
  },
  {
   "cell_type": "code",
   "execution_count": 33,
   "metadata": {
    "collapsed": false
   },
   "outputs": [
    {
     "data": {
      "text/plain": [
       "\u001b[32mimport \u001b[36mml.dmlc.mxnet._\u001b[0m\n",
       "\u001b[36ma\u001b[0m: \u001b[32mNDArray\u001b[0m = ml.dmlc.mxnet.NDArray@52989830\n",
       "\u001b[36mb\u001b[0m: \u001b[32mNDArray\u001b[0m = ml.dmlc.mxnet.NDArray@a8674600\n",
       "\u001b[36mres32_3\u001b[0m: \u001b[32mArray\u001b[0m[\u001b[32mFloat\u001b[0m] = \u001b[33mArray\u001b[0m(\u001b[32m1.0F\u001b[0m, \u001b[32m2.0F\u001b[0m, \u001b[32m3.0F\u001b[0m)\n",
       "\u001b[36mres32_4\u001b[0m: \u001b[32mArray\u001b[0m[\u001b[32mFloat\u001b[0m] = \u001b[33mArray\u001b[0m(\u001b[32m2.0F\u001b[0m, \u001b[32m3.0F\u001b[0m, \u001b[32m4.0F\u001b[0m)"
      ]
     },
     "metadata": {},
     "output_type": "display_data"
    }
   ],
   "source": [
    "import ml.dmlc.mxnet._\n",
    "// create a 1-dimensional array with a scala array\n",
    "val a = NDArray.array(Array(1, 2, 3), shape = Shape(1, 3))\n",
    "// create a 2-dimensional array with a nested scala array \n",
    "val b = NDArray.array(Array(1, 2, 3, 2, 3, 4), shape = Shape(2, 3))\n",
    "\n",
    "b.at(0).toArray   \n",
    "b.at(1).toArray   "
   ]
  },
  {
   "cell_type": "markdown",
   "metadata": {},
   "source": [
    "We can specify the element type with the option dtype while using `NDArray.zeros` and `NDArray.ones` method, which accepts a numpy type. In default, Float32 is used.\n"
   ]
  },
  {
   "cell_type": "code",
   "execution_count": 3,
   "metadata": {
    "collapsed": false
   },
   "outputs": [
    {
     "data": {
      "text/plain": [
       "\u001b[36ma\u001b[0m: \u001b[32mNDArray\u001b[0m = ml.dmlc.mxnet.NDArray@7794b9e0\n",
       "\u001b[36mb\u001b[0m: \u001b[32mNDArray\u001b[0m = ml.dmlc.mxnet.NDArray@4a2c917f\n",
       "\u001b[36mc\u001b[0m: \u001b[32mNDArray\u001b[0m = ml.dmlc.mxnet.NDArray@aa611987\n",
       "\u001b[36mres2_3\u001b[0m: \u001b[32mArray\u001b[0m[\u001b[32mFloat\u001b[0m] = \u001b[33mArray\u001b[0m(\u001b[32m1.0F\u001b[0m, \u001b[32m1.0F\u001b[0m)\n",
       "\u001b[36mres2_4\u001b[0m: \u001b[32mArray\u001b[0m[\u001b[32mFloat\u001b[0m] = \u001b[33mArray\u001b[0m(\u001b[32m1.0F\u001b[0m, \u001b[32m1.0F\u001b[0m)\n",
       "\u001b[36mres2_5\u001b[0m: \u001b[32mArray\u001b[0m[\u001b[32mFloat\u001b[0m] = \u001b[33mArray\u001b[0m(\u001b[32m1.0F\u001b[0m, \u001b[32m1.0F\u001b[0m, \u001b[32m1.0F\u001b[0m, \u001b[32m1.0F\u001b[0m, \u001b[32m1.0F\u001b[0m, \u001b[32m1.0F\u001b[0m)"
      ]
     },
     "metadata": {},
     "output_type": "display_data"
    }
   ],
   "source": [
    "// create an int32 array\n",
    "// val a = NDArray.array(Array(1, 2, 3, 2, 3, 4), shape = Shape(2, 3), dtype = DType.Int32)\n",
    "// create a 16-bit float array\n",
    "val a = NDArray.ones(Shape(1, 2), dtype = DType.Float64) \n",
    "val b = NDArray.ones(Shape(1, 2), dtype = DType.UInt8)\n",
    "val c = NDArray.ones(Shape(2, 3), dtype = DType.Int32)\n",
    "a.toArray\n",
    "b.toArray\n",
    "c.toArray"
   ]
  },
  {
   "cell_type": "markdown",
   "metadata": {},
   "source": [
    "If we only know the size but not the element values, there are several functions to create arrays with initial placeholder content."
   ]
  },
  {
   "cell_type": "code",
   "execution_count": 16,
   "metadata": {
    "collapsed": false
   },
   "outputs": [
    {
     "data": {
      "text/plain": [
       "\u001b[36ma\u001b[0m: \u001b[32mNDArray\u001b[0m = ml.dmlc.mxnet.NDArray@fc1b387d\n",
       "\u001b[36mb\u001b[0m: \u001b[32mNDArray\u001b[0m = ml.dmlc.mxnet.NDArray@9efb9cc0\n",
       "\u001b[36mc\u001b[0m: \u001b[32mNDArray\u001b[0m = ml.dmlc.mxnet.NDArray@990cec23\n",
       "\u001b[36md\u001b[0m: \u001b[32mNDArray\u001b[0m = ml.dmlc.mxnet.NDArray@b3e7cd40\n",
       "\u001b[36me\u001b[0m: \u001b[32mNDArray\u001b[0m = ml.dmlc.mxnet.NDArray@f081ae28"
      ]
     },
     "metadata": {},
     "output_type": "display_data"
    }
   ],
   "source": [
    "// create a 2-dimensional array full of zeros with shape (2,3) \n",
    "val a = NDArray.zeros(2,3)\n",
    "// create a same shape array full of ones\n",
    "val b = NDArray.ones(shape = Shape(2,3))\n",
    "// create a same shape array with all elements set to 7\n",
    "val c = NDArray.full(shape = Shape(2,3), 7)\n",
    "// create a same shape whose initial content is random and \n",
    "// depends on the state of the memory\n",
    "val d = NDArray.empty(2,3)\n",
    "// create a same shape and specify context you want cpu or gpu\n",
    "val e = NDArray.empty(ctx = Context.cpu(0), shape = Shape(2,3))"
   ]
  },
  {
   "cell_type": "markdown",
   "metadata": {},
   "source": [
    "## Printing Arrays\n",
    "We often use `toArray` method to print and flatten the array. We can also use `at` method to see contents of sub NDArray by using index of the array."
   ]
  },
  {
   "cell_type": "code",
   "execution_count": 38,
   "metadata": {
    "collapsed": false
   },
   "outputs": [
    {
     "data": {
      "text/plain": [
       "\u001b[36mb\u001b[0m: \u001b[32mNDArray\u001b[0m = ml.dmlc.mxnet.NDArray@9cd326fd\n",
       "\u001b[36mres37_1\u001b[0m: \u001b[32mArray\u001b[0m[\u001b[32mFloat\u001b[0m] = \u001b[33mArray\u001b[0m(\u001b[32m1.0F\u001b[0m, \u001b[32m1.0F\u001b[0m, \u001b[32m1.0F\u001b[0m, \u001b[32m1.0F\u001b[0m, \u001b[32m1.0F\u001b[0m, \u001b[32m1.0F\u001b[0m)\n",
       "\u001b[36mres37_2\u001b[0m: \u001b[32mArray\u001b[0m[\u001b[32mFloat\u001b[0m] = \u001b[33mArray\u001b[0m(\u001b[32m1.0F\u001b[0m, \u001b[32m1.0F\u001b[0m, \u001b[32m1.0F\u001b[0m)\n",
       "\u001b[36mres37_3\u001b[0m: \u001b[32mArray\u001b[0m[\u001b[32mFloat\u001b[0m] = \u001b[33mArray\u001b[0m(\u001b[32m1.0F\u001b[0m, \u001b[32m1.0F\u001b[0m, \u001b[32m1.0F\u001b[0m)"
      ]
     },
     "metadata": {},
     "output_type": "display_data"
    }
   ],
   "source": [
    "val b = NDArray.ones(2,3)\n",
    "b.toArray\n",
    "b.at(0).toArray\n",
    "b.at(1).toArray"
   ]
  },
  {
   "cell_type": "markdown",
   "metadata": {},
   "source": [
    "## Basic Operations\n",
    "Arithmetic operators on arrays apply elementwise. A new array is created and filled with the result."
   ]
  },
  {
   "cell_type": "code",
   "execution_count": 27,
   "metadata": {
    "collapsed": false
   },
   "outputs": [
    {
     "data": {
      "text/plain": [
       "\u001b[36ma\u001b[0m: \u001b[32mNDArray\u001b[0m = ml.dmlc.mxnet.NDArray@d48c575b\n",
       "\u001b[36mb\u001b[0m: \u001b[32mNDArray\u001b[0m = ml.dmlc.mxnet.NDArray@88f7743d\n",
       "\u001b[36mc\u001b[0m: \u001b[32mNDArray\u001b[0m = ml.dmlc.mxnet.NDArray@e49f7c2b\n",
       "\u001b[36md\u001b[0m: \u001b[32mNDArray\u001b[0m = ml.dmlc.mxnet.NDArray@db65845d\n",
       "\u001b[36me\u001b[0m: \u001b[32mNDArrayFuncReturn\u001b[0m = ml.dmlc.mxnet.NDArrayFuncReturn@37da60b8\n",
       "\u001b[36mf\u001b[0m: \u001b[32mNDArray\u001b[0m = ml.dmlc.mxnet.NDArray@c1ec10a5\n",
       "\u001b[36mres26_6\u001b[0m: \u001b[32mArray\u001b[0m[\u001b[32mFloat\u001b[0m] = \u001b[33mArray\u001b[0m(\u001b[32m1.0F\u001b[0m, \u001b[32m3.0F\u001b[0m, \u001b[32m2.0F\u001b[0m, \u001b[32m3.0F\u001b[0m, \u001b[32m4.0F\u001b[0m, \u001b[32m3.0F\u001b[0m)\n",
       "\u001b[36mg\u001b[0m: \u001b[32mNDArray\u001b[0m = ml.dmlc.mxnet.NDArray@f10318b1\n",
       "\u001b[36mres26_8\u001b[0m: \u001b[32mArray\u001b[0m[\u001b[32mFloat\u001b[0m] = \u001b[33mArray\u001b[0m(\u001b[32m2.0F\u001b[0m, \u001b[32m2.0F\u001b[0m, \u001b[32m2.0F\u001b[0m, \u001b[32m2.0F\u001b[0m, \u001b[32m2.0F\u001b[0m, \u001b[32m2.0F\u001b[0m)"
      ]
     },
     "metadata": {},
     "output_type": "display_data"
    }
   ],
   "source": [
    "val a = NDArray.ones(2,3)\n",
    "val b = NDArray.ones(2,3)\n",
    "// elementwise plus\n",
    "val c = a + b\n",
    "// elementwise minus\n",
    "val d = - c \n",
    "// elementwise pow and sin\n",
    "val e = NDArray.sin(NDArray.power(c,2))\n",
    "// transpose \n",
    "val f = NDArray.array(Array(1f, 2f, 4f, 3f, 3f, 3f), shape = Shape(2, 3))\n",
    "f.T.toArray\n",
    "// elementwise max\n",
    "val g = NDArray.maximum(a, c)  \n",
    "g.toArray"
   ]
  },
  {
   "cell_type": "markdown",
   "metadata": {},
   "source": [
    "Matrix-matrix multiplication is done by dot operator"
   ]
  },
  {
   "cell_type": "code",
   "execution_count": 29,
   "metadata": {
    "collapsed": false
   },
   "outputs": [
    {
     "data": {
      "text/plain": [
       "\u001b[36ma\u001b[0m: \u001b[32mNDArray\u001b[0m = ml.dmlc.mxnet.NDArray@7e886011\n",
       "\u001b[36mb\u001b[0m: \u001b[32mNDArray\u001b[0m = ml.dmlc.mxnet.NDArray@f9e97357\n",
       "\u001b[36mc\u001b[0m: \u001b[32mNDArrayFuncReturn\u001b[0m = ml.dmlc.mxnet.NDArrayFuncReturn@679b15e7\n",
       "\u001b[36mres28_3\u001b[0m: \u001b[32mArray\u001b[0m[\u001b[32mFloat\u001b[0m] = \u001b[33mArray\u001b[0m(\u001b[32m11.0F\u001b[0m)"
      ]
     },
     "metadata": {},
     "output_type": "display_data"
    }
   ],
   "source": [
    "val a = NDArray.array(Array(1f, 2f), shape = Shape(1, 2))\n",
    "val b = NDArray.array(Array(3f, 4f), shape = Shape(2, 1))\n",
    "val c = NDArray.dot(arr1, arr2)\n",
    "res.toArray"
   ]
  },
  {
   "cell_type": "code",
   "execution_count": 31,
   "metadata": {
    "collapsed": false
   },
   "outputs": [
    {
     "data": {
      "text/plain": [
       "\u001b[36ma\u001b[0m: \u001b[32mNDArray\u001b[0m = ml.dmlc.mxnet.NDArray@e3ad4e21\n",
       "\u001b[36mb\u001b[0m: \u001b[32mNDArray\u001b[0m = ml.dmlc.mxnet.NDArray@2a80fe82\n",
       "\u001b[36mc\u001b[0m: \u001b[32mNDArrayFuncReturn\u001b[0m = ml.dmlc.mxnet.NDArrayFuncReturn@30ecb48e\n",
       "\u001b[36mres30_3\u001b[0m: \u001b[32mArray\u001b[0m[\u001b[32mFloat\u001b[0m] = \u001b[33mArray\u001b[0m(\u001b[32m2.0F\u001b[0m, \u001b[32m2.0F\u001b[0m, \u001b[32m2.0F\u001b[0m, \u001b[32m2.0F\u001b[0m)"
      ]
     },
     "metadata": {},
     "output_type": "display_data"
    }
   ],
   "source": [
    "val a = NDArray.ones(2,2)\n",
    "val b = a * a\n",
    "val c = NDArray.dot(a,a)\n",
    "c.toArray"
   ]
  },
  {
   "cell_type": "markdown",
   "metadata": {},
   "source": [
    "The assignment operators such as += and *= act in place to modify an existing array rather than create a new one.\n"
   ]
  },
  {
   "cell_type": "code",
   "execution_count": 32,
   "metadata": {
    "collapsed": false
   },
   "outputs": [
    {
     "data": {
      "text/plain": [
       "\u001b[36ma\u001b[0m: \u001b[32mNDArray\u001b[0m = ml.dmlc.mxnet.NDArray@de29a21a\n",
       "\u001b[36mb\u001b[0m: \u001b[32mNDArray\u001b[0m = ml.dmlc.mxnet.NDArray@cb35e13\n",
       "\u001b[36mres31_2\u001b[0m: \u001b[32mNDArray\u001b[0m = ml.dmlc.mxnet.NDArray@168b3109\n",
       "\u001b[36mres31_3\u001b[0m: \u001b[32mArray\u001b[0m[\u001b[32mFloat\u001b[0m] = \u001b[33mArray\u001b[0m(\u001b[32m2.0F\u001b[0m, \u001b[32m2.0F\u001b[0m, \u001b[32m2.0F\u001b[0m, \u001b[32m2.0F\u001b[0m)"
      ]
     },
     "metadata": {},
     "output_type": "display_data"
    }
   ],
   "source": [
    "val a = NDArray.ones(2,2)\n",
    "val b = NDArray.ones(a.shape)\n",
    "b += a\n",
    "b.toArray"
   ]
  },
  {
   "cell_type": "code",
   "execution_count": 33,
   "metadata": {
    "collapsed": false
   },
   "outputs": [
    {
     "data": {
      "text/plain": [
       "\u001b[36ma\u001b[0m: \u001b[32mNDArray\u001b[0m = ml.dmlc.mxnet.NDArray@38dd4adb\n",
       "\u001b[36mb\u001b[0m: \u001b[32mNDArray\u001b[0m = ml.dmlc.mxnet.NDArray@70fe6b83\n",
       "\u001b[36mres32_2\u001b[0m: \u001b[32mNDArray\u001b[0m = ml.dmlc.mxnet.NDArray@4fb25f28\n",
       "\u001b[36mres32_3\u001b[0m: \u001b[32mArray\u001b[0m[\u001b[32mFloat\u001b[0m] = \u001b[33mArray\u001b[0m(\u001b[32m4.0F\u001b[0m, \u001b[32m4.0F\u001b[0m)"
      ]
     },
     "metadata": {},
     "output_type": "display_data"
    }
   ],
   "source": [
    "val a = NDArray.ones(2, 1)\n",
    "val b = a * 2\n",
    "b *= b \n",
    "b.toArray"
   ]
  },
  {
   "cell_type": "markdown",
   "metadata": {},
   "source": [
    "## Indexing and Slicing\n",
    "The slice operator [ ] applies on axis 0"
   ]
  },
  {
   "cell_type": "code",
   "execution_count": 58,
   "metadata": {
    "collapsed": false
   },
   "outputs": [
    {
     "data": {
      "text/plain": [
       "\u001b[36ma\u001b[0m: \u001b[32mNDArray\u001b[0m = ml.dmlc.mxnet.NDArray@cf9adb44\n",
       "\u001b[36mres57_1\u001b[0m: \u001b[32mArray\u001b[0m[\u001b[32mFloat\u001b[0m] = \u001b[33mArray\u001b[0m(\u001b[32m0.0F\u001b[0m, \u001b[32m1.0F\u001b[0m, \u001b[32m2.0F\u001b[0m, \u001b[32m3.0F\u001b[0m, \u001b[32m4.0F\u001b[0m, \u001b[32m5.0F\u001b[0m)\n",
       "\u001b[36mres57_2\u001b[0m: \u001b[32mNDArray\u001b[0m = ml.dmlc.mxnet.NDArray@3dff3ed6\n",
       "\u001b[36mres57_3\u001b[0m: \u001b[32mArray\u001b[0m[\u001b[32mFloat\u001b[0m] = \u001b[33mArray\u001b[0m(\u001b[32m0.0F\u001b[0m, \u001b[32m1.0F\u001b[0m, \u001b[32m1.0F\u001b[0m, \u001b[32m1.0F\u001b[0m, \u001b[32m4.0F\u001b[0m, \u001b[32m5.0F\u001b[0m)"
      ]
     },
     "metadata": {},
     "output_type": "display_data"
    }
   ],
   "source": [
    "val a = NDArray.array(Array(0,1,2,3,4,5), shape= Shape(3,2))\n",
    "a.toArray\n",
    "a.slice(1).set(1f)\n",
    "//a.slice(2).set(1f)\n",
    "a.toArray"
   ]
  },
  {
   "cell_type": "markdown",
   "metadata": {},
   "source": [
    "We can also slice a particular axis with the method slice_axis. It takes parameters array, axis, begin, and end."
   ]
  },
  {
   "cell_type": "code",
   "execution_count": 59,
   "metadata": {
    "collapsed": false
   },
   "outputs": [
    {
     "data": {
      "text/plain": [
       "\u001b[36md\u001b[0m: \u001b[32mNDArrayFuncReturn\u001b[0m = ml.dmlc.mxnet.NDArrayFuncReturn@31891413\n",
       "\u001b[36mres58_1\u001b[0m: \u001b[32mArray\u001b[0m[\u001b[32mFloat\u001b[0m] = \u001b[33mArray\u001b[0m(\u001b[32m1.0F\u001b[0m, \u001b[32m1.0F\u001b[0m, \u001b[32m5.0F\u001b[0m)"
      ]
     },
     "metadata": {},
     "output_type": "display_data"
    }
   ],
   "source": [
    "val d = NDArray.slice_axis(a, 1, 1, 2)\n",
    "d.toArray"
   ]
  },
  {
   "cell_type": "markdown",
   "metadata": {},
   "source": [
    "## Shape Manipulation\n",
    "The shape of the array can be changed as long as the size remaining the same"
   ]
  },
  {
   "cell_type": "code",
   "execution_count": 37,
   "metadata": {
    "collapsed": false
   },
   "outputs": [
    {
     "data": {
      "text/plain": [
       "\u001b[36ma\u001b[0m: \u001b[32mNDArray\u001b[0m = ml.dmlc.mxnet.NDArray@390ff8f6\n",
       "\u001b[36mb\u001b[0m: \u001b[32mNDArray\u001b[0m = ml.dmlc.mxnet.NDArray@fd662ff8\n",
       "\u001b[36mres36_2\u001b[0m: \u001b[32mArray\u001b[0m[\u001b[32mFloat\u001b[0m] = \u001b[33mArray\u001b[0m(\u001b[32m0.0F\u001b[0m, \u001b[32m1.0F\u001b[0m, \u001b[32m2.0F\u001b[0m, \u001b[32m3.0F\u001b[0m, \u001b[32m4.0F\u001b[0m, \u001b[32m5.0F\u001b[0m, \u001b[32m6.0F\u001b[0m, \u001b[32m7.0F\u001b[0m, \u001b[32m8.0F\u001b[0m, \u001b[32m9.0F\u001b[0m, \u001b[32m10.0F\u001b[0m, \u001b[32m11.0F\u001b[0m)"
      ]
     },
     "metadata": {},
     "output_type": "display_data"
    }
   ],
   "source": [
    "val a = NDArray.array( Array(0,1,2,3,4,5,6,7,8,9,10,11,12,13,14,15,16,17,18,19,20,21,22,23), shape = Shape(3,2,4))\n",
    "val b = a.reshape(Array(2,3,4))\n",
    "b.at(0).toArray"
   ]
  },
  {
   "cell_type": "markdown",
   "metadata": {},
   "source": [
    "Method concatenate stacks multiple arrays along the first dimension. (Their shapes must be the same).\n"
   ]
  },
  {
   "cell_type": "code",
   "execution_count": 65,
   "metadata": {
    "collapsed": false
   },
   "outputs": [
    {
     "data": {
      "text/plain": [
       "\u001b[36ma\u001b[0m: \u001b[32mNDArray\u001b[0m = ml.dmlc.mxnet.NDArray@e0d7ddce\n",
       "\u001b[36mb\u001b[0m: \u001b[32mNDArray\u001b[0m = ml.dmlc.mxnet.NDArray@c54191e4\n",
       "\u001b[36mc\u001b[0m: \u001b[32mNDArray\u001b[0m = ml.dmlc.mxnet.NDArray@d06a2142\n",
       "\u001b[36mres64_3\u001b[0m: \u001b[32mArray\u001b[0m[\u001b[32mFloat\u001b[0m] = \u001b[33mArray\u001b[0m(\u001b[32m1.0F\u001b[0m, \u001b[32m1.0F\u001b[0m, \u001b[32m1.0F\u001b[0m, \u001b[32m1.0F\u001b[0m, \u001b[32m1.0F\u001b[0m, \u001b[32m1.0F\u001b[0m, \u001b[32m2.0F\u001b[0m, \u001b[32m2.0F\u001b[0m, \u001b[32m2.0F\u001b[0m, \u001b[32m2.0F\u001b[0m, \u001b[32m2.0F\u001b[0m, \u001b[32m2.0F\u001b[0m)"
      ]
     },
     "metadata": {},
     "output_type": "display_data"
    }
   ],
   "source": [
    "val a = NDArray.ones(2,3)\n",
    "val b = NDArray.ones(2,3)*2\n",
    "val c = NDArray.concatenate(a,b)\n",
    "c.toArray"
   ]
  },
  {
   "cell_type": "markdown",
   "metadata": {},
   "source": [
    "## Reduce\n",
    "We can reduce the array to a scalar"
   ]
  },
  {
   "cell_type": "code",
   "execution_count": 69,
   "metadata": {
    "collapsed": false
   },
   "outputs": [
    {
     "data": {
      "text/plain": [
       "\u001b[36ma\u001b[0m: \u001b[32mNDArray\u001b[0m = ml.dmlc.mxnet.NDArray@fc5e0047\n",
       "\u001b[36mb\u001b[0m: \u001b[32mNDArrayFuncReturn\u001b[0m = ml.dmlc.mxnet.NDArrayFuncReturn@2bd6715f\n",
       "\u001b[36mres68_2\u001b[0m: \u001b[32mArray\u001b[0m[\u001b[32mFloat\u001b[0m] = \u001b[33mArray\u001b[0m(\u001b[32m6.0F\u001b[0m)\n",
       "\u001b[36mres68_3\u001b[0m: \u001b[32mFloat\u001b[0m = \u001b[32m6.0F\u001b[0m"
      ]
     },
     "metadata": {},
     "output_type": "display_data"
    }
   ],
   "source": [
    "val a = NDArray.ones(2,3)\n",
    "val b = NDArray.sum(a)\n",
    "b.toArray\n",
    "NDArray.sum(a).toScalar "
   ]
  },
  {
   "cell_type": "markdown",
   "metadata": {},
   "source": [
    "or along a particular axis"
   ]
  },
  {
   "cell_type": "code",
   "execution_count": 70,
   "metadata": {
    "collapsed": false
   },
   "outputs": [
    {
     "data": {
      "text/plain": [
       "\u001b[36mc\u001b[0m: \u001b[32mNDArrayFuncReturn\u001b[0m = ml.dmlc.mxnet.NDArrayFuncReturn@40e6052e\n",
       "\u001b[36mres69_1\u001b[0m: \u001b[32mArray\u001b[0m[\u001b[32mFloat\u001b[0m] = \u001b[33mArray\u001b[0m(\u001b[32m3.0F\u001b[0m, \u001b[32m3.0F\u001b[0m)"
      ]
     },
     "metadata": {},
     "output_type": "display_data"
    }
   ],
   "source": [
    "val c = NDArray.sum_axis(a, 1)\n",
    "c.toArray"
   ]
  },
  {
   "cell_type": "markdown",
   "metadata": {},
   "source": [
    "## Broadcast\n",
    "We can also broadcast an array by duplicating. The following codes broadcast along axis 1"
   ]
  },
  {
   "cell_type": "code",
   "execution_count": 84,
   "metadata": {
    "collapsed": false
   },
   "outputs": [
    {
     "data": {
      "text/plain": [
       "\u001b[36ma\u001b[0m: \u001b[32mNDArray\u001b[0m = ml.dmlc.mxnet.NDArray@c504569d\n",
       "\u001b[36mb\u001b[0m: \u001b[32mNDArrayFuncReturn\u001b[0m = ml.dmlc.mxnet.NDArrayFuncReturn@332ded5e\n",
       "\u001b[36mres83_2\u001b[0m: \u001b[32mArray\u001b[0m[\u001b[32mFloat\u001b[0m] = \u001b[33mArray\u001b[0m(\u001b[32m0.0F\u001b[0m, \u001b[32m0.0F\u001b[0m, \u001b[32m1.0F\u001b[0m, \u001b[32m1.0F\u001b[0m, \u001b[32m2.0F\u001b[0m, \u001b[32m2.0F\u001b[0m, \u001b[32m3.0F\u001b[0m, \u001b[32m3.0F\u001b[0m, \u001b[32m4.0F\u001b[0m, \u001b[32m4.0F\u001b[0m, \u001b[32m5.0F\u001b[0m, \u001b[32m5.0F\u001b[0m)"
      ]
     },
     "metadata": {},
     "output_type": "display_data"
    }
   ],
   "source": [
    "val a = NDArray.array(Array(0,1,2,3,4,5), shape = Shape(6,1))\n",
    "val b = NDArray.broadcast_to(a, (6,2))   \n",
    "b.toArray\n"
   ]
  },
  {
   "cell_type": "markdown",
   "metadata": {},
   "source": [
    "or broadcast along axes 1 and 2"
   ]
  },
  {
   "cell_type": "code",
   "execution_count": 86,
   "metadata": {
    "collapsed": false
   },
   "outputs": [
    {
     "data": {
      "text/plain": [
       "\u001b[36mc\u001b[0m: \u001b[32mNDArray\u001b[0m = ml.dmlc.mxnet.NDArray@b2357fef\n",
       "\u001b[36md\u001b[0m: \u001b[32mNDArrayFuncReturn\u001b[0m = ml.dmlc.mxnet.NDArrayFuncReturn@72316e87\n",
       "\u001b[36mres85_2\u001b[0m: \u001b[32mArray\u001b[0m[\u001b[32mFloat\u001b[0m] = \u001b[33mArray\u001b[0m(\n",
       "  \u001b[32m0.0F\u001b[0m,\n",
       "  \u001b[32m1.0F\u001b[0m,\n",
       "  \u001b[32m2.0F\u001b[0m,\n",
       "  \u001b[32m0.0F\u001b[0m,\n",
       "  \u001b[32m1.0F\u001b[0m,\n",
       "  \u001b[32m2.0F\u001b[0m,\n",
       "  \u001b[32m0.0F\u001b[0m,\n",
       "  \u001b[32m1.0F\u001b[0m,\n",
       "  \u001b[32m2.0F\u001b[0m,\n",
       "  \u001b[32m0.0F\u001b[0m,\n",
       "  \u001b[32m1.0F\u001b[0m,\n",
       "  \u001b[32m2.0F\u001b[0m,\n",
       "  \u001b[32m3.0F\u001b[0m,\n",
       "  \u001b[32m4.0F\u001b[0m,\n",
       "  \u001b[32m5.0F\u001b[0m,\n",
       "  \u001b[32m3.0F\u001b[0m,\n",
       "  \u001b[32m4.0F\u001b[0m,\n",
       "  \u001b[32m5.0F\u001b[0m,\n",
       "  \u001b[32m3.0F\u001b[0m,\n",
       "\u001b[33m...\u001b[0m"
      ]
     },
     "metadata": {},
     "output_type": "display_data"
    }
   ],
   "source": [
    "val c = a.reshape(Shape(2,1,1,3))\n",
    "val d = NDArray.broadcast_to(c, (2,2,2,3))\n",
    "d.toArray"
   ]
  },
  {
   "cell_type": "markdown",
   "metadata": {},
   "source": [
    "Broadcast can be applied to operations such as * and +."
   ]
  },
  {
   "cell_type": "code",
   "execution_count": 106,
   "metadata": {
    "collapsed": false
   },
   "outputs": [
    {
     "data": {
      "text/plain": [
       "\u001b[36ma\u001b[0m: \u001b[32mNDArray\u001b[0m = ml.dmlc.mxnet.NDArray@9b321c7\n",
       "\u001b[36mb\u001b[0m: \u001b[32mNDArray\u001b[0m = ml.dmlc.mxnet.NDArray@7552b22d\n",
       "\u001b[36md\u001b[0m: \u001b[32mNDArrayFuncReturn\u001b[0m = ml.dmlc.mxnet.NDArrayFuncReturn@55f16bad\n",
       "\u001b[36mc\u001b[0m: \u001b[32mNDArray\u001b[0m = ml.dmlc.mxnet.NDArray@32a2dd09\n",
       "\u001b[36mres105_4\u001b[0m: \u001b[32mArray\u001b[0m[\u001b[32mFloat\u001b[0m] = \u001b[33mArray\u001b[0m(\u001b[32m2.0F\u001b[0m, \u001b[32m2.0F\u001b[0m, \u001b[32m2.0F\u001b[0m, \u001b[32m2.0F\u001b[0m, \u001b[32m2.0F\u001b[0m, \u001b[32m2.0F\u001b[0m)"
      ]
     },
     "metadata": {},
     "output_type": "display_data"
    }
   ],
   "source": [
    "val a = NDArray.ones(3,2)\n",
    "val b = NDArray.ones(1,2)\n",
    "val d = NDArray.broadcast_to(b, (3,2))\n",
    "val c = a + d\n",
    "c.toArray\n"
   ]
  },
  {
   "cell_type": "markdown",
   "metadata": {},
   "source": [
    "## Copies\n",
    "Data is NOT copied in normal assignment."
   ]
  },
  {
   "cell_type": "code",
   "execution_count": 107,
   "metadata": {
    "collapsed": false
   },
   "outputs": [
    {
     "data": {
      "text/plain": [
       "\u001b[36ma\u001b[0m: \u001b[32mNDArray\u001b[0m = ml.dmlc.mxnet.NDArray@b867e334\n",
       "\u001b[36md\u001b[0m: \u001b[32mNDArray\u001b[0m = ml.dmlc.mxnet.NDArray@e77830eb\n",
       "\u001b[36mb\u001b[0m: \u001b[32mNDArray\u001b[0m = ml.dmlc.mxnet.NDArray@b8e1a014\n",
       "\u001b[36mres106_3\u001b[0m: \u001b[32mBoolean\u001b[0m = \u001b[32mtrue\u001b[0m"
      ]
     },
     "metadata": {},
     "output_type": "display_data"
    }
   ],
   "source": [
    "val a = NDArray.ones(2,2)\n",
    "val d = NDArray.zeros(2,2)\n",
    "val b = a  \n",
    "a == b"
   ]
  },
  {
   "cell_type": "markdown",
   "metadata": {},
   "source": [
    "similar for function arguments passing.\n"
   ]
  },
  {
   "cell_type": "code",
   "execution_count": 110,
   "metadata": {
    "collapsed": false
   },
   "outputs": [
    {
     "data": {
      "text/plain": [
       "defined \u001b[32mfunction \u001b[36mf\u001b[0m\n",
       "\u001b[36mres109_1\u001b[0m: \u001b[32mBoolean\u001b[0m = \u001b[32mtrue\u001b[0m"
      ]
     },
     "metadata": {},
     "output_type": "display_data"
    }
   ],
   "source": [
    "def f(x: NDArray) ={  \n",
    "    x\n",
    "}\n",
    "a == f(a)"
   ]
  },
  {
   "cell_type": "markdown",
   "metadata": {},
   "source": [
    "The copy method makes a deep copy of the array and its data\n"
   ]
  },
  {
   "cell_type": "code",
   "execution_count": 112,
   "metadata": {
    "collapsed": false
   },
   "outputs": [
    {
     "data": {
      "text/plain": [
       "\u001b[36mb\u001b[0m: \u001b[32mNDArray\u001b[0m = ml.dmlc.mxnet.NDArray@1eacd198\n",
       "\u001b[36mres111_1\u001b[0m: \u001b[32mBoolean\u001b[0m = \u001b[32mtrue\u001b[0m"
      ]
     },
     "metadata": {},
     "output_type": "display_data"
    }
   ],
   "source": [
    "val b = a.copy()\n",
    "b == a"
   ]
  },
  {
   "cell_type": "markdown",
   "metadata": {},
   "source": [
    "The above code allocate a new NDArray and then assign to b. We can use the copyto method to avoid additional memory allocation"
   ]
  },
  {
   "cell_type": "code",
   "execution_count": 114,
   "metadata": {
    "collapsed": false
   },
   "outputs": [
    {
     "data": {
      "text/plain": [
       "\u001b[36mb\u001b[0m: \u001b[32mNDArray\u001b[0m = ml.dmlc.mxnet.NDArray@24498f4e\n",
       "\u001b[36mc\u001b[0m: \u001b[32mNDArray\u001b[0m = ml.dmlc.mxnet.NDArray@1bab121c\n",
       "\u001b[36md\u001b[0m: \u001b[32mNDArray\u001b[0m = ml.dmlc.mxnet.NDArray@cb6f0c83\n",
       "\u001b[36mres113_3\u001b[0m: \u001b[32mNDArray\u001b[0m = ml.dmlc.mxnet.NDArray@12fca855\n",
       "\u001b[36mres113_4\u001b[0m: (\u001b[32mBoolean\u001b[0m, \u001b[32mBoolean\u001b[0m) = \u001b[33m\u001b[0m(\u001b[32mtrue\u001b[0m, \u001b[32mtrue\u001b[0m)"
      ]
     },
     "metadata": {},
     "output_type": "display_data"
    }
   ],
   "source": [
    "val b = NDArray.ones(a.shape)\n",
    "val c = b\n",
    "val d = b\n",
    "a.copyTo(d)\n",
    "(c == b, d == b)"
   ]
  },
  {
   "cell_type": "markdown",
   "metadata": {},
   "source": [
    "## The Advanced\n",
    "There are some advanced features in mxnet.ndarray which make mxnet different from other libraries.\n",
    "\n",
    "## GPU Support\n",
    "In default operators are executed on CPU. It is easy to switch to another computation resource, such as GPU, if available. The device information is stored in ndarray.context. When MXNet is compiled with flag USE_CUDA=1 and there is at least one Nvidia GPU card, we can make all computations run on GPU 0 by using Context.gpu(0), or simply Context.gpu(). If there are more than two GPUs, the 2nd GPU is represented by Context.gpu(1)."
   ]
  },
  {
   "cell_type": "code",
   "execution_count": 121,
   "metadata": {
    "collapsed": false
   },
   "outputs": [
    {
     "data": {
      "text/plain": [
       "defined \u001b[32mfunction \u001b[36mf\u001b[0m\n",
       "\u001b[36mres120_1\u001b[0m: \u001b[32mNDArray\u001b[0m = ml.dmlc.mxnet.NDArray@16acc21b\n",
       "defined \u001b[32mfunction \u001b[36mf1\u001b[0m\n",
       "\u001b[36mres120_3\u001b[0m: \u001b[32mNDArray\u001b[0m = ml.dmlc.mxnet.NDArray@1650e1f4\n",
       "\u001b[36mctx\u001b[0m: \u001b[32mArray\u001b[0m[\u001b[32mContext\u001b[0m] = \u001b[33mArray\u001b[0m(gpu(0), gpu(1))"
      ]
     },
     "metadata": {},
     "output_type": "display_data"
    }
   ],
   "source": [
    "def f() ={\n",
    "    val a = NDArray.ones(100,100)\n",
    "    val b = NDArray.ones(100,100)\n",
    "    val c = a + b\n",
    "    c\n",
    "}\n",
    "// in default Context.cpu() is used\n",
    "f()  \n",
    "\n",
    "// change the default context to the first GPU\n",
    "def f1() ={\n",
    "    val a = NDArray.ones(ctx=Context.cpu(0), shape=Shape(100,100))\n",
    "    val b = NDArray.ones(ctx=Context.cpu(0), shape=Shape(100,100))\n",
    "    val c = a + b\n",
    "    c\n",
    "}\n",
    "f1()\n",
    "\n",
    "// you can also provide which cpus or gpus you want to use in array like this\n",
    "val ctx = Array(Context.gpu(0), Context.gpu(1))\n"
   ]
  },
  {
   "cell_type": "markdown",
   "metadata": {},
   "source": [
    "We can also explicitly specify the context when creating an array"
   ]
  },
  {
   "cell_type": "code",
   "execution_count": 122,
   "metadata": {
    "collapsed": false
   },
   "outputs": [
    {
     "data": {
      "text/plain": [
       "\u001b[36ma\u001b[0m: \u001b[32mNDArray\u001b[0m = ml.dmlc.mxnet.NDArray@a5e59bc"
      ]
     },
     "metadata": {},
     "output_type": "display_data"
    }
   ],
   "source": [
    "val a = NDArray.ones(ctx=Context.cpu(0), shape=Shape(100,100))"
   ]
  },
  {
   "cell_type": "markdown",
   "metadata": {},
   "source": [
    "Currently MXNet requires two arrays to sit on the same device for computation. There are several methods for copying data between devices."
   ]
  },
  {
   "cell_type": "code",
   "execution_count": 126,
   "metadata": {
    "collapsed": false
   },
   "outputs": [
    {
     "data": {
      "text/plain": [
       "\u001b[36ma\u001b[0m: \u001b[32mNDArray\u001b[0m = ml.dmlc.mxnet.NDArray@fa844d42\n",
       "\u001b[36mb\u001b[0m: \u001b[32mNDArray\u001b[0m = ml.dmlc.mxnet.NDArray@ae353f2a\n",
       "\u001b[36mc\u001b[0m: \u001b[32mNDArray\u001b[0m = ml.dmlc.mxnet.NDArray@dbacf13d\n",
       "\u001b[36mres125_3\u001b[0m: \u001b[32mNDArray\u001b[0m = ml.dmlc.mxnet.NDArray@ae42e54e\n",
       "\u001b[36md\u001b[0m: \u001b[32mNDArray\u001b[0m = ml.dmlc.mxnet.NDArray@a911584b\n",
       "\u001b[36me\u001b[0m: \u001b[32mNDArray\u001b[0m = ml.dmlc.mxnet.NDArray@f29dc5fe\n",
       "\u001b[36mres125_6\u001b[0m: (\u001b[32mNDArray\u001b[0m, \u001b[32mNDArray\u001b[0m) = \u001b[33m\u001b[0m(ml.dmlc.mxnet.NDArray@33e6380, ml.dmlc.mxnet.NDArray@e7a5cc45)\n",
       "\u001b[36mres125_7\u001b[0m: (\u001b[32mContext\u001b[0m, \u001b[32mContext\u001b[0m) = \u001b[33m\u001b[0m(cpu(0), cpu(0))"
      ]
     },
     "metadata": {},
     "output_type": "display_data"
    }
   ],
   "source": [
    "\n",
    "val a = NDArray.ones(ctx=Context.cpu(), shape= Shape(100,100))\n",
    "val b = NDArray.ones(ctx=Context.gpu(), shape= Shape(100,100))\n",
    "val c = NDArray.ones(ctx=Context.gpu(), shape= Shape(100,100))\n",
    "a.copyTo(c)  // copy from CPU to GPU\n",
    "val d = b + c\n",
    "val e = b.asInContext(c.context) + c  // same to above\n",
    "(d, e)\n",
    "(d.context,e.context)"
   ]
  },
  {
   "cell_type": "markdown",
   "metadata": {},
   "source": [
    "## Serialize From/To (Distributed) Filesystems\n",
    "You can use MXNet functions to save and load a list or dictionary of NDArrays from file systems, as follows:\n",
    "\n",
    "Besides single NDArray, we can load/save a list as follows:"
   ]
  },
  {
   "cell_type": "code",
   "execution_count": 127,
   "metadata": {
    "collapsed": false
   },
   "outputs": [
    {
     "data": {
      "text/plain": [
       "\u001b[36ma\u001b[0m: \u001b[32mNDArray\u001b[0m = ml.dmlc.mxnet.NDArray@c250ba93\n",
       "\u001b[36mb\u001b[0m: \u001b[32mNDArray\u001b[0m = ml.dmlc.mxnet.NDArray@5d65799\n",
       "\u001b[36mc\u001b[0m: (\u001b[32mArray\u001b[0m[\u001b[32mString\u001b[0m], \u001b[32mArray\u001b[0m[\u001b[32mNDArray\u001b[0m]) = \u001b[33m\u001b[0m(\u001b[33mArray\u001b[0m(), \u001b[33mArray\u001b[0m(ml.dmlc.mxnet.NDArray@c9910b3a, ml.dmlc.mxnet.NDArray@8175e844))\n",
       "\u001b[36mres126_4\u001b[0m: (\u001b[32mArray\u001b[0m[\u001b[32mString\u001b[0m], \u001b[32mArray\u001b[0m[\u001b[32mNDArray\u001b[0m]) = \u001b[33m\u001b[0m(\u001b[33mArray\u001b[0m(), \u001b[33mArray\u001b[0m(ml.dmlc.mxnet.NDArray@a15d3fe0, ml.dmlc.mxnet.NDArray@6a840199))"
      ]
     },
     "metadata": {},
     "output_type": "display_data"
    }
   ],
   "source": [
    "val a = NDArray.ones(2,3)\n",
    "val b = NDArray.ones(5,6)               \n",
    "NDArray.save(\"temp.ndarray\", Array(a,b))\n",
    "val c = NDArray.load(\"temp.ndarray\")\n",
    "c"
   ]
  },
  {
   "cell_type": "markdown",
   "metadata": {},
   "source": [
    "or a dict"
   ]
  },
  {
   "cell_type": "code",
   "execution_count": 128,
   "metadata": {
    "collapsed": false
   },
   "outputs": [
    {
     "data": {
      "text/plain": [
       "\u001b[36md\u001b[0m: \u001b[32mMap\u001b[0m[\u001b[32mString\u001b[0m, \u001b[32mNDArray\u001b[0m] = \u001b[33mMap\u001b[0m(\u001b[32m\"A\"\u001b[0m -> ml.dmlc.mxnet.NDArray@f8a5cb1c, \u001b[32m\"B\"\u001b[0m -> ml.dmlc.mxnet.NDArray@3625fe0)\n",
       "\u001b[36mc\u001b[0m: (\u001b[32mArray\u001b[0m[\u001b[32mString\u001b[0m], \u001b[32mArray\u001b[0m[\u001b[32mNDArray\u001b[0m]) = \u001b[33m\u001b[0m(\n",
       "  \u001b[33mArray\u001b[0m(\u001b[32m\"A\"\u001b[0m, \u001b[32m\"B\"\u001b[0m),\n",
       "  \u001b[33mArray\u001b[0m(ml.dmlc.mxnet.NDArray@c5142250, ml.dmlc.mxnet.NDArray@6d660c8a)\n",
       ")\n",
       "\u001b[36mres127_3\u001b[0m: (\u001b[32mArray\u001b[0m[\u001b[32mString\u001b[0m], \u001b[32mArray\u001b[0m[\u001b[32mNDArray\u001b[0m]) = \u001b[33m\u001b[0m(\n",
       "  \u001b[33mArray\u001b[0m(\u001b[32m\"A\"\u001b[0m, \u001b[32m\"B\"\u001b[0m),\n",
       "  \u001b[33mArray\u001b[0m(ml.dmlc.mxnet.NDArray@cf1d79d6, ml.dmlc.mxnet.NDArray@5fa44ac5)\n",
       ")"
      ]
     },
     "metadata": {},
     "output_type": "display_data"
    }
   ],
   "source": [
    "val d = Map(\"A\" -> a, \"B\" -> b)\n",
    "NDArray.save(\"temp.ndarray\", d)\n",
    "val c = NDArray.load(\"temp.ndarray\")\n",
    "c"
   ]
  },
  {
   "cell_type": "markdown",
   "metadata": {},
   "source": [
    "If a distributed filesystem such as Amazon S3 or Hadoop HDFS is set up, we can directly save to and load from it\n",
    "\n",
    "```scala\n",
    "val from_file = NDArray.load(\"/path/to/array/file\")\n",
    "val from_s3 = NDArray.load(\"s3://path/to/s3/array\")\n",
    "val from_hdfs = NDArray.load(\"hdfs://path/to/hdfs/array\")\n",
    "    \n",
    "NDArray.save(\"s3://mybucket/mydata.ndarray\", Map(\"A\" -> a))  // if compiled with USE_S3=1\n",
    "NDArray.save(\"hdfs///users/myname/mydata.bin\", Map(\"B\" -> b))  // if compiled with USE_HDFS=1\n",
    "```"
   ]
  },
  {
   "cell_type": "markdown",
   "metadata": {},
   "source": [
    "## Futher Readings\n",
    "[NDArray API](http://mxnet.io/api/scala/docs/index.html#ml.dmlc.mxnet.NDArray) Documents for all NDArray methods."
   ]
  },
  {
   "cell_type": "code",
   "execution_count": null,
   "metadata": {
    "collapsed": true
   },
   "outputs": [],
   "source": []
  }
 ],
 "metadata": {
  "anaconda-cloud": {},
  "kernelspec": {
   "display_name": "Scala 2.11",
   "language": "scala211",
   "name": "scala211"
  },
  "language_info": {
   "codemirror_mode": "text/x-scala",
   "file_extension": ".scala",
   "mimetype": "text/x-scala",
   "name": "scala211",
   "pygments_lexer": "scala",
   "version": "2.11.8"
  }
 },
 "nbformat": 4,
 "nbformat_minor": 0
}
