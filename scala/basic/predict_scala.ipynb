{
 "cells": [
  {
   "cell_type": "markdown",
   "metadata": {},
   "source": [
    "# Predict and Extract Features with Pre-trained Models\n",
    "This tutorial will work through how to use pre-trained models for predicting and feature extraction.\n",
    "\n",
    "## Download pre-trained models\n",
    "A model often contains two parts, the .json file specifying the neural network structure, and the .params file containing the binary parameters. The name convention is name-symbol.json and name-epoch.params, where name is the model name, and epoch is the epoch number.\n",
    "\n",
    "Here we download a pre-trained Resnet 50-layer model on Imagenet. Other models are available at http://data.mxnet.io/models/"
   ]
  },
  {
   "cell_type": "markdown",
   "metadata": {},
   "source": [
    "## Jupyter Scala kernel\n",
    "Add mxnet scala jar which is created as a part of MXNet Scala package installation in classpath as follows:\n",
    "\n",
    "**Note**: Process to add this jar in your scala kernel classpath can differ according to the scala kernel you are using.\n",
    "\n",
    "We have used [jupyter-scala kernel](https://github.com/alexarchambault/jupyter-scala) for creating this notebook."
   ]
  },
  {
   "cell_type": "markdown",
   "metadata": {},
   "source": [
    "```\n",
    "classpath.addPath(<path_to_jar>)\n",
    "\n",
    "e.g\n",
    "classpath.addPath(\"mxnet-full_2.11-osx-x86_64-cpu-0.1.2-SNAPSHOT.jar\")\n",
    "```"
   ]
  },
  {
   "cell_type": "markdown",
   "metadata": {},
   "source": [
    "Import necessary libraries:"
   ]
  },
  {
   "cell_type": "code",
   "execution_count": 2,
   "metadata": {
    "collapsed": false
   },
   "outputs": [
    {
     "data": {
      "text/plain": [
       "\u001b[32mimport \u001b[36mml.dmlc.mxnet._\u001b[0m\n",
       "\u001b[32mimport \u001b[36mml.dmlc.mxnet.module.{FitParams, Module}\u001b[0m\n",
       "\u001b[32mimport \u001b[36mscala.collection.immutable.ListMap\u001b[0m\n",
       "\u001b[32mimport \u001b[36msys.process._\u001b[0m"
      ]
     },
     "metadata": {},
     "output_type": "display_data"
    }
   ],
   "source": [
    "import ml.dmlc.mxnet._\n",
    "import ml.dmlc.mxnet.module.{FitParams, Module}\n",
    "import scala.collection.immutable.ListMap\n",
    "import sys.process._"
   ]
  },
  {
   "cell_type": "markdown",
   "metadata": {},
   "source": [
    "Download ResNet pretrained model as follows:"
   ]
  },
  {
   "cell_type": "code",
   "execution_count": 3,
   "metadata": {
    "collapsed": false,
    "scrolled": true
   },
   "outputs": [
    {
     "name": "stderr",
     "output_type": "stream",
     "text": [
      "\n",
      "     0K .......... .......... .......... .......... .......... 67%  153K 0s\n",
      "    50K .......... .......... ....                            100%  148K=0.5s"
     ]
    },
    {
     "data": {
      "text/plain": [
       "\u001b[36mres2_0\u001b[0m: \u001b[32mInt\u001b[0m = \u001b[32m0\u001b[0m\n",
       "\u001b[36mres2_1\u001b[0m: \u001b[32mInt\u001b[0m = \u001b[32m0\u001b[0m"
      ]
     },
     "metadata": {},
     "output_type": "display_data"
    }
   ],
   "source": [
    "\"wget http://data.mxnet.io/models/imagenet/resnet/50-layers/resnet-50-symbol.json -P model/ -q --show-progress\"!\n",
    "\n",
    "\"wget http://data.mxnet.io/models/imagenet/resnet/50-layers/resnet-50-0000.params -P model/ -q --show-progress\"!"
   ]
  },
  {
   "cell_type": "markdown",
   "metadata": {},
   "source": [
    "## Initialization\n",
    "We first load the model into memory with loadCheckpoint. It returns the symbol (see [symbol_scala.ipynb](https://github.com/dmlc/mxnet-notebooks/blob/master/scala/basic/symbol_scala.ipynb)) definition of the neural network, and parameters."
   ]
  },
  {
   "cell_type": "code",
   "execution_count": 4,
   "metadata": {
    "collapsed": false
   },
   "outputs": [
    {
     "name": "stderr",
     "output_type": "stream",
     "text": [
      "log4j:WARN No appenders could be found for logger (MXNetJVM).\n",
      "log4j:WARN Please initialize the log4j system properly.\n",
      "log4j:WARN See http://logging.apache.org/log4j/1.2/faq.html#noconfig for more info.\n"
     ]
    },
    {
     "data": {
      "text/plain": [
       "\u001b[36mresnet\u001b[0m: \u001b[32mSymbol\u001b[0m = ml.dmlc.mxnet.Symbol@56b5a235\n",
       "\u001b[36margParamsResnet\u001b[0m: \u001b[32mMap\u001b[0m[\u001b[32mString\u001b[0m, \u001b[32mNDArray\u001b[0m] = \u001b[33mMap\u001b[0m(\n",
       "  \u001b[32m\"stage1_unit3_conv3_weight\"\u001b[0m -> ml.dmlc.mxnet.NDArray@dd62b3ac,\n",
       "  \u001b[32m\"stage3_unit2_bn1_gamma\"\u001b[0m -> ml.dmlc.mxnet.NDArray@4869b270,\n",
       "  \u001b[32m\"stage2_unit3_conv2_weight\"\u001b[0m -> ml.dmlc.mxnet.NDArray@87d3d2dc,\n",
       "  \u001b[32m\"stage4_unit3_bn1_beta\"\u001b[0m -> ml.dmlc.mxnet.NDArray@84209042,\n",
       "  \u001b[32m\"stage1_unit3_bn1_beta\"\u001b[0m -> ml.dmlc.mxnet.NDArray@7a9f4c52,\n",
       "  \u001b[32m\"stage3_unit1_conv3_weight\"\u001b[0m -> ml.dmlc.mxnet.NDArray@d463a406,\n",
       "  \u001b[32m\"stage2_unit1_bn3_gamma\"\u001b[0m -> ml.dmlc.mxnet.NDArray@b84d8eb5,\n",
       "  \u001b[32m\"stage2_unit4_conv3_weight\"\u001b[0m -> ml.dmlc.mxnet.NDArray@a7a69033,\n",
       "  \u001b[32m\"stage2_unit4_bn3_gamma\"\u001b[0m -> ml.dmlc.mxnet.NDArray@ec41b811,\n",
       "  \u001b[32m\"stage3_unit4_bn1_gamma\"\u001b[0m -> ml.dmlc.mxnet.NDArray@950aaf0c,\n",
       "  \u001b[32m\"stage3_unit6_conv2_weight\"\u001b[0m -> ml.dmlc.mxnet.NDArray@32fcc228,\n",
       "  \u001b[32m\"stage2_unit2_bn3_gamma\"\u001b[0m -> ml.dmlc.mxnet.NDArray@994e9bfe,\n",
       "  \u001b[32m\"stage3_unit2_bn3_beta\"\u001b[0m -> ml.dmlc.mxnet.NDArray@5e97ef69,\n",
       "  \u001b[32m\"stage1_unit2_bn2_gamma\"\u001b[0m -> ml.dmlc.mxnet.NDArray@d3354926,\n",
       "  \u001b[32m\"stage4_unit1_conv2_weight\"\u001b[0m -> ml.dmlc.mxnet.NDArray@98b68f03,\n",
       "  \u001b[32m\"stage2_unit2_conv2_weight\"\u001b[0m -> ml.dmlc.mxnet.NDArray@d16108a0,\n",
       "  \u001b[32m\"stage3_unit6_bn2_gamma\"\u001b[0m -> ml.dmlc.mxnet.NDArray@9bbc2c2d,\n",
       "  \u001b[32m\"stage2_unit2_bn2_beta\"\u001b[0m -> ml.dmlc.mxnet.NDArray@a1a93420,\n",
       "  \u001b[32m\"stage1_unit2_bn1_gamma\"\u001b[0m -> ml.dmlc.mxnet.NDArray@67cb7cd0,\n",
       "\u001b[33m...\u001b[0m\n",
       "\u001b[36mauxParamsResnet\u001b[0m: \u001b[32mMap\u001b[0m[\u001b[32mString\u001b[0m, \u001b[32mNDArray\u001b[0m] = \u001b[33mMap\u001b[0m(\n",
       "  \u001b[32m\"stage2_unit2_bn3_moving_mean\"\u001b[0m -> ml.dmlc.mxnet.NDArray@e7b7de4a,\n",
       "  \u001b[32m\"stage3_unit6_bn2_moving_var\"\u001b[0m -> ml.dmlc.mxnet.NDArray@5eeb2eeb,\n",
       "  \u001b[32m\"stage2_unit2_bn1_moving_mean\"\u001b[0m -> ml.dmlc.mxnet.NDArray@e1932992,\n",
       "  \u001b[32m\"stage3_unit1_bn2_moving_var\"\u001b[0m -> ml.dmlc.mxnet.NDArray@6f2c9370,\n",
       "  \u001b[32m\"stage1_unit3_bn1_moving_mean\"\u001b[0m -> ml.dmlc.mxnet.NDArray@b1fa3f55,\n",
       "  \u001b[32m\"stage2_unit4_bn3_moving_mean\"\u001b[0m -> ml.dmlc.mxnet.NDArray@8e2a60bb,\n",
       "  \u001b[32m\"stage2_unit4_bn3_moving_var\"\u001b[0m -> ml.dmlc.mxnet.NDArray@d2129062,\n",
       "  \u001b[32m\"stage3_unit1_bn3_moving_mean\"\u001b[0m -> ml.dmlc.mxnet.NDArray@7c521226,\n",
       "  \u001b[32m\"stage2_unit3_bn2_moving_mean\"\u001b[0m -> ml.dmlc.mxnet.NDArray@a746a3a3,\n",
       "  \u001b[32m\"stage2_unit1_bn3_moving_var\"\u001b[0m -> ml.dmlc.mxnet.NDArray@942a806e,\n",
       "  \u001b[32m\"stage1_unit2_bn1_moving_var\"\u001b[0m -> ml.dmlc.mxnet.NDArray@91e5ad00,\n",
       "  \u001b[32m\"stage4_unit3_bn1_moving_mean\"\u001b[0m -> ml.dmlc.mxnet.NDArray@2bc6bafd,\n",
       "  \u001b[32m\"stage1_unit2_bn1_moving_mean\"\u001b[0m -> ml.dmlc.mxnet.NDArray@9112eae5,\n",
       "  \u001b[32m\"stage3_unit6_bn3_moving_mean\"\u001b[0m -> ml.dmlc.mxnet.NDArray@63ea781d,\n",
       "  \u001b[32m\"stage3_unit5_bn2_moving_mean\"\u001b[0m -> ml.dmlc.mxnet.NDArray@56f8789e,\n",
       "  \u001b[32m\"stage2_unit2_bn2_moving_mean\"\u001b[0m -> ml.dmlc.mxnet.NDArray@9637b319,\n",
       "  \u001b[32m\"stage2_unit1_bn3_moving_mean\"\u001b[0m -> ml.dmlc.mxnet.NDArray@bf9f5368,\n",
       "  \u001b[32m\"stage1_unit1_bn1_moving_mean\"\u001b[0m -> ml.dmlc.mxnet.NDArray@2596a8e3,\n",
       "  \u001b[32m\"stage3_unit3_bn3_moving_var\"\u001b[0m -> ml.dmlc.mxnet.NDArray@9140fe7c,\n",
       "\u001b[33m...\u001b[0m"
      ]
     },
     "metadata": {},
     "output_type": "display_data"
    }
   ],
   "source": [
    "//val mod = Module.loadCheckpoint(\"model/resnet-50\", 0)\n",
    "val (resnet, argParamsResnet, auxParamsResnet) = Model.loadCheckpoint(\"model/resnet-50\", 0)"
   ]
  },
  {
   "cell_type": "markdown",
   "metadata": {},
   "source": [
    "We can visualize the neural network by `Visualization.plotNetwork` and save it by `dot.render` method. Give path where you want to save the visualization as follows: "
   ]
  },
  {
   "cell_type": "code",
   "execution_count": 5,
   "metadata": {
    "collapsed": false
   },
   "outputs": [
    {
     "data": {
      "text/plain": [
       "\u001b[36mdot\u001b[0m: \u001b[32mVisualization\u001b[0m.\u001b[32mDot\u001b[0m = ml.dmlc.mxnet.Visualization$Dot@40fe88f2"
      ]
     },
     "metadata": {},
     "output_type": "display_data"
    }
   ],
   "source": [
    "val dot = Visualization.plotNetwork(symbol = resnet, nodeAttrs = Map(\"shape\" -> \"oval\", \"fixedsize\" -> \"false\") )\n",
    "dot.render(engine = \"dot\", fileName = \"resnet\", path = \"model/\")"
   ]
  },
  {
   "cell_type": "markdown",
   "metadata": {},
   "source": [
    "Both argument parameters and auxiliary parameters (e.g mean/std in batch normalization layer) are stored as a dictionary of string name and ndarray value (see [ndarray_scala.ipynb](https://github.com/dmlc/mxnet-notebooks/blob/master/scala/basic/ndarray_scala.ipynb). The arguments contain consist of weight and bias.\n",
    "\n",
    "You can see full output by `println` command"
   ]
  },
  {
   "cell_type": "code",
   "execution_count": 5,
   "metadata": {
    "collapsed": false
   },
   "outputs": [
    {
     "data": {
      "text/plain": [
       "\u001b[36mres4\u001b[0m: \u001b[32mMap\u001b[0m[\u001b[32mString\u001b[0m, \u001b[32mNDArray\u001b[0m] = \u001b[33mMap\u001b[0m(\n",
       "  \u001b[32m\"stage1_unit3_conv3_weight\"\u001b[0m -> ml.dmlc.mxnet.NDArray@9a4b8176,\n",
       "  \u001b[32m\"stage3_unit2_bn1_gamma\"\u001b[0m -> ml.dmlc.mxnet.NDArray@6abf1f48,\n",
       "  \u001b[32m\"stage2_unit3_conv2_weight\"\u001b[0m -> ml.dmlc.mxnet.NDArray@9df221ba,\n",
       "  \u001b[32m\"stage4_unit3_bn1_beta\"\u001b[0m -> ml.dmlc.mxnet.NDArray@75d224a8,\n",
       "  \u001b[32m\"stage1_unit3_bn1_beta\"\u001b[0m -> ml.dmlc.mxnet.NDArray@640dd0ce,\n",
       "  \u001b[32m\"stage3_unit1_conv3_weight\"\u001b[0m -> ml.dmlc.mxnet.NDArray@abdd2283,\n",
       "  \u001b[32m\"stage2_unit1_bn3_gamma\"\u001b[0m -> ml.dmlc.mxnet.NDArray@b816e9c2,\n",
       "  \u001b[32m\"stage2_unit4_conv3_weight\"\u001b[0m -> ml.dmlc.mxnet.NDArray@7a388895,\n",
       "  \u001b[32m\"stage2_unit4_bn3_gamma\"\u001b[0m -> ml.dmlc.mxnet.NDArray@f6083d12,\n",
       "  \u001b[32m\"stage3_unit4_bn1_gamma\"\u001b[0m -> ml.dmlc.mxnet.NDArray@abfbce39,\n",
       "  \u001b[32m\"stage3_unit6_conv2_weight\"\u001b[0m -> ml.dmlc.mxnet.NDArray@52b0e4a3,\n",
       "  \u001b[32m\"stage2_unit2_bn3_gamma\"\u001b[0m -> ml.dmlc.mxnet.NDArray@fce672e1,\n",
       "  \u001b[32m\"stage3_unit2_bn3_beta\"\u001b[0m -> ml.dmlc.mxnet.NDArray@77fe9b1f,\n",
       "  \u001b[32m\"stage1_unit2_bn2_gamma\"\u001b[0m -> ml.dmlc.mxnet.NDArray@d9e38fd9,\n",
       "  \u001b[32m\"stage4_unit1_conv2_weight\"\u001b[0m -> ml.dmlc.mxnet.NDArray@9ed3362a,\n",
       "  \u001b[32m\"stage2_unit2_conv2_weight\"\u001b[0m -> ml.dmlc.mxnet.NDArray@b17c306f,\n",
       "  \u001b[32m\"stage3_unit6_bn2_gamma\"\u001b[0m -> ml.dmlc.mxnet.NDArray@5ff9b8cb,\n",
       "  \u001b[32m\"stage2_unit2_bn2_beta\"\u001b[0m -> ml.dmlc.mxnet.NDArray@c3f656a6,\n",
       "  \u001b[32m\"stage1_unit2_bn1_gamma\"\u001b[0m -> ml.dmlc.mxnet.NDArray@af1280a8,\n",
       "\u001b[33m...\u001b[0m"
      ]
     },
     "metadata": {},
     "output_type": "display_data"
    }
   ],
   "source": [
    "argParamsResnet"
   ]
  },
  {
   "cell_type": "markdown",
   "metadata": {},
   "source": [
    "while auxiliaries contains the the mean and std for the batch normalization layers."
   ]
  },
  {
   "cell_type": "code",
   "execution_count": 6,
   "metadata": {
    "collapsed": false
   },
   "outputs": [
    {
     "data": {
      "text/plain": [
       "\u001b[36mres5\u001b[0m: \u001b[32mMap\u001b[0m[\u001b[32mString\u001b[0m, \u001b[32mNDArray\u001b[0m] = \u001b[33mMap\u001b[0m(\n",
       "  \u001b[32m\"stage2_unit2_bn3_moving_mean\"\u001b[0m -> ml.dmlc.mxnet.NDArray@aa539dcc,\n",
       "  \u001b[32m\"stage3_unit6_bn2_moving_var\"\u001b[0m -> ml.dmlc.mxnet.NDArray@6e85d8da,\n",
       "  \u001b[32m\"stage2_unit2_bn1_moving_mean\"\u001b[0m -> ml.dmlc.mxnet.NDArray@fdc34046,\n",
       "  \u001b[32m\"stage3_unit1_bn2_moving_var\"\u001b[0m -> ml.dmlc.mxnet.NDArray@8cbb07ea,\n",
       "  \u001b[32m\"stage1_unit3_bn1_moving_mean\"\u001b[0m -> ml.dmlc.mxnet.NDArray@673a1594,\n",
       "  \u001b[32m\"stage2_unit4_bn3_moving_mean\"\u001b[0m -> ml.dmlc.mxnet.NDArray@a2bb7ded,\n",
       "  \u001b[32m\"stage2_unit4_bn3_moving_var\"\u001b[0m -> ml.dmlc.mxnet.NDArray@dacdc026,\n",
       "  \u001b[32m\"stage3_unit1_bn3_moving_mean\"\u001b[0m -> ml.dmlc.mxnet.NDArray@8cbcc0cc,\n",
       "  \u001b[32m\"stage2_unit3_bn2_moving_mean\"\u001b[0m -> ml.dmlc.mxnet.NDArray@fe5da542,\n",
       "  \u001b[32m\"stage2_unit1_bn3_moving_var\"\u001b[0m -> ml.dmlc.mxnet.NDArray@9a7dfe4b,\n",
       "  \u001b[32m\"stage1_unit2_bn1_moving_var\"\u001b[0m -> ml.dmlc.mxnet.NDArray@698017c1,\n",
       "  \u001b[32m\"stage4_unit3_bn1_moving_mean\"\u001b[0m -> ml.dmlc.mxnet.NDArray@6ea56feb,\n",
       "  \u001b[32m\"stage1_unit2_bn1_moving_mean\"\u001b[0m -> ml.dmlc.mxnet.NDArray@b32bb14c,\n",
       "  \u001b[32m\"stage3_unit6_bn3_moving_mean\"\u001b[0m -> ml.dmlc.mxnet.NDArray@733075d0,\n",
       "  \u001b[32m\"stage3_unit5_bn2_moving_mean\"\u001b[0m -> ml.dmlc.mxnet.NDArray@8a9da512,\n",
       "  \u001b[32m\"stage2_unit2_bn2_moving_mean\"\u001b[0m -> ml.dmlc.mxnet.NDArray@fad6d5c4,\n",
       "  \u001b[32m\"stage2_unit1_bn3_moving_mean\"\u001b[0m -> ml.dmlc.mxnet.NDArray@c8e406da,\n",
       "  \u001b[32m\"stage1_unit1_bn1_moving_mean\"\u001b[0m -> ml.dmlc.mxnet.NDArray@f25cd69,\n",
       "  \u001b[32m\"stage3_unit3_bn3_moving_var\"\u001b[0m -> ml.dmlc.mxnet.NDArray@8bac6514,\n",
       "\u001b[33m...\u001b[0m"
      ]
     },
     "metadata": {},
     "output_type": "display_data"
    }
   ],
   "source": [
    "auxParamsResnet"
   ]
  },
  {
   "cell_type": "markdown",
   "metadata": {},
   "source": [
    "Next we create an executable module (see [module_scala.ipynb](https://github.com/dmlc/mxnet-notebooks/blob/master/scala/basic/module_scala.ipynb)) on GPU 0. To use a difference device, we just need to change the context, e.g. Context.cpu(0) for CPU and Context.gpu(2) for the 3rd GPU."
   ]
  },
  {
   "cell_type": "code",
   "execution_count": 6,
   "metadata": {
    "collapsed": false
   },
   "outputs": [
    {
     "data": {
      "text/plain": [
       "\u001b[36mmod\u001b[0m: \u001b[32mModule\u001b[0m = ml.dmlc.mxnet.module.Module@56ca816d"
      ]
     },
     "metadata": {},
     "output_type": "display_data"
    }
   ],
   "source": [
    "val mod = new Module(resnet, contexts = Context.cpu())"
   ]
  },
  {
   "cell_type": "markdown",
   "metadata": {},
   "source": [
    "The ResNet is trained with RGB images of size 224 x 224. The training data is feed by the variable data. We bind the module with the input shape and specify that it is only for predicting. The number 1 added before the image shape (3x224x224) means that we will only predict one image each time. Next we set the loaded parameters. Now the module is ready to run."
   ]
  },
  {
   "cell_type": "code",
   "execution_count": null,
   "metadata": {
    "collapsed": true
   },
   "outputs": [],
   "source": []
  }
 ],
 "metadata": {
  "anaconda-cloud": {},
  "kernelspec": {
   "display_name": "Scala 2.11",
   "language": "scala211",
   "name": "scala211"
  },
  "language_info": {
   "codemirror_mode": "text/x-scala",
   "file_extension": ".scala",
   "mimetype": "text/x-scala",
   "name": "scala211",
   "pygments_lexer": "scala",
   "version": "2.11.8"
  }
 },
 "nbformat": 4,
 "nbformat_minor": 0
}
