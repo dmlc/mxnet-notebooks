{
 "cells": [
  {
   "cell_type": "markdown",
   "metadata": {},
   "source": [
    "## Scala Record IO\n",
    "In [image_io](https://github.com/dmlc/mxnet-notebooks/blob/master/scala/basic/image_io_scala.ipynb) we already learned how to pack image into standard recordio format and load it with ImageRecordIter. This tutorial will walk through the scala interface for reading and writing record io files. It can be useful when you need more more control over the details of data pipeline. For example, when you need to augument image and label together for detection and segmentation, or when you need a custom data iterator for triplet sampling and negative sampling.\n",
    "\n",
    "You can find relevant code [here](https://github.com/dmlc/mxnet/blob/master/scala-package/core/src/main/scala/ml/dmlc/mxnet/RecordIO.scala). There are two classes: [MXRecordIO](http://mxnet.io/api/scala/docs/index.html#ml.dmlc.mxnet.MXRecordIO), which supports sequential read and write, and [MXIndexedRecordIO](http://mxnet.io/api/scala/docs/index.html#ml.dmlc.mxnet.MXIndexedRecordIO), which supports random read and sequential write."
   ]
  },
  {
   "cell_type": "markdown",
   "metadata": {},
   "source": [
    "## Jupyter Scala kernel\n",
    "Add mxnet scala jar which is created as a part of MXNet Scala package installation in classpath as follows:\n",
    "\n",
    "**Note**: Process to add this jar in your scala kernel classpath can differ according to the scala kernel you are using.\n",
    "\n",
    "We have used [jupyter-scala kernel](https://github.com/alexarchambault/jupyter-scala) for creating this notebook."
   ]
  },
  {
   "cell_type": "markdown",
   "metadata": {},
   "source": [
    "```\n",
    "classpath.addPath(<path_to_jar>)\n",
    "\n",
    "e.g\n",
    "classpath.addPath(\"mxnet-full_2.11-osx-x86_64-cpu-0.1.2-SNAPSHOT.jar\")\n",
    "```"
   ]
  },
  {
   "cell_type": "markdown",
   "metadata": {},
   "source": [
    "## MXRecordIO\n",
    "First let's take a look at `MXRecordIO`. It takes path to recordIO file and `MXRecordIO.IOFlag` as input. `MXRecordIO.IOFlag` is `MXRecordIO.IORead` for reading and `MXRecordIO.Write` for writing. \n",
    "\n",
    "We open a file tmp.rec and write 5 strings to it with `MXRecordIO.IOWrite` flag:"
   ]
  },
  {
   "cell_type": "code",
   "execution_count": 2,
   "metadata": {
    "collapsed": false
   },
   "outputs": [
    {
     "name": "stderr",
     "output_type": "stream",
     "text": [
      "log4j:WARN No appenders could be found for logger (MXNetJVM).\n",
      "log4j:WARN Please initialize the log4j system properly.\n",
      "log4j:WARN See http://logging.apache.org/log4j/1.2/faq.html#noconfig for more info.\n"
     ]
    },
    {
     "data": {
      "text/plain": [
       "\u001b[32mimport \u001b[36mml.dmlc.mxnet._\u001b[0m\n",
       "\u001b[32mimport \u001b[36mjava.io._\u001b[0m\n",
       "\u001b[36mfRec\u001b[0m: \u001b[32mjava\u001b[0m.\u001b[32mio\u001b[0m.\u001b[32mFile\u001b[0m = /var/folders/f4/gts7qnkx319_nv4176gbz4jjrjzb4y/T/tmpFile2805315252382756478.tmp\n",
       "\u001b[36mN\u001b[0m: \u001b[32mInt\u001b[0m = \u001b[32m5\u001b[0m\n",
       "\u001b[36mwriter\u001b[0m: \u001b[32mml\u001b[0m.\u001b[32mdmlc\u001b[0m.\u001b[32mmxnet\u001b[0m.\u001b[32mMXRecordIO\u001b[0m = ml.dmlc.mxnet.MXRecordIO@28a470f1"
      ]
     },
     "metadata": {},
     "output_type": "display_data"
    }
   ],
   "source": [
    "import ml.dmlc.mxnet._\n",
    "import java.io._\n",
    "\n",
    "val fRec = File.createTempFile(\"tmpFile\", \".tmp\")\n",
    "val N = 5\n",
    "\n",
    "val writer = new MXRecordIO(fRec.getAbsolutePath, MXRecordIO.IOWrite)\n",
    "for (i <- 0 until N) {\n",
    "    writer.write(\"record_\"+i)\n",
    "}\n",
    "writer.close()\n"
   ]
  },
  {
   "cell_type": "markdown",
   "metadata": {},
   "source": [
    "Then we can read it back by opening the same file with `MXRecordIO.IORead` flag as follows:"
   ]
  },
  {
   "cell_type": "code",
   "execution_count": 3,
   "metadata": {
    "collapsed": false
   },
   "outputs": [
    {
     "name": "stdout",
     "output_type": "stream",
     "text": [
      "record_0\n",
      "record_1\n",
      "record_2\n",
      "record_3\n",
      "record_4\n"
     ]
    },
    {
     "data": {
      "text/plain": [
       "\u001b[36mreader\u001b[0m: \u001b[32mMXRecordIO\u001b[0m = ml.dmlc.mxnet.MXRecordIO@5bf33b34"
      ]
     },
     "metadata": {},
     "output_type": "display_data"
    }
   ],
   "source": [
    "val reader = new MXRecordIO(fRec.getAbsolutePath, MXRecordIO.IORead)\n",
    "for (i <- 0 until N) {\n",
    "    val res = reader.read()\n",
    "    println(res)\n",
    "}"
   ]
  },
  {
   "cell_type": "markdown",
   "metadata": {},
   "source": [
    "## MXIndexedRecordIO\n",
    "Some times you need random access for more complex tasks. MXIndexedRecordIO is designed for this. Here we create a indexed record tmp.rec and a corresponding index file tmp.idx:"
   ]
  },
  {
   "cell_type": "code",
   "execution_count": 4,
   "metadata": {
    "collapsed": false
   },
   "outputs": [
    {
     "data": {
      "text/plain": [
       "\u001b[36mfIdxRec\u001b[0m: \u001b[32mFile\u001b[0m = /var/folders/f4/gts7qnkx319_nv4176gbz4jjrjzb4y/T/tmpIdxFile9045730139606611372.tmp\n",
       "\u001b[36mfIdx\u001b[0m: \u001b[32mFile\u001b[0m = /var/folders/f4/gts7qnkx319_nv4176gbz4jjrjzb4y/T/tmpIdx2844802785206482836.tmp\n",
       "\u001b[36mN\u001b[0m: \u001b[32mInt\u001b[0m = \u001b[32m5\u001b[0m\n",
       "\u001b[36mwriter\u001b[0m: \u001b[32mMXIndexedRecordIO\u001b[0m = ml.dmlc.mxnet.MXIndexedRecordIO@43acea84"
      ]
     },
     "metadata": {},
     "output_type": "display_data"
    }
   ],
   "source": [
    "val fIdxRec = File.createTempFile(\"tmpIdxFile\", \".tmp\")\n",
    "val fIdx = File.createTempFile(\"tmpIdx\", \".tmp\")\n",
    "val N = 5\n",
    "\n",
    "val writer = new MXIndexedRecordIO(fIdx.getAbsolutePath, fIdxRec.getAbsolutePath, MXRecordIO.IOWrite)\n",
    "for (i <- 0 until N) {\n",
    "  writer.writeIdx(i, \"record_\"+i)\n",
    "}\n",
    "writer.close()"
   ]
  },
  {
   "cell_type": "markdown",
   "metadata": {},
   "source": [
    "We can then access records with keys:"
   ]
  },
  {
   "cell_type": "code",
   "execution_count": 5,
   "metadata": {
    "collapsed": false
   },
   "outputs": [
    {
     "name": "stdout",
     "output_type": "stream",
     "text": [
      "record_1\n",
      "record_4\n",
      "record_3\n",
      "record_0\n",
      "record_2\n"
     ]
    },
    {
     "data": {
      "text/plain": [
       "\u001b[36mreader\u001b[0m: \u001b[32mMXIndexedRecordIO\u001b[0m = ml.dmlc.mxnet.MXIndexedRecordIO@35c87f7a\n",
       "\u001b[36mkeys\u001b[0m: \u001b[32mList\u001b[0m[\u001b[32mInt\u001b[0m] = \u001b[33mList\u001b[0m(\u001b[32m1\u001b[0m, \u001b[32m4\u001b[0m, \u001b[32m3\u001b[0m, \u001b[32m0\u001b[0m, \u001b[32m2\u001b[0m)"
      ]
     },
     "metadata": {},
     "output_type": "display_data"
    }
   ],
   "source": [
    "val reader = new MXIndexedRecordIO(fIdx.getAbsolutePath, fIdxRec.getAbsolutePath, MXRecordIO.IORead)\n",
    "var keys = reader.keys().map(_.asInstanceOf[Int]).toList.sorted\n",
    " //   assert(keys.zip(0 until N).forall(x => x._1 == x._2))\n",
    "keys = scala.util.Random.shuffle(keys)\n",
    "for (k <- keys) {\n",
    "    val res = reader.readIdx(k)\n",
    "    println(res)\n",
    "}"
   ]
  },
  {
   "cell_type": "markdown",
   "metadata": {},
   "source": [
    "You can list all keys with:"
   ]
  },
  {
   "cell_type": "code",
   "execution_count": 6,
   "metadata": {
    "collapsed": false
   },
   "outputs": [
    {
     "data": {
      "text/plain": [
       "\u001b[36mres5\u001b[0m: \u001b[32mIterable\u001b[0m[\u001b[32mAny\u001b[0m] = \u001b[33mSet\u001b[0m(0, 1, 2, 3, 4)"
      ]
     },
     "metadata": {},
     "output_type": "display_data"
    }
   ],
   "source": [
    "reader.keys"
   ]
  },
  {
   "cell_type": "markdown",
   "metadata": {},
   "source": [
    "## Packing and Unpacking Data\n",
    "Each record in a .rec file can contain arbitrary binary data, but machine learning data typically has a label/data structure. IO.MXRecordIO also contains a few utility functions for packing such data, namely: pack, unpack.\n",
    "\n",
    "### Binary Data\n",
    "`pack` and `unpack` methods are used for storing 1d array of float label and binary data which is shown in following example.\n",
    "\n",
    "`IRHeader` class takes flag, label, id and id2 as parameters.\n",
    "\n",
    "`pack` method takes header of type IRHeader(header of the image record) and string to pack as input parameters and returns the resulting packed string.\n",
    "\n",
    "`unpack` method takes string buffer from MXRecordIO.read as input and returns header of type IRHeader(header of the image record) and unpacked string"
   ]
  },
  {
   "cell_type": "code",
   "execution_count": 10,
   "metadata": {
    "collapsed": false
   },
   "outputs": [
    {
     "ename": "",
     "evalue": "",
     "output_type": "error",
     "traceback": [
      "Failure(\"}\":2:5 ...\"s1 = MXRec\")"
     ]
    }
   ],
   "source": [
    "def pack(header1, header2, data:String): Unit{\n",
    "    s1 = MXRecordIO.pack(header1, data)\n",
    "    s2 = MXRecordIO.pack(header2, data)\n",
    "}\n",
    "\n",
    "val data = \"data\"\n",
    "val label1 = Array(1f)\n",
    "var s1: String = null\n",
    "var s2: String = null\n",
    "val header1 = MXRecordIO.IRHeader(0, label1, 1, 0)\n",
    "\n",
    "val label2 = Array(1f, 2f, 3f)\n",
    "val header2 = MXRecordIO.IRHeader(0, label2, 2, 0)\n",
    "\n",
    "pack(header1, header2, data)\n",
    "\n"
   ]
  },
  {
   "cell_type": "code",
   "execution_count": 10,
   "metadata": {
    "collapsed": false
   },
   "outputs": [
    {
     "data": {
      "text/plain": [
       "\u001b[36mrHeader1\u001b[0m: \u001b[32mMXRecordIO\u001b[0m.\u001b[32mIRHeader\u001b[0m = \u001b[33mIRHeader\u001b[0m(\u001b[32m1\u001b[0m, \u001b[33mArray\u001b[0m(\u001b[32m1.0F\u001b[0m), \u001b[32m1\u001b[0m, \u001b[32m0\u001b[0m)\n",
       "\u001b[36mrContent1\u001b[0m: \u001b[32mString\u001b[0m = \u001b[32m\"data\"\u001b[0m\n",
       "\u001b[36mrHeader2\u001b[0m: \u001b[32mMXRecordIO\u001b[0m.\u001b[32mIRHeader\u001b[0m = \u001b[33mIRHeader\u001b[0m(\u001b[32m3\u001b[0m, \u001b[33mArray\u001b[0m(\u001b[32m1.0F\u001b[0m, \u001b[32m2.0F\u001b[0m, \u001b[32m3.0F\u001b[0m), \u001b[32m2\u001b[0m, \u001b[32m0\u001b[0m)\n",
       "\u001b[36mrContent2\u001b[0m: \u001b[32mString\u001b[0m = \u001b[32m\"data\"\u001b[0m"
      ]
     },
     "metadata": {},
     "output_type": "display_data"
    }
   ],
   "source": [
    "// unpack\n",
    "val (rHeader1, rContent1) = MXRecordIO.unpack(s1)\n",
    "val (rHeader2, rContent2) = MXRecordIO.unpack(s2)\n"
   ]
  },
  {
   "cell_type": "markdown",
   "metadata": {},
   "source": [
    "## Next Step\n",
    "- [Advanced Image IO](https://github.com/dmlc/mxnet-notebooks/blob/master/scala/basic/advanced_img_io.ipynb) Advanced image IO for detection, segmentation, etc..."
   ]
  },
  {
   "cell_type": "code",
   "execution_count": null,
   "metadata": {
    "collapsed": true
   },
   "outputs": [],
   "source": []
  }
 ],
 "metadata": {
  "anaconda-cloud": {},
  "kernelspec": {
   "display_name": "Scala 2.11",
   "language": "scala211",
   "name": "scala211"
  },
  "language_info": {
   "codemirror_mode": "text/x-scala",
   "file_extension": ".scala",
   "mimetype": "text/x-scala",
   "name": "scala211",
   "pygments_lexer": "scala",
   "version": "2.11.8"
  }
 },
 "nbformat": 4,
 "nbformat_minor": 0
}
